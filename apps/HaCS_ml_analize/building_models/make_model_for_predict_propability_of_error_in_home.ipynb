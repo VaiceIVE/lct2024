{
 "cells": [
  {
   "cell_type": "code",
   "execution_count": 1,
   "metadata": {},
   "outputs": [],
   "source": [
    "import pandas as pd\n",
    "import torch as T\n",
    "import torch.nn as nn\n",
    "import torch.nn.functional as ff\n",
    "from torch.utils.data import Dataset, DataLoader\n",
    "from sklearn.preprocessing import OneHotEncoder\n",
    "import pickle\n",
    "\n",
    "\n",
    "from dataclasses import dataclass\n",
    "import json\n",
    "from tqdm import tqdm\n",
    "import numpy as np\n",
    "import os\n",
    "from typing import Sequence\n",
    "from datetime import datetime, timedelta\n",
    "\n",
    "\n",
    "pd.set_option('display.max_columns', None)\n",
    "pd.set_option('future.no_silent_downcasting', True)"
   ]
  },
  {
   "cell_type": "code",
   "execution_count": 2,
   "metadata": {},
   "outputs": [
    {
     "data": {
      "text/plain": [
       "True"
      ]
     },
     "execution_count": 2,
     "metadata": {},
     "output_type": "execute_result"
    }
   ],
   "source": [
    "T.cuda.is_available()"
   ]
  },
  {
   "cell_type": "markdown",
   "metadata": {},
   "source": [
    "# **Constants**"
   ]
  },
  {
   "cell_type": "code",
   "execution_count": 3,
   "metadata": {},
   "outputs": [],
   "source": [
    "@dataclass(frozen=True)\n",
    "class Pathes:\n",
    "    anomalies1: str = '../main_datasets/processed_datasets/События за период_01.10.2023-31.12.2023.xlsx____uploading_table.csv'\n",
    "    anomalies2: str = '../main_datasets/processed_datasets/События_за_период_01.01.2024-30.04.2024____uploading_table.csv'\n",
    "    weather_data: str = '../main_datasets/exogens_params/weather_dataset_v2.csv'\n",
    "    buildingsd_descriptions: str = '../main_datasets/processed_datasets/buildings_description_processed.csv'\n",
    "    columns_info: str = \"../columns_info.json\"\n",
    "    "
   ]
  },
  {
   "cell_type": "code",
   "execution_count": 4,
   "metadata": {},
   "outputs": [],
   "source": [
    "with open(Pathes.columns_info) as f:\n",
    "    d = json.load(f)\n",
    "    @dataclass(frozen=True)\n",
    "    class ColumnsInfo:\n",
    "        usless_col = d['useless_columns']\n",
    "        useless_by_classification = d['useless_by_classification']\n",
    "        categorical_columns = d['categorical_columns']\n",
    "        usfull_columns_in_buildings_data = d['usfull_columns_for_algorithms']['usfull_columns_in_buildings_data']\n",
    "        usfull_columns_in_anomaly_ts = d['usfull_columns_for_algorithms']['usefull_columns_in_anomaly_ts']\n",
    "        time_columns = d['time_columns']\n",
    "        usefull_events = d[\"usefull_events\"]\n",
    "        columns_norm_forms = d['columns_norm_form_pairs']\n",
    "        weathers_types = d['weathers_types']\n",
    "\n"
   ]
  },
  {
   "cell_type": "code",
   "execution_count": 5,
   "metadata": {},
   "outputs": [],
   "source": [
    "p = '../factorized_objects/'\n",
    "factorized_objects = dict()\n",
    "for i in os.listdir(p):\n",
    "    with open(p + i, 'r') as f:\n",
    "        data = json.load(f)\n",
    "        factorized_objects[i.split('.')[0]] = data\n",
    "\n"
   ]
  },
  {
   "cell_type": "code",
   "execution_count": 6,
   "metadata": {},
   "outputs": [],
   "source": [
    "device = 'cuda'"
   ]
  },
  {
   "cell_type": "code",
   "execution_count": 7,
   "metadata": {},
   "outputs": [
    {
     "data": {
      "text/plain": [
       "dict_keys(['№ ОДС', 'Марка счетчика', 'Материал', 'Статус адреса', 'Группа', 'Признак аварийности здания', 'Центральное отопление(контур)', 'Потребитель (или УК)', 'Потребители', 'Документ-основание регистрационных действий', 'Район', 'Назначение', 'Серии проектов', 'Номер ТП', 'Материалы кровли по БТИ', 'Материалы стен'])"
      ]
     },
     "execution_count": 7,
     "metadata": {},
     "output_type": "execute_result"
    }
   ],
   "source": [
    "factorized_objects.keys()"
   ]
  },
  {
   "cell_type": "markdown",
   "metadata": {},
   "source": [
    "# **Functions**"
   ]
  },
  {
   "cell_type": "code",
   "execution_count": 8,
   "metadata": {},
   "outputs": [],
   "source": [
    "def make_timeline_for_year(year: int=2023):\n",
    "    data_1 = np.arange(datetime(year=year, month=1, day=1), datetime(year=year, month=5, day=1), timedelta(hours=1)).tolist()\n",
    "    data_2 = np.arange(datetime(year=year, month=10, day=1), datetime(year=year+1, month=1, day=1), timedelta(hours=1)).tolist()\n",
    "    return np.array(data_1+data_2)\n",
    "\n",
    "\n",
    "def make_timeline_for_period(year: int=2022, delta=1):\n",
    "    s = datetime(year=year, month=10, day=1)\n",
    "    e = datetime(year=year+1, month=5, day=1)\n",
    "    data = np.arange(s, e, timedelta(hours=delta)).tolist()\n",
    "    return data"
   ]
  },
  {
   "cell_type": "code",
   "execution_count": 9,
   "metadata": {},
   "outputs": [],
   "source": [
    "def columns_to_norm_form(source: pd.DataFrame) -> pd.DataFrame:\n",
    "    df = source.copy()\n",
    "    df.columns = df.columns.map(lambda a: ColumnsInfo.columns_norm_forms[a] if a in ColumnsInfo.columns_norm_forms else a)\n",
    "    return df\n",
    "\n",
    "\n",
    "def time_columns_to_datetime(source: pd.DataFrame, dayfirst=True):\n",
    "    df = source.copy()\n",
    "    for i in df.columns:\n",
    "        if i in ColumnsInfo.time_columns:\n",
    "            df[i] = df[i].map(lambda a: pd.to_datetime(a, dayfirst=dayfirst))\n",
    "    return df\n",
    "\n",
    "\n",
    "def get_only_usefull_columns(source: pd.DataFrame):\n",
    "    usefull_columns = ColumnsInfo.usfull_columns_in_anomaly_ts + ColumnsInfo.usfull_columns_in_buildings_data\n",
    "    data = []\n",
    "    for i in np.unique(usefull_columns):\n",
    "        if i in source.columns:\n",
    "            data.append(source.loc[:, [i,]])\n",
    "    return pd.concat(data, axis=1).copy()\n",
    "\n",
    "\n",
    "def factorize_columns(source: pd.DataFrame):\n",
    "    df = source.copy()\n",
    "    for i in df.columns.intersection(factorized_objects):\n",
    "        f = factorized_objects[i]\n",
    "        df[i] = df[i].map(lambda a: f['NaN'] if pd.isna(a) else f[a])\n",
    "    return df\n",
    "\n",
    "def save_only_usfull_events(source: pd.DataFrame) -> pd.DataFrame:\n",
    "    df = source.copy()\n",
    "    if 'Наименование' in df.columns:\n",
    "        usefull_events_index = df.loc[:, 'Наименование'].isin(ColumnsInfo.usefull_events)\n",
    "        return df[usefull_events_index]\n",
    "    return df\n",
    "\n",
    "\n",
    "def encode_events(source: pd.DataFrame):\n",
    "    df = source.copy()\n",
    "    if 'Наименование' in df.columns:\n",
    "        oh = pd.DataFrame({i: (i==df['Наименование']).astype(float) for i in ColumnsInfo.usefull_events}, index=df.index)\n",
    "        df = df.drop('Наименование', axis=1)\n",
    "        return pd.concat([df, oh], axis=1)\n",
    "    return df\n",
    "\n",
    "\n",
    "\n",
    "def dataframe_loader(path: str, dayfirst=True):\n",
    "    df = pd.read_csv(path, dayfirst=dayfirst).drop_duplicates()\n",
    "    df_columns_to_norm_form = columns_to_norm_form(df)\n",
    "    df_usefull_only = get_only_usefull_columns(df_columns_to_norm_form)\n",
    "    df_usefull_events = save_only_usfull_events(df_usefull_only)\n",
    "    df_encoded_events = encode_events(df_usefull_events)\n",
    "    df_factorized = factorize_columns(df_encoded_events)\n",
    "    df_timed = time_columns_to_datetime(df_factorized)\n",
    "    return df_timed\n",
    "\n",
    "\n",
    "def standart_scaler_column(source: pd.Series) -> pd.Series:\n",
    "    max_el, min_el = source.dropna().max(), source.dropna().min()\n",
    "    scaled = (source - min_el) / (max_el - min_el)\n",
    "    return scaled\n",
    "\n",
    "\n",
    "def scale_dataframe(source: pd.DataFrame)->pd.DataFrame:\n",
    "    df = source.copy()\n",
    "    for i in df.columns:\n",
    "        df[i] = standart_scaler_column(df[i])\n",
    "    return df\n",
    "\n",
    "\n",
    "def process_datetime_in_dataframe(source: pd.DataFrame) -> pd.DataFrame:\n",
    "    min_date = {\n",
    "        'Дата документа о регистрации адреса': pd.Timestamp('1958-10-10 00:00:00'),\n",
    "        'Дата регистрации адреса в Адресном реестре': pd.Timestamp('1998-10-20 00:00:00')\n",
    "    }\n",
    "    df = source.copy()\n",
    "    for col in min_date:\n",
    "        if col in source.columns:\n",
    "            df[col] = (df[col] - min_date[col]).map(lambda a: a.days)\n",
    "    return df\n",
    "\n",
    "\n",
    "def process_dataframe_to_model(source: pd.DataFrame, ignore_columns: tuple[str]=('timestamp', 'UNOM')):\n",
    "    ignore_columns_in_source = source.columns.intersection(ignore_columns)\n",
    "    df_const = source.loc[:, ignore_columns_in_source]\n",
    "    df_on_process = source.drop(ignore_columns_in_source, axis=1)\n",
    "    df_datetime_processed = process_datetime_in_dataframe(df_on_process)\n",
    "    df_processed = scale_dataframe(df_datetime_processed)\n",
    "    return pd.concat([df_processed, df_const], axis=1)\n",
    "\n",
    "\n",
    "def process_timeseries_to_model(source: pd.DataFrame) -> pd.DataFrame:\n",
    "    df = source.copy()\n",
    "    if 'Источник' in source.columns:\n",
    "        df = df.drop('Источник', axis=1)\n",
    "    df['days'] = df['Дата создания во внешней системе'].map(lambda a: a.round(freq='d'))\n",
    "    df['houres'] = df['Дата создания во внешней системе'].map(lambda a: a.round(freq='h'))\n",
    "    return df\n",
    "    "
   ]
  },
  {
   "cell_type": "code",
   "execution_count": 10,
   "metadata": {},
   "outputs": [],
   "source": [
    "def process_weathers_dataframe(path: str) -> pd.DataFrame:\n",
    "    df = pd.read_csv(path)\n",
    "    encode_weather_type = pd.DataFrame([{k: int(k in i) for k in ColumnsInfo.weathers_types} for i in df['описание погоды'].map(lambda a: a.split(', '))], index=df.index)\n",
    "    data_weather_encoded = pd.concat([df, encode_weather_type], axis=1).drop(['описание погоды', 'время'], axis=1)\n",
    "    data_weather_encoded['температура'] = standart_scaler_column(data_weather_encoded['температура'])\n",
    "    data_weather_encoded['давление'] = standart_scaler_column(data_weather_encoded['давление'])\n",
    "    data_weather_encoded['скорость ветра'] = standart_scaler_column(data_weather_encoded['скорость ветра'])   \n",
    "    data_weather_encoded['timeline'] = data_weather_encoded['timeline'].map(lambda a: pd.to_datetime(a)) \n",
    "    data_weather_encoded['days'] = data_weather_encoded['timeline'].map(lambda a: a.round(freq='d')) \n",
    "    data_weather_encoded['houres'] = data_weather_encoded['timeline'].map(lambda a: a.round(freq='h')) \n",
    "    return data_weather_encoded"
   ]
  },
  {
   "cell_type": "markdown",
   "metadata": {},
   "source": [
    "# **Look up**"
   ]
  },
  {
   "cell_type": "code",
   "execution_count": 6,
   "metadata": {},
   "outputs": [
    {
     "name": "stderr",
     "output_type": "stream",
     "text": [
      "/tmp/ipykernel_1063000/3560430171.py:42: DtypeWarning: Columns (39,42,43,44,59,64,67,80) have mixed types. Specify dtype option on import or set low_memory=False.\n",
      "  df = pd.read_csv(path)\n"
     ]
    }
   ],
   "source": [
    "with open('../main_datasets/timelines_datasets/events_counts_time_lines.json', 'r') as f:\n",
    "    events_data = json.load(f)\n",
    "\n",
    "\n",
    "weather_data = pd.read_csv('../main_datasets/exogens_params/weather_dataset_v2.csv')\n",
    "buildings_description = data_frame_loader('../main_datasets/builded_datasets/buildings_description.csv').drop_duplicates()"
   ]
  },
  {
   "cell_type": "code",
   "execution_count": 7,
   "metadata": {},
   "outputs": [],
   "source": [
    "buildings_description.to_csv('../main_datasets/processed_datasets/buildings_description_processed.csv', index=False)"
   ]
  },
  {
   "cell_type": "code",
   "execution_count": 8,
   "metadata": {},
   "outputs": [
    {
     "data": {
      "text/html": [
       "<div>\n",
       "<style scoped>\n",
       "    .dataframe tbody tr th:only-of-type {\n",
       "        vertical-align: middle;\n",
       "    }\n",
       "\n",
       "    .dataframe tbody tr th {\n",
       "        vertical-align: top;\n",
       "    }\n",
       "\n",
       "    .dataframe thead th {\n",
       "        text-align: right;\n",
       "    }\n",
       "</style>\n",
       "<table border=\"1\" class=\"dataframe\">\n",
       "  <thead>\n",
       "    <tr style=\"text-align: right;\">\n",
       "      <th></th>\n",
       "      <th>UNOM</th>\n",
       "      <th>Центральное отопление(контур)</th>\n",
       "      <th>Марка счетчика</th>\n",
       "      <th>Серии проектов</th>\n",
       "      <th>Количество этажей</th>\n",
       "      <th>Количество подъездов</th>\n",
       "      <th>Количество квартир</th>\n",
       "      <th>Общая площадь</th>\n",
       "      <th>Общая площадь жилых помещений</th>\n",
       "      <th>Износ объекта (по БТИ)</th>\n",
       "      <th>Материалы стен</th>\n",
       "      <th>Признак аварийности здания</th>\n",
       "      <th>Количество пассажирских лифтов</th>\n",
       "      <th>Количество грузопассажирских лифтов</th>\n",
       "      <th>Очередность уборки кровли</th>\n",
       "      <th>Материалы кровли по БТИ</th>\n",
       "      <th>Этажность</th>\n",
       "      <th>Дата регистрации адреса в Адресном реестре</th>\n",
       "      <th>Дата документа о регистрации адреса</th>\n",
       "    </tr>\n",
       "  </thead>\n",
       "  <tbody>\n",
       "    <tr>\n",
       "      <th>0</th>\n",
       "      <td>82024</td>\n",
       "      <td>ЦО1</td>\n",
       "      <td>АТ-Т-2</td>\n",
       "      <td>П-3/16</td>\n",
       "      <td>17</td>\n",
       "      <td>2.0</td>\n",
       "      <td>136.0</td>\n",
       "      <td>8694.7</td>\n",
       "      <td>8677.4</td>\n",
       "      <td>NaN</td>\n",
       "      <td>панельные</td>\n",
       "      <td>нет</td>\n",
       "      <td>2.0</td>\n",
       "      <td>2.0</td>\n",
       "      <td>NaN</td>\n",
       "      <td>мягкая-совмещенная с рубероидным покрытием</td>\n",
       "      <td>17.0</td>\n",
       "      <td>25.02.2000</td>\n",
       "      <td>14.03.1990</td>\n",
       "    </tr>\n",
       "    <tr>\n",
       "      <th>206</th>\n",
       "      <td>240035</td>\n",
       "      <td>ЦО2</td>\n",
       "      <td>АТ-Т-2</td>\n",
       "      <td>индивидуальный проект</td>\n",
       "      <td>22</td>\n",
       "      <td>2.0</td>\n",
       "      <td>168.0</td>\n",
       "      <td>10415.4</td>\n",
       "      <td>9891.1</td>\n",
       "      <td>0.0</td>\n",
       "      <td>монолитные (ж-б)</td>\n",
       "      <td>нет</td>\n",
       "      <td>2.0</td>\n",
       "      <td>4.0</td>\n",
       "      <td>NaN</td>\n",
       "      <td>мягкая-совмещенная с рубероидным покрытием</td>\n",
       "      <td>22.0</td>\n",
       "      <td>01.11.2004</td>\n",
       "      <td>27.10.2004</td>\n",
       "    </tr>\n",
       "    <tr>\n",
       "      <th>416</th>\n",
       "      <td>240035</td>\n",
       "      <td>ЦО1</td>\n",
       "      <td>АТ-Т-2</td>\n",
       "      <td>индивидуальный проект</td>\n",
       "      <td>22</td>\n",
       "      <td>2.0</td>\n",
       "      <td>168.0</td>\n",
       "      <td>10415.4</td>\n",
       "      <td>9891.1</td>\n",
       "      <td>0.0</td>\n",
       "      <td>монолитные (ж-б)</td>\n",
       "      <td>нет</td>\n",
       "      <td>2.0</td>\n",
       "      <td>4.0</td>\n",
       "      <td>NaN</td>\n",
       "      <td>мягкая-совмещенная с рубероидным покрытием</td>\n",
       "      <td>22.0</td>\n",
       "      <td>01.11.2004</td>\n",
       "      <td>27.10.2004</td>\n",
       "    </tr>\n",
       "    <tr>\n",
       "      <th>628</th>\n",
       "      <td>64062</td>\n",
       "      <td>ЦО1</td>\n",
       "      <td>КМ-5-2</td>\n",
       "      <td>П-44</td>\n",
       "      <td>14</td>\n",
       "      <td>2.0</td>\n",
       "      <td>110.0</td>\n",
       "      <td>4955.3</td>\n",
       "      <td>4916.8</td>\n",
       "      <td>NaN</td>\n",
       "      <td>панельные</td>\n",
       "      <td>нет</td>\n",
       "      <td>4.0</td>\n",
       "      <td>0.0</td>\n",
       "      <td>NaN</td>\n",
       "      <td>мягкая-совмещенная с рубероидным покрытием</td>\n",
       "      <td>14.0</td>\n",
       "      <td>22.12.2004</td>\n",
       "      <td>17.12.2004</td>\n",
       "    </tr>\n",
       "    <tr>\n",
       "      <th>841</th>\n",
       "      <td>3976</td>\n",
       "      <td>ЦО1</td>\n",
       "      <td>КМ-5-2</td>\n",
       "      <td>нет данных</td>\n",
       "      <td>6</td>\n",
       "      <td>3.0</td>\n",
       "      <td>55.0</td>\n",
       "      <td>4920.0</td>\n",
       "      <td>4137.0</td>\n",
       "      <td>NaN</td>\n",
       "      <td>кирпичные</td>\n",
       "      <td>нет</td>\n",
       "      <td>3.0</td>\n",
       "      <td>0.0</td>\n",
       "      <td>1.0</td>\n",
       "      <td>стальная</td>\n",
       "      <td>6.0</td>\n",
       "      <td>26.05.2005</td>\n",
       "      <td>18.05.2005</td>\n",
       "    </tr>\n",
       "    <tr>\n",
       "      <th>...</th>\n",
       "      <td>...</td>\n",
       "      <td>...</td>\n",
       "      <td>...</td>\n",
       "      <td>...</td>\n",
       "      <td>...</td>\n",
       "      <td>...</td>\n",
       "      <td>...</td>\n",
       "      <td>...</td>\n",
       "      <td>...</td>\n",
       "      <td>...</td>\n",
       "      <td>...</td>\n",
       "      <td>...</td>\n",
       "      <td>...</td>\n",
       "      <td>...</td>\n",
       "      <td>...</td>\n",
       "      <td>...</td>\n",
       "      <td>...</td>\n",
       "      <td>...</td>\n",
       "      <td>...</td>\n",
       "    </tr>\n",
       "    <tr>\n",
       "      <th>851928</th>\n",
       "      <td>24611</td>\n",
       "      <td>ЦО1</td>\n",
       "      <td>КМ-5-2</td>\n",
       "      <td>П-29</td>\n",
       "      <td>9</td>\n",
       "      <td>5.0</td>\n",
       "      <td>178.0</td>\n",
       "      <td>8334.4</td>\n",
       "      <td>7790.1</td>\n",
       "      <td>NaN</td>\n",
       "      <td>кирпичные</td>\n",
       "      <td>нет</td>\n",
       "      <td>5.0</td>\n",
       "      <td>0.0</td>\n",
       "      <td>NaN</td>\n",
       "      <td>мягкая-совмещенная с рубероидным покрытием</td>\n",
       "      <td>9.0</td>\n",
       "      <td>04.08.2004</td>\n",
       "      <td>28.07.2004</td>\n",
       "    </tr>\n",
       "    <tr>\n",
       "      <th>852141</th>\n",
       "      <td>31782</td>\n",
       "      <td>ЦО1</td>\n",
       "      <td>КМ-5-2</td>\n",
       "      <td>П-46</td>\n",
       "      <td>14</td>\n",
       "      <td>3.0</td>\n",
       "      <td>166.0</td>\n",
       "      <td>7698.5</td>\n",
       "      <td>7658.2</td>\n",
       "      <td>NaN</td>\n",
       "      <td>панельные</td>\n",
       "      <td>нет</td>\n",
       "      <td>6.0</td>\n",
       "      <td>0.0</td>\n",
       "      <td>NaN</td>\n",
       "      <td>мягкая-совмещенная с рубероидным покрытием</td>\n",
       "      <td>14.0</td>\n",
       "      <td>28.02.2000</td>\n",
       "      <td>14.03.1990</td>\n",
       "    </tr>\n",
       "    <tr>\n",
       "      <th>852354</th>\n",
       "      <td>31648</td>\n",
       "      <td>ЦО1</td>\n",
       "      <td>КМ-5-2</td>\n",
       "      <td>П-46</td>\n",
       "      <td>14</td>\n",
       "      <td>3.0</td>\n",
       "      <td>166.0</td>\n",
       "      <td>7570.6</td>\n",
       "      <td>7532.2</td>\n",
       "      <td>NaN</td>\n",
       "      <td>панельные</td>\n",
       "      <td>нет</td>\n",
       "      <td>6.0</td>\n",
       "      <td>0.0</td>\n",
       "      <td>NaN</td>\n",
       "      <td>мягкая-совмещенная с рубероидным покрытием</td>\n",
       "      <td>14.0</td>\n",
       "      <td>25.02.2000</td>\n",
       "      <td>14.03.1990</td>\n",
       "    </tr>\n",
       "    <tr>\n",
       "      <th>852567</th>\n",
       "      <td>250031</td>\n",
       "      <td>ЦО1</td>\n",
       "      <td>АТ-Т-2</td>\n",
       "      <td>индивидуальный проект</td>\n",
       "      <td>14</td>\n",
       "      <td>1.0</td>\n",
       "      <td>52.0</td>\n",
       "      <td>4148.7</td>\n",
       "      <td>3559.3</td>\n",
       "      <td>0.0</td>\n",
       "      <td>монолитные (ж-б)</td>\n",
       "      <td>нет</td>\n",
       "      <td>1.0</td>\n",
       "      <td>1.0</td>\n",
       "      <td>NaN</td>\n",
       "      <td>мягкая-совмещенная с рубероидным покрытием</td>\n",
       "      <td>14.0</td>\n",
       "      <td>14.02.2007</td>\n",
       "      <td>08.02.2007</td>\n",
       "    </tr>\n",
       "    <tr>\n",
       "      <th>852767</th>\n",
       "      <td>23736</td>\n",
       "      <td>ЦО1</td>\n",
       "      <td>КМ-5-2</td>\n",
       "      <td>индивидуальный проект</td>\n",
       "      <td>5</td>\n",
       "      <td>7.0</td>\n",
       "      <td>117.0</td>\n",
       "      <td>10470.2</td>\n",
       "      <td>7453.7</td>\n",
       "      <td>NaN</td>\n",
       "      <td>кирпичные</td>\n",
       "      <td>нет</td>\n",
       "      <td>0.0</td>\n",
       "      <td>0.0</td>\n",
       "      <td>1.0</td>\n",
       "      <td>стальная</td>\n",
       "      <td>5.0</td>\n",
       "      <td>16.12.2003</td>\n",
       "      <td>11.12.2003</td>\n",
       "    </tr>\n",
       "  </tbody>\n",
       "</table>\n",
       "<p>4205 rows × 19 columns</p>\n",
       "</div>"
      ],
      "text/plain": [
       "          UNOM Центральное отопление(контур) Марка счетчика  \\\n",
       "0        82024                           ЦО1         АТ-Т-2   \n",
       "206     240035                           ЦО2         АТ-Т-2   \n",
       "416     240035                           ЦО1         АТ-Т-2   \n",
       "628      64062                           ЦО1         КМ-5-2   \n",
       "841       3976                           ЦО1         КМ-5-2   \n",
       "...        ...                           ...            ...   \n",
       "851928   24611                           ЦО1         КМ-5-2   \n",
       "852141   31782                           ЦО1         КМ-5-2   \n",
       "852354   31648                           ЦО1         КМ-5-2   \n",
       "852567  250031                           ЦО1         АТ-Т-2   \n",
       "852767   23736                           ЦО1         КМ-5-2   \n",
       "\n",
       "               Серии проектов  Количество этажей  Количество подъездов  \\\n",
       "0                      П-3/16                 17                   2.0   \n",
       "206     индивидуальный проект                 22                   2.0   \n",
       "416     индивидуальный проект                 22                   2.0   \n",
       "628                      П-44                 14                   2.0   \n",
       "841                нет данных                  6                   3.0   \n",
       "...                       ...                ...                   ...   \n",
       "851928                   П-29                  9                   5.0   \n",
       "852141                   П-46                 14                   3.0   \n",
       "852354                   П-46                 14                   3.0   \n",
       "852567  индивидуальный проект                 14                   1.0   \n",
       "852767  индивидуальный проект                  5                   7.0   \n",
       "\n",
       "        Количество квартир  Общая площадь  Общая площадь жилых помещений  \\\n",
       "0                    136.0         8694.7                         8677.4   \n",
       "206                  168.0        10415.4                         9891.1   \n",
       "416                  168.0        10415.4                         9891.1   \n",
       "628                  110.0         4955.3                         4916.8   \n",
       "841                   55.0         4920.0                         4137.0   \n",
       "...                    ...            ...                            ...   \n",
       "851928               178.0         8334.4                         7790.1   \n",
       "852141               166.0         7698.5                         7658.2   \n",
       "852354               166.0         7570.6                         7532.2   \n",
       "852567                52.0         4148.7                         3559.3   \n",
       "852767               117.0        10470.2                         7453.7   \n",
       "\n",
       "        Износ объекта (по БТИ)    Материалы стен Признак аварийности здания  \\\n",
       "0                          NaN         панельные                         нет   \n",
       "206                        0.0  монолитные (ж-б)                         нет   \n",
       "416                        0.0  монолитные (ж-б)                         нет   \n",
       "628                        NaN         панельные                         нет   \n",
       "841                        NaN         кирпичные                         нет   \n",
       "...                        ...               ...                         ...   \n",
       "851928                     NaN         кирпичные                         нет   \n",
       "852141                     NaN         панельные                         нет   \n",
       "852354                     NaN         панельные                         нет   \n",
       "852567                     0.0  монолитные (ж-б)                         нет   \n",
       "852767                     NaN         кирпичные                         нет   \n",
       "\n",
       "        Количество пассажирских лифтов  Количество грузопассажирских лифтов  \\\n",
       "0                                  2.0                                  2.0   \n",
       "206                                2.0                                  4.0   \n",
       "416                                2.0                                  4.0   \n",
       "628                                4.0                                  0.0   \n",
       "841                                3.0                                  0.0   \n",
       "...                                ...                                  ...   \n",
       "851928                             5.0                                  0.0   \n",
       "852141                             6.0                                  0.0   \n",
       "852354                             6.0                                  0.0   \n",
       "852567                             1.0                                  1.0   \n",
       "852767                             0.0                                  0.0   \n",
       "\n",
       "        Очередность уборки кровли                     Материалы кровли по БТИ  \\\n",
       "0                             NaN  мягкая-совмещенная с рубероидным покрытием   \n",
       "206                           NaN  мягкая-совмещенная с рубероидным покрытием   \n",
       "416                           NaN  мягкая-совмещенная с рубероидным покрытием   \n",
       "628                           NaN  мягкая-совмещенная с рубероидным покрытием   \n",
       "841                           1.0                                    стальная   \n",
       "...                           ...                                         ...   \n",
       "851928                        NaN  мягкая-совмещенная с рубероидным покрытием   \n",
       "852141                        NaN  мягкая-совмещенная с рубероидным покрытием   \n",
       "852354                        NaN  мягкая-совмещенная с рубероидным покрытием   \n",
       "852567                        NaN  мягкая-совмещенная с рубероидным покрытием   \n",
       "852767                        1.0                                    стальная   \n",
       "\n",
       "        Этажность Дата регистрации адреса в Адресном реестре  \\\n",
       "0            17.0                                 25.02.2000   \n",
       "206          22.0                                 01.11.2004   \n",
       "416          22.0                                 01.11.2004   \n",
       "628          14.0                                 22.12.2004   \n",
       "841           6.0                                 26.05.2005   \n",
       "...           ...                                        ...   \n",
       "851928        9.0                                 04.08.2004   \n",
       "852141       14.0                                 28.02.2000   \n",
       "852354       14.0                                 25.02.2000   \n",
       "852567       14.0                                 14.02.2007   \n",
       "852767        5.0                                 16.12.2003   \n",
       "\n",
       "       Дата документа о регистрации адреса  \n",
       "0                               14.03.1990  \n",
       "206                             27.10.2004  \n",
       "416                             27.10.2004  \n",
       "628                             17.12.2004  \n",
       "841                             18.05.2005  \n",
       "...                                    ...  \n",
       "851928                          28.07.2004  \n",
       "852141                          14.03.1990  \n",
       "852354                          14.03.1990  \n",
       "852567                          08.02.2007  \n",
       "852767                          11.12.2003  \n",
       "\n",
       "[4205 rows x 19 columns]"
      ]
     },
     "execution_count": 8,
     "metadata": {},
     "output_type": "execute_result"
    }
   ],
   "source": [
    "buildings_description.loc[:, usfull_columns_in_buildings_data]"
   ]
  },
  {
   "cell_type": "code",
   "execution_count": 9,
   "metadata": {},
   "outputs": [
    {
     "name": "stderr",
     "output_type": "stream",
     "text": [
      "100%|██████████| 4340/4340 [00:00<00:00, 145278.73it/s]\n"
     ]
    }
   ],
   "source": [
    "n2022 = 0\n",
    "n2023 = 0\n",
    "n2024 = 0\n",
    "for id_ in tqdm(events_data):\n",
    "    n2022 += sum(events_data[id_]['2022'].values())\n",
    "    n2023 += sum(events_data[id_]['2023'].values())\n",
    "    n2024 += sum(events_data[id_]['2024'].values())\n"
   ]
  },
  {
   "cell_type": "code",
   "execution_count": 10,
   "metadata": {},
   "outputs": [
    {
     "name": "stderr",
     "output_type": "stream",
     "text": [
      "100%|██████████| 4340/4340 [00:00<00:00, 300488.28it/s]\n"
     ]
    }
   ],
   "source": [
    "n2023 = []\n",
    "for id_ in tqdm(events_data):\n",
    "    n2023.append(sum(events_data[id_]['2023'].values()))\n"
   ]
  },
  {
   "cell_type": "code",
   "execution_count": 11,
   "metadata": {},
   "outputs": [],
   "source": [
    "serires = pd.Series(events_data[list(events_data)[np.argmax(n2023)]]['2023'], name='Anomaly')\n",
    "serires = pd.DataFrame({'days': pd.to_datetime(serires.index), 'anomalies': serires.values})"
   ]
  },
  {
   "cell_type": "code",
   "execution_count": 12,
   "metadata": {},
   "outputs": [],
   "source": [
    "weather_data['days'] = pd.to_datetime(weather_data['timeline']).map(lambda a: a.round(freq='d'))"
   ]
  },
  {
   "cell_type": "code",
   "execution_count": 13,
   "metadata": {},
   "outputs": [
    {
     "data": {
      "text/html": [
       "<div>\n",
       "<style scoped>\n",
       "    .dataframe tbody tr th:only-of-type {\n",
       "        vertical-align: middle;\n",
       "    }\n",
       "\n",
       "    .dataframe tbody tr th {\n",
       "        vertical-align: top;\n",
       "    }\n",
       "\n",
       "    .dataframe thead th {\n",
       "        text-align: right;\n",
       "    }\n",
       "</style>\n",
       "<table border=\"1\" class=\"dataframe\">\n",
       "  <thead>\n",
       "    <tr style=\"text-align: right;\">\n",
       "      <th></th>\n",
       "      <th>описание погоды</th>\n",
       "      <th>время</th>\n",
       "      <th>температура</th>\n",
       "      <th>скорость ветра</th>\n",
       "      <th>давление</th>\n",
       "      <th>timeline</th>\n",
       "      <th>days</th>\n",
       "    </tr>\n",
       "  </thead>\n",
       "  <tbody>\n",
       "    <tr>\n",
       "      <th>0</th>\n",
       "      <td>пасмурно, снег</td>\n",
       "      <td>00:00</td>\n",
       "      <td>-3.0</td>\n",
       "      <td>0.0</td>\n",
       "      <td>738.0</td>\n",
       "      <td>2022-01-01 00:00:00</td>\n",
       "      <td>2022-01-01</td>\n",
       "    </tr>\n",
       "    <tr>\n",
       "      <th>24</th>\n",
       "      <td>пасмурно, без осадков</td>\n",
       "      <td>00:00</td>\n",
       "      <td>-4.0</td>\n",
       "      <td>3.0</td>\n",
       "      <td>741.0</td>\n",
       "      <td>2022-01-02 00:00:00</td>\n",
       "      <td>2022-01-02</td>\n",
       "    </tr>\n",
       "    <tr>\n",
       "      <th>48</th>\n",
       "      <td>пасмурно, без осадков</td>\n",
       "      <td>00:00</td>\n",
       "      <td>-8.0</td>\n",
       "      <td>0.0</td>\n",
       "      <td>745.0</td>\n",
       "      <td>2022-01-03 00:00:00</td>\n",
       "      <td>2022-01-03</td>\n",
       "    </tr>\n",
       "    <tr>\n",
       "      <th>72</th>\n",
       "      <td>пасмурно, без осадков</td>\n",
       "      <td>00:00</td>\n",
       "      <td>-8.0</td>\n",
       "      <td>0.0</td>\n",
       "      <td>736.0</td>\n",
       "      <td>2022-01-04 00:00:00</td>\n",
       "      <td>2022-01-04</td>\n",
       "    </tr>\n",
       "    <tr>\n",
       "      <th>96</th>\n",
       "      <td>пасмурно, без осадков</td>\n",
       "      <td>00:00</td>\n",
       "      <td>-6.0</td>\n",
       "      <td>1.0</td>\n",
       "      <td>740.0</td>\n",
       "      <td>2022-01-05 00:00:00</td>\n",
       "      <td>2022-01-05</td>\n",
       "    </tr>\n",
       "    <tr>\n",
       "      <th>...</th>\n",
       "      <td>...</td>\n",
       "      <td>...</td>\n",
       "      <td>...</td>\n",
       "      <td>...</td>\n",
       "      <td>...</td>\n",
       "      <td>...</td>\n",
       "      <td>...</td>\n",
       "    </tr>\n",
       "    <tr>\n",
       "      <th>15168</th>\n",
       "      <td>пасмурно, без осадков</td>\n",
       "      <td>00:00</td>\n",
       "      <td>-5.0</td>\n",
       "      <td>2.0</td>\n",
       "      <td>757.0</td>\n",
       "      <td>2024-12-27 00:00:00</td>\n",
       "      <td>2024-12-27</td>\n",
       "    </tr>\n",
       "    <tr>\n",
       "      <th>15192</th>\n",
       "      <td>пасмурно, снег</td>\n",
       "      <td>00:00</td>\n",
       "      <td>-2.0</td>\n",
       "      <td>2.0</td>\n",
       "      <td>746.0</td>\n",
       "      <td>2024-12-28 00:00:00</td>\n",
       "      <td>2024-12-28</td>\n",
       "    </tr>\n",
       "    <tr>\n",
       "      <th>15216</th>\n",
       "      <td>пасмурно, без осадков</td>\n",
       "      <td>00:00</td>\n",
       "      <td>-1.0</td>\n",
       "      <td>0.0</td>\n",
       "      <td>747.0</td>\n",
       "      <td>2024-12-29 00:00:00</td>\n",
       "      <td>2024-12-29</td>\n",
       "    </tr>\n",
       "    <tr>\n",
       "      <th>15240</th>\n",
       "      <td>пасмурно, слабый снег</td>\n",
       "      <td>00:00</td>\n",
       "      <td>-2.0</td>\n",
       "      <td>1.0</td>\n",
       "      <td>748.0</td>\n",
       "      <td>2024-12-30 00:00:00</td>\n",
       "      <td>2024-12-30</td>\n",
       "    </tr>\n",
       "    <tr>\n",
       "      <th>15264</th>\n",
       "      <td>пасмурно, без осадков</td>\n",
       "      <td>00:00</td>\n",
       "      <td>1.0</td>\n",
       "      <td>0.0</td>\n",
       "      <td>745.0</td>\n",
       "      <td>2024-12-31 00:00:00</td>\n",
       "      <td>2024-12-31</td>\n",
       "    </tr>\n",
       "  </tbody>\n",
       "</table>\n",
       "<p>637 rows × 7 columns</p>\n",
       "</div>"
      ],
      "text/plain": [
       "             описание погоды  время  температура  скорость ветра  давление  \\\n",
       "0             пасмурно, снег  00:00         -3.0             0.0     738.0   \n",
       "24     пасмурно, без осадков  00:00         -4.0             3.0     741.0   \n",
       "48     пасмурно, без осадков  00:00         -8.0             0.0     745.0   \n",
       "72     пасмурно, без осадков  00:00         -8.0             0.0     736.0   \n",
       "96     пасмурно, без осадков  00:00         -6.0             1.0     740.0   \n",
       "...                      ...    ...          ...             ...       ...   \n",
       "15168  пасмурно, без осадков  00:00         -5.0             2.0     757.0   \n",
       "15192         пасмурно, снег  00:00         -2.0             2.0     746.0   \n",
       "15216  пасмурно, без осадков  00:00         -1.0             0.0     747.0   \n",
       "15240  пасмурно, слабый снег  00:00         -2.0             1.0     748.0   \n",
       "15264  пасмурно, без осадков  00:00          1.0             0.0     745.0   \n",
       "\n",
       "                  timeline       days  \n",
       "0      2022-01-01 00:00:00 2022-01-01  \n",
       "24     2022-01-02 00:00:00 2022-01-02  \n",
       "48     2022-01-03 00:00:00 2022-01-03  \n",
       "72     2022-01-04 00:00:00 2022-01-04  \n",
       "96     2022-01-05 00:00:00 2022-01-05  \n",
       "...                    ...        ...  \n",
       "15168  2024-12-27 00:00:00 2024-12-27  \n",
       "15192  2024-12-28 00:00:00 2024-12-28  \n",
       "15216  2024-12-29 00:00:00 2024-12-29  \n",
       "15240  2024-12-30 00:00:00 2024-12-30  \n",
       "15264  2024-12-31 00:00:00 2024-12-31  \n",
       "\n",
       "[637 rows x 7 columns]"
      ]
     },
     "execution_count": 13,
     "metadata": {},
     "output_type": "execute_result"
    }
   ],
   "source": [
    "weather_data[::24]"
   ]
  },
  {
   "cell_type": "code",
   "execution_count": 14,
   "metadata": {},
   "outputs": [],
   "source": [
    "d1 = pd.merge(serires, weather_data[::24], on='days')\n",
    "x = pd.merge(d1, weather_data[12::24], on='days')"
   ]
  },
  {
   "cell_type": "code",
   "execution_count": 15,
   "metadata": {},
   "outputs": [
    {
     "data": {
      "text/plain": [
       "0      274\n",
       "1      274\n",
       "2      276\n",
       "3      276\n",
       "4      278\n",
       "      ... \n",
       "207    480\n",
       "208    482\n",
       "209    482\n",
       "210    484\n",
       "211    484\n",
       "Name: timeline_x, Length: 212, dtype: int64"
      ]
     },
     "execution_count": 15,
     "metadata": {},
     "output_type": "execute_result"
    }
   ],
   "source": [
    "(pd.to_datetime(x['timeline_x']) - pd.Timestamp(year=2023, month=1, day=1)).map(lambda a: a.days)"
   ]
  },
  {
   "cell_type": "markdown",
   "metadata": {},
   "source": [
    "# **Look up 2**"
   ]
  },
  {
   "cell_type": "code",
   "execution_count": 11,
   "metadata": {},
   "outputs": [],
   "source": [
    "weather_ts = process_weathers_dataframe(Pathes.weather_data)"
   ]
  },
  {
   "cell_type": "code",
   "execution_count": 12,
   "metadata": {},
   "outputs": [],
   "source": [
    "buildings_df = dataframe_loader(Pathes.buildingsd_descriptions, dayfirst=True)\n",
    "buildings_df = process_dataframe_to_model(buildings_df)"
   ]
  },
  {
   "cell_type": "code",
   "execution_count": 13,
   "metadata": {},
   "outputs": [
    {
     "name": "stderr",
     "output_type": "stream",
     "text": [
      "/tmp/ipykernel_40413/3764829537.py:11: UserWarning: Parsing dates in %Y-%m-%d %H:%M:%S.%f format when dayfirst=True was specified. Pass `dayfirst=False` or specify a format to silence this warning.\n",
      "  df[i] = df[i].map(lambda a: pd.to_datetime(a, dayfirst=dayfirst))\n",
      "/tmp/ipykernel_40413/3764829537.py:11: UserWarning: Parsing dates in %Y-%m-%d %H:%M:%S.%f format when dayfirst=True was specified. Pass `dayfirst=False` or specify a format to silence this warning.\n",
      "  df[i] = df[i].map(lambda a: pd.to_datetime(a, dayfirst=dayfirst))\n"
     ]
    }
   ],
   "source": [
    "anomaly_ts1 = dataframe_loader(Pathes.anomalies1, dayfirst=False)\n",
    "anomaly_ts2 = dataframe_loader(Pathes.anomalies2, dayfirst=False)\n",
    "anomalies_ts = pd.concat([anomaly_ts1, anomaly_ts2])\n",
    "anomalies_ts = process_timeseries_to_model(anomalies_ts)"
   ]
  },
  {
   "cell_type": "code",
   "execution_count": 14,
   "metadata": {},
   "outputs": [
    {
     "data": {
      "text/html": [
       "<div>\n",
       "<style scoped>\n",
       "    .dataframe tbody tr th:only-of-type {\n",
       "        vertical-align: middle;\n",
       "    }\n",
       "\n",
       "    .dataframe tbody tr th {\n",
       "        vertical-align: top;\n",
       "    }\n",
       "\n",
       "    .dataframe thead th {\n",
       "        text-align: right;\n",
       "    }\n",
       "</style>\n",
       "<table border=\"1\" class=\"dataframe\">\n",
       "  <thead>\n",
       "    <tr style=\"text-align: right;\">\n",
       "      <th></th>\n",
       "      <th>UNOM</th>\n",
       "      <th>Дата закрытия</th>\n",
       "      <th>Дата создания во внешней системе</th>\n",
       "      <th>P1 &lt;= 0</th>\n",
       "      <th>P2 &lt;= 0</th>\n",
       "      <th>T1 &lt; min</th>\n",
       "      <th>T1 &gt; max</th>\n",
       "      <th>Аварийная протечка труб в подъезде</th>\n",
       "      <th>Крупные пожары</th>\n",
       "      <th>Отсутствие отопления в доме</th>\n",
       "      <th>Протечка труб в подъезде</th>\n",
       "      <th>Сильная течь в системе отопления</th>\n",
       "      <th>Температура в квартире ниже нормативной</th>\n",
       "      <th>Температура в помещении общего пользования ниже нормативной</th>\n",
       "      <th>Течь в системе отопления</th>\n",
       "      <th>days</th>\n",
       "      <th>houres</th>\n",
       "    </tr>\n",
       "  </thead>\n",
       "  <tbody>\n",
       "    <tr>\n",
       "      <th>1</th>\n",
       "      <td>8171.0</td>\n",
       "      <td>2023-08-10 12:37:31.785</td>\n",
       "      <td>2023-08-10 12:26:38</td>\n",
       "      <td>0.0</td>\n",
       "      <td>0.0</td>\n",
       "      <td>0.0</td>\n",
       "      <td>0.0</td>\n",
       "      <td>0.0</td>\n",
       "      <td>0.0</td>\n",
       "      <td>0.0</td>\n",
       "      <td>0.0</td>\n",
       "      <td>0.0</td>\n",
       "      <td>1.0</td>\n",
       "      <td>0.0</td>\n",
       "      <td>0.0</td>\n",
       "      <td>2023-08-11</td>\n",
       "      <td>2023-08-10 12:00:00</td>\n",
       "    </tr>\n",
       "    <tr>\n",
       "      <th>2</th>\n",
       "      <td>8171.0</td>\n",
       "      <td>2023-08-10 13:37:44.841</td>\n",
       "      <td>2023-08-10 13:22:11</td>\n",
       "      <td>0.0</td>\n",
       "      <td>0.0</td>\n",
       "      <td>0.0</td>\n",
       "      <td>0.0</td>\n",
       "      <td>0.0</td>\n",
       "      <td>0.0</td>\n",
       "      <td>0.0</td>\n",
       "      <td>0.0</td>\n",
       "      <td>0.0</td>\n",
       "      <td>1.0</td>\n",
       "      <td>0.0</td>\n",
       "      <td>0.0</td>\n",
       "      <td>2023-08-11</td>\n",
       "      <td>2023-08-10 13:00:00</td>\n",
       "    </tr>\n",
       "    <tr>\n",
       "      <th>9</th>\n",
       "      <td>8171.0</td>\n",
       "      <td>2023-09-10 00:51:20.340</td>\n",
       "      <td>2023-09-10 00:45:37</td>\n",
       "      <td>0.0</td>\n",
       "      <td>0.0</td>\n",
       "      <td>0.0</td>\n",
       "      <td>0.0</td>\n",
       "      <td>0.0</td>\n",
       "      <td>0.0</td>\n",
       "      <td>0.0</td>\n",
       "      <td>0.0</td>\n",
       "      <td>0.0</td>\n",
       "      <td>1.0</td>\n",
       "      <td>0.0</td>\n",
       "      <td>0.0</td>\n",
       "      <td>2023-09-10</td>\n",
       "      <td>2023-09-10 01:00:00</td>\n",
       "    </tr>\n",
       "    <tr>\n",
       "      <th>28</th>\n",
       "      <td>8171.0</td>\n",
       "      <td>2023-09-10 12:38:55.014</td>\n",
       "      <td>2023-09-10 12:15:37</td>\n",
       "      <td>0.0</td>\n",
       "      <td>0.0</td>\n",
       "      <td>0.0</td>\n",
       "      <td>0.0</td>\n",
       "      <td>0.0</td>\n",
       "      <td>0.0</td>\n",
       "      <td>0.0</td>\n",
       "      <td>0.0</td>\n",
       "      <td>0.0</td>\n",
       "      <td>1.0</td>\n",
       "      <td>0.0</td>\n",
       "      <td>0.0</td>\n",
       "      <td>2023-09-11</td>\n",
       "      <td>2023-09-10 12:00:00</td>\n",
       "    </tr>\n",
       "    <tr>\n",
       "      <th>37</th>\n",
       "      <td>8171.0</td>\n",
       "      <td>2023-10-27 19:50:43.828</td>\n",
       "      <td>2023-10-27 19:49:36</td>\n",
       "      <td>0.0</td>\n",
       "      <td>0.0</td>\n",
       "      <td>0.0</td>\n",
       "      <td>0.0</td>\n",
       "      <td>0.0</td>\n",
       "      <td>0.0</td>\n",
       "      <td>0.0</td>\n",
       "      <td>0.0</td>\n",
       "      <td>0.0</td>\n",
       "      <td>1.0</td>\n",
       "      <td>0.0</td>\n",
       "      <td>0.0</td>\n",
       "      <td>2023-10-28</td>\n",
       "      <td>2023-10-27 20:00:00</td>\n",
       "    </tr>\n",
       "  </tbody>\n",
       "</table>\n",
       "</div>"
      ],
      "text/plain": [
       "      UNOM           Дата закрытия Дата создания во внешней системе  P1 <= 0  \\\n",
       "1   8171.0 2023-08-10 12:37:31.785              2023-08-10 12:26:38      0.0   \n",
       "2   8171.0 2023-08-10 13:37:44.841              2023-08-10 13:22:11      0.0   \n",
       "9   8171.0 2023-09-10 00:51:20.340              2023-09-10 00:45:37      0.0   \n",
       "28  8171.0 2023-09-10 12:38:55.014              2023-09-10 12:15:37      0.0   \n",
       "37  8171.0 2023-10-27 19:50:43.828              2023-10-27 19:49:36      0.0   \n",
       "\n",
       "    P2 <= 0  T1 < min  T1 > max  Аварийная протечка труб в подъезде  \\\n",
       "1       0.0       0.0       0.0                                 0.0   \n",
       "2       0.0       0.0       0.0                                 0.0   \n",
       "9       0.0       0.0       0.0                                 0.0   \n",
       "28      0.0       0.0       0.0                                 0.0   \n",
       "37      0.0       0.0       0.0                                 0.0   \n",
       "\n",
       "    Крупные пожары  Отсутствие отопления в доме  Протечка труб в подъезде  \\\n",
       "1              0.0                          0.0                       0.0   \n",
       "2              0.0                          0.0                       0.0   \n",
       "9              0.0                          0.0                       0.0   \n",
       "28             0.0                          0.0                       0.0   \n",
       "37             0.0                          0.0                       0.0   \n",
       "\n",
       "    Сильная течь в системе отопления  Температура в квартире ниже нормативной  \\\n",
       "1                                0.0                                      1.0   \n",
       "2                                0.0                                      1.0   \n",
       "9                                0.0                                      1.0   \n",
       "28                               0.0                                      1.0   \n",
       "37                               0.0                                      1.0   \n",
       "\n",
       "    Температура в помещении общего пользования ниже нормативной  \\\n",
       "1                                                 0.0             \n",
       "2                                                 0.0             \n",
       "9                                                 0.0             \n",
       "28                                                0.0             \n",
       "37                                                0.0             \n",
       "\n",
       "    Течь в системе отопления       days              houres  \n",
       "1                        0.0 2023-08-11 2023-08-10 12:00:00  \n",
       "2                        0.0 2023-08-11 2023-08-10 13:00:00  \n",
       "9                        0.0 2023-09-10 2023-09-10 01:00:00  \n",
       "28                       0.0 2023-09-11 2023-09-10 12:00:00  \n",
       "37                       0.0 2023-10-28 2023-10-27 20:00:00  "
      ]
     },
     "execution_count": 14,
     "metadata": {},
     "output_type": "execute_result"
    }
   ],
   "source": [
    "anomalies_ts.head()"
   ]
  },
  {
   "cell_type": "code",
   "execution_count": 15,
   "metadata": {},
   "outputs": [
    {
     "data": {
      "text/html": [
       "<div>\n",
       "<style scoped>\n",
       "    .dataframe tbody tr th:only-of-type {\n",
       "        vertical-align: middle;\n",
       "    }\n",
       "\n",
       "    .dataframe tbody tr th {\n",
       "        vertical-align: top;\n",
       "    }\n",
       "\n",
       "    .dataframe thead th {\n",
       "        text-align: right;\n",
       "    }\n",
       "</style>\n",
       "<table border=\"1\" class=\"dataframe\">\n",
       "  <thead>\n",
       "    <tr style=\"text-align: right;\">\n",
       "      <th></th>\n",
       "      <th>Дата документа о регистрации адреса</th>\n",
       "      <th>Дата регистрации адреса в Адресном реестре</th>\n",
       "      <th>Износ объекта (по БТИ)</th>\n",
       "      <th>Количество грузопассажирских лифтов</th>\n",
       "      <th>Количество квартир</th>\n",
       "      <th>Количество пассажирских лифтов</th>\n",
       "      <th>Количество подъездов</th>\n",
       "      <th>Количество этажей</th>\n",
       "      <th>Марка счетчика</th>\n",
       "      <th>Материалы кровли по БТИ</th>\n",
       "      <th>Материалы стен</th>\n",
       "      <th>Общая площадь</th>\n",
       "      <th>Общая площадь жилых помещений</th>\n",
       "      <th>Очередность уборки кровли</th>\n",
       "      <th>Признак аварийности здания</th>\n",
       "      <th>Серии проектов</th>\n",
       "      <th>Центральное отопление(контур)</th>\n",
       "      <th>Этажность</th>\n",
       "      <th>UNOM</th>\n",
       "    </tr>\n",
       "  </thead>\n",
       "  <tbody>\n",
       "    <tr>\n",
       "      <th>0</th>\n",
       "      <td>0.523536</td>\n",
       "      <td>0.067497</td>\n",
       "      <td>NaN</td>\n",
       "      <td>0.166667</td>\n",
       "      <td>0.207752</td>\n",
       "      <td>0.090909</td>\n",
       "      <td>0.071429</td>\n",
       "      <td>0.64</td>\n",
       "      <td>0.000000</td>\n",
       "      <td>0.000000</td>\n",
       "      <td>0.000000</td>\n",
       "      <td>0.204597</td>\n",
       "      <td>0.206193</td>\n",
       "      <td>NaN</td>\n",
       "      <td>0.0</td>\n",
       "      <td>0.00</td>\n",
       "      <td>0.0</td>\n",
       "      <td>0.64</td>\n",
       "      <td>82024</td>\n",
       "    </tr>\n",
       "    <tr>\n",
       "      <th>1</th>\n",
       "      <td>0.767150</td>\n",
       "      <td>0.301752</td>\n",
       "      <td>0.0</td>\n",
       "      <td>0.333333</td>\n",
       "      <td>0.257364</td>\n",
       "      <td>0.090909</td>\n",
       "      <td>0.071429</td>\n",
       "      <td>0.84</td>\n",
       "      <td>0.000000</td>\n",
       "      <td>0.000000</td>\n",
       "      <td>0.052632</td>\n",
       "      <td>0.247177</td>\n",
       "      <td>0.236385</td>\n",
       "      <td>NaN</td>\n",
       "      <td>0.0</td>\n",
       "      <td>0.01</td>\n",
       "      <td>0.2</td>\n",
       "      <td>0.84</td>\n",
       "      <td>240035</td>\n",
       "    </tr>\n",
       "    <tr>\n",
       "      <th>2</th>\n",
       "      <td>0.767150</td>\n",
       "      <td>0.301752</td>\n",
       "      <td>0.0</td>\n",
       "      <td>0.333333</td>\n",
       "      <td>0.257364</td>\n",
       "      <td>0.090909</td>\n",
       "      <td>0.071429</td>\n",
       "      <td>0.84</td>\n",
       "      <td>0.000000</td>\n",
       "      <td>0.000000</td>\n",
       "      <td>0.052632</td>\n",
       "      <td>0.247177</td>\n",
       "      <td>0.236385</td>\n",
       "      <td>NaN</td>\n",
       "      <td>0.0</td>\n",
       "      <td>0.01</td>\n",
       "      <td>0.0</td>\n",
       "      <td>0.84</td>\n",
       "      <td>240035</td>\n",
       "    </tr>\n",
       "    <tr>\n",
       "      <th>3</th>\n",
       "      <td>0.769476</td>\n",
       "      <td>0.308735</td>\n",
       "      <td>NaN</td>\n",
       "      <td>0.000000</td>\n",
       "      <td>0.167442</td>\n",
       "      <td>0.181818</td>\n",
       "      <td>0.071429</td>\n",
       "      <td>0.52</td>\n",
       "      <td>0.047619</td>\n",
       "      <td>0.000000</td>\n",
       "      <td>0.000000</td>\n",
       "      <td>0.112063</td>\n",
       "      <td>0.112643</td>\n",
       "      <td>NaN</td>\n",
       "      <td>0.0</td>\n",
       "      <td>0.02</td>\n",
       "      <td>0.0</td>\n",
       "      <td>0.52</td>\n",
       "      <td>64062</td>\n",
       "    </tr>\n",
       "    <tr>\n",
       "      <th>4</th>\n",
       "      <td>0.776409</td>\n",
       "      <td>0.329956</td>\n",
       "      <td>NaN</td>\n",
       "      <td>0.000000</td>\n",
       "      <td>0.082171</td>\n",
       "      <td>0.136364</td>\n",
       "      <td>0.142857</td>\n",
       "      <td>0.20</td>\n",
       "      <td>0.047619</td>\n",
       "      <td>0.142857</td>\n",
       "      <td>0.105263</td>\n",
       "      <td>0.111189</td>\n",
       "      <td>0.093244</td>\n",
       "      <td>0.0</td>\n",
       "      <td>0.0</td>\n",
       "      <td>0.03</td>\n",
       "      <td>0.0</td>\n",
       "      <td>0.20</td>\n",
       "      <td>3976</td>\n",
       "    </tr>\n",
       "  </tbody>\n",
       "</table>\n",
       "</div>"
      ],
      "text/plain": [
       "   Дата документа о регистрации адреса  \\\n",
       "0                             0.523536   \n",
       "1                             0.767150   \n",
       "2                             0.767150   \n",
       "3                             0.769476   \n",
       "4                             0.776409   \n",
       "\n",
       "   Дата регистрации адреса в Адресном реестре  Износ объекта (по БТИ)  \\\n",
       "0                                    0.067497                     NaN   \n",
       "1                                    0.301752                     0.0   \n",
       "2                                    0.301752                     0.0   \n",
       "3                                    0.308735                     NaN   \n",
       "4                                    0.329956                     NaN   \n",
       "\n",
       "   Количество грузопассажирских лифтов  Количество квартир  \\\n",
       "0                             0.166667            0.207752   \n",
       "1                             0.333333            0.257364   \n",
       "2                             0.333333            0.257364   \n",
       "3                             0.000000            0.167442   \n",
       "4                             0.000000            0.082171   \n",
       "\n",
       "   Количество пассажирских лифтов  Количество подъездов  Количество этажей  \\\n",
       "0                        0.090909              0.071429               0.64   \n",
       "1                        0.090909              0.071429               0.84   \n",
       "2                        0.090909              0.071429               0.84   \n",
       "3                        0.181818              0.071429               0.52   \n",
       "4                        0.136364              0.142857               0.20   \n",
       "\n",
       "   Марка счетчика  Материалы кровли по БТИ  Материалы стен  Общая площадь  \\\n",
       "0        0.000000                 0.000000        0.000000       0.204597   \n",
       "1        0.000000                 0.000000        0.052632       0.247177   \n",
       "2        0.000000                 0.000000        0.052632       0.247177   \n",
       "3        0.047619                 0.000000        0.000000       0.112063   \n",
       "4        0.047619                 0.142857        0.105263       0.111189   \n",
       "\n",
       "   Общая площадь жилых помещений  Очередность уборки кровли  \\\n",
       "0                       0.206193                        NaN   \n",
       "1                       0.236385                        NaN   \n",
       "2                       0.236385                        NaN   \n",
       "3                       0.112643                        NaN   \n",
       "4                       0.093244                        0.0   \n",
       "\n",
       "   Признак аварийности здания  Серии проектов  Центральное отопление(контур)  \\\n",
       "0                          0.0            0.00                            0.0   \n",
       "1                          0.0            0.01                            0.2   \n",
       "2                          0.0            0.01                            0.0   \n",
       "3                          0.0            0.02                            0.0   \n",
       "4                          0.0            0.03                            0.0   \n",
       "\n",
       "   Этажность    UNOM  \n",
       "0       0.64   82024  \n",
       "1       0.84  240035  \n",
       "2       0.84  240035  \n",
       "3       0.52   64062  \n",
       "4       0.20    3976  "
      ]
     },
     "execution_count": 15,
     "metadata": {},
     "output_type": "execute_result"
    }
   ],
   "source": [
    "buildings_df.head()"
   ]
  },
  {
   "cell_type": "code",
   "execution_count": 16,
   "metadata": {},
   "outputs": [
    {
     "data": {
      "text/html": [
       "<div>\n",
       "<style scoped>\n",
       "    .dataframe tbody tr th:only-of-type {\n",
       "        vertical-align: middle;\n",
       "    }\n",
       "\n",
       "    .dataframe tbody tr th {\n",
       "        vertical-align: top;\n",
       "    }\n",
       "\n",
       "    .dataframe thead th {\n",
       "        text-align: right;\n",
       "    }\n",
       "</style>\n",
       "<table border=\"1\" class=\"dataframe\">\n",
       "  <thead>\n",
       "    <tr style=\"text-align: right;\">\n",
       "      <th></th>\n",
       "      <th>температура</th>\n",
       "      <th>скорость ветра</th>\n",
       "      <th>давление</th>\n",
       "      <th>timeline</th>\n",
       "      <th>без осадков</th>\n",
       "      <th>дождь</th>\n",
       "      <th>малооблачно</th>\n",
       "      <th>облачно</th>\n",
       "      <th>осадки</th>\n",
       "      <th>пасмурно</th>\n",
       "      <th>сильный снег</th>\n",
       "      <th>слабые осадки</th>\n",
       "      <th>слабый дождь</th>\n",
       "      <th>слабый снег</th>\n",
       "      <th>снег</th>\n",
       "      <th>ясно</th>\n",
       "      <th>days</th>\n",
       "      <th>houres</th>\n",
       "    </tr>\n",
       "  </thead>\n",
       "  <tbody>\n",
       "    <tr>\n",
       "      <th>0</th>\n",
       "      <td>0.428571</td>\n",
       "      <td>0.00000</td>\n",
       "      <td>0.363636</td>\n",
       "      <td>2022-01-01 00:00:00</td>\n",
       "      <td>0</td>\n",
       "      <td>0</td>\n",
       "      <td>0</td>\n",
       "      <td>0</td>\n",
       "      <td>0</td>\n",
       "      <td>1</td>\n",
       "      <td>0</td>\n",
       "      <td>0</td>\n",
       "      <td>0</td>\n",
       "      <td>0</td>\n",
       "      <td>1</td>\n",
       "      <td>0</td>\n",
       "      <td>2022-01-01</td>\n",
       "      <td>2022-01-01 00:00:00</td>\n",
       "    </tr>\n",
       "    <tr>\n",
       "      <th>1</th>\n",
       "      <td>0.428571</td>\n",
       "      <td>0.00000</td>\n",
       "      <td>0.363636</td>\n",
       "      <td>2022-01-01 01:00:00</td>\n",
       "      <td>0</td>\n",
       "      <td>0</td>\n",
       "      <td>0</td>\n",
       "      <td>0</td>\n",
       "      <td>0</td>\n",
       "      <td>1</td>\n",
       "      <td>0</td>\n",
       "      <td>0</td>\n",
       "      <td>0</td>\n",
       "      <td>0</td>\n",
       "      <td>1</td>\n",
       "      <td>0</td>\n",
       "      <td>2022-01-01</td>\n",
       "      <td>2022-01-01 01:00:00</td>\n",
       "    </tr>\n",
       "    <tr>\n",
       "      <th>2</th>\n",
       "      <td>0.428571</td>\n",
       "      <td>0.00000</td>\n",
       "      <td>0.363636</td>\n",
       "      <td>2022-01-01 02:00:00</td>\n",
       "      <td>0</td>\n",
       "      <td>0</td>\n",
       "      <td>0</td>\n",
       "      <td>0</td>\n",
       "      <td>0</td>\n",
       "      <td>1</td>\n",
       "      <td>0</td>\n",
       "      <td>0</td>\n",
       "      <td>0</td>\n",
       "      <td>0</td>\n",
       "      <td>1</td>\n",
       "      <td>0</td>\n",
       "      <td>2022-01-01</td>\n",
       "      <td>2022-01-01 02:00:00</td>\n",
       "    </tr>\n",
       "    <tr>\n",
       "      <th>3</th>\n",
       "      <td>0.457143</td>\n",
       "      <td>0.02439</td>\n",
       "      <td>0.345455</td>\n",
       "      <td>2022-01-01 03:00:00</td>\n",
       "      <td>0</td>\n",
       "      <td>0</td>\n",
       "      <td>0</td>\n",
       "      <td>0</td>\n",
       "      <td>0</td>\n",
       "      <td>1</td>\n",
       "      <td>0</td>\n",
       "      <td>0</td>\n",
       "      <td>0</td>\n",
       "      <td>0</td>\n",
       "      <td>1</td>\n",
       "      <td>0</td>\n",
       "      <td>2022-01-01</td>\n",
       "      <td>2022-01-01 03:00:00</td>\n",
       "    </tr>\n",
       "    <tr>\n",
       "      <th>4</th>\n",
       "      <td>0.457143</td>\n",
       "      <td>0.02439</td>\n",
       "      <td>0.345455</td>\n",
       "      <td>2022-01-01 04:00:00</td>\n",
       "      <td>0</td>\n",
       "      <td>0</td>\n",
       "      <td>0</td>\n",
       "      <td>0</td>\n",
       "      <td>0</td>\n",
       "      <td>1</td>\n",
       "      <td>0</td>\n",
       "      <td>0</td>\n",
       "      <td>0</td>\n",
       "      <td>0</td>\n",
       "      <td>1</td>\n",
       "      <td>0</td>\n",
       "      <td>2022-01-01</td>\n",
       "      <td>2022-01-01 04:00:00</td>\n",
       "    </tr>\n",
       "  </tbody>\n",
       "</table>\n",
       "</div>"
      ],
      "text/plain": [
       "   температура  скорость ветра  давление            timeline  без осадков  \\\n",
       "0     0.428571         0.00000  0.363636 2022-01-01 00:00:00            0   \n",
       "1     0.428571         0.00000  0.363636 2022-01-01 01:00:00            0   \n",
       "2     0.428571         0.00000  0.363636 2022-01-01 02:00:00            0   \n",
       "3     0.457143         0.02439  0.345455 2022-01-01 03:00:00            0   \n",
       "4     0.457143         0.02439  0.345455 2022-01-01 04:00:00            0   \n",
       "\n",
       "   дождь  малооблачно  облачно  осадки  пасмурно  сильный снег  слабые осадки  \\\n",
       "0      0            0        0       0         1             0              0   \n",
       "1      0            0        0       0         1             0              0   \n",
       "2      0            0        0       0         1             0              0   \n",
       "3      0            0        0       0         1             0              0   \n",
       "4      0            0        0       0         1             0              0   \n",
       "\n",
       "   слабый дождь  слабый снег  снег  ясно       days              houres  \n",
       "0             0            0     1     0 2022-01-01 2022-01-01 00:00:00  \n",
       "1             0            0     1     0 2022-01-01 2022-01-01 01:00:00  \n",
       "2             0            0     1     0 2022-01-01 2022-01-01 02:00:00  \n",
       "3             0            0     1     0 2022-01-01 2022-01-01 03:00:00  \n",
       "4             0            0     1     0 2022-01-01 2022-01-01 04:00:00  "
      ]
     },
     "execution_count": 16,
     "metadata": {},
     "output_type": "execute_result"
    }
   ],
   "source": [
    "weather_ts.head()"
   ]
  },
  {
   "cell_type": "markdown",
   "metadata": {},
   "source": [
    "# **Datasets**"
   ]
  },
  {
   "cell_type": "code",
   "execution_count": 17,
   "metadata": {},
   "outputs": [],
   "source": [
    "def get_anomalies_in_day(anomalies, tl_i):\n",
    "    anomalies_idxes = anomalies['days'] == tl_i\n",
    "    n = anomalies_idxes.sum()\n",
    "    return anomalies[anomalies_idxes].drop('days', axis=1).sum(axis=0) / n"
   ]
  },
  {
   "cell_type": "code",
   "execution_count": 62,
   "metadata": {},
   "outputs": [],
   "source": [
    "class DataSetForDayAnomalyPredictionForNN(Dataset):\n",
    "    def __init__(self, \n",
    "        buildings_df: pd.DataFrame, \n",
    "        anomalies_ts: pd.DataFrame, \n",
    "        weather_ts: pd.DataFrame, \n",
    "        # time='day',\n",
    "    ):\n",
    "        self.buildings_df = buildings_df\n",
    "        self.anomalies_ts = anomalies_ts\n",
    "        self.weather_ts = weather_ts\n",
    "        self.unom_ids = np.unique(self.buildings_df['UNOM'].astype(int).to_list() + self.anomalies_ts['UNOM'].astype(int).to_list())\n",
    "\n",
    "        self.tl = make_timeline_for_period(2023, 24)\n",
    "        \n",
    "    \n",
    "    def __len__(self):\n",
    "        return len(self.unom_ids)\n",
    "\n",
    "\n",
    "    def __getitem__(self, idx):\n",
    "        unom_id = self.unom_ids[idx]\n",
    "        building_info = self.buildings_df.loc[self.buildings_df['UNOM'] == unom_id].fillna(-1)\n",
    "        anomalies_info = self.anomalies_ts.loc[self.anomalies_ts['UNOM'] == unom_id]\n",
    "        weather_ts_days = self.weather_ts.loc[::1]\n",
    "        anomalies = pd.merge(weather_ts_days, anomalies_info, on='days', how='left').drop([\n",
    "            'timeline', 'houres_y', 'houres_x', 'UNOM', 'Дата закрытия', 'Дата создания во внешней системе'], \n",
    "            axis=1\n",
    "        ).drop_duplicates()\n",
    "        anomalies = anomalies.fillna(0)\n",
    "        # l = list(map(lambda a: get_anomalies_in_day(anomalies, a), self.tl))\n",
    "        l = []\n",
    "        for i in self.tl:\n",
    "            anomalies_idxes = anomalies['days'] == i\n",
    "            n = anomalies_idxes.sum()\n",
    "            l.append(anomalies[anomalies_idxes].drop('days', axis=1).sum(axis=0) / n)\n",
    "        anomalies = pd.concat(l, axis=1).T\n",
    "        uc = anomalies.columns.isin(ColumnsInfo.usefull_events)\n",
    "        history_of_events = anomalies.loc[:,~uc]\n",
    "        anomalies = anomalies.loc[:,uc]\n",
    "        building_info = building_info.drop('UNOM', axis=1)\n",
    "        # return building_info, history_of_events, anomalies\n",
    "        if building_info.shape[0] != 0:\n",
    "            bi = building_info.drop_duplicates()\n",
    "            bi = T.from_numpy(bi.iloc[0].values).squeeze()\n",
    "        else:\n",
    "            bi = T.zeros(18)   \n",
    "        if bi.shape[0] == 0:\n",
    "            bi = T.zeros(18) \n",
    "\n",
    "        return bi, T.from_numpy(history_of_events.fillna(-1).values), T.from_numpy(anomalies.values > 0)\n",
    "        "
   ]
  },
  {
   "cell_type": "markdown",
   "metadata": {},
   "source": [
    "# Naive model 1"
   ]
  },
  {
   "cell_type": "code",
   "execution_count": 63,
   "metadata": {},
   "outputs": [],
   "source": [
    "d = DataSetForDayAnomalyPredictionForNN(\n",
    "    anomalies_ts=anomalies_ts,\n",
    "    weather_ts=weather_ts,\n",
    "    buildings_df=buildings_df\n",
    ")\n",
    "n = 0\n",
    "\n",
    "dl = DataLoader(d, batch_size=32, shuffle=True)\n"
   ]
  },
  {
   "cell_type": "code",
   "execution_count": 64,
   "metadata": {},
   "outputs": [
    {
     "data": {
      "text/plain": [
       "4509"
      ]
     },
     "execution_count": 64,
     "metadata": {},
     "output_type": "execute_result"
    }
   ],
   "source": [
    "len(d)"
   ]
  },
  {
   "cell_type": "code",
   "execution_count": 65,
   "metadata": {},
   "outputs": [
    {
     "data": {
      "text/plain": [
       "tensor([ 0.7492,  0.2474, -1.0000,  0.0000,  0.0899,  0.0000,  0.2143,  0.1600,\n",
       "         0.8571,  0.1429,  0.1053,  0.0787,  0.0704,  0.0000,  0.0000,  0.0100,\n",
       "         0.0000,  0.1600], dtype=torch.float64)"
      ]
     },
     "execution_count": 65,
     "metadata": {},
     "output_type": "execute_result"
    }
   ],
   "source": [
    "d[31][0]"
   ]
  },
  {
   "cell_type": "code",
   "execution_count": 67,
   "metadata": {},
   "outputs": [
    {
     "name": "stdout",
     "output_type": "stream",
     "text": [
      "torch.Size([18]) torch.Size([213, 15]) torch.Size([213, 12])\n"
     ]
    }
   ],
   "source": [
    "n = 6\n",
    "print(d[n][0].shape, d[n][1].shape, d[n][2].shape)"
   ]
  },
  {
   "cell_type": "code",
   "execution_count": 68,
   "metadata": {},
   "outputs": [
    {
     "data": {
      "text/plain": [
       "torch.Size([18])"
      ]
     },
     "execution_count": 68,
     "metadata": {},
     "output_type": "execute_result"
    }
   ],
   "source": [
    "d[0][0].shape"
   ]
  },
  {
   "cell_type": "code",
   "execution_count": 69,
   "metadata": {},
   "outputs": [
    {
     "data": {
      "text/plain": [
       "torch.Size([18])"
      ]
     },
     "execution_count": 69,
     "metadata": {},
     "output_type": "execute_result"
    }
   ],
   "source": [
    "d[14][0].shape"
   ]
  },
  {
   "cell_type": "code",
   "execution_count": 70,
   "metadata": {},
   "outputs": [],
   "source": [
    "x1,x2,yt = next(iter(dl))"
   ]
  },
  {
   "cell_type": "code",
   "execution_count": 71,
   "metadata": {},
   "outputs": [],
   "source": [
    "class AnomalyDayModelTSEncoderConved(nn.Module):\n",
    "    def __init__(self):\n",
    "        super().__init__()\n",
    "        self.m = nn.Sequential(\n",
    "            nn.Conv2d(in_channels=1, out_channels=8, kernel_size=(3, 2), padding=2),\n",
    "            nn.AvgPool2d(kernel_size=(2, 2)),\n",
    "            nn.Conv2d(in_channels=8, out_channels=16, kernel_size=(3, 3), padding=2),\n",
    "            nn.MaxPool2d(kernel_size=(2, 1)),\n",
    "            nn.Conv2d(in_channels=16, out_channels=32, kernel_size=(3, 3), padding=2),\n",
    "            nn.AvgPool2d(kernel_size=(2, 1)),\n",
    "            nn.Conv2d(in_channels=32, out_channels=64, kernel_size=(3, 3), padding=2),\n",
    "            nn.AvgPool2d(kernel_size=(2, 1)),\n",
    "            nn.Conv2d(in_channels=64, out_channels=128, kernel_size=(3, 3), padding=2),\n",
    "            nn.MaxPool2d(kernel_size=(3, 3)),\n",
    "            nn.Conv2d(in_channels=128, out_channels=256, kernel_size=(3, 3), padding=1),\n",
    "            nn.AvgPool2d(kernel_size=(3, 3)),\n",
    "            nn.Flatten(1),\n",
    "        )\n",
    "    \n",
    "    def forward(self, x):\n",
    "        return ff.tanh(self.m(x))"
   ]
  },
  {
   "cell_type": "code",
   "execution_count": 72,
   "metadata": {},
   "outputs": [],
   "source": [
    "def init_weights(m):\n",
    "    try:\n",
    "        nn.init.kaiming_normal_(m.weight)\n",
    "        m.bias.data.fill_(0.01)\n",
    "    except:\n",
    "        pass"
   ]
  },
  {
   "cell_type": "code",
   "execution_count": 73,
   "metadata": {},
   "outputs": [
    {
     "data": {
      "text/plain": [
       "torch.Size([32, 256])"
      ]
     },
     "execution_count": 73,
     "metadata": {},
     "output_type": "execute_result"
    }
   ],
   "source": [
    "p = AnomalyDayModelTSEncoderConved().apply(init_weights)(x2.float().unsqueeze(1))\n",
    "p.shape"
   ]
  },
  {
   "cell_type": "code",
   "execution_count": 74,
   "metadata": {},
   "outputs": [],
   "source": [
    "class AnomalyDayModelTSEncoderRecur(nn.Module):\n",
    "    def __init__(self):\n",
    "        super().__init__()\n",
    "        self.rnn1 = nn.LSTM(15, 5, 2, bidirectional=True, batch_first=True)\n",
    "        self.rnn2 = nn.LSTM(10, 2, 2, bidirectional=True, batch_first=True)\n",
    "        self.rnn3 = nn.LSTM(4, 1, 2, bidirectional=True, batch_first=True)\n",
    "        self.conv = nn.Conv1d(2, out_channels=1, kernel_size=2)\n",
    "        self.line = nn.Linear(212, 256)\n",
    "    \n",
    "    def forward(self, x):\n",
    "        x_1, (h_, c_) =  self.rnn1(x)\n",
    "        h_1 = nn.MaxPool1d(2)(h_)\n",
    "        c_1 = nn.MaxPool1d(2)(c_)\n",
    "        x_2, (h__, c__) = self.rnn2(x_1, (h_1, c_1))\n",
    "        h_2 = nn.MaxPool1d(2)(h__)\n",
    "        c_2 = nn.MaxPool1d(2)(c__)\n",
    "        x3, (h____, c____) = self.rnn3(x_2, (h_2, c_2))\n",
    "        x4 = self.conv(x3.transpose(1, 2)).squeeze(1)\n",
    "        x5 = self.line(x4)\n",
    "        return ff.tanh(x5)"
   ]
  },
  {
   "cell_type": "code",
   "execution_count": 75,
   "metadata": {},
   "outputs": [
    {
     "data": {
      "text/plain": [
       "torch.Size([32, 256])"
      ]
     },
     "execution_count": 75,
     "metadata": {},
     "output_type": "execute_result"
    }
   ],
   "source": [
    "p = AnomalyDayModelTSEncoderRecur().apply(init_weights)(x2.float())\n",
    "p.shape"
   ]
  },
  {
   "cell_type": "code",
   "execution_count": 78,
   "metadata": {},
   "outputs": [],
   "source": [
    "class AnomalyDayModelBuildingEncoder(nn.Module):\n",
    "    def __init__(self):\n",
    "        super().__init__()\n",
    "        self.line = nn.Sequential(\n",
    "            nn.Linear(18, 32),\n",
    "            nn.Tanh(),\n",
    "            nn.Linear(32, 64),\n",
    "            nn.Tanh(),\n",
    "            nn.Linear(64, 128),\n",
    "            nn.Tanh(),\n",
    "            nn.Linear(128, 256),\n",
    "            nn.Tanh(),\n",
    "        )\n",
    "    def forward(self, x):\n",
    "        return self.line(x)"
   ]
  },
  {
   "cell_type": "code",
   "execution_count": 79,
   "metadata": {},
   "outputs": [
    {
     "data": {
      "text/plain": [
       "torch.Size([32, 256])"
      ]
     },
     "execution_count": 79,
     "metadata": {},
     "output_type": "execute_result"
    }
   ],
   "source": [
    "AnomalyDayModelBuildingEncoder()(x1.float()).shape"
   ]
  },
  {
   "cell_type": "code",
   "execution_count": 80,
   "metadata": {},
   "outputs": [],
   "source": [
    "class AnomalyDayModelIsAnomalyDay(nn.Module):\n",
    "    def __init__(self):\n",
    "        super().__init__()\n",
    "        self.line = nn.Sequential(\n",
    "            nn.Linear(256*2, 512),\n",
    "            nn.Tanh(),\n",
    "            nn.Linear(512, 312),\n",
    "            nn.Tanh(),\n",
    "            nn.Linear(312, 213)\n",
    "        )\n",
    "    def forward(self, x):\n",
    "        return ff.sigmoid(self.line(x))"
   ]
  },
  {
   "cell_type": "code",
   "execution_count": 81,
   "metadata": {},
   "outputs": [
    {
     "data": {
      "text/plain": [
       "torch.Size([32, 213])"
      ]
     },
     "execution_count": 81,
     "metadata": {},
     "output_type": "execute_result"
    }
   ],
   "source": [
    "AnomalyDayModelIsAnomalyDay()(T.randn(32, 256*2)).shape"
   ]
  },
  {
   "cell_type": "code",
   "execution_count": 82,
   "metadata": {},
   "outputs": [],
   "source": [
    "class IsAnomalyDayModel(nn.Module):\n",
    "    def __init__(self, \n",
    "        encoder_ts_1: AnomalyDayModelTSEncoderConved, \n",
    "        # encoder_ts_2: AnomalyDayModelTSEncoderRecur, \n",
    "        encoder_buildings: AnomalyDayModelBuildingEncoder,\n",
    "        predictor: AnomalyDayModelIsAnomalyDay\n",
    "    ):\n",
    "        super().__init__()\n",
    "        self.encoder_ts_1 = encoder_ts_1\n",
    "        # self.encoder_ts_2 =  encoder_ts_2\n",
    "        self.encoder_buildings = encoder_buildings\n",
    "        self.predictor = predictor\n",
    "    \n",
    "    def forward(self, x_ts, x_b):\n",
    "        x_ts_1 = self.encoder_ts_1(x_ts.unsqueeze(1))\n",
    "        # x_ts_2 = self.encoder_ts_2(x_ts)\n",
    "        x_bd = self.encoder_buildings(x_b)\n",
    "        x_e = T.cat([\n",
    "            x_ts_1, \n",
    "            # x_ts_2, \n",
    "            x_bd\n",
    "        ], axis=1)\n",
    "        p = self.predictor(x_e)\n",
    "        return p"
   ]
  },
  {
   "cell_type": "code",
   "execution_count": 83,
   "metadata": {},
   "outputs": [],
   "source": [
    "class AnomalyDayModelWhatAnomalyDay(nn.Module):\n",
    "    def __init__(self):\n",
    "        super().__init__()\n",
    "        self.rnn1 = nn.LSTM(34, 10, 8, bidirectional=True, batch_first=True)\n",
    "        self.conv1_h = nn.Conv1d(in_channels=16, out_channels=12, kernel_size=3,  padding=0)\n",
    "        self.conv1_c = nn.Conv1d(in_channels=16, out_channels=12, kernel_size=3,  padding=0)\n",
    "        self.rnn2 = nn.LSTM(20, 8, 6, bidirectional=True, batch_first=True)\n",
    "        self.conv2_h = nn.Conv1d(in_channels=12, out_channels=8, kernel_size=3,  padding=0)\n",
    "        self.conv2_c = nn.Conv1d(in_channels=12, out_channels=8, kernel_size=3,  padding=0)\n",
    "        self.rnn3 = nn.LSTM(16, 6, 4, bidirectional=True, batch_first=True)\n",
    "    def forward(self, x):\n",
    "        x1, (h1, c1) = self.rnn1(x)\n",
    "        h1_p = self.conv1_h(h1.transpose(0, 1)).transpose(0, 1)\n",
    "        c1_p = self.conv1_c(c1.transpose(0, 1)).transpose(0, 1)\n",
    "        x2, (h2, c2) = self.rnn2(x1, (h1_p, c1_p))\n",
    "        h2_p = self.conv2_h(h2.transpose(0, 1)).transpose(0, 1)\n",
    "        c2_p = self.conv2_c(c2.transpose(0, 1)).transpose(0, 1)\n",
    "        x3, (_, _) =  self.rnn3(x2, (h2_p, c2_p))\n",
    "        return ff.sigmoid(x3)"
   ]
  },
  {
   "cell_type": "code",
   "execution_count": 84,
   "metadata": {},
   "outputs": [],
   "source": [
    "def process_data_to_model_bin(x1, x2, device=device):\n",
    "    return x1.float().to(device), x2.float().to(device)\n",
    "\n",
    "\n",
    "def process_data_to_model_cluster(x1, x2, device=device):\n",
    "    return T.cat([x1.unsqueeze(1).repeat([1, 213, 1]), x2], axis=2).float().to(device)"
   ]
  },
  {
   "cell_type": "code",
   "execution_count": 89,
   "metadata": {},
   "outputs": [],
   "source": [
    "encoder_ts_1 = AnomalyDayModelTSEncoderConved().apply(init_weights).to(device)\n",
    "# encoder_ts_2 = AnomalyDayModelTSEncoderRecur().apply(init_weights).to(device)\n",
    "encoder_buildings = AnomalyDayModelBuildingEncoder().apply(init_weights).to(device)\n",
    "predictor = AnomalyDayModelIsAnomalyDay().apply(init_weights).to(device)"
   ]
  },
  {
   "cell_type": "code",
   "execution_count": 91,
   "metadata": {},
   "outputs": [
    {
     "data": {
      "text/plain": [
       "torch.Size([32, 213])"
      ]
     },
     "execution_count": 91,
     "metadata": {},
     "output_type": "execute_result"
    }
   ],
   "source": [
    "is_anomaly_day_model = IsAnomalyDayModel(\n",
    "    encoder_ts_1, \n",
    "    # encoder_ts_2, \n",
    "    encoder_buildings, \n",
    "    predictor\n",
    ").to(device)\n",
    "p = is_anomaly_day_model(x2.float().to(device), x1.float().to(device))\n",
    "p.shape"
   ]
  },
  {
   "cell_type": "code",
   "execution_count": 87,
   "metadata": {},
   "outputs": [],
   "source": [
    "what_anomaly_day_model = AnomalyDayModelWhatAnomalyDay()\n",
    "p = what_anomaly_day_model(process_data_to_model_cluster(x1, x2, 'cpu'))"
   ]
  },
  {
   "cell_type": "code",
   "execution_count": 88,
   "metadata": {},
   "outputs": [
    {
     "data": {
      "text/plain": [
       "tensor(-0.0002, grad_fn=<SumBackward0>)"
      ]
     },
     "execution_count": 88,
     "metadata": {},
     "output_type": "execute_result"
    }
   ],
   "source": [
    "(p[0] - p[20]).sum()"
   ]
  },
  {
   "cell_type": "code",
   "execution_count": 93,
   "metadata": {},
   "outputs": [],
   "source": [
    "m1 = is_anomaly_day_model.to(device)\n",
    "m2 = what_anomaly_day_model.to(device)"
   ]
  },
  {
   "cell_type": "code",
   "execution_count": 94,
   "metadata": {},
   "outputs": [],
   "source": [
    "loss_fun = nn.MSELoss()\n",
    "optimizer1 = T.optim.Adam(m1.parameters(), lr=0.003)\n",
    "optimizer2 = T.optim.Adam(m2.parameters(), lr=0.003) "
   ]
  },
  {
   "cell_type": "code",
   "execution_count": 95,
   "metadata": {},
   "outputs": [
    {
     "data": {
      "text/plain": [
       "torch.Size([32, 213])"
      ]
     },
     "execution_count": 95,
     "metadata": {},
     "output_type": "execute_result"
    }
   ],
   "source": [
    "yt.sum(dim=2).shape"
   ]
  },
  {
   "cell_type": "code",
   "execution_count": 96,
   "metadata": {},
   "outputs": [],
   "source": [
    "import matplotlib.pyplot as plt"
   ]
  },
  {
   "cell_type": "code",
   "execution_count": 97,
   "metadata": {},
   "outputs": [
    {
     "name": "stderr",
     "output_type": "stream",
     "text": [
      "100%|██████████| 141/141 [54:16<00:00, 23.09s/it]\n"
     ]
    },
    {
     "name": "stdout",
     "output_type": "stream",
     "text": [
      "0 0.28784218515064697 0.2839384078979492\n"
     ]
    },
    {
     "name": "stderr",
     "output_type": "stream",
     "text": [
      " 46%|████▌     | 65/141 [25:38<29:59, 23.67s/it]\n"
     ]
    },
    {
     "ename": "KeyboardInterrupt",
     "evalue": "",
     "output_type": "error",
     "traceback": [
      "\u001b[0;31m---------------------------------------------------------------------------\u001b[0m",
      "\u001b[0;31mKeyboardInterrupt\u001b[0m                         Traceback (most recent call last)",
      "Cell \u001b[0;32mIn[97], line 4\u001b[0m\n\u001b[1;32m      2\u001b[0m \u001b[38;5;28;01mfor\u001b[39;00m e \u001b[38;5;129;01min\u001b[39;00m \u001b[38;5;28mrange\u001b[39m(\u001b[38;5;241m3\u001b[39m):\n\u001b[1;32m      3\u001b[0m     k \u001b[38;5;241m=\u001b[39m \u001b[38;5;241m0\u001b[39m\n\u001b[0;32m----> 4\u001b[0m \u001b[43m    \u001b[49m\u001b[38;5;28;43;01mfor\u001b[39;49;00m\u001b[43m \u001b[49m\u001b[43mx1\u001b[49m\u001b[43m,\u001b[49m\u001b[43m \u001b[49m\u001b[43mx2\u001b[49m\u001b[43m,\u001b[49m\u001b[43m \u001b[49m\u001b[43myt\u001b[49m\u001b[43m \u001b[49m\u001b[38;5;129;43;01min\u001b[39;49;00m\u001b[43m \u001b[49m\u001b[43mtqdm\u001b[49m\u001b[43m(\u001b[49m\u001b[43mdl\u001b[49m\u001b[43m)\u001b[49m\u001b[43m:\u001b[49m\n\u001b[1;32m      5\u001b[0m \u001b[43m        \u001b[49m\u001b[43mx_proc_1\u001b[49m\u001b[43m,\u001b[49m\u001b[43m \u001b[49m\u001b[43mx_proc_2\u001b[49m\u001b[43m \u001b[49m\u001b[38;5;241;43m=\u001b[39;49m\u001b[43m \u001b[49m\u001b[43mprocess_data_to_model_bin\u001b[49m\u001b[43m(\u001b[49m\u001b[43mx1\u001b[49m\u001b[43m,\u001b[49m\u001b[43m \u001b[49m\u001b[43mx2\u001b[49m\u001b[43m)\u001b[49m\n\u001b[1;32m      6\u001b[0m \u001b[43m        \u001b[49m\u001b[43mp\u001b[49m\u001b[43m \u001b[49m\u001b[38;5;241;43m=\u001b[39;49m\u001b[43m \u001b[49m\u001b[43mm1\u001b[49m\u001b[43m(\u001b[49m\u001b[43mx_proc_2\u001b[49m\u001b[43m,\u001b[49m\u001b[43m \u001b[49m\u001b[43mx_proc_1\u001b[49m\u001b[43m)\u001b[49m\n",
      "File \u001b[0;32m~/6semak/LDB_Summer_Moscow_2024__Task_10/venv/lib/python3.12/site-packages/tqdm/std.py:1181\u001b[0m, in \u001b[0;36mtqdm.__iter__\u001b[0;34m(self)\u001b[0m\n\u001b[1;32m   1178\u001b[0m time \u001b[38;5;241m=\u001b[39m \u001b[38;5;28mself\u001b[39m\u001b[38;5;241m.\u001b[39m_time\n\u001b[1;32m   1180\u001b[0m \u001b[38;5;28;01mtry\u001b[39;00m:\n\u001b[0;32m-> 1181\u001b[0m \u001b[43m    \u001b[49m\u001b[38;5;28;43;01mfor\u001b[39;49;00m\u001b[43m \u001b[49m\u001b[43mobj\u001b[49m\u001b[43m \u001b[49m\u001b[38;5;129;43;01min\u001b[39;49;00m\u001b[43m \u001b[49m\u001b[43miterable\u001b[49m\u001b[43m:\u001b[49m\n\u001b[1;32m   1182\u001b[0m \u001b[43m        \u001b[49m\u001b[38;5;28;43;01myield\u001b[39;49;00m\u001b[43m \u001b[49m\u001b[43mobj\u001b[49m\n\u001b[1;32m   1183\u001b[0m \u001b[43m        \u001b[49m\u001b[38;5;66;43;03m# Update and possibly print the progressbar.\u001b[39;49;00m\n\u001b[1;32m   1184\u001b[0m \u001b[43m        \u001b[49m\u001b[38;5;66;43;03m# Note: does not call self.update(1) for speed optimisation.\u001b[39;49;00m\n",
      "File \u001b[0;32m~/6semak/LDB_Summer_Moscow_2024__Task_10/venv/lib/python3.12/site-packages/torch/utils/data/dataloader.py:631\u001b[0m, in \u001b[0;36m_BaseDataLoaderIter.__next__\u001b[0;34m(self)\u001b[0m\n\u001b[1;32m    628\u001b[0m \u001b[38;5;28;01mif\u001b[39;00m \u001b[38;5;28mself\u001b[39m\u001b[38;5;241m.\u001b[39m_sampler_iter \u001b[38;5;129;01mis\u001b[39;00m \u001b[38;5;28;01mNone\u001b[39;00m:\n\u001b[1;32m    629\u001b[0m     \u001b[38;5;66;03m# TODO(https://github.com/pytorch/pytorch/issues/76750)\u001b[39;00m\n\u001b[1;32m    630\u001b[0m     \u001b[38;5;28mself\u001b[39m\u001b[38;5;241m.\u001b[39m_reset()  \u001b[38;5;66;03m# type: ignore[call-arg]\u001b[39;00m\n\u001b[0;32m--> 631\u001b[0m data \u001b[38;5;241m=\u001b[39m \u001b[38;5;28;43mself\u001b[39;49m\u001b[38;5;241;43m.\u001b[39;49m\u001b[43m_next_data\u001b[49m\u001b[43m(\u001b[49m\u001b[43m)\u001b[49m\n\u001b[1;32m    632\u001b[0m \u001b[38;5;28mself\u001b[39m\u001b[38;5;241m.\u001b[39m_num_yielded \u001b[38;5;241m+\u001b[39m\u001b[38;5;241m=\u001b[39m \u001b[38;5;241m1\u001b[39m\n\u001b[1;32m    633\u001b[0m \u001b[38;5;28;01mif\u001b[39;00m \u001b[38;5;28mself\u001b[39m\u001b[38;5;241m.\u001b[39m_dataset_kind \u001b[38;5;241m==\u001b[39m _DatasetKind\u001b[38;5;241m.\u001b[39mIterable \u001b[38;5;129;01mand\u001b[39;00m \\\n\u001b[1;32m    634\u001b[0m         \u001b[38;5;28mself\u001b[39m\u001b[38;5;241m.\u001b[39m_IterableDataset_len_called \u001b[38;5;129;01mis\u001b[39;00m \u001b[38;5;129;01mnot\u001b[39;00m \u001b[38;5;28;01mNone\u001b[39;00m \u001b[38;5;129;01mand\u001b[39;00m \\\n\u001b[1;32m    635\u001b[0m         \u001b[38;5;28mself\u001b[39m\u001b[38;5;241m.\u001b[39m_num_yielded \u001b[38;5;241m>\u001b[39m \u001b[38;5;28mself\u001b[39m\u001b[38;5;241m.\u001b[39m_IterableDataset_len_called:\n",
      "File \u001b[0;32m~/6semak/LDB_Summer_Moscow_2024__Task_10/venv/lib/python3.12/site-packages/torch/utils/data/dataloader.py:675\u001b[0m, in \u001b[0;36m_SingleProcessDataLoaderIter._next_data\u001b[0;34m(self)\u001b[0m\n\u001b[1;32m    673\u001b[0m \u001b[38;5;28;01mdef\u001b[39;00m \u001b[38;5;21m_next_data\u001b[39m(\u001b[38;5;28mself\u001b[39m):\n\u001b[1;32m    674\u001b[0m     index \u001b[38;5;241m=\u001b[39m \u001b[38;5;28mself\u001b[39m\u001b[38;5;241m.\u001b[39m_next_index()  \u001b[38;5;66;03m# may raise StopIteration\u001b[39;00m\n\u001b[0;32m--> 675\u001b[0m     data \u001b[38;5;241m=\u001b[39m \u001b[38;5;28;43mself\u001b[39;49m\u001b[38;5;241;43m.\u001b[39;49m\u001b[43m_dataset_fetcher\u001b[49m\u001b[38;5;241;43m.\u001b[39;49m\u001b[43mfetch\u001b[49m\u001b[43m(\u001b[49m\u001b[43mindex\u001b[49m\u001b[43m)\u001b[49m  \u001b[38;5;66;03m# may raise StopIteration\u001b[39;00m\n\u001b[1;32m    676\u001b[0m     \u001b[38;5;28;01mif\u001b[39;00m \u001b[38;5;28mself\u001b[39m\u001b[38;5;241m.\u001b[39m_pin_memory:\n\u001b[1;32m    677\u001b[0m         data \u001b[38;5;241m=\u001b[39m _utils\u001b[38;5;241m.\u001b[39mpin_memory\u001b[38;5;241m.\u001b[39mpin_memory(data, \u001b[38;5;28mself\u001b[39m\u001b[38;5;241m.\u001b[39m_pin_memory_device)\n",
      "File \u001b[0;32m~/6semak/LDB_Summer_Moscow_2024__Task_10/venv/lib/python3.12/site-packages/torch/utils/data/_utils/fetch.py:51\u001b[0m, in \u001b[0;36m_MapDatasetFetcher.fetch\u001b[0;34m(self, possibly_batched_index)\u001b[0m\n\u001b[1;32m     49\u001b[0m         data \u001b[38;5;241m=\u001b[39m \u001b[38;5;28mself\u001b[39m\u001b[38;5;241m.\u001b[39mdataset\u001b[38;5;241m.\u001b[39m__getitems__(possibly_batched_index)\n\u001b[1;32m     50\u001b[0m     \u001b[38;5;28;01melse\u001b[39;00m:\n\u001b[0;32m---> 51\u001b[0m         data \u001b[38;5;241m=\u001b[39m [\u001b[38;5;28;43mself\u001b[39;49m\u001b[38;5;241;43m.\u001b[39;49m\u001b[43mdataset\u001b[49m\u001b[43m[\u001b[49m\u001b[43midx\u001b[49m\u001b[43m]\u001b[49m \u001b[38;5;28;01mfor\u001b[39;00m idx \u001b[38;5;129;01min\u001b[39;00m possibly_batched_index]\n\u001b[1;32m     52\u001b[0m \u001b[38;5;28;01melse\u001b[39;00m:\n\u001b[1;32m     53\u001b[0m     data \u001b[38;5;241m=\u001b[39m \u001b[38;5;28mself\u001b[39m\u001b[38;5;241m.\u001b[39mdataset[possibly_batched_index]\n",
      "Cell \u001b[0;32mIn[62], line 35\u001b[0m, in \u001b[0;36mDataSetForDayAnomalyPredictionForNN.__getitem__\u001b[0;34m(self, idx)\u001b[0m\n\u001b[1;32m     33\u001b[0m     anomalies_idxes \u001b[38;5;241m=\u001b[39m anomalies[\u001b[38;5;124m'\u001b[39m\u001b[38;5;124mdays\u001b[39m\u001b[38;5;124m'\u001b[39m] \u001b[38;5;241m==\u001b[39m i\n\u001b[1;32m     34\u001b[0m     n \u001b[38;5;241m=\u001b[39m anomalies_idxes\u001b[38;5;241m.\u001b[39msum()\n\u001b[0;32m---> 35\u001b[0m     l\u001b[38;5;241m.\u001b[39mappend(\u001b[43manomalies\u001b[49m\u001b[43m[\u001b[49m\u001b[43manomalies_idxes\u001b[49m\u001b[43m]\u001b[49m\u001b[38;5;241;43m.\u001b[39;49m\u001b[43mdrop\u001b[49m\u001b[43m(\u001b[49m\u001b[38;5;124;43m'\u001b[39;49m\u001b[38;5;124;43mdays\u001b[39;49m\u001b[38;5;124;43m'\u001b[39;49m\u001b[43m,\u001b[49m\u001b[43m \u001b[49m\u001b[43maxis\u001b[49m\u001b[38;5;241;43m=\u001b[39;49m\u001b[38;5;241;43m1\u001b[39;49m\u001b[43m)\u001b[49m\u001b[38;5;241m.\u001b[39msum(axis\u001b[38;5;241m=\u001b[39m\u001b[38;5;241m0\u001b[39m) \u001b[38;5;241m/\u001b[39m n)\n\u001b[1;32m     36\u001b[0m anomalies \u001b[38;5;241m=\u001b[39m pd\u001b[38;5;241m.\u001b[39mconcat(l, axis\u001b[38;5;241m=\u001b[39m\u001b[38;5;241m1\u001b[39m)\u001b[38;5;241m.\u001b[39mT\n\u001b[1;32m     37\u001b[0m uc \u001b[38;5;241m=\u001b[39m anomalies\u001b[38;5;241m.\u001b[39mcolumns\u001b[38;5;241m.\u001b[39misin(ColumnsInfo\u001b[38;5;241m.\u001b[39musefull_events)\n",
      "File \u001b[0;32m~/6semak/LDB_Summer_Moscow_2024__Task_10/venv/lib/python3.12/site-packages/pandas/core/frame.py:5581\u001b[0m, in \u001b[0;36mDataFrame.drop\u001b[0;34m(self, labels, axis, index, columns, level, inplace, errors)\u001b[0m\n\u001b[1;32m   5433\u001b[0m \u001b[38;5;28;01mdef\u001b[39;00m \u001b[38;5;21mdrop\u001b[39m(\n\u001b[1;32m   5434\u001b[0m     \u001b[38;5;28mself\u001b[39m,\n\u001b[1;32m   5435\u001b[0m     labels: IndexLabel \u001b[38;5;241m|\u001b[39m \u001b[38;5;28;01mNone\u001b[39;00m \u001b[38;5;241m=\u001b[39m \u001b[38;5;28;01mNone\u001b[39;00m,\n\u001b[0;32m   (...)\u001b[0m\n\u001b[1;32m   5442\u001b[0m     errors: IgnoreRaise \u001b[38;5;241m=\u001b[39m \u001b[38;5;124m\"\u001b[39m\u001b[38;5;124mraise\u001b[39m\u001b[38;5;124m\"\u001b[39m,\n\u001b[1;32m   5443\u001b[0m ) \u001b[38;5;241m-\u001b[39m\u001b[38;5;241m>\u001b[39m DataFrame \u001b[38;5;241m|\u001b[39m \u001b[38;5;28;01mNone\u001b[39;00m:\n\u001b[1;32m   5444\u001b[0m \u001b[38;5;250m    \u001b[39m\u001b[38;5;124;03m\"\"\"\u001b[39;00m\n\u001b[1;32m   5445\u001b[0m \u001b[38;5;124;03m    Drop specified labels from rows or columns.\u001b[39;00m\n\u001b[1;32m   5446\u001b[0m \n\u001b[0;32m   (...)\u001b[0m\n\u001b[1;32m   5579\u001b[0m \u001b[38;5;124;03m            weight  1.0     0.8\u001b[39;00m\n\u001b[1;32m   5580\u001b[0m \u001b[38;5;124;03m    \"\"\"\u001b[39;00m\n\u001b[0;32m-> 5581\u001b[0m     \u001b[38;5;28;01mreturn\u001b[39;00m \u001b[38;5;28;43msuper\u001b[39;49m\u001b[43m(\u001b[49m\u001b[43m)\u001b[49m\u001b[38;5;241;43m.\u001b[39;49m\u001b[43mdrop\u001b[49m\u001b[43m(\u001b[49m\n\u001b[1;32m   5582\u001b[0m \u001b[43m        \u001b[49m\u001b[43mlabels\u001b[49m\u001b[38;5;241;43m=\u001b[39;49m\u001b[43mlabels\u001b[49m\u001b[43m,\u001b[49m\n\u001b[1;32m   5583\u001b[0m \u001b[43m        \u001b[49m\u001b[43maxis\u001b[49m\u001b[38;5;241;43m=\u001b[39;49m\u001b[43maxis\u001b[49m\u001b[43m,\u001b[49m\n\u001b[1;32m   5584\u001b[0m \u001b[43m        \u001b[49m\u001b[43mindex\u001b[49m\u001b[38;5;241;43m=\u001b[39;49m\u001b[43mindex\u001b[49m\u001b[43m,\u001b[49m\n\u001b[1;32m   5585\u001b[0m \u001b[43m        \u001b[49m\u001b[43mcolumns\u001b[49m\u001b[38;5;241;43m=\u001b[39;49m\u001b[43mcolumns\u001b[49m\u001b[43m,\u001b[49m\n\u001b[1;32m   5586\u001b[0m \u001b[43m        \u001b[49m\u001b[43mlevel\u001b[49m\u001b[38;5;241;43m=\u001b[39;49m\u001b[43mlevel\u001b[49m\u001b[43m,\u001b[49m\n\u001b[1;32m   5587\u001b[0m \u001b[43m        \u001b[49m\u001b[43minplace\u001b[49m\u001b[38;5;241;43m=\u001b[39;49m\u001b[43minplace\u001b[49m\u001b[43m,\u001b[49m\n\u001b[1;32m   5588\u001b[0m \u001b[43m        \u001b[49m\u001b[43merrors\u001b[49m\u001b[38;5;241;43m=\u001b[39;49m\u001b[43merrors\u001b[49m\u001b[43m,\u001b[49m\n\u001b[1;32m   5589\u001b[0m \u001b[43m    \u001b[49m\u001b[43m)\u001b[49m\n",
      "File \u001b[0;32m~/6semak/LDB_Summer_Moscow_2024__Task_10/venv/lib/python3.12/site-packages/pandas/core/generic.py:4788\u001b[0m, in \u001b[0;36mNDFrame.drop\u001b[0;34m(self, labels, axis, index, columns, level, inplace, errors)\u001b[0m\n\u001b[1;32m   4786\u001b[0m \u001b[38;5;28;01mfor\u001b[39;00m axis, labels \u001b[38;5;129;01min\u001b[39;00m axes\u001b[38;5;241m.\u001b[39mitems():\n\u001b[1;32m   4787\u001b[0m     \u001b[38;5;28;01mif\u001b[39;00m labels \u001b[38;5;129;01mis\u001b[39;00m \u001b[38;5;129;01mnot\u001b[39;00m \u001b[38;5;28;01mNone\u001b[39;00m:\n\u001b[0;32m-> 4788\u001b[0m         obj \u001b[38;5;241m=\u001b[39m \u001b[43mobj\u001b[49m\u001b[38;5;241;43m.\u001b[39;49m\u001b[43m_drop_axis\u001b[49m\u001b[43m(\u001b[49m\u001b[43mlabels\u001b[49m\u001b[43m,\u001b[49m\u001b[43m \u001b[49m\u001b[43maxis\u001b[49m\u001b[43m,\u001b[49m\u001b[43m \u001b[49m\u001b[43mlevel\u001b[49m\u001b[38;5;241;43m=\u001b[39;49m\u001b[43mlevel\u001b[49m\u001b[43m,\u001b[49m\u001b[43m \u001b[49m\u001b[43merrors\u001b[49m\u001b[38;5;241;43m=\u001b[39;49m\u001b[43merrors\u001b[49m\u001b[43m)\u001b[49m\n\u001b[1;32m   4790\u001b[0m \u001b[38;5;28;01mif\u001b[39;00m inplace:\n\u001b[1;32m   4791\u001b[0m     \u001b[38;5;28mself\u001b[39m\u001b[38;5;241m.\u001b[39m_update_inplace(obj)\n",
      "File \u001b[0;32m~/6semak/LDB_Summer_Moscow_2024__Task_10/venv/lib/python3.12/site-packages/pandas/core/generic.py:4830\u001b[0m, in \u001b[0;36mNDFrame._drop_axis\u001b[0;34m(self, labels, axis, level, errors, only_slice)\u001b[0m\n\u001b[1;32m   4828\u001b[0m         new_axis \u001b[38;5;241m=\u001b[39m axis\u001b[38;5;241m.\u001b[39mdrop(labels, level\u001b[38;5;241m=\u001b[39mlevel, errors\u001b[38;5;241m=\u001b[39merrors)\n\u001b[1;32m   4829\u001b[0m     \u001b[38;5;28;01melse\u001b[39;00m:\n\u001b[0;32m-> 4830\u001b[0m         new_axis \u001b[38;5;241m=\u001b[39m \u001b[43maxis\u001b[49m\u001b[38;5;241;43m.\u001b[39;49m\u001b[43mdrop\u001b[49m\u001b[43m(\u001b[49m\u001b[43mlabels\u001b[49m\u001b[43m,\u001b[49m\u001b[43m \u001b[49m\u001b[43merrors\u001b[49m\u001b[38;5;241;43m=\u001b[39;49m\u001b[43merrors\u001b[49m\u001b[43m)\u001b[49m\n\u001b[1;32m   4831\u001b[0m     indexer \u001b[38;5;241m=\u001b[39m axis\u001b[38;5;241m.\u001b[39mget_indexer(new_axis)\n\u001b[1;32m   4833\u001b[0m \u001b[38;5;66;03m# Case for non-unique axis\u001b[39;00m\n\u001b[1;32m   4834\u001b[0m \u001b[38;5;28;01melse\u001b[39;00m:\n",
      "File \u001b[0;32m~/6semak/LDB_Summer_Moscow_2024__Task_10/venv/lib/python3.12/site-packages/pandas/core/indexes/base.py:7066\u001b[0m, in \u001b[0;36mIndex.drop\u001b[0;34m(self, labels, errors)\u001b[0m\n\u001b[1;32m   7063\u001b[0m     arr_dtype \u001b[38;5;241m=\u001b[39m \u001b[38;5;124m\"\u001b[39m\u001b[38;5;124mobject\u001b[39m\u001b[38;5;124m\"\u001b[39m \u001b[38;5;28;01mif\u001b[39;00m \u001b[38;5;28mself\u001b[39m\u001b[38;5;241m.\u001b[39mdtype \u001b[38;5;241m==\u001b[39m \u001b[38;5;124m\"\u001b[39m\u001b[38;5;124mobject\u001b[39m\u001b[38;5;124m\"\u001b[39m \u001b[38;5;28;01melse\u001b[39;00m \u001b[38;5;28;01mNone\u001b[39;00m\n\u001b[1;32m   7064\u001b[0m     labels \u001b[38;5;241m=\u001b[39m com\u001b[38;5;241m.\u001b[39mindex_labels_to_array(labels, dtype\u001b[38;5;241m=\u001b[39marr_dtype)\n\u001b[0;32m-> 7066\u001b[0m indexer \u001b[38;5;241m=\u001b[39m \u001b[38;5;28;43mself\u001b[39;49m\u001b[38;5;241;43m.\u001b[39;49m\u001b[43mget_indexer_for\u001b[49m\u001b[43m(\u001b[49m\u001b[43mlabels\u001b[49m\u001b[43m)\u001b[49m\n\u001b[1;32m   7067\u001b[0m mask \u001b[38;5;241m=\u001b[39m indexer \u001b[38;5;241m==\u001b[39m \u001b[38;5;241m-\u001b[39m\u001b[38;5;241m1\u001b[39m\n\u001b[1;32m   7068\u001b[0m \u001b[38;5;28;01mif\u001b[39;00m mask\u001b[38;5;241m.\u001b[39many():\n",
      "File \u001b[0;32m~/6semak/LDB_Summer_Moscow_2024__Task_10/venv/lib/python3.12/site-packages/pandas/core/indexes/base.py:6182\u001b[0m, in \u001b[0;36mIndex.get_indexer_for\u001b[0;34m(self, target)\u001b[0m\n\u001b[1;32m   6164\u001b[0m \u001b[38;5;250m\u001b[39m\u001b[38;5;124;03m\"\"\"\u001b[39;00m\n\u001b[1;32m   6165\u001b[0m \u001b[38;5;124;03mGuaranteed return of an indexer even when non-unique.\u001b[39;00m\n\u001b[1;32m   6166\u001b[0m \n\u001b[0;32m   (...)\u001b[0m\n\u001b[1;32m   6179\u001b[0m \u001b[38;5;124;03marray([0, 2])\u001b[39;00m\n\u001b[1;32m   6180\u001b[0m \u001b[38;5;124;03m\"\"\"\u001b[39;00m\n\u001b[1;32m   6181\u001b[0m \u001b[38;5;28;01mif\u001b[39;00m \u001b[38;5;28mself\u001b[39m\u001b[38;5;241m.\u001b[39m_index_as_unique:\n\u001b[0;32m-> 6182\u001b[0m     \u001b[38;5;28;01mreturn\u001b[39;00m \u001b[38;5;28;43mself\u001b[39;49m\u001b[38;5;241;43m.\u001b[39;49m\u001b[43mget_indexer\u001b[49m\u001b[43m(\u001b[49m\u001b[43mtarget\u001b[49m\u001b[43m)\u001b[49m\n\u001b[1;32m   6183\u001b[0m indexer, _ \u001b[38;5;241m=\u001b[39m \u001b[38;5;28mself\u001b[39m\u001b[38;5;241m.\u001b[39mget_indexer_non_unique(target)\n\u001b[1;32m   6184\u001b[0m \u001b[38;5;28;01mreturn\u001b[39;00m indexer\n",
      "File \u001b[0;32m~/6semak/LDB_Summer_Moscow_2024__Task_10/venv/lib/python3.12/site-packages/pandas/core/indexes/base.py:3953\u001b[0m, in \u001b[0;36mIndex.get_indexer\u001b[0;34m(self, target, method, limit, tolerance)\u001b[0m\n\u001b[1;32m   3948\u001b[0m     target \u001b[38;5;241m=\u001b[39m target\u001b[38;5;241m.\u001b[39mastype(dtype, copy\u001b[38;5;241m=\u001b[39m\u001b[38;5;28;01mFalse\u001b[39;00m)\n\u001b[1;32m   3949\u001b[0m     \u001b[38;5;28;01mreturn\u001b[39;00m this\u001b[38;5;241m.\u001b[39m_get_indexer(\n\u001b[1;32m   3950\u001b[0m         target, method\u001b[38;5;241m=\u001b[39mmethod, limit\u001b[38;5;241m=\u001b[39mlimit, tolerance\u001b[38;5;241m=\u001b[39mtolerance\n\u001b[1;32m   3951\u001b[0m     )\n\u001b[0;32m-> 3953\u001b[0m \u001b[38;5;28;01mreturn\u001b[39;00m \u001b[38;5;28;43mself\u001b[39;49m\u001b[38;5;241;43m.\u001b[39;49m\u001b[43m_get_indexer\u001b[49m\u001b[43m(\u001b[49m\u001b[43mtarget\u001b[49m\u001b[43m,\u001b[49m\u001b[43m \u001b[49m\u001b[43mmethod\u001b[49m\u001b[43m,\u001b[49m\u001b[43m \u001b[49m\u001b[43mlimit\u001b[49m\u001b[43m,\u001b[49m\u001b[43m \u001b[49m\u001b[43mtolerance\u001b[49m\u001b[43m)\u001b[49m\n",
      "File \u001b[0;32m~/6semak/LDB_Summer_Moscow_2024__Task_10/venv/lib/python3.12/site-packages/pandas/core/indexes/base.py:3978\u001b[0m, in \u001b[0;36mIndex._get_indexer\u001b[0;34m(self, target, method, limit, tolerance)\u001b[0m\n\u001b[1;32m   3974\u001b[0m         tgt_values \u001b[38;5;241m=\u001b[39m engine\u001b[38;5;241m.\u001b[39m_extract_level_codes(  \u001b[38;5;66;03m# type: ignore[union-attr]\u001b[39;00m\n\u001b[1;32m   3975\u001b[0m             target\n\u001b[1;32m   3976\u001b[0m         )\n\u001b[1;32m   3977\u001b[0m     \u001b[38;5;28;01melse\u001b[39;00m:\n\u001b[0;32m-> 3978\u001b[0m         tgt_values \u001b[38;5;241m=\u001b[39m \u001b[43mtarget\u001b[49m\u001b[38;5;241;43m.\u001b[39;49m\u001b[43m_get_engine_target\u001b[49m\u001b[43m(\u001b[49m\u001b[43m)\u001b[49m\n\u001b[1;32m   3980\u001b[0m     indexer \u001b[38;5;241m=\u001b[39m \u001b[38;5;28mself\u001b[39m\u001b[38;5;241m.\u001b[39m_engine\u001b[38;5;241m.\u001b[39mget_indexer(tgt_values)\n\u001b[1;32m   3982\u001b[0m \u001b[38;5;28;01mreturn\u001b[39;00m ensure_platform_int(indexer)\n",
      "File \u001b[0;32m~/6semak/LDB_Summer_Moscow_2024__Task_10/venv/lib/python3.12/site-packages/pandas/core/indexes/base.py:5179\u001b[0m, in \u001b[0;36mIndex._get_engine_target\u001b[0;34m(self)\u001b[0m\n\u001b[1;32m   5176\u001b[0m \u001b[38;5;28;01mif\u001b[39;00m \u001b[38;5;28misinstance\u001b[39m(vals, StringArray):\n\u001b[1;32m   5177\u001b[0m     \u001b[38;5;66;03m# GH#45652 much more performant than ExtensionEngine\u001b[39;00m\n\u001b[1;32m   5178\u001b[0m     \u001b[38;5;28;01mreturn\u001b[39;00m vals\u001b[38;5;241m.\u001b[39m_ndarray\n\u001b[0;32m-> 5179\u001b[0m \u001b[38;5;28;01mif\u001b[39;00m \u001b[38;5;28;43misinstance\u001b[39;49m\u001b[43m(\u001b[49m\u001b[43mvals\u001b[49m\u001b[43m,\u001b[49m\u001b[43m \u001b[49m\u001b[43mArrowExtensionArray\u001b[49m\u001b[43m)\u001b[49m \u001b[38;5;129;01mand\u001b[39;00m \u001b[38;5;28mself\u001b[39m\u001b[38;5;241m.\u001b[39mdtype\u001b[38;5;241m.\u001b[39mkind \u001b[38;5;129;01min\u001b[39;00m \u001b[38;5;124m\"\u001b[39m\u001b[38;5;124mMm\u001b[39m\u001b[38;5;124m\"\u001b[39m:\n\u001b[1;32m   5180\u001b[0m     \u001b[38;5;28;01mimport\u001b[39;00m \u001b[38;5;21;01mpyarrow\u001b[39;00m \u001b[38;5;28;01mas\u001b[39;00m \u001b[38;5;21;01mpa\u001b[39;00m\n\u001b[1;32m   5182\u001b[0m     pa_type \u001b[38;5;241m=\u001b[39m vals\u001b[38;5;241m.\u001b[39m_pa_array\u001b[38;5;241m.\u001b[39mtype\n",
      "File \u001b[0;32m<frozen abc>:117\u001b[0m, in \u001b[0;36m__instancecheck__\u001b[0;34m(cls, instance)\u001b[0m\n",
      "File \u001b[0;32m~/6semak/LDB_Summer_Moscow_2024__Task_10/venv/lib/python3.12/site-packages/debugpy/_vendored/pydevd/_pydevd_bundle/pydevd_trace_dispatch_regular.py:326\u001b[0m, in \u001b[0;36mThreadTracer.__call__\u001b[0;34m(self, frame, event, arg)\u001b[0m\n\u001b[1;32m    323\u001b[0m         \u001b[38;5;28mself\u001b[39m\u001b[38;5;241m.\u001b[39m_args \u001b[38;5;241m=\u001b[39m args\n\u001b[1;32m    324\u001b[0m \u001b[38;5;66;03m# ENDIF\u001b[39;00m\n\u001b[0;32m--> 326\u001b[0m     \u001b[38;5;28;01mdef\u001b[39;00m \u001b[38;5;21m__call__\u001b[39m(\u001b[38;5;28mself\u001b[39m, frame, event, arg):\n\u001b[1;32m    327\u001b[0m \u001b[38;5;250m        \u001b[39m\u001b[38;5;124;03m''' This is the callback used when we enter some context in the debugger.\u001b[39;00m\n\u001b[1;32m    328\u001b[0m \n\u001b[1;32m    329\u001b[0m \u001b[38;5;124;03m        We also decorate the thread we are in with info about the debugging.\u001b[39;00m\n\u001b[0;32m   (...)\u001b[0m\n\u001b[1;32m    337\u001b[0m \u001b[38;5;124;03m            This is the global debugger (this method should actually be added as a method to it).\u001b[39;00m\n\u001b[1;32m    338\u001b[0m \u001b[38;5;124;03m        '''\u001b[39;00m\n\u001b[1;32m    339\u001b[0m         \u001b[38;5;66;03m# IFDEF CYTHON\u001b[39;00m\n\u001b[1;32m    340\u001b[0m         \u001b[38;5;66;03m# cdef str filename;\u001b[39;00m\n\u001b[1;32m    341\u001b[0m         \u001b[38;5;66;03m# cdef str base;\u001b[39;00m\n\u001b[0;32m   (...)\u001b[0m\n\u001b[1;32m    350\u001b[0m         \u001b[38;5;66;03m# DEBUG = 'code_to_debug' in frame.f_code.co_filename\u001b[39;00m\n\u001b[1;32m    351\u001b[0m         \u001b[38;5;66;03m# if DEBUG: print('ENTER: trace_dispatch: %s %s %s %s' % (frame.f_code.co_filename, frame.f_lineno, event, frame.f_code.co_name))\u001b[39;00m\n",
      "\u001b[0;31mKeyboardInterrupt\u001b[0m: "
     ]
    }
   ],
   "source": [
    "lm = []\n",
    "for e in range(3):\n",
    "    k = 0\n",
    "    for x1, x2, yt in tqdm(dl):\n",
    "        x_proc_1, x_proc_2 = process_data_to_model_bin(x1, x2)\n",
    "        p = m1(x_proc_2, x_proc_1)\n",
    "        l = loss_fun(p.float().to('cuda'), (yt.sum(dim=2) > 0).float().to('cuda'))\n",
    "        lm.append(l.item())\n",
    "        l.backward()\n",
    "        optimizer1.zero_grad()\n",
    "        optimizer1.step()\n",
    "        k+=1\n",
    "    print(e, np.mean(lm[-k:]), np.min(lm[-k:]))\n"
   ]
  },
  {
   "cell_type": "code",
   "execution_count": 98,
   "metadata": {},
   "outputs": [],
   "source": [
    "x1,x2,yt = next(iter(dl))"
   ]
  },
  {
   "cell_type": "code",
   "execution_count": null,
   "metadata": {},
   "outputs": [],
   "source": [
    "x_proc_1, x_proc_2 = process_data_to_model_bin(x1, x2)\n",
    "m1(x_proc_2, x_proc_1)"
   ]
  },
  {
   "cell_type": "code",
   "execution_count": 100,
   "metadata": {},
   "outputs": [
    {
     "ename": "NameError",
     "evalue": "name 'm' is not defined",
     "output_type": "error",
     "traceback": [
      "\u001b[0;31m---------------------------------------------------------------------------\u001b[0m",
      "\u001b[0;31mNameError\u001b[0m                                 Traceback (most recent call last)",
      "Cell \u001b[0;32mIn[100], line 1\u001b[0m\n\u001b[0;32m----> 1\u001b[0m model_scripted \u001b[38;5;241m=\u001b[39m T\u001b[38;5;241m.\u001b[39mjit\u001b[38;5;241m.\u001b[39mscript(\u001b[43mm\u001b[49m)\n\u001b[1;32m      2\u001b[0m model_scripted\u001b[38;5;241m.\u001b[39msave(\u001b[38;5;124mf\u001b[39m\u001b[38;5;124m'\u001b[39m\u001b[38;5;124m../models/predictors/day_anomaly_prediction_\u001b[39m\u001b[38;5;132;01m{\u001b[39;00m\u001b[38;5;28mstr\u001b[39m(pd\u001b[38;5;241m.\u001b[39mTimestamp\u001b[38;5;241m.\u001b[39mnow())\u001b[38;5;241m.\u001b[39mreplace(\u001b[38;5;124m\"\u001b[39m\u001b[38;5;124m \u001b[39m\u001b[38;5;124m\"\u001b[39m,\u001b[38;5;250m \u001b[39m\u001b[38;5;124m\"\u001b[39m\u001b[38;5;124mT\u001b[39m\u001b[38;5;124m\"\u001b[39m)\u001b[38;5;132;01m}\u001b[39;00m\u001b[38;5;124m.pt\u001b[39m\u001b[38;5;124m'\u001b[39m)\n",
      "\u001b[0;31mNameError\u001b[0m: name 'm' is not defined"
     ]
    }
   ],
   "source": [
    "model_scripted = T.jit.script(m)\n",
    "model_scripted.save(f'../models/predictors/day_anomaly_prediction_{str(pd.Timestamp.now()).replace(\" \", \"T\")}.pt')"
   ]
  },
  {
   "cell_type": "markdown",
   "metadata": {},
   "source": [
    "# Naive model 2"
   ]
  },
  {
   "cell_type": "markdown",
   "metadata": {},
   "source": []
  }
 ],
 "metadata": {
  "kernelspec": {
   "display_name": "venv",
   "language": "python",
   "name": "python3"
  },
  "language_info": {
   "codemirror_mode": {
    "name": "ipython",
    "version": 3
   },
   "file_extension": ".py",
   "mimetype": "text/x-python",
   "name": "python",
   "nbconvert_exporter": "python",
   "pygments_lexer": "ipython3",
   "version": "3.12.3"
  }
 },
 "nbformat": 4,
 "nbformat_minor": 2
}
