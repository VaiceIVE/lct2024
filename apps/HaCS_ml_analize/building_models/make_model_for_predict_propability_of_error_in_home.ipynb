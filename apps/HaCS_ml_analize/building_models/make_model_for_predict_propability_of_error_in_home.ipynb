{
 "cells": [
  {
   "cell_type": "code",
   "execution_count": 2,
   "metadata": {},
   "outputs": [],
   "source": [
    "import pandas as pd\n",
    "import torch as T\n",
    "import torch.nn as nn\n",
    "import torch.nn.functional as ff\n",
    "from torch.utils.data import Dataset, DataLoader\n",
    "from sklearn.preprocessing import OneHotEncoder\n",
    "import pickle\n",
    "\n",
    "import matplotlib.pyplot as plt\n",
    "\n",
    "from dataclasses import dataclass\n",
    "import json\n",
    "from tqdm import tqdm\n",
    "import numpy as np\n",
    "import os\n",
    "from typing import Sequence\n",
    "from datetime import datetime, timedelta\n",
    "\n",
    "\n",
    "pd.set_option('display.max_columns', None)\n",
    "pd.set_option('future.no_silent_downcasting', True)"
   ]
  },
  {
   "cell_type": "code",
   "execution_count": 3,
   "metadata": {},
   "outputs": [
    {
     "data": {
      "text/plain": [
       "True"
      ]
     },
     "execution_count": 3,
     "metadata": {},
     "output_type": "execute_result"
    }
   ],
   "source": [
    "T.cuda.is_available()"
   ]
  },
  {
   "cell_type": "markdown",
   "metadata": {},
   "source": [
    "# **Constants**"
   ]
  },
  {
   "cell_type": "code",
   "execution_count": 4,
   "metadata": {},
   "outputs": [],
   "source": [
    "@dataclass(frozen=True)\n",
    "class Pathes:\n",
    "    anomalies1: str = '../main_datasets/processed_datasets/События за период_01.10.2023-31.12.2023.xlsx____uploading_table.csv'\n",
    "    anomalies2: str = '../main_datasets/processed_datasets/События_за_период_01.01.2024-30.04.2024____uploading_table.csv'\n",
    "    weather_data: str = '../main_datasets/exogens_params/weather_dataset_v2.csv'\n",
    "    buildingsd_descriptions: str = '../main_datasets/processed_datasets/buildings_description_processed.csv'\n",
    "    columns_info: str = \"../columns_info.json\"\n",
    "    "
   ]
  },
  {
   "cell_type": "code",
   "execution_count": 5,
   "metadata": {},
   "outputs": [],
   "source": [
    "with open(Pathes.columns_info) as f:\n",
    "    d = json.load(f)\n",
    "    @dataclass(frozen=True)\n",
    "    class ColumnsInfo:\n",
    "        usless_col = d['useless_columns']\n",
    "        useless_by_classification = d['useless_by_classification']\n",
    "        categorical_columns = d['categorical_columns']\n",
    "        usfull_columns_in_buildings_data = d['usfull_columns_for_algorithms']['usfull_columns_in_buildings_data']\n",
    "        usfull_columns_in_anomaly_ts = d['usfull_columns_for_algorithms']['usefull_columns_in_anomaly_ts']\n",
    "        time_columns = d['time_columns']\n",
    "        usefull_events = d[\"usefull_events\"]\n",
    "        columns_norm_forms = d['columns_norm_form_pairs']\n",
    "        weathers_types = d['weathers_types']\n",
    "\n"
   ]
  },
  {
   "cell_type": "code",
   "execution_count": 6,
   "metadata": {},
   "outputs": [],
   "source": [
    "p = '../factorized_objects/'\n",
    "factorized_objects = dict()\n",
    "for i in os.listdir(p):\n",
    "    with open(p + i, 'r') as f:\n",
    "        data = json.load(f)\n",
    "        factorized_objects[i.split('.')[0]] = data\n",
    "\n"
   ]
  },
  {
   "cell_type": "code",
   "execution_count": 7,
   "metadata": {},
   "outputs": [],
   "source": [
    "device = 'cuda'"
   ]
  },
  {
   "cell_type": "code",
   "execution_count": 8,
   "metadata": {},
   "outputs": [
    {
     "data": {
      "text/plain": [
       "dict_keys(['№ ОДС', 'Марка счетчика', 'Материал', 'Статус адреса', 'Группа', 'Признак аварийности здания', 'Центральное отопление(контур)', 'Потребитель (или УК)', 'Потребители', 'Документ-основание регистрационных действий', 'Район', 'Назначение', 'Серии проектов', 'Номер ТП', 'Материалы кровли по БТИ', 'Материалы стен'])"
      ]
     },
     "execution_count": 8,
     "metadata": {},
     "output_type": "execute_result"
    }
   ],
   "source": [
    "factorized_objects.keys()"
   ]
  },
  {
   "cell_type": "markdown",
   "metadata": {},
   "source": [
    "# **Functions**"
   ]
  },
  {
   "cell_type": "code",
   "execution_count": 9,
   "metadata": {},
   "outputs": [],
   "source": [
    "def make_timeline_for_year(year: int=2023):\n",
    "    data_1 = np.arange(datetime(year=year, month=1, day=1), datetime(year=year, month=5, day=1), timedelta(hours=1)).tolist()\n",
    "    data_2 = np.arange(datetime(year=year, month=10, day=1), datetime(year=year+1, month=1, day=1), timedelta(hours=1)).tolist()\n",
    "    return np.array(data_1+data_2)\n",
    "\n",
    "\n",
    "def make_timeline_for_period(year: int=2022, delta=1):\n",
    "    s = datetime(year=year, month=10, day=1)\n",
    "    e = datetime(year=year+1, month=5, day=1)\n",
    "    data = np.arange(s, e, timedelta(hours=delta)).tolist()\n",
    "    return data"
   ]
  },
  {
   "cell_type": "code",
   "execution_count": 10,
   "metadata": {},
   "outputs": [],
   "source": [
    "scaled_data = dict()"
   ]
  },
  {
   "cell_type": "code",
   "execution_count": 11,
   "metadata": {},
   "outputs": [],
   "source": [
    "def columns_to_norm_form(source: pd.DataFrame) -> pd.DataFrame:\n",
    "    df = source.copy()\n",
    "    df.columns = df.columns.map(lambda a: ColumnsInfo.columns_norm_forms[a] if a in ColumnsInfo.columns_norm_forms else a)\n",
    "    return df\n",
    "\n",
    "\n",
    "def time_columns_to_datetime(source: pd.DataFrame, dayfirst=True):\n",
    "    df = source.copy()\n",
    "    for i in df.columns:\n",
    "        if i in ColumnsInfo.time_columns:\n",
    "            df[i] = df[i].map(lambda a: pd.to_datetime(a, dayfirst=dayfirst))\n",
    "    return df\n",
    "\n",
    "\n",
    "def get_only_usefull_columns(source: pd.DataFrame):\n",
    "    usefull_columns = ColumnsInfo.usfull_columns_in_anomaly_ts + ColumnsInfo.usfull_columns_in_buildings_data\n",
    "    data = []\n",
    "    for i in np.unique(usefull_columns):\n",
    "        if i in source.columns:\n",
    "            data.append(source.loc[:, [i,]])\n",
    "    return pd.concat(data, axis=1).copy()\n",
    "\n",
    "\n",
    "def factorize_columns(source: pd.DataFrame):\n",
    "    df = source.copy()\n",
    "    for i in df.columns.intersection(factorized_objects):\n",
    "        f = factorized_objects[i]\n",
    "        df[i] = df[i].map(lambda a: f['NaN'] if pd.isna(a) else f[a])\n",
    "    return df\n",
    "\n",
    "def save_only_usfull_events(source: pd.DataFrame) -> pd.DataFrame:\n",
    "    df = source.copy()\n",
    "    if 'Наименование' in df.columns:\n",
    "        usefull_events_index = df.loc[:, 'Наименование'].isin(ColumnsInfo.usefull_events)\n",
    "        return df[usefull_events_index]\n",
    "    return df\n",
    "\n",
    "\n",
    "def encode_events(source: pd.DataFrame):\n",
    "    df = source.copy()\n",
    "    if 'Наименование' in df.columns:\n",
    "        oh = pd.DataFrame({i: (i==df['Наименование']).astype(float) for i in ColumnsInfo.usefull_events}, index=df.index)\n",
    "        df = df.drop('Наименование', axis=1)\n",
    "        return pd.concat([df, oh], axis=1)\n",
    "    return df\n",
    "\n",
    "\n",
    "\n",
    "def dataframe_loader(path: str, dayfirst=True):\n",
    "    df = pd.read_csv(path, dayfirst=dayfirst).drop_duplicates()\n",
    "    df_columns_to_norm_form = columns_to_norm_form(df)\n",
    "    df_usefull_only = get_only_usefull_columns(df_columns_to_norm_form)\n",
    "    df_usefull_events = save_only_usfull_events(df_usefull_only)\n",
    "    df_encoded_events = encode_events(df_usefull_events)\n",
    "    df_factorized = factorize_columns(df_encoded_events)\n",
    "    df_timed = time_columns_to_datetime(df_factorized)\n",
    "    return df_timed\n",
    "\n",
    "\n",
    "def standart_scaler_column(source: pd.Series) -> pd.Series:\n",
    "    max_el, min_el = source.dropna().max(), source.dropna().min()\n",
    "    scaled_data[source.name] = {'max': max_el, 'min': min_el}\n",
    "    scaled = (source - min_el) / (max_el - min_el)\n",
    "    return scaled\n",
    "\n",
    "\n",
    "def scale_dataframe(source: pd.DataFrame)->pd.DataFrame:\n",
    "    df = source.copy()\n",
    "    for i in df.columns:\n",
    "        df[i] = standart_scaler_column(df[i])\n",
    "    return df\n",
    "\n",
    "\n",
    "def process_datetime_in_dataframe(source: pd.DataFrame) -> pd.DataFrame:\n",
    "    min_date = {\n",
    "        'Дата документа о регистрации адреса': pd.Timestamp('1958-10-10 00:00:00'),\n",
    "        'Дата регистрации адреса в Адресном реестре': pd.Timestamp('1998-10-20 00:00:00')\n",
    "    }\n",
    "    df = source.copy()\n",
    "    for col in min_date:\n",
    "        if col in source.columns:\n",
    "            df[col] = (df[col] - min_date[col]).map(lambda a: a.days)\n",
    "    return df\n",
    "\n",
    "\n",
    "def process_dataframe_to_model(source: pd.DataFrame, ignore_columns: tuple[str]=('timestamp', 'UNOM')):\n",
    "    ignore_columns_in_source = source.columns.intersection(ignore_columns)\n",
    "    df_const = source.loc[:, ignore_columns_in_source]\n",
    "    df_on_process = source.drop(ignore_columns_in_source, axis=1)\n",
    "    df_datetime_processed = process_datetime_in_dataframe(df_on_process)\n",
    "    df_processed = scale_dataframe(df_datetime_processed)\n",
    "    return pd.concat([df_processed, df_const], axis=1)\n",
    "\n",
    "\n",
    "def process_timeseries_to_model(source: pd.DataFrame) -> pd.DataFrame:\n",
    "    df = source.copy()\n",
    "    if 'Источник' in source.columns:\n",
    "        df = df.drop('Источник', axis=1)\n",
    "    df['days'] = df['Дата создания во внешней системе'].map(lambda a: a.round(freq='d'))\n",
    "    df['houres'] = df['Дата создания во внешней системе'].map(lambda a: a.round(freq='h'))\n",
    "    return df\n",
    "    "
   ]
  },
  {
   "cell_type": "code",
   "execution_count": 12,
   "metadata": {},
   "outputs": [],
   "source": [
    "def process_weathers_dataframe(path: str) -> pd.DataFrame:\n",
    "    df = pd.read_csv(path)\n",
    "    encode_weather_type = pd.DataFrame([{k: int(k in i) for k in ColumnsInfo.weathers_types} for i in df['описание погоды'].map(lambda a: a.split(', '))], index=df.index)\n",
    "    data_weather_encoded = pd.concat([df, encode_weather_type], axis=1).drop(['описание погоды', 'время'], axis=1)\n",
    "    data_weather_encoded['температура'] = standart_scaler_column(data_weather_encoded['температура'])\n",
    "    data_weather_encoded['давление'] = standart_scaler_column(data_weather_encoded['давление'])\n",
    "    data_weather_encoded['скорость ветра'] = standart_scaler_column(data_weather_encoded['скорость ветра'])   \n",
    "    data_weather_encoded['timeline'] = data_weather_encoded['timeline'].map(lambda a: pd.to_datetime(a)) \n",
    "    data_weather_encoded['days'] = data_weather_encoded['timeline'].map(lambda a: a.round(freq='d')) \n",
    "    data_weather_encoded['houres'] = data_weather_encoded['timeline'].map(lambda a: a.round(freq='h')) \n",
    "    return data_weather_encoded"
   ]
  },
  {
   "cell_type": "markdown",
   "metadata": {},
   "source": [
    "# **Look up**"
   ]
  },
  {
   "cell_type": "code",
   "execution_count": 12,
   "metadata": {},
   "outputs": [
    {
     "ename": "NameError",
     "evalue": "name 'data_frame_loader' is not defined",
     "output_type": "error",
     "traceback": [
      "\u001b[0;31m---------------------------------------------------------------------------\u001b[0m",
      "\u001b[0;31mNameError\u001b[0m                                 Traceback (most recent call last)",
      "Cell \u001b[0;32mIn[12], line 6\u001b[0m\n\u001b[1;32m      2\u001b[0m     events_data \u001b[38;5;241m=\u001b[39m json\u001b[38;5;241m.\u001b[39mload(f)\n\u001b[1;32m      5\u001b[0m weather_data \u001b[38;5;241m=\u001b[39m pd\u001b[38;5;241m.\u001b[39mread_csv(\u001b[38;5;124m'\u001b[39m\u001b[38;5;124m../main_datasets/exogens_params/weather_dataset_v2.csv\u001b[39m\u001b[38;5;124m'\u001b[39m)\n\u001b[0;32m----> 6\u001b[0m buildings_description \u001b[38;5;241m=\u001b[39m \u001b[43mdata_frame_loader\u001b[49m(\u001b[38;5;124m'\u001b[39m\u001b[38;5;124m../main_datasets/builded_datasets/buildings_description.csv\u001b[39m\u001b[38;5;124m'\u001b[39m)\u001b[38;5;241m.\u001b[39mdrop_duplicates()\n",
      "\u001b[0;31mNameError\u001b[0m: name 'data_frame_loader' is not defined"
     ]
    }
   ],
   "source": [
    "with open('../main_datasets/timelines_datasets/events_counts_time_lines.json', 'r') as f:\n",
    "    events_data = json.load(f)\n",
    "\n",
    "\n",
    "weather_data = pd.read_csv('../main_datasets/exogens_params/weather_dataset_v2.csv')\n",
    "buildings_description = data_frame_loader('../main_datasets/builded_datasets/buildings_description.csv').drop_duplicates()"
   ]
  },
  {
   "cell_type": "code",
   "execution_count": null,
   "metadata": {},
   "outputs": [],
   "source": [
    "buildings_description.to_csv('../main_datasets/processed_datasets/buildings_description_processed.csv', index=False)"
   ]
  },
  {
   "cell_type": "code",
   "execution_count": null,
   "metadata": {},
   "outputs": [
    {
     "data": {
      "text/html": [
       "<div>\n",
       "<style scoped>\n",
       "    .dataframe tbody tr th:only-of-type {\n",
       "        vertical-align: middle;\n",
       "    }\n",
       "\n",
       "    .dataframe tbody tr th {\n",
       "        vertical-align: top;\n",
       "    }\n",
       "\n",
       "    .dataframe thead th {\n",
       "        text-align: right;\n",
       "    }\n",
       "</style>\n",
       "<table border=\"1\" class=\"dataframe\">\n",
       "  <thead>\n",
       "    <tr style=\"text-align: right;\">\n",
       "      <th></th>\n",
       "      <th>UNOM</th>\n",
       "      <th>Центральное отопление(контур)</th>\n",
       "      <th>Марка счетчика</th>\n",
       "      <th>Серии проектов</th>\n",
       "      <th>Количество этажей</th>\n",
       "      <th>Количество подъездов</th>\n",
       "      <th>Количество квартир</th>\n",
       "      <th>Общая площадь</th>\n",
       "      <th>Общая площадь жилых помещений</th>\n",
       "      <th>Износ объекта (по БТИ)</th>\n",
       "      <th>Материалы стен</th>\n",
       "      <th>Признак аварийности здания</th>\n",
       "      <th>Количество пассажирских лифтов</th>\n",
       "      <th>Количество грузопассажирских лифтов</th>\n",
       "      <th>Очередность уборки кровли</th>\n",
       "      <th>Материалы кровли по БТИ</th>\n",
       "      <th>Этажность</th>\n",
       "      <th>Дата регистрации адреса в Адресном реестре</th>\n",
       "      <th>Дата документа о регистрации адреса</th>\n",
       "    </tr>\n",
       "  </thead>\n",
       "  <tbody>\n",
       "    <tr>\n",
       "      <th>0</th>\n",
       "      <td>82024</td>\n",
       "      <td>ЦО1</td>\n",
       "      <td>АТ-Т-2</td>\n",
       "      <td>П-3/16</td>\n",
       "      <td>17</td>\n",
       "      <td>2.0</td>\n",
       "      <td>136.0</td>\n",
       "      <td>8694.7</td>\n",
       "      <td>8677.4</td>\n",
       "      <td>NaN</td>\n",
       "      <td>панельные</td>\n",
       "      <td>нет</td>\n",
       "      <td>2.0</td>\n",
       "      <td>2.0</td>\n",
       "      <td>NaN</td>\n",
       "      <td>мягкая-совмещенная с рубероидным покрытием</td>\n",
       "      <td>17.0</td>\n",
       "      <td>25.02.2000</td>\n",
       "      <td>14.03.1990</td>\n",
       "    </tr>\n",
       "    <tr>\n",
       "      <th>206</th>\n",
       "      <td>240035</td>\n",
       "      <td>ЦО2</td>\n",
       "      <td>АТ-Т-2</td>\n",
       "      <td>индивидуальный проект</td>\n",
       "      <td>22</td>\n",
       "      <td>2.0</td>\n",
       "      <td>168.0</td>\n",
       "      <td>10415.4</td>\n",
       "      <td>9891.1</td>\n",
       "      <td>0.0</td>\n",
       "      <td>монолитные (ж-б)</td>\n",
       "      <td>нет</td>\n",
       "      <td>2.0</td>\n",
       "      <td>4.0</td>\n",
       "      <td>NaN</td>\n",
       "      <td>мягкая-совмещенная с рубероидным покрытием</td>\n",
       "      <td>22.0</td>\n",
       "      <td>01.11.2004</td>\n",
       "      <td>27.10.2004</td>\n",
       "    </tr>\n",
       "    <tr>\n",
       "      <th>416</th>\n",
       "      <td>240035</td>\n",
       "      <td>ЦО1</td>\n",
       "      <td>АТ-Т-2</td>\n",
       "      <td>индивидуальный проект</td>\n",
       "      <td>22</td>\n",
       "      <td>2.0</td>\n",
       "      <td>168.0</td>\n",
       "      <td>10415.4</td>\n",
       "      <td>9891.1</td>\n",
       "      <td>0.0</td>\n",
       "      <td>монолитные (ж-б)</td>\n",
       "      <td>нет</td>\n",
       "      <td>2.0</td>\n",
       "      <td>4.0</td>\n",
       "      <td>NaN</td>\n",
       "      <td>мягкая-совмещенная с рубероидным покрытием</td>\n",
       "      <td>22.0</td>\n",
       "      <td>01.11.2004</td>\n",
       "      <td>27.10.2004</td>\n",
       "    </tr>\n",
       "    <tr>\n",
       "      <th>628</th>\n",
       "      <td>64062</td>\n",
       "      <td>ЦО1</td>\n",
       "      <td>КМ-5-2</td>\n",
       "      <td>П-44</td>\n",
       "      <td>14</td>\n",
       "      <td>2.0</td>\n",
       "      <td>110.0</td>\n",
       "      <td>4955.3</td>\n",
       "      <td>4916.8</td>\n",
       "      <td>NaN</td>\n",
       "      <td>панельные</td>\n",
       "      <td>нет</td>\n",
       "      <td>4.0</td>\n",
       "      <td>0.0</td>\n",
       "      <td>NaN</td>\n",
       "      <td>мягкая-совмещенная с рубероидным покрытием</td>\n",
       "      <td>14.0</td>\n",
       "      <td>22.12.2004</td>\n",
       "      <td>17.12.2004</td>\n",
       "    </tr>\n",
       "    <tr>\n",
       "      <th>841</th>\n",
       "      <td>3976</td>\n",
       "      <td>ЦО1</td>\n",
       "      <td>КМ-5-2</td>\n",
       "      <td>нет данных</td>\n",
       "      <td>6</td>\n",
       "      <td>3.0</td>\n",
       "      <td>55.0</td>\n",
       "      <td>4920.0</td>\n",
       "      <td>4137.0</td>\n",
       "      <td>NaN</td>\n",
       "      <td>кирпичные</td>\n",
       "      <td>нет</td>\n",
       "      <td>3.0</td>\n",
       "      <td>0.0</td>\n",
       "      <td>1.0</td>\n",
       "      <td>стальная</td>\n",
       "      <td>6.0</td>\n",
       "      <td>26.05.2005</td>\n",
       "      <td>18.05.2005</td>\n",
       "    </tr>\n",
       "    <tr>\n",
       "      <th>...</th>\n",
       "      <td>...</td>\n",
       "      <td>...</td>\n",
       "      <td>...</td>\n",
       "      <td>...</td>\n",
       "      <td>...</td>\n",
       "      <td>...</td>\n",
       "      <td>...</td>\n",
       "      <td>...</td>\n",
       "      <td>...</td>\n",
       "      <td>...</td>\n",
       "      <td>...</td>\n",
       "      <td>...</td>\n",
       "      <td>...</td>\n",
       "      <td>...</td>\n",
       "      <td>...</td>\n",
       "      <td>...</td>\n",
       "      <td>...</td>\n",
       "      <td>...</td>\n",
       "      <td>...</td>\n",
       "    </tr>\n",
       "    <tr>\n",
       "      <th>851928</th>\n",
       "      <td>24611</td>\n",
       "      <td>ЦО1</td>\n",
       "      <td>КМ-5-2</td>\n",
       "      <td>П-29</td>\n",
       "      <td>9</td>\n",
       "      <td>5.0</td>\n",
       "      <td>178.0</td>\n",
       "      <td>8334.4</td>\n",
       "      <td>7790.1</td>\n",
       "      <td>NaN</td>\n",
       "      <td>кирпичные</td>\n",
       "      <td>нет</td>\n",
       "      <td>5.0</td>\n",
       "      <td>0.0</td>\n",
       "      <td>NaN</td>\n",
       "      <td>мягкая-совмещенная с рубероидным покрытием</td>\n",
       "      <td>9.0</td>\n",
       "      <td>04.08.2004</td>\n",
       "      <td>28.07.2004</td>\n",
       "    </tr>\n",
       "    <tr>\n",
       "      <th>852141</th>\n",
       "      <td>31782</td>\n",
       "      <td>ЦО1</td>\n",
       "      <td>КМ-5-2</td>\n",
       "      <td>П-46</td>\n",
       "      <td>14</td>\n",
       "      <td>3.0</td>\n",
       "      <td>166.0</td>\n",
       "      <td>7698.5</td>\n",
       "      <td>7658.2</td>\n",
       "      <td>NaN</td>\n",
       "      <td>панельные</td>\n",
       "      <td>нет</td>\n",
       "      <td>6.0</td>\n",
       "      <td>0.0</td>\n",
       "      <td>NaN</td>\n",
       "      <td>мягкая-совмещенная с рубероидным покрытием</td>\n",
       "      <td>14.0</td>\n",
       "      <td>28.02.2000</td>\n",
       "      <td>14.03.1990</td>\n",
       "    </tr>\n",
       "    <tr>\n",
       "      <th>852354</th>\n",
       "      <td>31648</td>\n",
       "      <td>ЦО1</td>\n",
       "      <td>КМ-5-2</td>\n",
       "      <td>П-46</td>\n",
       "      <td>14</td>\n",
       "      <td>3.0</td>\n",
       "      <td>166.0</td>\n",
       "      <td>7570.6</td>\n",
       "      <td>7532.2</td>\n",
       "      <td>NaN</td>\n",
       "      <td>панельные</td>\n",
       "      <td>нет</td>\n",
       "      <td>6.0</td>\n",
       "      <td>0.0</td>\n",
       "      <td>NaN</td>\n",
       "      <td>мягкая-совмещенная с рубероидным покрытием</td>\n",
       "      <td>14.0</td>\n",
       "      <td>25.02.2000</td>\n",
       "      <td>14.03.1990</td>\n",
       "    </tr>\n",
       "    <tr>\n",
       "      <th>852567</th>\n",
       "      <td>250031</td>\n",
       "      <td>ЦО1</td>\n",
       "      <td>АТ-Т-2</td>\n",
       "      <td>индивидуальный проект</td>\n",
       "      <td>14</td>\n",
       "      <td>1.0</td>\n",
       "      <td>52.0</td>\n",
       "      <td>4148.7</td>\n",
       "      <td>3559.3</td>\n",
       "      <td>0.0</td>\n",
       "      <td>монолитные (ж-б)</td>\n",
       "      <td>нет</td>\n",
       "      <td>1.0</td>\n",
       "      <td>1.0</td>\n",
       "      <td>NaN</td>\n",
       "      <td>мягкая-совмещенная с рубероидным покрытием</td>\n",
       "      <td>14.0</td>\n",
       "      <td>14.02.2007</td>\n",
       "      <td>08.02.2007</td>\n",
       "    </tr>\n",
       "    <tr>\n",
       "      <th>852767</th>\n",
       "      <td>23736</td>\n",
       "      <td>ЦО1</td>\n",
       "      <td>КМ-5-2</td>\n",
       "      <td>индивидуальный проект</td>\n",
       "      <td>5</td>\n",
       "      <td>7.0</td>\n",
       "      <td>117.0</td>\n",
       "      <td>10470.2</td>\n",
       "      <td>7453.7</td>\n",
       "      <td>NaN</td>\n",
       "      <td>кирпичные</td>\n",
       "      <td>нет</td>\n",
       "      <td>0.0</td>\n",
       "      <td>0.0</td>\n",
       "      <td>1.0</td>\n",
       "      <td>стальная</td>\n",
       "      <td>5.0</td>\n",
       "      <td>16.12.2003</td>\n",
       "      <td>11.12.2003</td>\n",
       "    </tr>\n",
       "  </tbody>\n",
       "</table>\n",
       "<p>4205 rows × 19 columns</p>\n",
       "</div>"
      ],
      "text/plain": [
       "          UNOM Центральное отопление(контур) Марка счетчика  \\\n",
       "0        82024                           ЦО1         АТ-Т-2   \n",
       "206     240035                           ЦО2         АТ-Т-2   \n",
       "416     240035                           ЦО1         АТ-Т-2   \n",
       "628      64062                           ЦО1         КМ-5-2   \n",
       "841       3976                           ЦО1         КМ-5-2   \n",
       "...        ...                           ...            ...   \n",
       "851928   24611                           ЦО1         КМ-5-2   \n",
       "852141   31782                           ЦО1         КМ-5-2   \n",
       "852354   31648                           ЦО1         КМ-5-2   \n",
       "852567  250031                           ЦО1         АТ-Т-2   \n",
       "852767   23736                           ЦО1         КМ-5-2   \n",
       "\n",
       "               Серии проектов  Количество этажей  Количество подъездов  \\\n",
       "0                      П-3/16                 17                   2.0   \n",
       "206     индивидуальный проект                 22                   2.0   \n",
       "416     индивидуальный проект                 22                   2.0   \n",
       "628                      П-44                 14                   2.0   \n",
       "841                нет данных                  6                   3.0   \n",
       "...                       ...                ...                   ...   \n",
       "851928                   П-29                  9                   5.0   \n",
       "852141                   П-46                 14                   3.0   \n",
       "852354                   П-46                 14                   3.0   \n",
       "852567  индивидуальный проект                 14                   1.0   \n",
       "852767  индивидуальный проект                  5                   7.0   \n",
       "\n",
       "        Количество квартир  Общая площадь  Общая площадь жилых помещений  \\\n",
       "0                    136.0         8694.7                         8677.4   \n",
       "206                  168.0        10415.4                         9891.1   \n",
       "416                  168.0        10415.4                         9891.1   \n",
       "628                  110.0         4955.3                         4916.8   \n",
       "841                   55.0         4920.0                         4137.0   \n",
       "...                    ...            ...                            ...   \n",
       "851928               178.0         8334.4                         7790.1   \n",
       "852141               166.0         7698.5                         7658.2   \n",
       "852354               166.0         7570.6                         7532.2   \n",
       "852567                52.0         4148.7                         3559.3   \n",
       "852767               117.0        10470.2                         7453.7   \n",
       "\n",
       "        Износ объекта (по БТИ)    Материалы стен Признак аварийности здания  \\\n",
       "0                          NaN         панельные                         нет   \n",
       "206                        0.0  монолитные (ж-б)                         нет   \n",
       "416                        0.0  монолитные (ж-б)                         нет   \n",
       "628                        NaN         панельные                         нет   \n",
       "841                        NaN         кирпичные                         нет   \n",
       "...                        ...               ...                         ...   \n",
       "851928                     NaN         кирпичные                         нет   \n",
       "852141                     NaN         панельные                         нет   \n",
       "852354                     NaN         панельные                         нет   \n",
       "852567                     0.0  монолитные (ж-б)                         нет   \n",
       "852767                     NaN         кирпичные                         нет   \n",
       "\n",
       "        Количество пассажирских лифтов  Количество грузопассажирских лифтов  \\\n",
       "0                                  2.0                                  2.0   \n",
       "206                                2.0                                  4.0   \n",
       "416                                2.0                                  4.0   \n",
       "628                                4.0                                  0.0   \n",
       "841                                3.0                                  0.0   \n",
       "...                                ...                                  ...   \n",
       "851928                             5.0                                  0.0   \n",
       "852141                             6.0                                  0.0   \n",
       "852354                             6.0                                  0.0   \n",
       "852567                             1.0                                  1.0   \n",
       "852767                             0.0                                  0.0   \n",
       "\n",
       "        Очередность уборки кровли                     Материалы кровли по БТИ  \\\n",
       "0                             NaN  мягкая-совмещенная с рубероидным покрытием   \n",
       "206                           NaN  мягкая-совмещенная с рубероидным покрытием   \n",
       "416                           NaN  мягкая-совмещенная с рубероидным покрытием   \n",
       "628                           NaN  мягкая-совмещенная с рубероидным покрытием   \n",
       "841                           1.0                                    стальная   \n",
       "...                           ...                                         ...   \n",
       "851928                        NaN  мягкая-совмещенная с рубероидным покрытием   \n",
       "852141                        NaN  мягкая-совмещенная с рубероидным покрытием   \n",
       "852354                        NaN  мягкая-совмещенная с рубероидным покрытием   \n",
       "852567                        NaN  мягкая-совмещенная с рубероидным покрытием   \n",
       "852767                        1.0                                    стальная   \n",
       "\n",
       "        Этажность Дата регистрации адреса в Адресном реестре  \\\n",
       "0            17.0                                 25.02.2000   \n",
       "206          22.0                                 01.11.2004   \n",
       "416          22.0                                 01.11.2004   \n",
       "628          14.0                                 22.12.2004   \n",
       "841           6.0                                 26.05.2005   \n",
       "...           ...                                        ...   \n",
       "851928        9.0                                 04.08.2004   \n",
       "852141       14.0                                 28.02.2000   \n",
       "852354       14.0                                 25.02.2000   \n",
       "852567       14.0                                 14.02.2007   \n",
       "852767        5.0                                 16.12.2003   \n",
       "\n",
       "       Дата документа о регистрации адреса  \n",
       "0                               14.03.1990  \n",
       "206                             27.10.2004  \n",
       "416                             27.10.2004  \n",
       "628                             17.12.2004  \n",
       "841                             18.05.2005  \n",
       "...                                    ...  \n",
       "851928                          28.07.2004  \n",
       "852141                          14.03.1990  \n",
       "852354                          14.03.1990  \n",
       "852567                          08.02.2007  \n",
       "852767                          11.12.2003  \n",
       "\n",
       "[4205 rows x 19 columns]"
      ]
     },
     "execution_count": 8,
     "metadata": {},
     "output_type": "execute_result"
    }
   ],
   "source": [
    "buildings_description.loc[:, usfull_columns_in_buildings_data]"
   ]
  },
  {
   "cell_type": "code",
   "execution_count": null,
   "metadata": {},
   "outputs": [
    {
     "name": "stderr",
     "output_type": "stream",
     "text": [
      "100%|██████████| 4340/4340 [00:00<00:00, 145278.73it/s]\n"
     ]
    }
   ],
   "source": [
    "n2022 = 0\n",
    "n2023 = 0\n",
    "n2024 = 0\n",
    "for id_ in tqdm(events_data):\n",
    "    n2022 += sum(events_data[id_]['2022'].values())\n",
    "    n2023 += sum(events_data[id_]['2023'].values())\n",
    "    n2024 += sum(events_data[id_]['2024'].values())\n"
   ]
  },
  {
   "cell_type": "code",
   "execution_count": null,
   "metadata": {},
   "outputs": [
    {
     "name": "stderr",
     "output_type": "stream",
     "text": [
      "100%|██████████| 4340/4340 [00:00<00:00, 300488.28it/s]\n"
     ]
    }
   ],
   "source": [
    "n2023 = []\n",
    "for id_ in tqdm(events_data):\n",
    "    n2023.append(sum(events_data[id_]['2023'].values()))\n"
   ]
  },
  {
   "cell_type": "code",
   "execution_count": null,
   "metadata": {},
   "outputs": [],
   "source": [
    "serires = pd.Series(events_data[list(events_data)[np.argmax(n2023)]]['2023'], name='Anomaly')\n",
    "serires = pd.DataFrame({'days': pd.to_datetime(serires.index), 'anomalies': serires.values})"
   ]
  },
  {
   "cell_type": "code",
   "execution_count": null,
   "metadata": {},
   "outputs": [],
   "source": [
    "weather_data['days'] = pd.to_datetime(weather_data['timeline']).map(lambda a: a.round(freq='d'))"
   ]
  },
  {
   "cell_type": "code",
   "execution_count": null,
   "metadata": {},
   "outputs": [
    {
     "data": {
      "text/html": [
       "<div>\n",
       "<style scoped>\n",
       "    .dataframe tbody tr th:only-of-type {\n",
       "        vertical-align: middle;\n",
       "    }\n",
       "\n",
       "    .dataframe tbody tr th {\n",
       "        vertical-align: top;\n",
       "    }\n",
       "\n",
       "    .dataframe thead th {\n",
       "        text-align: right;\n",
       "    }\n",
       "</style>\n",
       "<table border=\"1\" class=\"dataframe\">\n",
       "  <thead>\n",
       "    <tr style=\"text-align: right;\">\n",
       "      <th></th>\n",
       "      <th>описание погоды</th>\n",
       "      <th>время</th>\n",
       "      <th>температура</th>\n",
       "      <th>скорость ветра</th>\n",
       "      <th>давление</th>\n",
       "      <th>timeline</th>\n",
       "      <th>days</th>\n",
       "    </tr>\n",
       "  </thead>\n",
       "  <tbody>\n",
       "    <tr>\n",
       "      <th>0</th>\n",
       "      <td>пасмурно, снег</td>\n",
       "      <td>00:00</td>\n",
       "      <td>-3.0</td>\n",
       "      <td>0.0</td>\n",
       "      <td>738.0</td>\n",
       "      <td>2022-01-01 00:00:00</td>\n",
       "      <td>2022-01-01</td>\n",
       "    </tr>\n",
       "    <tr>\n",
       "      <th>24</th>\n",
       "      <td>пасмурно, без осадков</td>\n",
       "      <td>00:00</td>\n",
       "      <td>-4.0</td>\n",
       "      <td>3.0</td>\n",
       "      <td>741.0</td>\n",
       "      <td>2022-01-02 00:00:00</td>\n",
       "      <td>2022-01-02</td>\n",
       "    </tr>\n",
       "    <tr>\n",
       "      <th>48</th>\n",
       "      <td>пасмурно, без осадков</td>\n",
       "      <td>00:00</td>\n",
       "      <td>-8.0</td>\n",
       "      <td>0.0</td>\n",
       "      <td>745.0</td>\n",
       "      <td>2022-01-03 00:00:00</td>\n",
       "      <td>2022-01-03</td>\n",
       "    </tr>\n",
       "    <tr>\n",
       "      <th>72</th>\n",
       "      <td>пасмурно, без осадков</td>\n",
       "      <td>00:00</td>\n",
       "      <td>-8.0</td>\n",
       "      <td>0.0</td>\n",
       "      <td>736.0</td>\n",
       "      <td>2022-01-04 00:00:00</td>\n",
       "      <td>2022-01-04</td>\n",
       "    </tr>\n",
       "    <tr>\n",
       "      <th>96</th>\n",
       "      <td>пасмурно, без осадков</td>\n",
       "      <td>00:00</td>\n",
       "      <td>-6.0</td>\n",
       "      <td>1.0</td>\n",
       "      <td>740.0</td>\n",
       "      <td>2022-01-05 00:00:00</td>\n",
       "      <td>2022-01-05</td>\n",
       "    </tr>\n",
       "    <tr>\n",
       "      <th>...</th>\n",
       "      <td>...</td>\n",
       "      <td>...</td>\n",
       "      <td>...</td>\n",
       "      <td>...</td>\n",
       "      <td>...</td>\n",
       "      <td>...</td>\n",
       "      <td>...</td>\n",
       "    </tr>\n",
       "    <tr>\n",
       "      <th>15168</th>\n",
       "      <td>пасмурно, без осадков</td>\n",
       "      <td>00:00</td>\n",
       "      <td>-5.0</td>\n",
       "      <td>2.0</td>\n",
       "      <td>757.0</td>\n",
       "      <td>2024-12-27 00:00:00</td>\n",
       "      <td>2024-12-27</td>\n",
       "    </tr>\n",
       "    <tr>\n",
       "      <th>15192</th>\n",
       "      <td>пасмурно, снег</td>\n",
       "      <td>00:00</td>\n",
       "      <td>-2.0</td>\n",
       "      <td>2.0</td>\n",
       "      <td>746.0</td>\n",
       "      <td>2024-12-28 00:00:00</td>\n",
       "      <td>2024-12-28</td>\n",
       "    </tr>\n",
       "    <tr>\n",
       "      <th>15216</th>\n",
       "      <td>пасмурно, без осадков</td>\n",
       "      <td>00:00</td>\n",
       "      <td>-1.0</td>\n",
       "      <td>0.0</td>\n",
       "      <td>747.0</td>\n",
       "      <td>2024-12-29 00:00:00</td>\n",
       "      <td>2024-12-29</td>\n",
       "    </tr>\n",
       "    <tr>\n",
       "      <th>15240</th>\n",
       "      <td>пасмурно, слабый снег</td>\n",
       "      <td>00:00</td>\n",
       "      <td>-2.0</td>\n",
       "      <td>1.0</td>\n",
       "      <td>748.0</td>\n",
       "      <td>2024-12-30 00:00:00</td>\n",
       "      <td>2024-12-30</td>\n",
       "    </tr>\n",
       "    <tr>\n",
       "      <th>15264</th>\n",
       "      <td>пасмурно, без осадков</td>\n",
       "      <td>00:00</td>\n",
       "      <td>1.0</td>\n",
       "      <td>0.0</td>\n",
       "      <td>745.0</td>\n",
       "      <td>2024-12-31 00:00:00</td>\n",
       "      <td>2024-12-31</td>\n",
       "    </tr>\n",
       "  </tbody>\n",
       "</table>\n",
       "<p>637 rows × 7 columns</p>\n",
       "</div>"
      ],
      "text/plain": [
       "             описание погоды  время  температура  скорость ветра  давление  \\\n",
       "0             пасмурно, снег  00:00         -3.0             0.0     738.0   \n",
       "24     пасмурно, без осадков  00:00         -4.0             3.0     741.0   \n",
       "48     пасмурно, без осадков  00:00         -8.0             0.0     745.0   \n",
       "72     пасмурно, без осадков  00:00         -8.0             0.0     736.0   \n",
       "96     пасмурно, без осадков  00:00         -6.0             1.0     740.0   \n",
       "...                      ...    ...          ...             ...       ...   \n",
       "15168  пасмурно, без осадков  00:00         -5.0             2.0     757.0   \n",
       "15192         пасмурно, снег  00:00         -2.0             2.0     746.0   \n",
       "15216  пасмурно, без осадков  00:00         -1.0             0.0     747.0   \n",
       "15240  пасмурно, слабый снег  00:00         -2.0             1.0     748.0   \n",
       "15264  пасмурно, без осадков  00:00          1.0             0.0     745.0   \n",
       "\n",
       "                  timeline       days  \n",
       "0      2022-01-01 00:00:00 2022-01-01  \n",
       "24     2022-01-02 00:00:00 2022-01-02  \n",
       "48     2022-01-03 00:00:00 2022-01-03  \n",
       "72     2022-01-04 00:00:00 2022-01-04  \n",
       "96     2022-01-05 00:00:00 2022-01-05  \n",
       "...                    ...        ...  \n",
       "15168  2024-12-27 00:00:00 2024-12-27  \n",
       "15192  2024-12-28 00:00:00 2024-12-28  \n",
       "15216  2024-12-29 00:00:00 2024-12-29  \n",
       "15240  2024-12-30 00:00:00 2024-12-30  \n",
       "15264  2024-12-31 00:00:00 2024-12-31  \n",
       "\n",
       "[637 rows x 7 columns]"
      ]
     },
     "execution_count": 13,
     "metadata": {},
     "output_type": "execute_result"
    }
   ],
   "source": [
    "weather_data[::24]"
   ]
  },
  {
   "cell_type": "code",
   "execution_count": null,
   "metadata": {},
   "outputs": [],
   "source": [
    "d1 = pd.merge(serires, weather_data[::24], on='days')\n",
    "x = pd.merge(d1, weather_data[12::24], on='days')"
   ]
  },
  {
   "cell_type": "code",
   "execution_count": null,
   "metadata": {},
   "outputs": [
    {
     "data": {
      "text/plain": [
       "0      274\n",
       "1      274\n",
       "2      276\n",
       "3      276\n",
       "4      278\n",
       "      ... \n",
       "207    480\n",
       "208    482\n",
       "209    482\n",
       "210    484\n",
       "211    484\n",
       "Name: timeline_x, Length: 212, dtype: int64"
      ]
     },
     "execution_count": 15,
     "metadata": {},
     "output_type": "execute_result"
    }
   ],
   "source": [
    "(pd.to_datetime(x['timeline_x']) - pd.Timestamp(year=2023, month=1, day=1)).map(lambda a: a.days)"
   ]
  },
  {
   "cell_type": "markdown",
   "metadata": {},
   "source": [
    "# **Look up 2**"
   ]
  },
  {
   "cell_type": "code",
   "execution_count": 13,
   "metadata": {},
   "outputs": [],
   "source": [
    "weather_ts = process_weathers_dataframe(Pathes.weather_data)"
   ]
  },
  {
   "cell_type": "code",
   "execution_count": 14,
   "metadata": {},
   "outputs": [],
   "source": [
    "buildings_df = dataframe_loader(Pathes.buildingsd_descriptions, dayfirst=True)\n",
    "buildings_df = process_dataframe_to_model(buildings_df)"
   ]
  },
  {
   "cell_type": "code",
   "execution_count": 15,
   "metadata": {},
   "outputs": [
    {
     "name": "stderr",
     "output_type": "stream",
     "text": [
      "/tmp/ipykernel_72442/3556419426.py:11: UserWarning: Parsing dates in %Y-%m-%d %H:%M:%S.%f format when dayfirst=True was specified. Pass `dayfirst=False` or specify a format to silence this warning.\n",
      "  df[i] = df[i].map(lambda a: pd.to_datetime(a, dayfirst=dayfirst))\n",
      "/tmp/ipykernel_72442/3556419426.py:11: UserWarning: Parsing dates in %Y-%m-%d %H:%M:%S.%f format when dayfirst=True was specified. Pass `dayfirst=False` or specify a format to silence this warning.\n",
      "  df[i] = df[i].map(lambda a: pd.to_datetime(a, dayfirst=dayfirst))\n"
     ]
    }
   ],
   "source": [
    "anomaly_ts1 = dataframe_loader(Pathes.anomalies1, dayfirst=False)\n",
    "anomaly_ts2 = dataframe_loader(Pathes.anomalies2, dayfirst=False)\n",
    "anomalies_ts = pd.concat([anomaly_ts1, anomaly_ts2])\n",
    "anomalies_ts = process_timeseries_to_model(anomalies_ts)"
   ]
  },
  {
   "cell_type": "code",
   "execution_count": 16,
   "metadata": {},
   "outputs": [
    {
     "data": {
      "text/html": [
       "<div>\n",
       "<style scoped>\n",
       "    .dataframe tbody tr th:only-of-type {\n",
       "        vertical-align: middle;\n",
       "    }\n",
       "\n",
       "    .dataframe tbody tr th {\n",
       "        vertical-align: top;\n",
       "    }\n",
       "\n",
       "    .dataframe thead th {\n",
       "        text-align: right;\n",
       "    }\n",
       "</style>\n",
       "<table border=\"1\" class=\"dataframe\">\n",
       "  <thead>\n",
       "    <tr style=\"text-align: right;\">\n",
       "      <th></th>\n",
       "      <th>UNOM</th>\n",
       "      <th>Дата закрытия</th>\n",
       "      <th>Дата создания во внешней системе</th>\n",
       "      <th>P1 &lt;= 0</th>\n",
       "      <th>P2 &lt;= 0</th>\n",
       "      <th>T1 &lt; min</th>\n",
       "      <th>T1 &gt; max</th>\n",
       "      <th>Аварийная протечка труб в подъезде</th>\n",
       "      <th>Крупные пожары</th>\n",
       "      <th>Отсутствие отопления в доме</th>\n",
       "      <th>Протечка труб в подъезде</th>\n",
       "      <th>Сильная течь в системе отопления</th>\n",
       "      <th>Температура в квартире ниже нормативной</th>\n",
       "      <th>Температура в помещении общего пользования ниже нормативной</th>\n",
       "      <th>Течь в системе отопления</th>\n",
       "      <th>days</th>\n",
       "      <th>houres</th>\n",
       "    </tr>\n",
       "  </thead>\n",
       "  <tbody>\n",
       "    <tr>\n",
       "      <th>1</th>\n",
       "      <td>8171.0</td>\n",
       "      <td>2023-08-10 12:37:31.785</td>\n",
       "      <td>2023-08-10 12:26:38</td>\n",
       "      <td>0.0</td>\n",
       "      <td>0.0</td>\n",
       "      <td>0.0</td>\n",
       "      <td>0.0</td>\n",
       "      <td>0.0</td>\n",
       "      <td>0.0</td>\n",
       "      <td>0.0</td>\n",
       "      <td>0.0</td>\n",
       "      <td>0.0</td>\n",
       "      <td>1.0</td>\n",
       "      <td>0.0</td>\n",
       "      <td>0.0</td>\n",
       "      <td>2023-08-11</td>\n",
       "      <td>2023-08-10 12:00:00</td>\n",
       "    </tr>\n",
       "    <tr>\n",
       "      <th>2</th>\n",
       "      <td>8171.0</td>\n",
       "      <td>2023-08-10 13:37:44.841</td>\n",
       "      <td>2023-08-10 13:22:11</td>\n",
       "      <td>0.0</td>\n",
       "      <td>0.0</td>\n",
       "      <td>0.0</td>\n",
       "      <td>0.0</td>\n",
       "      <td>0.0</td>\n",
       "      <td>0.0</td>\n",
       "      <td>0.0</td>\n",
       "      <td>0.0</td>\n",
       "      <td>0.0</td>\n",
       "      <td>1.0</td>\n",
       "      <td>0.0</td>\n",
       "      <td>0.0</td>\n",
       "      <td>2023-08-11</td>\n",
       "      <td>2023-08-10 13:00:00</td>\n",
       "    </tr>\n",
       "    <tr>\n",
       "      <th>9</th>\n",
       "      <td>8171.0</td>\n",
       "      <td>2023-09-10 00:51:20.340</td>\n",
       "      <td>2023-09-10 00:45:37</td>\n",
       "      <td>0.0</td>\n",
       "      <td>0.0</td>\n",
       "      <td>0.0</td>\n",
       "      <td>0.0</td>\n",
       "      <td>0.0</td>\n",
       "      <td>0.0</td>\n",
       "      <td>0.0</td>\n",
       "      <td>0.0</td>\n",
       "      <td>0.0</td>\n",
       "      <td>1.0</td>\n",
       "      <td>0.0</td>\n",
       "      <td>0.0</td>\n",
       "      <td>2023-09-10</td>\n",
       "      <td>2023-09-10 01:00:00</td>\n",
       "    </tr>\n",
       "    <tr>\n",
       "      <th>28</th>\n",
       "      <td>8171.0</td>\n",
       "      <td>2023-09-10 12:38:55.014</td>\n",
       "      <td>2023-09-10 12:15:37</td>\n",
       "      <td>0.0</td>\n",
       "      <td>0.0</td>\n",
       "      <td>0.0</td>\n",
       "      <td>0.0</td>\n",
       "      <td>0.0</td>\n",
       "      <td>0.0</td>\n",
       "      <td>0.0</td>\n",
       "      <td>0.0</td>\n",
       "      <td>0.0</td>\n",
       "      <td>1.0</td>\n",
       "      <td>0.0</td>\n",
       "      <td>0.0</td>\n",
       "      <td>2023-09-11</td>\n",
       "      <td>2023-09-10 12:00:00</td>\n",
       "    </tr>\n",
       "    <tr>\n",
       "      <th>37</th>\n",
       "      <td>8171.0</td>\n",
       "      <td>2023-10-27 19:50:43.828</td>\n",
       "      <td>2023-10-27 19:49:36</td>\n",
       "      <td>0.0</td>\n",
       "      <td>0.0</td>\n",
       "      <td>0.0</td>\n",
       "      <td>0.0</td>\n",
       "      <td>0.0</td>\n",
       "      <td>0.0</td>\n",
       "      <td>0.0</td>\n",
       "      <td>0.0</td>\n",
       "      <td>0.0</td>\n",
       "      <td>1.0</td>\n",
       "      <td>0.0</td>\n",
       "      <td>0.0</td>\n",
       "      <td>2023-10-28</td>\n",
       "      <td>2023-10-27 20:00:00</td>\n",
       "    </tr>\n",
       "  </tbody>\n",
       "</table>\n",
       "</div>"
      ],
      "text/plain": [
       "      UNOM           Дата закрытия Дата создания во внешней системе  P1 <= 0  \\\n",
       "1   8171.0 2023-08-10 12:37:31.785              2023-08-10 12:26:38      0.0   \n",
       "2   8171.0 2023-08-10 13:37:44.841              2023-08-10 13:22:11      0.0   \n",
       "9   8171.0 2023-09-10 00:51:20.340              2023-09-10 00:45:37      0.0   \n",
       "28  8171.0 2023-09-10 12:38:55.014              2023-09-10 12:15:37      0.0   \n",
       "37  8171.0 2023-10-27 19:50:43.828              2023-10-27 19:49:36      0.0   \n",
       "\n",
       "    P2 <= 0  T1 < min  T1 > max  Аварийная протечка труб в подъезде  \\\n",
       "1       0.0       0.0       0.0                                 0.0   \n",
       "2       0.0       0.0       0.0                                 0.0   \n",
       "9       0.0       0.0       0.0                                 0.0   \n",
       "28      0.0       0.0       0.0                                 0.0   \n",
       "37      0.0       0.0       0.0                                 0.0   \n",
       "\n",
       "    Крупные пожары  Отсутствие отопления в доме  Протечка труб в подъезде  \\\n",
       "1              0.0                          0.0                       0.0   \n",
       "2              0.0                          0.0                       0.0   \n",
       "9              0.0                          0.0                       0.0   \n",
       "28             0.0                          0.0                       0.0   \n",
       "37             0.0                          0.0                       0.0   \n",
       "\n",
       "    Сильная течь в системе отопления  Температура в квартире ниже нормативной  \\\n",
       "1                                0.0                                      1.0   \n",
       "2                                0.0                                      1.0   \n",
       "9                                0.0                                      1.0   \n",
       "28                               0.0                                      1.0   \n",
       "37                               0.0                                      1.0   \n",
       "\n",
       "    Температура в помещении общего пользования ниже нормативной  \\\n",
       "1                                                 0.0             \n",
       "2                                                 0.0             \n",
       "9                                                 0.0             \n",
       "28                                                0.0             \n",
       "37                                                0.0             \n",
       "\n",
       "    Течь в системе отопления       days              houres  \n",
       "1                        0.0 2023-08-11 2023-08-10 12:00:00  \n",
       "2                        0.0 2023-08-11 2023-08-10 13:00:00  \n",
       "9                        0.0 2023-09-10 2023-09-10 01:00:00  \n",
       "28                       0.0 2023-09-11 2023-09-10 12:00:00  \n",
       "37                       0.0 2023-10-28 2023-10-27 20:00:00  "
      ]
     },
     "execution_count": 16,
     "metadata": {},
     "output_type": "execute_result"
    }
   ],
   "source": [
    "anomalies_ts.head()"
   ]
  },
  {
   "cell_type": "code",
   "execution_count": null,
   "metadata": {},
   "outputs": [],
   "source": []
  },
  {
   "cell_type": "code",
   "execution_count": 17,
   "metadata": {},
   "outputs": [
    {
     "data": {
      "text/html": [
       "<div>\n",
       "<style scoped>\n",
       "    .dataframe tbody tr th:only-of-type {\n",
       "        vertical-align: middle;\n",
       "    }\n",
       "\n",
       "    .dataframe tbody tr th {\n",
       "        vertical-align: top;\n",
       "    }\n",
       "\n",
       "    .dataframe thead th {\n",
       "        text-align: right;\n",
       "    }\n",
       "</style>\n",
       "<table border=\"1\" class=\"dataframe\">\n",
       "  <thead>\n",
       "    <tr style=\"text-align: right;\">\n",
       "      <th></th>\n",
       "      <th>Дата документа о регистрации адреса</th>\n",
       "      <th>Дата регистрации адреса в Адресном реестре</th>\n",
       "      <th>Износ объекта (по БТИ)</th>\n",
       "      <th>Количество грузопассажирских лифтов</th>\n",
       "      <th>Количество квартир</th>\n",
       "      <th>Количество пассажирских лифтов</th>\n",
       "      <th>Количество подъездов</th>\n",
       "      <th>Количество этажей</th>\n",
       "      <th>Марка счетчика</th>\n",
       "      <th>Материалы кровли по БТИ</th>\n",
       "      <th>Материалы стен</th>\n",
       "      <th>Общая площадь</th>\n",
       "      <th>Общая площадь жилых помещений</th>\n",
       "      <th>Очередность уборки кровли</th>\n",
       "      <th>Признак аварийности здания</th>\n",
       "      <th>Серии проектов</th>\n",
       "      <th>Центральное отопление(контур)</th>\n",
       "      <th>Этажность</th>\n",
       "      <th>UNOM</th>\n",
       "    </tr>\n",
       "  </thead>\n",
       "  <tbody>\n",
       "    <tr>\n",
       "      <th>0</th>\n",
       "      <td>0.523536</td>\n",
       "      <td>0.067497</td>\n",
       "      <td>NaN</td>\n",
       "      <td>0.166667</td>\n",
       "      <td>0.207752</td>\n",
       "      <td>0.090909</td>\n",
       "      <td>0.071429</td>\n",
       "      <td>0.64</td>\n",
       "      <td>0.000000</td>\n",
       "      <td>0.000000</td>\n",
       "      <td>0.000000</td>\n",
       "      <td>0.204597</td>\n",
       "      <td>0.206193</td>\n",
       "      <td>NaN</td>\n",
       "      <td>0.0</td>\n",
       "      <td>0.00</td>\n",
       "      <td>0.0</td>\n",
       "      <td>0.64</td>\n",
       "      <td>82024</td>\n",
       "    </tr>\n",
       "    <tr>\n",
       "      <th>1</th>\n",
       "      <td>0.767150</td>\n",
       "      <td>0.301752</td>\n",
       "      <td>0.0</td>\n",
       "      <td>0.333333</td>\n",
       "      <td>0.257364</td>\n",
       "      <td>0.090909</td>\n",
       "      <td>0.071429</td>\n",
       "      <td>0.84</td>\n",
       "      <td>0.000000</td>\n",
       "      <td>0.000000</td>\n",
       "      <td>0.052632</td>\n",
       "      <td>0.247177</td>\n",
       "      <td>0.236385</td>\n",
       "      <td>NaN</td>\n",
       "      <td>0.0</td>\n",
       "      <td>0.01</td>\n",
       "      <td>0.2</td>\n",
       "      <td>0.84</td>\n",
       "      <td>240035</td>\n",
       "    </tr>\n",
       "    <tr>\n",
       "      <th>2</th>\n",
       "      <td>0.767150</td>\n",
       "      <td>0.301752</td>\n",
       "      <td>0.0</td>\n",
       "      <td>0.333333</td>\n",
       "      <td>0.257364</td>\n",
       "      <td>0.090909</td>\n",
       "      <td>0.071429</td>\n",
       "      <td>0.84</td>\n",
       "      <td>0.000000</td>\n",
       "      <td>0.000000</td>\n",
       "      <td>0.052632</td>\n",
       "      <td>0.247177</td>\n",
       "      <td>0.236385</td>\n",
       "      <td>NaN</td>\n",
       "      <td>0.0</td>\n",
       "      <td>0.01</td>\n",
       "      <td>0.0</td>\n",
       "      <td>0.84</td>\n",
       "      <td>240035</td>\n",
       "    </tr>\n",
       "    <tr>\n",
       "      <th>3</th>\n",
       "      <td>0.769476</td>\n",
       "      <td>0.308735</td>\n",
       "      <td>NaN</td>\n",
       "      <td>0.000000</td>\n",
       "      <td>0.167442</td>\n",
       "      <td>0.181818</td>\n",
       "      <td>0.071429</td>\n",
       "      <td>0.52</td>\n",
       "      <td>0.047619</td>\n",
       "      <td>0.000000</td>\n",
       "      <td>0.000000</td>\n",
       "      <td>0.112063</td>\n",
       "      <td>0.112643</td>\n",
       "      <td>NaN</td>\n",
       "      <td>0.0</td>\n",
       "      <td>0.02</td>\n",
       "      <td>0.0</td>\n",
       "      <td>0.52</td>\n",
       "      <td>64062</td>\n",
       "    </tr>\n",
       "    <tr>\n",
       "      <th>4</th>\n",
       "      <td>0.776409</td>\n",
       "      <td>0.329956</td>\n",
       "      <td>NaN</td>\n",
       "      <td>0.000000</td>\n",
       "      <td>0.082171</td>\n",
       "      <td>0.136364</td>\n",
       "      <td>0.142857</td>\n",
       "      <td>0.20</td>\n",
       "      <td>0.047619</td>\n",
       "      <td>0.142857</td>\n",
       "      <td>0.105263</td>\n",
       "      <td>0.111189</td>\n",
       "      <td>0.093244</td>\n",
       "      <td>0.0</td>\n",
       "      <td>0.0</td>\n",
       "      <td>0.03</td>\n",
       "      <td>0.0</td>\n",
       "      <td>0.20</td>\n",
       "      <td>3976</td>\n",
       "    </tr>\n",
       "  </tbody>\n",
       "</table>\n",
       "</div>"
      ],
      "text/plain": [
       "   Дата документа о регистрации адреса  \\\n",
       "0                             0.523536   \n",
       "1                             0.767150   \n",
       "2                             0.767150   \n",
       "3                             0.769476   \n",
       "4                             0.776409   \n",
       "\n",
       "   Дата регистрации адреса в Адресном реестре  Износ объекта (по БТИ)  \\\n",
       "0                                    0.067497                     NaN   \n",
       "1                                    0.301752                     0.0   \n",
       "2                                    0.301752                     0.0   \n",
       "3                                    0.308735                     NaN   \n",
       "4                                    0.329956                     NaN   \n",
       "\n",
       "   Количество грузопассажирских лифтов  Количество квартир  \\\n",
       "0                             0.166667            0.207752   \n",
       "1                             0.333333            0.257364   \n",
       "2                             0.333333            0.257364   \n",
       "3                             0.000000            0.167442   \n",
       "4                             0.000000            0.082171   \n",
       "\n",
       "   Количество пассажирских лифтов  Количество подъездов  Количество этажей  \\\n",
       "0                        0.090909              0.071429               0.64   \n",
       "1                        0.090909              0.071429               0.84   \n",
       "2                        0.090909              0.071429               0.84   \n",
       "3                        0.181818              0.071429               0.52   \n",
       "4                        0.136364              0.142857               0.20   \n",
       "\n",
       "   Марка счетчика  Материалы кровли по БТИ  Материалы стен  Общая площадь  \\\n",
       "0        0.000000                 0.000000        0.000000       0.204597   \n",
       "1        0.000000                 0.000000        0.052632       0.247177   \n",
       "2        0.000000                 0.000000        0.052632       0.247177   \n",
       "3        0.047619                 0.000000        0.000000       0.112063   \n",
       "4        0.047619                 0.142857        0.105263       0.111189   \n",
       "\n",
       "   Общая площадь жилых помещений  Очередность уборки кровли  \\\n",
       "0                       0.206193                        NaN   \n",
       "1                       0.236385                        NaN   \n",
       "2                       0.236385                        NaN   \n",
       "3                       0.112643                        NaN   \n",
       "4                       0.093244                        0.0   \n",
       "\n",
       "   Признак аварийности здания  Серии проектов  Центральное отопление(контур)  \\\n",
       "0                          0.0            0.00                            0.0   \n",
       "1                          0.0            0.01                            0.2   \n",
       "2                          0.0            0.01                            0.0   \n",
       "3                          0.0            0.02                            0.0   \n",
       "4                          0.0            0.03                            0.0   \n",
       "\n",
       "   Этажность    UNOM  \n",
       "0       0.64   82024  \n",
       "1       0.84  240035  \n",
       "2       0.84  240035  \n",
       "3       0.52   64062  \n",
       "4       0.20    3976  "
      ]
     },
     "execution_count": 17,
     "metadata": {},
     "output_type": "execute_result"
    }
   ],
   "source": [
    "buildings_df.head()"
   ]
  },
  {
   "cell_type": "code",
   "execution_count": 18,
   "metadata": {},
   "outputs": [
    {
     "data": {
      "text/html": [
       "<div>\n",
       "<style scoped>\n",
       "    .dataframe tbody tr th:only-of-type {\n",
       "        vertical-align: middle;\n",
       "    }\n",
       "\n",
       "    .dataframe tbody tr th {\n",
       "        vertical-align: top;\n",
       "    }\n",
       "\n",
       "    .dataframe thead th {\n",
       "        text-align: right;\n",
       "    }\n",
       "</style>\n",
       "<table border=\"1\" class=\"dataframe\">\n",
       "  <thead>\n",
       "    <tr style=\"text-align: right;\">\n",
       "      <th></th>\n",
       "      <th>температура</th>\n",
       "      <th>скорость ветра</th>\n",
       "      <th>давление</th>\n",
       "      <th>timeline</th>\n",
       "      <th>без осадков</th>\n",
       "      <th>дождь</th>\n",
       "      <th>малооблачно</th>\n",
       "      <th>облачно</th>\n",
       "      <th>осадки</th>\n",
       "      <th>пасмурно</th>\n",
       "      <th>сильный снег</th>\n",
       "      <th>слабые осадки</th>\n",
       "      <th>слабый дождь</th>\n",
       "      <th>слабый снег</th>\n",
       "      <th>снег</th>\n",
       "      <th>ясно</th>\n",
       "      <th>days</th>\n",
       "      <th>houres</th>\n",
       "    </tr>\n",
       "  </thead>\n",
       "  <tbody>\n",
       "    <tr>\n",
       "      <th>0</th>\n",
       "      <td>0.428571</td>\n",
       "      <td>0.00000</td>\n",
       "      <td>0.363636</td>\n",
       "      <td>2022-01-01 00:00:00</td>\n",
       "      <td>0</td>\n",
       "      <td>0</td>\n",
       "      <td>0</td>\n",
       "      <td>0</td>\n",
       "      <td>0</td>\n",
       "      <td>1</td>\n",
       "      <td>0</td>\n",
       "      <td>0</td>\n",
       "      <td>0</td>\n",
       "      <td>0</td>\n",
       "      <td>1</td>\n",
       "      <td>0</td>\n",
       "      <td>2022-01-01</td>\n",
       "      <td>2022-01-01 00:00:00</td>\n",
       "    </tr>\n",
       "    <tr>\n",
       "      <th>1</th>\n",
       "      <td>0.428571</td>\n",
       "      <td>0.00000</td>\n",
       "      <td>0.363636</td>\n",
       "      <td>2022-01-01 01:00:00</td>\n",
       "      <td>0</td>\n",
       "      <td>0</td>\n",
       "      <td>0</td>\n",
       "      <td>0</td>\n",
       "      <td>0</td>\n",
       "      <td>1</td>\n",
       "      <td>0</td>\n",
       "      <td>0</td>\n",
       "      <td>0</td>\n",
       "      <td>0</td>\n",
       "      <td>1</td>\n",
       "      <td>0</td>\n",
       "      <td>2022-01-01</td>\n",
       "      <td>2022-01-01 01:00:00</td>\n",
       "    </tr>\n",
       "    <tr>\n",
       "      <th>2</th>\n",
       "      <td>0.428571</td>\n",
       "      <td>0.00000</td>\n",
       "      <td>0.363636</td>\n",
       "      <td>2022-01-01 02:00:00</td>\n",
       "      <td>0</td>\n",
       "      <td>0</td>\n",
       "      <td>0</td>\n",
       "      <td>0</td>\n",
       "      <td>0</td>\n",
       "      <td>1</td>\n",
       "      <td>0</td>\n",
       "      <td>0</td>\n",
       "      <td>0</td>\n",
       "      <td>0</td>\n",
       "      <td>1</td>\n",
       "      <td>0</td>\n",
       "      <td>2022-01-01</td>\n",
       "      <td>2022-01-01 02:00:00</td>\n",
       "    </tr>\n",
       "    <tr>\n",
       "      <th>3</th>\n",
       "      <td>0.457143</td>\n",
       "      <td>0.02439</td>\n",
       "      <td>0.345455</td>\n",
       "      <td>2022-01-01 03:00:00</td>\n",
       "      <td>0</td>\n",
       "      <td>0</td>\n",
       "      <td>0</td>\n",
       "      <td>0</td>\n",
       "      <td>0</td>\n",
       "      <td>1</td>\n",
       "      <td>0</td>\n",
       "      <td>0</td>\n",
       "      <td>0</td>\n",
       "      <td>0</td>\n",
       "      <td>1</td>\n",
       "      <td>0</td>\n",
       "      <td>2022-01-01</td>\n",
       "      <td>2022-01-01 03:00:00</td>\n",
       "    </tr>\n",
       "    <tr>\n",
       "      <th>4</th>\n",
       "      <td>0.457143</td>\n",
       "      <td>0.02439</td>\n",
       "      <td>0.345455</td>\n",
       "      <td>2022-01-01 04:00:00</td>\n",
       "      <td>0</td>\n",
       "      <td>0</td>\n",
       "      <td>0</td>\n",
       "      <td>0</td>\n",
       "      <td>0</td>\n",
       "      <td>1</td>\n",
       "      <td>0</td>\n",
       "      <td>0</td>\n",
       "      <td>0</td>\n",
       "      <td>0</td>\n",
       "      <td>1</td>\n",
       "      <td>0</td>\n",
       "      <td>2022-01-01</td>\n",
       "      <td>2022-01-01 04:00:00</td>\n",
       "    </tr>\n",
       "  </tbody>\n",
       "</table>\n",
       "</div>"
      ],
      "text/plain": [
       "   температура  скорость ветра  давление            timeline  без осадков  \\\n",
       "0     0.428571         0.00000  0.363636 2022-01-01 00:00:00            0   \n",
       "1     0.428571         0.00000  0.363636 2022-01-01 01:00:00            0   \n",
       "2     0.428571         0.00000  0.363636 2022-01-01 02:00:00            0   \n",
       "3     0.457143         0.02439  0.345455 2022-01-01 03:00:00            0   \n",
       "4     0.457143         0.02439  0.345455 2022-01-01 04:00:00            0   \n",
       "\n",
       "   дождь  малооблачно  облачно  осадки  пасмурно  сильный снег  слабые осадки  \\\n",
       "0      0            0        0       0         1             0              0   \n",
       "1      0            0        0       0         1             0              0   \n",
       "2      0            0        0       0         1             0              0   \n",
       "3      0            0        0       0         1             0              0   \n",
       "4      0            0        0       0         1             0              0   \n",
       "\n",
       "   слабый дождь  слабый снег  снег  ясно       days              houres  \n",
       "0             0            0     1     0 2022-01-01 2022-01-01 00:00:00  \n",
       "1             0            0     1     0 2022-01-01 2022-01-01 01:00:00  \n",
       "2             0            0     1     0 2022-01-01 2022-01-01 02:00:00  \n",
       "3             0            0     1     0 2022-01-01 2022-01-01 03:00:00  \n",
       "4             0            0     1     0 2022-01-01 2022-01-01 04:00:00  "
      ]
     },
     "execution_count": 18,
     "metadata": {},
     "output_type": "execute_result"
    }
   ],
   "source": [
    "weather_ts.head()"
   ]
  },
  {
   "cell_type": "markdown",
   "metadata": {},
   "source": [
    "# **Datasets**"
   ]
  },
  {
   "cell_type": "code",
   "execution_count": 19,
   "metadata": {},
   "outputs": [],
   "source": [
    "def get_anomalies_in_day(anomalies, tl_i):\n",
    "    anomalies_idxes = anomalies['days'] == tl_i\n",
    "    n = anomalies_idxes.sum()\n",
    "    return anomalies[anomalies_idxes].drop('days', axis=1).sum(axis=0) / n"
   ]
  },
  {
   "cell_type": "markdown",
   "metadata": {},
   "source": [
    "По погоде, есть таблицы с 4 кластерами но у них явно выраженной дельты нет\n",
    "\n",
    "В общем:\n",
    "- Изменение t = [2, 9, 5.5, 3, 15, 4, 0.6, 11, 1] — явно выделимы\n",
    "\n",
    "-  Изменение по скорости ветра (Был зафиксирован ураган с дельтой 40м/с) но в основном = [0, 0.5, 0.6, 2.4, 1.6 1.1]\n",
    "\n",
    "- Изменение давления = [751, 756, 784] - это скалированное значение, точное назову по позже"
   ]
  },
  {
   "cell_type": "code",
   "execution_count": 20,
   "metadata": {},
   "outputs": [
    {
     "data": {
      "text/plain": [
       "{'температура': {'max': 17.0, 'min': -18.0},\n",
       " 'давление': {'max': 773.0, 'min': 718.0},\n",
       " 'скорость ветра': {'max': 41.0, 'min': 0.0},\n",
       " 'Дата документа о регистрации адреса': {'max': 21924, 'min': 0},\n",
       " 'Дата регистрации адреса в Адресном реестре': {'max': 7304, 'min': 0},\n",
       " 'Износ объекта (по БТИ)': {'max': 63.0, 'min': 0.0},\n",
       " 'Количество грузопассажирских лифтов': {'max': 12.0, 'min': 0.0},\n",
       " 'Количество квартир': {'max': 647.0, 'min': 2.0},\n",
       " 'Количество пассажирских лифтов': {'max': 22.0, 'min': 0.0},\n",
       " 'Количество подъездов': {'max': 15.0, 'min': 1.0},\n",
       " 'Количество этажей': {'max': 26, 'min': 1},\n",
       " 'Марка счетчика': {'max': 21, 'min': 0},\n",
       " 'Материалы кровли по БТИ': {'max': 7, 'min': 0},\n",
       " 'Материалы стен': {'max': 19, 'min': 0},\n",
       " 'Общая площадь': {'max': 40837.9, 'min': 426.7},\n",
       " 'Общая площадь жилых помещений': {'max': 40587.5, 'min': 388.7},\n",
       " 'Очередность уборки кровли': {'max': 2.0, 'min': 1.0},\n",
       " 'Признак аварийности здания': {'max': 1, 'min': 0},\n",
       " 'Серии проектов': {'max': 100, 'min': 0},\n",
       " 'Центральное отопление(контур)': {'max': 5, 'min': 0},\n",
       " 'Этажность': {'max': 26.0, 'min': 1.0}}"
      ]
     },
     "execution_count": 20,
     "metadata": {},
     "output_type": "execute_result"
    }
   ],
   "source": [
    "scaled_data"
   ]
  },
  {
   "cell_type": "code",
   "execution_count": 21,
   "metadata": {},
   "outputs": [],
   "source": [
    "class DataSetForDayAnomalyPredictionForNN(Dataset):\n",
    "    def __init__(self, \n",
    "        buildings_df: pd.DataFrame, \n",
    "        anomalies_ts: pd.DataFrame, \n",
    "        weather_ts: pd.DataFrame, \n",
    "        # time='day',\n",
    "    ):\n",
    "        self.buildings_df = buildings_df\n",
    "        self.anomalies_ts = anomalies_ts\n",
    "        self.weather_ts = weather_ts\n",
    "        self.unom_ids = np.unique(self.buildings_df['UNOM'].astype(int).to_list() + self.anomalies_ts['UNOM'].astype(int).to_list())\n",
    "\n",
    "        self.tl = make_timeline_for_period(2023, 24)\n",
    "        \n",
    "    \n",
    "    def __len__(self):\n",
    "        return len(self.unom_ids)\n",
    "\n",
    "\n",
    "    def __getitem__(self, idx):\n",
    "        unom_id = self.unom_ids[idx]\n",
    "        building_info = self.buildings_df.loc[self.buildings_df['UNOM'] == unom_id].fillna(-1)\n",
    "        anomalies_info = self.anomalies_ts.loc[self.anomalies_ts['UNOM'] == unom_id]\n",
    "        weather_ts_days = self.weather_ts.loc[::1]\n",
    "        anomalies = pd.merge(weather_ts_days, anomalies_info, on='days', how='left').drop([\n",
    "            'timeline', 'houres_y', 'houres_x', 'UNOM', 'Дата закрытия', 'Дата создания во внешней системе'], \n",
    "            axis=1\n",
    "        ).drop_duplicates()\n",
    "        anomalies = anomalies.fillna(0)\n",
    "        # l = list(map(lambda a: get_anomalies_in_day(anomalies, a), self.tl))\n",
    "        l = []\n",
    "        for i in self.tl:\n",
    "            anomalies_idxes = anomalies['days'] == i\n",
    "            n = anomalies_idxes.sum()\n",
    "            l.append(anomalies[anomalies_idxes].drop('days', axis=1).sum(axis=0) / n)\n",
    "        anomalies = pd.concat(l, axis=1).T\n",
    "        uc = anomalies.columns.isin(ColumnsInfo.usefull_events)\n",
    "        history_of_events = anomalies.loc[:,~uc]\n",
    "        anomalies = anomalies.loc[:,uc]\n",
    "        building_info = building_info.drop('UNOM', axis=1)\n",
    "        # return building_info, history_of_events, anomalies\n",
    "        # print(building_info.columns)\n",
    "        if building_info.shape[0] != 0:\n",
    "            bi = building_info.drop_duplicates()\n",
    "            bi = T.from_numpy(bi.iloc[0].values).squeeze()\n",
    "        else:\n",
    "            bi = T.zeros(18)   \n",
    "        if bi.shape[0] == 0:\n",
    "            bi = T.zeros(18) \n",
    "\n",
    "        return bi, T.from_numpy(history_of_events.fillna(-1).values), T.from_numpy(anomalies.values > 0)\n",
    "        "
   ]
  },
  {
   "cell_type": "code",
   "execution_count": 22,
   "metadata": {},
   "outputs": [],
   "source": [
    "d = DataSetForDayAnomalyPredictionForNN(\n",
    "    anomalies_ts=anomalies_ts,\n",
    "    weather_ts=weather_ts,\n",
    "    buildings_df=buildings_df\n",
    ")\n",
    "\n",
    "dl = DataLoader(d, batch_size=128, shuffle=True, num_workers=12)\n"
   ]
  },
  {
   "cell_type": "code",
   "execution_count": 23,
   "metadata": {},
   "outputs": [
    {
     "name": "stdout",
     "output_type": "stream",
     "text": [
      "torch.Size([18]) torch.Size([213, 15]) torch.Size([213, 12])\n"
     ]
    }
   ],
   "source": [
    "n = 6\n",
    "print(d[n][0].shape, d[n][1].shape, d[n][2].shape)"
   ]
  },
  {
   "cell_type": "code",
   "execution_count": 24,
   "metadata": {},
   "outputs": [],
   "source": [
    "x1,x2,yt = next(iter(dl))"
   ]
  },
  {
   "cell_type": "markdown",
   "metadata": {},
   "source": [
    "# Naive model 1"
   ]
  },
  {
   "cell_type": "code",
   "execution_count": 25,
   "metadata": {},
   "outputs": [],
   "source": [
    "class AnomalyDayModelTSEncoderConved(nn.Module):\n",
    "    def __init__(self):\n",
    "        super().__init__()\n",
    "        self.m = nn.Sequential(\n",
    "            nn.Conv2d(in_channels=1, out_channels=8, kernel_size=(3, 2), padding=2),\n",
    "            nn.AvgPool2d(kernel_size=(2, 2)),\n",
    "            nn.Conv2d(in_channels=8, out_channels=16, kernel_size=(3, 3), padding=2),\n",
    "            nn.MaxPool2d(kernel_size=(2, 1)),\n",
    "            nn.Conv2d(in_channels=16, out_channels=32, kernel_size=(3, 3), padding=2),\n",
    "            nn.AvgPool2d(kernel_size=(2, 1)),\n",
    "            nn.Conv2d(in_channels=32, out_channels=64, kernel_size=(3, 3), padding=2),\n",
    "            nn.AvgPool2d(kernel_size=(2, 1)),\n",
    "            nn.Conv2d(in_channels=64, out_channels=128, kernel_size=(3, 3), padding=2),\n",
    "            nn.MaxPool2d(kernel_size=(3, 3)),\n",
    "            nn.Conv2d(in_channels=128, out_channels=256, kernel_size=(3, 3), padding=1),\n",
    "            nn.AvgPool2d(kernel_size=(3, 3)),\n",
    "            nn.Flatten(1),\n",
    "        )\n",
    "    \n",
    "    def forward(self, x):\n",
    "        return ff.tanh(self.m(x))"
   ]
  },
  {
   "cell_type": "code",
   "execution_count": 26,
   "metadata": {},
   "outputs": [],
   "source": [
    "def init_weights(m):\n",
    "    try:\n",
    "        nn.init.kaiming_normal_(m.weight)\n",
    "        m.bias.data.fill_(0.01)\n",
    "    except:\n",
    "        pass"
   ]
  },
  {
   "cell_type": "code",
   "execution_count": 27,
   "metadata": {},
   "outputs": [
    {
     "data": {
      "text/plain": [
       "torch.Size([128, 256])"
      ]
     },
     "execution_count": 27,
     "metadata": {},
     "output_type": "execute_result"
    }
   ],
   "source": [
    "p = AnomalyDayModelTSEncoderConved().apply(init_weights)(x2.float().unsqueeze(1))\n",
    "p.shape"
   ]
  },
  {
   "cell_type": "code",
   "execution_count": 28,
   "metadata": {},
   "outputs": [],
   "source": [
    "class AnomalyDayModelTSEncoderRecur(nn.Module):\n",
    "    def __init__(self):\n",
    "        super().__init__()\n",
    "        self.rnn1 = nn.LSTM(15, 5, 2, bidirectional=True, batch_first=True)\n",
    "        self.rnn2 = nn.LSTM(10, 2, 2, bidirectional=True, batch_first=True)\n",
    "        self.rnn3 = nn.LSTM(4, 1, 2, bidirectional=True, batch_first=True)\n",
    "        self.conv = nn.Conv1d(2, out_channels=1, kernel_size=2)\n",
    "        self.line = nn.Linear(212, 256)\n",
    "    \n",
    "    def forward(self, x):\n",
    "        x_1, (h_, c_) =  self.rnn1(x)\n",
    "        h_1 = ff.max_pool1d(h_, 2)\n",
    "        c_1 = ff.max_pool1d(c_, 2)\n",
    "        x_2, (h__, c__) = self.rnn2(x_1, (h_1, c_1))\n",
    "        h_2 = ff.max_pool1d(h__, 2)\n",
    "        c_2 = ff.max_pool1d(c__, 2)\n",
    "        x3, (___, __) = self.rnn3(x_2, (h_2, c_2))\n",
    "        x4 = self.conv(x3.transpose(1, 2)).squeeze(dim=1)\n",
    "        x5 = self.line(x4)\n",
    "        return ff.tanh(x5)"
   ]
  },
  {
   "cell_type": "code",
   "execution_count": 29,
   "metadata": {},
   "outputs": [
    {
     "data": {
      "text/plain": [
       "torch.Size([128, 256])"
      ]
     },
     "execution_count": 29,
     "metadata": {},
     "output_type": "execute_result"
    }
   ],
   "source": [
    "p = AnomalyDayModelTSEncoderRecur().apply(init_weights)(x2.float())\n",
    "p.shape"
   ]
  },
  {
   "cell_type": "code",
   "execution_count": 30,
   "metadata": {},
   "outputs": [],
   "source": [
    "class AnomalyDayModelBuildingEncoder(nn.Module):\n",
    "    def __init__(self):\n",
    "        super().__init__()\n",
    "        self.line = nn.Sequential(\n",
    "            nn.Linear(18, 32),\n",
    "            nn.Tanh(),\n",
    "            nn.Linear(32, 64),\n",
    "            nn.Tanh(),\n",
    "            nn.Linear(64, 128),\n",
    "            nn.Tanh(),\n",
    "            nn.Linear(128, 256),\n",
    "            nn.Tanh(),\n",
    "        )\n",
    "    def forward(self, x):\n",
    "        return self.line(x)"
   ]
  },
  {
   "cell_type": "code",
   "execution_count": 31,
   "metadata": {},
   "outputs": [
    {
     "data": {
      "text/plain": [
       "torch.Size([128, 256])"
      ]
     },
     "execution_count": 31,
     "metadata": {},
     "output_type": "execute_result"
    }
   ],
   "source": [
    "AnomalyDayModelBuildingEncoder()(x1.float()).shape"
   ]
  },
  {
   "cell_type": "code",
   "execution_count": 32,
   "metadata": {},
   "outputs": [],
   "source": [
    "class AnomalyDayModelIsAnomalyDay(nn.Module):\n",
    "    def __init__(self, n=2):\n",
    "        super().__init__()\n",
    "        self.line = nn.Sequential(\n",
    "            nn.Linear(256*n, 512),\n",
    "            nn.Tanh(),\n",
    "            nn.Linear(512, 312),\n",
    "            nn.Tanh(),\n",
    "            nn.Linear(312, 213)\n",
    "        )\n",
    "    def forward(self, x):\n",
    "        return ff.sigmoid(self.line(x))"
   ]
  },
  {
   "cell_type": "code",
   "execution_count": 33,
   "metadata": {},
   "outputs": [
    {
     "data": {
      "text/plain": [
       "torch.Size([32, 213])"
      ]
     },
     "execution_count": 33,
     "metadata": {},
     "output_type": "execute_result"
    }
   ],
   "source": [
    "AnomalyDayModelIsAnomalyDay()(T.randn(32, 256*2)).shape"
   ]
  },
  {
   "cell_type": "code",
   "execution_count": 34,
   "metadata": {},
   "outputs": [],
   "source": [
    "class CriticEbcoders(nn.Module):\n",
    "    def __init__(self, n=2):\n",
    "        super().__init__()\n",
    "        self.line = nn.Sequential(\n",
    "            nn.Linear(256*n, 128),\n",
    "            nn.Tanh(),\n",
    "            nn.Linear(128, 32),\n",
    "            nn.Tanh(),\n",
    "            nn.Linear(32, 1)\n",
    "        )\n",
    "    def forward(self, x):\n",
    "        return (ff.tanh(self.line(x)) + 1) / 2"
   ]
  },
  {
   "cell_type": "code",
   "execution_count": 35,
   "metadata": {},
   "outputs": [],
   "source": [
    "class CriticOutput(nn.Module):\n",
    "    def __init__(self, n=2):\n",
    "        super().__init__()\n",
    "        self.line = nn.Sequential(\n",
    "            nn.Linear(213, 128),\n",
    "            nn.Tanh(),\n",
    "            nn.Linear(128, 32),\n",
    "            nn.Tanh(),\n",
    "            nn.Linear(32, 1)\n",
    "        )\n",
    "    def forward(self, x):\n",
    "        return (ff.tanh(self.line(x)) + 1) / 2"
   ]
  },
  {
   "cell_type": "code",
   "execution_count": 36,
   "metadata": {},
   "outputs": [],
   "source": [
    "class IsAnomalyDayModel(nn.Module):\n",
    "    def __init__(self, \n",
    "        encoder_ts_1: AnomalyDayModelTSEncoderConved, \n",
    "        # encoder_ts_2: AnomalyDayModelTSEncoderRecur, \n",
    "        encoder_buildings: AnomalyDayModelBuildingEncoder,\n",
    "        predictor: AnomalyDayModelIsAnomalyDay\n",
    "    ):\n",
    "        super().__init__()\n",
    "        self.encoder_ts_1 = encoder_ts_1\n",
    "        # self.encoder_ts_2 =  encoder_ts_2\n",
    "        self.encoder_buildings = encoder_buildings\n",
    "        self.predictor = predictor\n",
    "    \n",
    "    def forward(self, x_ts, x_b):\n",
    "        x_ts_1 = self.encoder_ts_1(x_ts.unsqueeze(1))\n",
    "        # x_ts_2 = self.encoder_ts_2(x_ts)\n",
    "        x_bd = self.encoder_buildings(x_b)\n",
    "        x_e = T.cat([\n",
    "            x_ts_1, \n",
    "            # x_ts_2, \n",
    "            x_bd\n",
    "        ], dim=1)\n",
    "        p = self.predictor(x_e)\n",
    "        return p"
   ]
  },
  {
   "cell_type": "code",
   "execution_count": 37,
   "metadata": {},
   "outputs": [],
   "source": [
    "def process_data_to_model_bin(x1, x2, device=device):\n",
    "    return x1.float().to(device), x2.float().to(device)\n"
   ]
  },
  {
   "cell_type": "code",
   "execution_count": 38,
   "metadata": {},
   "outputs": [],
   "source": [
    "encoder_ts_1 = AnomalyDayModelTSEncoderConved().apply(init_weights).to(device)\n",
    "encoder_ts_2 = AnomalyDayModelTSEncoderRecur().apply(init_weights).to(device)\n",
    "encoder_buildings = AnomalyDayModelBuildingEncoder().apply(init_weights).to(device)\n",
    "predictor = AnomalyDayModelIsAnomalyDay().apply(init_weights).to(device)\n",
    "\n",
    "critic_encoder = CriticEbcoders().to('cuda')\n",
    "critic_output = CriticOutput().to('cuda')"
   ]
  },
  {
   "cell_type": "code",
   "execution_count": 39,
   "metadata": {},
   "outputs": [
    {
     "data": {
      "text/plain": [
       "tensor([[0.5801, 0.2535, 0.7281,  ..., 0.1995, 0.5664, 0.4187],\n",
       "        [0.5670, 0.3787, 0.6786,  ..., 0.2122, 0.7140, 0.3805],\n",
       "        [0.4487, 0.2335, 0.4787,  ..., 0.3548, 0.6573, 0.3244],\n",
       "        ...,\n",
       "        [0.5777, 0.3260, 0.5918,  ..., 0.2049, 0.5373, 0.3350],\n",
       "        [0.5072, 0.2891, 0.5792,  ..., 0.4183, 0.6764, 0.2421],\n",
       "        [0.5092, 0.2891, 0.5734,  ..., 0.4165, 0.6792, 0.2450]],\n",
       "       device='cuda:0', grad_fn=<SigmoidBackward0>)"
      ]
     },
     "execution_count": 39,
     "metadata": {},
     "output_type": "execute_result"
    }
   ],
   "source": [
    "is_anomaly_day_model = IsAnomalyDayModel(\n",
    "    encoder_ts_1, \n",
    "    # encoder_ts_2, \n",
    "    encoder_buildings, \n",
    "    predictor\n",
    ").to(device)\n",
    "p = is_anomaly_day_model(x2.float().to(device), x1.float().to(device))\n",
    "p"
   ]
  },
  {
   "cell_type": "code",
   "execution_count": 40,
   "metadata": {},
   "outputs": [],
   "source": [
    "yt_p = yt.float()\n",
    "def process_yt(yt):\n",
    "    yt_p = (yt.sum(dim=2) > 0).float()\n",
    "    l1 = T.roll(ff.pad(yt_p, (0,1), 'constant', 0), 1, dims=1)[:, :-1]*0.5\n",
    "    r1 = T.roll(ff.pad(yt_p, (1, 0), 'constant', 0), -1, dims=1)[:, 1:]*0.5\n",
    "    l2 = T.roll(ff.pad(yt_p, (0,2), 'constant', 0), 2, dims=1)[:, :-2]*0.125\n",
    "    r2 = T.roll(ff.pad(yt_p, (2, 0), 'constant', 0), -2, dims=1)[:, 2:]*0.125\n",
    "    l3 = T.roll(ff.pad(yt_p, (0,3), 'constant', 0), 3, dims=1)[:, :-3]*0.025\n",
    "    r3 = T.roll(ff.pad(yt_p, (3, 0), 'constant', 0), -3, dims=1)[:, 3:]*0.025\n",
    "    # print(r1.shape)\n",
    "    return T.clip(yt_p + l1 + r1 + l2 + r2 + l3 + r3, 0, 1)"
   ]
  },
  {
   "cell_type": "code",
   "execution_count": 41,
   "metadata": {},
   "outputs": [
    {
     "data": {
      "text/plain": [
       "(torch.Size([128, 213, 12]), torch.Size([128, 213, 13]))"
      ]
     },
     "execution_count": 41,
     "metadata": {},
     "output_type": "execute_result"
    }
   ],
   "source": [
    "yt_p.shape, ff.pad(yt_p, (0,1), 'constant', 0).shape"
   ]
  },
  {
   "cell_type": "code",
   "execution_count": 42,
   "metadata": {},
   "outputs": [
    {
     "data": {
      "text/plain": [
       "tensor([0.0000, 0.0000, 0.0000, 0.0000, 0.0000, 0.0000, 0.0250, 0.1500, 0.6250,\n",
       "        1.0000, 1.0000, 1.0000, 1.0000, 1.0000, 0.6250, 0.1500, 0.0250, 0.0000,\n",
       "        0.0000, 0.0000, 0.0000, 0.0000, 0.0000, 0.0000, 0.0250, 0.1500, 0.6250,\n",
       "        1.0000, 1.0000, 0.6250, 0.1500, 0.0250, 0.0000, 0.0000, 0.0000, 0.0000,\n",
       "        0.0000, 0.0250, 0.1500, 0.6500, 1.0000, 1.0000, 1.0000, 0.6500, 0.1500,\n",
       "        0.0250, 0.0000, 0.0000, 0.0000, 0.0000, 0.0000, 0.0000, 0.0000, 0.0000,\n",
       "        0.0000, 0.0000, 0.0000, 0.0000, 0.0000, 0.0000, 0.0000, 0.0000, 0.0000,\n",
       "        0.0000, 0.0000, 0.0000, 0.0000, 0.0250, 0.1500, 0.6500, 1.0000, 1.0000,\n",
       "        1.0000, 1.0000, 1.0000, 0.5500, 0.2750, 0.6750, 1.0000, 1.0000, 1.0000,\n",
       "        1.0000, 0.6500, 0.1500, 0.0250, 0.0000, 0.0000, 0.0000, 0.0000, 0.0000,\n",
       "        0.0000, 0.0000, 0.0000, 0.0000, 0.0000, 0.0000, 0.0000, 0.0000, 0.0000,\n",
       "        0.0000, 0.0000, 0.0000, 0.0000, 0.0000, 0.0000, 0.0000, 0.0000, 0.0000,\n",
       "        0.0250, 0.1250, 0.5000, 1.0000, 0.5000, 0.1250, 0.0250, 0.0000, 0.0000,\n",
       "        0.0000, 0.0000, 0.0000, 0.0000, 0.0000, 0.0250, 0.1250, 0.5000, 1.0000,\n",
       "        0.5000, 0.1250, 0.0250, 0.0000, 0.0000, 0.0000, 0.0000, 0.0000, 0.0000,\n",
       "        0.0000, 0.0000, 0.0000, 0.0000, 0.0000, 0.0000, 0.0000, 0.0000, 0.0000,\n",
       "        0.0000, 0.0000, 0.0000, 0.0000, 0.0000, 0.0000, 0.0000, 0.0000, 0.0000,\n",
       "        0.0000, 0.0000, 0.0000, 0.0000, 0.0000, 0.0000, 0.0000, 0.0000, 0.0000,\n",
       "        0.0000, 0.0000, 0.0000, 0.0000, 0.0000, 0.0000, 0.0000, 0.0000, 0.0000,\n",
       "        0.0000, 0.0000, 0.0000, 0.0000, 0.0000, 0.0000, 0.0000, 0.0000, 0.0000,\n",
       "        0.0000, 0.0000, 0.0000, 0.0000, 0.0000, 0.0000, 0.0000, 0.0000, 0.0000,\n",
       "        0.0000, 0.0000, 0.0000, 0.0000, 0.0000, 0.0000, 0.0000, 0.0000, 0.0000,\n",
       "        0.0000, 0.0000, 0.0000, 0.0000, 0.0000, 0.0000, 0.0000, 0.0000, 0.0000,\n",
       "        0.0000, 0.0000, 0.0000, 0.0000, 0.0000, 0.0000])"
      ]
     },
     "execution_count": 42,
     "metadata": {},
     "output_type": "execute_result"
    }
   ],
   "source": [
    "process_yt(yt_p)[1]"
   ]
  },
  {
   "cell_type": "code",
   "execution_count": 43,
   "metadata": {},
   "outputs": [],
   "source": [
    "m1 = is_anomaly_day_model.to(device)"
   ]
  },
  {
   "cell_type": "code",
   "execution_count": 44,
   "metadata": {},
   "outputs": [],
   "source": [
    "loss_fun = nn.MSELoss()\n",
    "optimizer1 = T.optim.Adam(m1.parameters(), lr=0.001)\n",
    "optimizer2 = T.optim.Adam(critic_encoder.parameters(), lr=0.001)\n",
    "optimizer3 = T.optim.Adam(critic_output.parameters(), lr=0.001)"
   ]
  },
  {
   "cell_type": "code",
   "execution_count": 45,
   "metadata": {},
   "outputs": [
    {
     "data": {
      "text/plain": [
       "torch.Size([128, 213, 12])"
      ]
     },
     "execution_count": 45,
     "metadata": {},
     "output_type": "execute_result"
    }
   ],
   "source": [
    "yt.shape"
   ]
  },
  {
   "cell_type": "code",
   "execution_count": 47,
   "metadata": {},
   "outputs": [
    {
     "name": "stderr",
     "output_type": "stream",
     "text": [
      "100%|██████████| 36/36 [04:18<00:00,  7.17s/it]  \n"
     ]
    },
    {
     "name": "stdout",
     "output_type": "stream",
     "text": [
      "0 0.26525528977314633 0.2630670666694641\n"
     ]
    },
    {
     "name": "stderr",
     "output_type": "stream",
     "text": [
      "100%|██████████| 36/36 [03:07<00:00,  5.20s/it]\n"
     ]
    },
    {
     "name": "stdout",
     "output_type": "stream",
     "text": [
      "1 0.26517290208074784 0.2624443769454956\n"
     ]
    },
    {
     "name": "stderr",
     "output_type": "stream",
     "text": [
      "100%|██████████| 36/36 [03:23<00:00,  5.65s/it]\n"
     ]
    },
    {
     "name": "stdout",
     "output_type": "stream",
     "text": [
      "2 0.26522233751085067 0.26235800981521606\n"
     ]
    },
    {
     "name": "stderr",
     "output_type": "stream",
     "text": [
      "100%|██████████| 36/36 [03:14<00:00,  5.39s/it]\n"
     ]
    },
    {
     "name": "stdout",
     "output_type": "stream",
     "text": [
      "3 0.2651935915152232 0.2621940076351166\n"
     ]
    },
    {
     "name": "stderr",
     "output_type": "stream",
     "text": [
      "  0%|          | 0/36 [01:01<?, ?it/s]\n"
     ]
    },
    {
     "ename": "KeyboardInterrupt",
     "evalue": "",
     "output_type": "error",
     "traceback": [
      "\u001b[0;31m---------------------------------------------------------------------------\u001b[0m",
      "\u001b[0;31mKeyboardInterrupt\u001b[0m                         Traceback (most recent call last)",
      "Cell \u001b[0;32mIn[47], line 6\u001b[0m\n\u001b[1;32m      4\u001b[0m \u001b[38;5;28;01mfor\u001b[39;00m e \u001b[38;5;129;01min\u001b[39;00m \u001b[38;5;28mrange\u001b[39m(\u001b[38;5;241m10\u001b[39m):\n\u001b[1;32m      5\u001b[0m     k \u001b[38;5;241m=\u001b[39m \u001b[38;5;241m0\u001b[39m\n\u001b[0;32m----> 6\u001b[0m \u001b[43m    \u001b[49m\u001b[38;5;28;43;01mfor\u001b[39;49;00m\u001b[43m \u001b[49m\u001b[43mx1\u001b[49m\u001b[43m,\u001b[49m\u001b[43m \u001b[49m\u001b[43mx2\u001b[49m\u001b[43m,\u001b[49m\u001b[43m \u001b[49m\u001b[43myt\u001b[49m\u001b[43m \u001b[49m\u001b[38;5;129;43;01min\u001b[39;49;00m\u001b[43m \u001b[49m\u001b[43mtqdm\u001b[49m\u001b[43m(\u001b[49m\u001b[43mdl\u001b[49m\u001b[43m)\u001b[49m\u001b[43m:\u001b[49m\n\u001b[1;32m      7\u001b[0m \u001b[43m        \u001b[49m\u001b[43mx_proc_1\u001b[49m\u001b[43m,\u001b[49m\u001b[43m \u001b[49m\u001b[43mx_proc_2\u001b[49m\u001b[43m \u001b[49m\u001b[38;5;241;43m=\u001b[39;49m\u001b[43m \u001b[49m\u001b[43mprocess_data_to_model_bin\u001b[49m\u001b[43m(\u001b[49m\u001b[43mx1\u001b[49m\u001b[43m,\u001b[49m\u001b[43m \u001b[49m\u001b[43mx2\u001b[49m\u001b[43m)\u001b[49m\n\u001b[1;32m      8\u001b[0m \u001b[43m        \u001b[49m\u001b[43mp\u001b[49m\u001b[43m \u001b[49m\u001b[38;5;241;43m=\u001b[39;49m\u001b[43m \u001b[49m\u001b[43mm1\u001b[49m\u001b[43m(\u001b[49m\u001b[43mx_proc_2\u001b[49m\u001b[43m,\u001b[49m\u001b[43m \u001b[49m\u001b[43mx_proc_1\u001b[49m\u001b[43m)\u001b[49m\n",
      "File \u001b[0;32m~/6semak/LDB_Summer_Moscow_2024__Task_10/venv/lib/python3.12/site-packages/tqdm/std.py:1181\u001b[0m, in \u001b[0;36mtqdm.__iter__\u001b[0;34m(self)\u001b[0m\n\u001b[1;32m   1178\u001b[0m time \u001b[38;5;241m=\u001b[39m \u001b[38;5;28mself\u001b[39m\u001b[38;5;241m.\u001b[39m_time\n\u001b[1;32m   1180\u001b[0m \u001b[38;5;28;01mtry\u001b[39;00m:\n\u001b[0;32m-> 1181\u001b[0m \u001b[43m    \u001b[49m\u001b[38;5;28;43;01mfor\u001b[39;49;00m\u001b[43m \u001b[49m\u001b[43mobj\u001b[49m\u001b[43m \u001b[49m\u001b[38;5;129;43;01min\u001b[39;49;00m\u001b[43m \u001b[49m\u001b[43miterable\u001b[49m\u001b[43m:\u001b[49m\n\u001b[1;32m   1182\u001b[0m \u001b[43m        \u001b[49m\u001b[38;5;28;43;01myield\u001b[39;49;00m\u001b[43m \u001b[49m\u001b[43mobj\u001b[49m\n\u001b[1;32m   1183\u001b[0m \u001b[43m        \u001b[49m\u001b[38;5;66;43;03m# Update and possibly print the progressbar.\u001b[39;49;00m\n\u001b[1;32m   1184\u001b[0m \u001b[43m        \u001b[49m\u001b[38;5;66;43;03m# Note: does not call self.update(1) for speed optimisation.\u001b[39;49;00m\n",
      "File \u001b[0;32m~/6semak/LDB_Summer_Moscow_2024__Task_10/venv/lib/python3.12/site-packages/torch/utils/data/dataloader.py:631\u001b[0m, in \u001b[0;36m_BaseDataLoaderIter.__next__\u001b[0;34m(self)\u001b[0m\n\u001b[1;32m    628\u001b[0m \u001b[38;5;28;01mif\u001b[39;00m \u001b[38;5;28mself\u001b[39m\u001b[38;5;241m.\u001b[39m_sampler_iter \u001b[38;5;129;01mis\u001b[39;00m \u001b[38;5;28;01mNone\u001b[39;00m:\n\u001b[1;32m    629\u001b[0m     \u001b[38;5;66;03m# TODO(https://github.com/pytorch/pytorch/issues/76750)\u001b[39;00m\n\u001b[1;32m    630\u001b[0m     \u001b[38;5;28mself\u001b[39m\u001b[38;5;241m.\u001b[39m_reset()  \u001b[38;5;66;03m# type: ignore[call-arg]\u001b[39;00m\n\u001b[0;32m--> 631\u001b[0m data \u001b[38;5;241m=\u001b[39m \u001b[38;5;28;43mself\u001b[39;49m\u001b[38;5;241;43m.\u001b[39;49m\u001b[43m_next_data\u001b[49m\u001b[43m(\u001b[49m\u001b[43m)\u001b[49m\n\u001b[1;32m    632\u001b[0m \u001b[38;5;28mself\u001b[39m\u001b[38;5;241m.\u001b[39m_num_yielded \u001b[38;5;241m+\u001b[39m\u001b[38;5;241m=\u001b[39m \u001b[38;5;241m1\u001b[39m\n\u001b[1;32m    633\u001b[0m \u001b[38;5;28;01mif\u001b[39;00m \u001b[38;5;28mself\u001b[39m\u001b[38;5;241m.\u001b[39m_dataset_kind \u001b[38;5;241m==\u001b[39m _DatasetKind\u001b[38;5;241m.\u001b[39mIterable \u001b[38;5;129;01mand\u001b[39;00m \\\n\u001b[1;32m    634\u001b[0m         \u001b[38;5;28mself\u001b[39m\u001b[38;5;241m.\u001b[39m_IterableDataset_len_called \u001b[38;5;129;01mis\u001b[39;00m \u001b[38;5;129;01mnot\u001b[39;00m \u001b[38;5;28;01mNone\u001b[39;00m \u001b[38;5;129;01mand\u001b[39;00m \\\n\u001b[1;32m    635\u001b[0m         \u001b[38;5;28mself\u001b[39m\u001b[38;5;241m.\u001b[39m_num_yielded \u001b[38;5;241m>\u001b[39m \u001b[38;5;28mself\u001b[39m\u001b[38;5;241m.\u001b[39m_IterableDataset_len_called:\n",
      "File \u001b[0;32m~/6semak/LDB_Summer_Moscow_2024__Task_10/venv/lib/python3.12/site-packages/torch/utils/data/dataloader.py:1329\u001b[0m, in \u001b[0;36m_MultiProcessingDataLoaderIter._next_data\u001b[0;34m(self)\u001b[0m\n\u001b[1;32m   1326\u001b[0m     \u001b[38;5;28;01mreturn\u001b[39;00m \u001b[38;5;28mself\u001b[39m\u001b[38;5;241m.\u001b[39m_process_data(data)\n\u001b[1;32m   1328\u001b[0m \u001b[38;5;28;01massert\u001b[39;00m \u001b[38;5;129;01mnot\u001b[39;00m \u001b[38;5;28mself\u001b[39m\u001b[38;5;241m.\u001b[39m_shutdown \u001b[38;5;129;01mand\u001b[39;00m \u001b[38;5;28mself\u001b[39m\u001b[38;5;241m.\u001b[39m_tasks_outstanding \u001b[38;5;241m>\u001b[39m \u001b[38;5;241m0\u001b[39m\n\u001b[0;32m-> 1329\u001b[0m idx, data \u001b[38;5;241m=\u001b[39m \u001b[38;5;28;43mself\u001b[39;49m\u001b[38;5;241;43m.\u001b[39;49m\u001b[43m_get_data\u001b[49m\u001b[43m(\u001b[49m\u001b[43m)\u001b[49m\n\u001b[1;32m   1330\u001b[0m \u001b[38;5;28mself\u001b[39m\u001b[38;5;241m.\u001b[39m_tasks_outstanding \u001b[38;5;241m-\u001b[39m\u001b[38;5;241m=\u001b[39m \u001b[38;5;241m1\u001b[39m\n\u001b[1;32m   1331\u001b[0m \u001b[38;5;28;01mif\u001b[39;00m \u001b[38;5;28mself\u001b[39m\u001b[38;5;241m.\u001b[39m_dataset_kind \u001b[38;5;241m==\u001b[39m _DatasetKind\u001b[38;5;241m.\u001b[39mIterable:\n\u001b[1;32m   1332\u001b[0m     \u001b[38;5;66;03m# Check for _IterableDatasetStopIteration\u001b[39;00m\n",
      "File \u001b[0;32m~/6semak/LDB_Summer_Moscow_2024__Task_10/venv/lib/python3.12/site-packages/torch/utils/data/dataloader.py:1295\u001b[0m, in \u001b[0;36m_MultiProcessingDataLoaderIter._get_data\u001b[0;34m(self)\u001b[0m\n\u001b[1;32m   1291\u001b[0m     \u001b[38;5;66;03m# In this case, `self._data_queue` is a `queue.Queue`,. But we don't\u001b[39;00m\n\u001b[1;32m   1292\u001b[0m     \u001b[38;5;66;03m# need to call `.task_done()` because we don't use `.join()`.\u001b[39;00m\n\u001b[1;32m   1293\u001b[0m \u001b[38;5;28;01melse\u001b[39;00m:\n\u001b[1;32m   1294\u001b[0m     \u001b[38;5;28;01mwhile\u001b[39;00m \u001b[38;5;28;01mTrue\u001b[39;00m:\n\u001b[0;32m-> 1295\u001b[0m         success, data \u001b[38;5;241m=\u001b[39m \u001b[38;5;28;43mself\u001b[39;49m\u001b[38;5;241;43m.\u001b[39;49m\u001b[43m_try_get_data\u001b[49m\u001b[43m(\u001b[49m\u001b[43m)\u001b[49m\n\u001b[1;32m   1296\u001b[0m         \u001b[38;5;28;01mif\u001b[39;00m success:\n\u001b[1;32m   1297\u001b[0m             \u001b[38;5;28;01mreturn\u001b[39;00m data\n",
      "File \u001b[0;32m~/6semak/LDB_Summer_Moscow_2024__Task_10/venv/lib/python3.12/site-packages/torch/utils/data/dataloader.py:1133\u001b[0m, in \u001b[0;36m_MultiProcessingDataLoaderIter._try_get_data\u001b[0;34m(self, timeout)\u001b[0m\n\u001b[1;32m   1120\u001b[0m \u001b[38;5;28;01mdef\u001b[39;00m \u001b[38;5;21m_try_get_data\u001b[39m(\u001b[38;5;28mself\u001b[39m, timeout\u001b[38;5;241m=\u001b[39m_utils\u001b[38;5;241m.\u001b[39mMP_STATUS_CHECK_INTERVAL):\n\u001b[1;32m   1121\u001b[0m     \u001b[38;5;66;03m# Tries to fetch data from `self._data_queue` once for a given timeout.\u001b[39;00m\n\u001b[1;32m   1122\u001b[0m     \u001b[38;5;66;03m# This can also be used as inner loop of fetching without timeout, with\u001b[39;00m\n\u001b[0;32m   (...)\u001b[0m\n\u001b[1;32m   1130\u001b[0m     \u001b[38;5;66;03m# Returns a 2-tuple:\u001b[39;00m\n\u001b[1;32m   1131\u001b[0m     \u001b[38;5;66;03m#   (bool: whether successfully get data, any: data if successful else None)\u001b[39;00m\n\u001b[1;32m   1132\u001b[0m     \u001b[38;5;28;01mtry\u001b[39;00m:\n\u001b[0;32m-> 1133\u001b[0m         data \u001b[38;5;241m=\u001b[39m \u001b[38;5;28;43mself\u001b[39;49m\u001b[38;5;241;43m.\u001b[39;49m\u001b[43m_data_queue\u001b[49m\u001b[38;5;241;43m.\u001b[39;49m\u001b[43mget\u001b[49m\u001b[43m(\u001b[49m\u001b[43mtimeout\u001b[49m\u001b[38;5;241;43m=\u001b[39;49m\u001b[43mtimeout\u001b[49m\u001b[43m)\u001b[49m\n\u001b[1;32m   1134\u001b[0m         \u001b[38;5;28;01mreturn\u001b[39;00m (\u001b[38;5;28;01mTrue\u001b[39;00m, data)\n\u001b[1;32m   1135\u001b[0m     \u001b[38;5;28;01mexcept\u001b[39;00m \u001b[38;5;167;01mException\u001b[39;00m \u001b[38;5;28;01mas\u001b[39;00m e:\n\u001b[1;32m   1136\u001b[0m         \u001b[38;5;66;03m# At timeout and error, we manually check whether any worker has\u001b[39;00m\n\u001b[1;32m   1137\u001b[0m         \u001b[38;5;66;03m# failed. Note that this is the only mechanism for Windows to detect\u001b[39;00m\n\u001b[1;32m   1138\u001b[0m         \u001b[38;5;66;03m# worker failures.\u001b[39;00m\n",
      "File \u001b[0;32m/home/linuxbrew/.linuxbrew/opt/python@3.12/lib/python3.12/multiprocessing/queues.py:113\u001b[0m, in \u001b[0;36mQueue.get\u001b[0;34m(self, block, timeout)\u001b[0m\n\u001b[1;32m    111\u001b[0m \u001b[38;5;28;01mif\u001b[39;00m block:\n\u001b[1;32m    112\u001b[0m     timeout \u001b[38;5;241m=\u001b[39m deadline \u001b[38;5;241m-\u001b[39m time\u001b[38;5;241m.\u001b[39mmonotonic()\n\u001b[0;32m--> 113\u001b[0m     \u001b[38;5;28;01mif\u001b[39;00m \u001b[38;5;129;01mnot\u001b[39;00m \u001b[38;5;28;43mself\u001b[39;49m\u001b[38;5;241;43m.\u001b[39;49m\u001b[43m_poll\u001b[49m\u001b[43m(\u001b[49m\u001b[43mtimeout\u001b[49m\u001b[43m)\u001b[49m:\n\u001b[1;32m    114\u001b[0m         \u001b[38;5;28;01mraise\u001b[39;00m Empty\n\u001b[1;32m    115\u001b[0m \u001b[38;5;28;01melif\u001b[39;00m \u001b[38;5;129;01mnot\u001b[39;00m \u001b[38;5;28mself\u001b[39m\u001b[38;5;241m.\u001b[39m_poll():\n",
      "File \u001b[0;32m/home/linuxbrew/.linuxbrew/opt/python@3.12/lib/python3.12/multiprocessing/connection.py:257\u001b[0m, in \u001b[0;36m_ConnectionBase.poll\u001b[0;34m(self, timeout)\u001b[0m\n\u001b[1;32m    255\u001b[0m \u001b[38;5;28mself\u001b[39m\u001b[38;5;241m.\u001b[39m_check_closed()\n\u001b[1;32m    256\u001b[0m \u001b[38;5;28mself\u001b[39m\u001b[38;5;241m.\u001b[39m_check_readable()\n\u001b[0;32m--> 257\u001b[0m \u001b[38;5;28;01mreturn\u001b[39;00m \u001b[38;5;28;43mself\u001b[39;49m\u001b[38;5;241;43m.\u001b[39;49m\u001b[43m_poll\u001b[49m\u001b[43m(\u001b[49m\u001b[43mtimeout\u001b[49m\u001b[43m)\u001b[49m\n",
      "File \u001b[0;32m/home/linuxbrew/.linuxbrew/opt/python@3.12/lib/python3.12/multiprocessing/connection.py:440\u001b[0m, in \u001b[0;36mConnection._poll\u001b[0;34m(self, timeout)\u001b[0m\n\u001b[1;32m    439\u001b[0m \u001b[38;5;28;01mdef\u001b[39;00m \u001b[38;5;21m_poll\u001b[39m(\u001b[38;5;28mself\u001b[39m, timeout):\n\u001b[0;32m--> 440\u001b[0m     r \u001b[38;5;241m=\u001b[39m \u001b[43mwait\u001b[49m\u001b[43m(\u001b[49m\u001b[43m[\u001b[49m\u001b[38;5;28;43mself\u001b[39;49m\u001b[43m]\u001b[49m\u001b[43m,\u001b[49m\u001b[43m \u001b[49m\u001b[43mtimeout\u001b[49m\u001b[43m)\u001b[49m\n\u001b[1;32m    441\u001b[0m     \u001b[38;5;28;01mreturn\u001b[39;00m \u001b[38;5;28mbool\u001b[39m(r)\n",
      "File \u001b[0;32m/home/linuxbrew/.linuxbrew/opt/python@3.12/lib/python3.12/multiprocessing/connection.py:1136\u001b[0m, in \u001b[0;36mwait\u001b[0;34m(object_list, timeout)\u001b[0m\n\u001b[1;32m   1133\u001b[0m     deadline \u001b[38;5;241m=\u001b[39m time\u001b[38;5;241m.\u001b[39mmonotonic() \u001b[38;5;241m+\u001b[39m timeout\n\u001b[1;32m   1135\u001b[0m \u001b[38;5;28;01mwhile\u001b[39;00m \u001b[38;5;28;01mTrue\u001b[39;00m:\n\u001b[0;32m-> 1136\u001b[0m     ready \u001b[38;5;241m=\u001b[39m \u001b[43mselector\u001b[49m\u001b[38;5;241;43m.\u001b[39;49m\u001b[43mselect\u001b[49m\u001b[43m(\u001b[49m\u001b[43mtimeout\u001b[49m\u001b[43m)\u001b[49m\n\u001b[1;32m   1137\u001b[0m     \u001b[38;5;28;01mif\u001b[39;00m ready:\n\u001b[1;32m   1138\u001b[0m         \u001b[38;5;28;01mreturn\u001b[39;00m [key\u001b[38;5;241m.\u001b[39mfileobj \u001b[38;5;28;01mfor\u001b[39;00m (key, events) \u001b[38;5;129;01min\u001b[39;00m ready]\n",
      "File \u001b[0;32m/home/linuxbrew/.linuxbrew/opt/python@3.12/lib/python3.12/selectors.py:415\u001b[0m, in \u001b[0;36m_PollLikeSelector.select\u001b[0;34m(self, timeout)\u001b[0m\n\u001b[1;32m    413\u001b[0m ready \u001b[38;5;241m=\u001b[39m []\n\u001b[1;32m    414\u001b[0m \u001b[38;5;28;01mtry\u001b[39;00m:\n\u001b[0;32m--> 415\u001b[0m     fd_event_list \u001b[38;5;241m=\u001b[39m \u001b[38;5;28;43mself\u001b[39;49m\u001b[38;5;241;43m.\u001b[39;49m\u001b[43m_selector\u001b[49m\u001b[38;5;241;43m.\u001b[39;49m\u001b[43mpoll\u001b[49m\u001b[43m(\u001b[49m\u001b[43mtimeout\u001b[49m\u001b[43m)\u001b[49m\n\u001b[1;32m    416\u001b[0m \u001b[38;5;28;01mexcept\u001b[39;00m \u001b[38;5;167;01mInterruptedError\u001b[39;00m:\n\u001b[1;32m    417\u001b[0m     \u001b[38;5;28;01mreturn\u001b[39;00m ready\n",
      "\u001b[0;31mKeyboardInterrupt\u001b[0m: "
     ]
    }
   ],
   "source": [
    "lm1 = []\n",
    "lm2 = []\n",
    "lm3 = []\n",
    "for e in range(10):\n",
    "    k = 0\n",
    "    for x1, x2, yt in tqdm(dl):\n",
    "        x_proc_1, x_proc_2 = process_data_to_model_bin(x1, x2)\n",
    "        p = m1(x_proc_2, x_proc_1)\n",
    "        p_min = p.min(dim=1).values.unsqueeze(1).repeat([1, 213])\n",
    "        p_max = p.max(dim=1).values.unsqueeze(1).repeat([1, 213])\n",
    "        # p_scaled = (p - p_min) / (p_max - p_min)\n",
    "        p_scaled = p\n",
    "        l1 = loss_fun(p_scaled.float().to('cuda'), process_yt(yt).to('cuda'))\n",
    "        lm1.append(l1.item())\n",
    "        # l1.backward()\n",
    "        # optimizer1.zero_grad()\n",
    "        # optimizer1.step()\n",
    "        \n",
    "        p_co_t = critic_output(process_yt(yt).to('cuda'))\n",
    "        p_co_f = critic_output(p_scaled.to('cuda'))\n",
    "        l2 = loss_fun(\n",
    "            T.cat([p_co_f, p_co_t], dim=0).to('cuda').float(),\n",
    "            T.cat(\n",
    "                [\n",
    "                    T.zeros_like(p_co_f), T.ones_like(p_co_t), \n",
    "                ]\n",
    "            ).to('cuda').float()\n",
    "        )\n",
    "        l2 = loss_fun(p_scaled.float().to('cuda'), process_yt(yt).to('cuda'))\n",
    "        # optimizer2.zero_grad()\n",
    "        # optimizer2.step()\n",
    "        \n",
    "        eo1 = m1.encoder_buildings(x_proc_1)\n",
    "        eo2 = m1.encoder_ts_1(x_proc_2.unsqueeze(1))\n",
    "        eo = T.cat([eo1, eo2], dim=1)\n",
    "        ohn = T.randn_like(eo)\n",
    "        p_ce_t = critic_encoder(ohn.float().to('cuda'))\n",
    "        p_ce_f = critic_encoder(eo.float().to('cuda'))\n",
    "        l3 = loss_fun(\n",
    "            T.cat([p_ce_f, p_ce_t], dim=0).to('cuda').float(),\n",
    "            T.cat(\n",
    "                [\n",
    "                    T.zeros_like(p_ce_f), T.ones_like(p_ce_t), \n",
    "                ]\n",
    "            ).to('cuda').float()\n",
    "        )\n",
    "        # optimizer3.zero_grad()\n",
    "        # optimizer3.step()\n",
    "        k+=1\n",
    "        l = (l1 + l2 + l3) / 3\n",
    "        # l1.backward()\n",
    "        l.backward()\n",
    "        optimizer1.zero_grad()\n",
    "        optimizer1.step()\n",
    "        optimizer2.zero_grad()\n",
    "        optimizer2.step()\n",
    "        optimizer3.zero_grad()\n",
    "        optimizer3.step()\n",
    "        lm3.append(l3.item())\n",
    "        # l3.backward()\n",
    "        lm2.append(l2.item())\n",
    "        # l2.backward()\n",
    "    print(e, np.mean(lm1[-k:]), np.min(lm1[-k:]))\n"
   ]
  },
  {
   "cell_type": "code",
   "execution_count": 48,
   "metadata": {},
   "outputs": [
    {
     "data": {
      "text/plain": [
       "[<matplotlib.lines.Line2D at 0x7cdd03b2fe00>]"
      ]
     },
     "execution_count": 48,
     "metadata": {},
     "output_type": "execute_result"
    },
    {
     "data": {
      "image/png": "[encoded data removed]",
      "text/plain": [
       "<Figure size 640x480 with 1 Axes>"
      ]
     },
     "metadata": {},
     "output_type": "display_data"
    }
   ],
   "source": [
    "plt.plot(lm1)"
   ]
  },
  {
   "cell_type": "code",
   "execution_count": 49,
   "metadata": {},
   "outputs": [
    {
     "name": "stderr",
     "output_type": "stream",
     "text": [
      "Exception ignored in: <function _MultiProcessingDataLoaderIter.__del__ at 0x7cdd072e8ea0>Exception ignored in: \n",
      "Traceback (most recent call last):\n",
      "<function _MultiProcessingDataLoaderIter.__del__ at 0x7cdd072e8ea0>  File \"/home/mike/6semak/LDB_Summer_Moscow_2024__Task_10/venv/lib/python3.12/site-packages/torch/utils/data/dataloader.py\", line 1479, in __del__\n",
      "    \n",
      "Traceback (most recent call last):\n",
      "self._shutdown_workers()Exception ignored in: Exception ignored in: \n",
      "<function _MultiProcessingDataLoaderIter.__del__ at 0x7cdd072e8ea0><function _MultiProcessingDataLoaderIter.__del__ at 0x7cdd072e8ea0>  File \"/home/mike/6semak/LDB_Summer_Moscow_2024__Task_10/venv/lib/python3.12/site-packages/torch/utils/data/dataloader.py\", line 1479, in __del__\n",
      "  File \"/home/mike/6semak/LDB_Summer_Moscow_2024__Task_10/venv/lib/python3.12/site-packages/torch/utils/data/dataloader.py\", line 1462, in _shutdown_workers\n",
      "\n",
      "        Traceback (most recent call last):\n",
      "\n",
      "self._shutdown_workers()if w.is_alive():\n",
      "  File \"/home/mike/6semak/LDB_Summer_Moscow_2024__Task_10/venv/lib/python3.12/site-packages/torch/utils/data/dataloader.py\", line 1479, in __del__\n",
      "Traceback (most recent call last):\n",
      "\n",
      "  File \"/home/mike/6semak/LDB_Summer_Moscow_2024__Task_10/venv/lib/python3.12/site-packages/torch/utils/data/dataloader.py\", line 1479, in __del__\n",
      "       File \"/home/mike/6semak/LDB_Summer_Moscow_2024__Task_10/venv/lib/python3.12/site-packages/torch/utils/data/dataloader.py\", line 1462, in _shutdown_workers\n",
      "     self._shutdown_workers()    self._shutdown_workers() if w.is_alive():\n",
      "\n",
      "  File \"/home/mike/6semak/LDB_Summer_Moscow_2024__Task_10/venv/lib/python3.12/site-packages/torch/utils/data/dataloader.py\", line 1462, in _shutdown_workers\n",
      "   File \"/home/mike/6semak/LDB_Summer_Moscow_2024__Task_10/venv/lib/python3.12/site-packages/torch/utils/data/dataloader.py\", line 1462, in _shutdown_workers\n",
      " \n",
      "         if w.is_alive():   if w.is_alive():\n",
      "  \n",
      " ^      ^ Exception ignored in:  ^  ^^<function _MultiProcessingDataLoaderIter.__del__ at 0x7cdd072e8ea0> ^^ \n",
      "  ^^^  ^^^^Traceback (most recent call last):\n",
      "^^^^^  File \"/home/mike/6semak/LDB_Summer_Moscow_2024__Task_10/venv/lib/python3.12/site-packages/torch/utils/data/dataloader.py\", line 1479, in __del__\n",
      "^^^^^    ^^^self._shutdown_workers()^^^^\n",
      "^^^\n",
      "  File \"/home/linuxbrew/.linuxbrew/opt/python@3.12/lib/python3.12/multiprocessing/process.py\", line 160, in is_alive\n",
      "  File \"/home/mike/6semak/LDB_Summer_Moscow_2024__Task_10/venv/lib/python3.12/site-packages/torch/utils/data/dataloader.py\", line 1462, in _shutdown_workers\n",
      "^^^        \n",
      "^if w.is_alive():  File \"/home/linuxbrew/.linuxbrew/opt/python@3.12/lib/python3.12/multiprocessing/process.py\", line 160, in is_alive\n",
      "assert self._parent_pid == os.getpid(), 'can only test a child process'^    ^\n",
      "\n",
      "Exception ignored in: ^assert self._parent_pid == os.getpid(), 'can only test a child process'  ^ <function _MultiProcessingDataLoaderIter.__del__ at 0x7cdd072e8ea0> \n",
      "^^\n",
      " ^ Exception ignored in:  Traceback (most recent call last):\n",
      "^<function _MultiProcessingDataLoaderIter.__del__ at 0x7cdd072e8ea0>\n",
      "Exception ignored in:    ^\n",
      "  File \"/home/mike/6semak/LDB_Summer_Moscow_2024__Task_10/venv/lib/python3.12/site-packages/torch/utils/data/dataloader.py\", line 1479, in __del__\n",
      "  File \"/home/linuxbrew/.linuxbrew/opt/python@3.12/lib/python3.12/multiprocessing/process.py\", line 160, in is_alive\n",
      "    <function _MultiProcessingDataLoaderIter.__del__ at 0x7cdd072e8ea0> ^  Traceback (most recent call last):\n",
      "\n",
      "assert self._parent_pid == os.getpid(), 'can only test a child process'    self._shutdown_workers() \n",
      "  File \"/home/mike/6semak/LDB_Summer_Moscow_2024__Task_10/venv/lib/python3.12/site-packages/torch/utils/data/dataloader.py\", line 1479, in __del__\n",
      "      \n",
      "\n",
      "Traceback (most recent call last):\n",
      "     File \"/home/linuxbrew/.linuxbrew/opt/python@3.12/lib/python3.12/multiprocessing/process.py\", line 160, in is_alive\n",
      "self._shutdown_workers()  ^  File \"/home/mike/6semak/LDB_Summer_Moscow_2024__Task_10/venv/lib/python3.12/site-packages/torch/utils/data/dataloader.py\", line 1479, in __del__\n",
      "   File \"/home/mike/6semak/LDB_Summer_Moscow_2024__Task_10/venv/lib/python3.12/site-packages/torch/utils/data/dataloader.py\", line 1462, in _shutdown_workers\n",
      "\n",
      "                assert self._parent_pid == os.getpid(), 'can only test a child process'  File \"/home/mike/6semak/LDB_Summer_Moscow_2024__Task_10/venv/lib/python3.12/site-packages/torch/utils/data/dataloader.py\", line 1462, in _shutdown_workers\n",
      "Exception ignored in:  ^self._shutdown_workers()    \n",
      "<function _MultiProcessingDataLoaderIter.__del__ at 0x7cdd072e8ea0>  \n",
      " if w.is_alive():\n",
      " Traceback (most recent call last):\n",
      "  if w.is_alive():  File \"/home/mike/6semak/LDB_Summer_Moscow_2024__Task_10/venv/lib/python3.12/site-packages/torch/utils/data/dataloader.py\", line 1462, in _shutdown_workers\n",
      " ^     File \"/home/mike/6semak/LDB_Summer_Moscow_2024__Task_10/venv/lib/python3.12/site-packages/torch/utils/data/dataloader.py\", line 1479, in __del__\n",
      "    Exception ignored in: \n",
      "if w.is_alive():    \n",
      "^  self._shutdown_workers()^<function _MultiProcessingDataLoaderIter.__del__ at 0x7cdd072e8ea0> \n",
      "\n",
      "^^^  File \"/home/mike/6semak/LDB_Summer_Moscow_2024__Task_10/venv/lib/python3.12/site-packages/torch/utils/data/dataloader.py\", line 1462, in _shutdown_workers\n",
      " \n",
      "^      Traceback (most recent call last):\n",
      "^   ^  File \"/home/mike/6semak/LDB_Summer_Moscow_2024__Task_10/venv/lib/python3.12/site-packages/torch/utils/data/dataloader.py\", line 1479, in __del__\n",
      "if w.is_alive(): ^\n",
      "^     Exception ignored in:      self._shutdown_workers() ^   ^^  ^\n",
      "^<function _MultiProcessingDataLoaderIter.__del__ at 0x7cdd072e8ea0> ^ ^  ^\n",
      " ^^ ^  File \"/home/mike/6semak/LDB_Summer_Moscow_2024__Task_10/venv/lib/python3.12/site-packages/torch/utils/data/dataloader.py\", line 1462, in _shutdown_workers\n",
      "^   ^Traceback (most recent call last):\n",
      "^      ^^^   File \"/home/mike/6semak/LDB_Summer_Moscow_2024__Task_10/venv/lib/python3.12/site-packages/torch/utils/data/dataloader.py\", line 1479, in __del__\n",
      "   ^^^     ^^\n",
      "^^ ^^^^^^^  File \"/home/linuxbrew/.linuxbrew/opt/python@3.12/lib/python3.12/multiprocessing/process.py\", line 160, in is_alive\n",
      "if w.is_alive():^^^^    ^^^\n",
      "^^^^ ^^^self._shutdown_workers()^^^^^^^assert self._parent_pid == os.getpid(), 'can only test a child process'^^\n",
      " ^ ^^^ ^^^^  ^^^\n",
      " ^^^^^^ ^^^^^ ^^^^^^ ^^  File \"/home/mike/6semak/LDB_Summer_Moscow_2024__Task_10/venv/lib/python3.12/site-packages/torch/utils/data/dataloader.py\", line 1462, in _shutdown_workers\n",
      " ^^    ^^^^ ^^ ^if w.is_alive():^^^\n",
      "^^ ^^^^^^ ^^^\n",
      "   File \"/home/linuxbrew/.linuxbrew/opt/python@3.12/lib/python3.12/multiprocessing/process.py\", line 160, in is_alive\n",
      "     ^^^^^ ^assert self._parent_pid == os.getpid(), 'can only test a child process'^^^^^ \n",
      "^^^^Exception ignored in: \n",
      " \n",
      " ^^^ ^  File \"/home/linuxbrew/.linuxbrew/opt/python@3.12/lib/python3.12/multiprocessing/process.py\", line 160, in is_alive\n",
      " ^^  File \"/home/linuxbrew/.linuxbrew/opt/python@3.12/lib/python3.12/multiprocessing/process.py\", line 160, in is_alive\n",
      "      \n",
      "assert self._parent_pid == os.getpid(), 'can only test a child process'^<function _MultiProcessingDataLoaderIter.__del__ at 0x7cdd072e8ea0>^^^^       ^ \n",
      "^AssertionErrorassert self._parent_pid == os.getpid(), 'can only test a child process'\n",
      " ^^\n",
      ": ^Traceback (most recent call last):\n",
      " ^ ^   File \"/home/linuxbrew/.linuxbrew/opt/python@3.12/lib/python3.12/multiprocessing/process.py\", line 160, in is_alive\n",
      "^can only test a child process  File \"/home/mike/6semak/LDB_Summer_Moscow_2024__Task_10/venv/lib/python3.12/site-packages/torch/utils/data/dataloader.py\", line 1479, in __del__\n",
      "^^^^^     ^\n",
      "\n",
      "^    ^^^^  ^ ^^assert self._parent_pid == os.getpid(), 'can only test a child process'self._shutdown_workers()^^^ \n",
      " ^^^^ ^^\n",
      "  File \"/home/mike/6semak/LDB_Summer_Moscow_2024__Task_10/venv/lib/python3.12/site-packages/torch/utils/data/dataloader.py\", line 1462, in _shutdown_workers\n",
      "^   ^^^ ^^^ ^     ^    if w.is_alive():^ ^ ^ \n",
      "      File \"/home/linuxbrew/.linuxbrew/opt/python@3.12/lib/python3.12/multiprocessing/process.py\", line 160, in is_alive\n",
      "^ \n",
      "^    ^ \n",
      "assert self._parent_pid == os.getpid(), 'can only test a child process'AssertionError^ \n",
      "  ^  ^ :   can only test a child process   \n",
      "^  ^^^ ^^^ ^^  ^^^^ ^   ^^^^ ^\n",
      "^^^^^^^\n",
      "^^AssertionError^^^ :   File \"/home/linuxbrew/.linuxbrew/opt/python@3.12/lib/python3.12/multiprocessing/process.py\", line 160, in is_alive\n",
      "can only test a child process ^\n",
      "^^^ ^    ^^^^ assert self._parent_pid == os.getpid(), 'can only test a child process'^^^^^^^ \n",
      " ^ ^^^  ^ ^^^^ ^^^ ^^^^^^^^^^ ^^^^^^ ^^^^^^ ^^^^ ^^^^^ ^^^^^^^^^\n",
      "^^^^^^ AssertionError^^^^^^: can only test a child process^^^^ ^^^^^^^\n",
      "^^^^^ ^^^^^^^^^^^^^^^^^^^^^^^^^\n",
      "^^^^  File \"/home/linuxbrew/.linuxbrew/opt/python@3.12/lib/python3.12/multiprocessing/process.py\", line 160, in is_alive\n",
      "^^^^    ^^^^^^^^^\n",
      "^^^^assert self._parent_pid == os.getpid(), 'can only test a child process'AssertionError^^\n",
      "^^^^ ^\n",
      "^^AssertionError^: ^^^^ ^can only test a child process: ^^^^\n",
      "^^^^^^^can only test a child process^^\n",
      "^ ^^^^ \n",
      "^^^^^AssertionError : ^^^ can only test a child process^^\n",
      "^ \n",
      " ^^\n",
      "AssertionError AssertionError ^^:  : ^can only test a child process^^^can only test a child process\n",
      "^^\n",
      "^^^^^^^^^^^^\n",
      "^^AssertionError^^^^: ^^can only test a child process\n",
      "^^^^^^^^\n",
      "^AssertionError^: can only test a child process^\n",
      "^^^^^^^^^^^^^^^\n",
      "AssertionError: can only test a child process\n"
     ]
    },
    {
     "ename": "KeyboardInterrupt",
     "evalue": "",
     "output_type": "error",
     "traceback": [
      "\u001b[0;31m---------------------------------------------------------------------------\u001b[0m",
      "\u001b[0;31mKeyboardInterrupt\u001b[0m                         Traceback (most recent call last)",
      "Cell \u001b[0;32mIn[49], line 1\u001b[0m\n\u001b[0;32m----> 1\u001b[0m x1,x2,yt \u001b[38;5;241m=\u001b[39m \u001b[38;5;28;43mnext\u001b[39;49m\u001b[43m(\u001b[49m\u001b[38;5;28;43miter\u001b[39;49m\u001b[43m(\u001b[49m\u001b[43mdl\u001b[49m\u001b[43m)\u001b[49m\u001b[43m)\u001b[49m\n",
      "File \u001b[0;32m~/6semak/LDB_Summer_Moscow_2024__Task_10/venv/lib/python3.12/site-packages/torch/utils/data/dataloader.py:631\u001b[0m, in \u001b[0;36m_BaseDataLoaderIter.__next__\u001b[0;34m(self)\u001b[0m\n\u001b[1;32m    628\u001b[0m \u001b[38;5;28;01mif\u001b[39;00m \u001b[38;5;28mself\u001b[39m\u001b[38;5;241m.\u001b[39m_sampler_iter \u001b[38;5;129;01mis\u001b[39;00m \u001b[38;5;28;01mNone\u001b[39;00m:\n\u001b[1;32m    629\u001b[0m     \u001b[38;5;66;03m# TODO(https://github.com/pytorch/pytorch/issues/76750)\u001b[39;00m\n\u001b[1;32m    630\u001b[0m     \u001b[38;5;28mself\u001b[39m\u001b[38;5;241m.\u001b[39m_reset()  \u001b[38;5;66;03m# type: ignore[call-arg]\u001b[39;00m\n\u001b[0;32m--> 631\u001b[0m data \u001b[38;5;241m=\u001b[39m \u001b[38;5;28;43mself\u001b[39;49m\u001b[38;5;241;43m.\u001b[39;49m\u001b[43m_next_data\u001b[49m\u001b[43m(\u001b[49m\u001b[43m)\u001b[49m\n\u001b[1;32m    632\u001b[0m \u001b[38;5;28mself\u001b[39m\u001b[38;5;241m.\u001b[39m_num_yielded \u001b[38;5;241m+\u001b[39m\u001b[38;5;241m=\u001b[39m \u001b[38;5;241m1\u001b[39m\n\u001b[1;32m    633\u001b[0m \u001b[38;5;28;01mif\u001b[39;00m \u001b[38;5;28mself\u001b[39m\u001b[38;5;241m.\u001b[39m_dataset_kind \u001b[38;5;241m==\u001b[39m _DatasetKind\u001b[38;5;241m.\u001b[39mIterable \u001b[38;5;129;01mand\u001b[39;00m \\\n\u001b[1;32m    634\u001b[0m         \u001b[38;5;28mself\u001b[39m\u001b[38;5;241m.\u001b[39m_IterableDataset_len_called \u001b[38;5;129;01mis\u001b[39;00m \u001b[38;5;129;01mnot\u001b[39;00m \u001b[38;5;28;01mNone\u001b[39;00m \u001b[38;5;129;01mand\u001b[39;00m \\\n\u001b[1;32m    635\u001b[0m         \u001b[38;5;28mself\u001b[39m\u001b[38;5;241m.\u001b[39m_num_yielded \u001b[38;5;241m>\u001b[39m \u001b[38;5;28mself\u001b[39m\u001b[38;5;241m.\u001b[39m_IterableDataset_len_called:\n",
      "File \u001b[0;32m~/6semak/LDB_Summer_Moscow_2024__Task_10/venv/lib/python3.12/site-packages/torch/utils/data/dataloader.py:1329\u001b[0m, in \u001b[0;36m_MultiProcessingDataLoaderIter._next_data\u001b[0;34m(self)\u001b[0m\n\u001b[1;32m   1326\u001b[0m     \u001b[38;5;28;01mreturn\u001b[39;00m \u001b[38;5;28mself\u001b[39m\u001b[38;5;241m.\u001b[39m_process_data(data)\n\u001b[1;32m   1328\u001b[0m \u001b[38;5;28;01massert\u001b[39;00m \u001b[38;5;129;01mnot\u001b[39;00m \u001b[38;5;28mself\u001b[39m\u001b[38;5;241m.\u001b[39m_shutdown \u001b[38;5;129;01mand\u001b[39;00m \u001b[38;5;28mself\u001b[39m\u001b[38;5;241m.\u001b[39m_tasks_outstanding \u001b[38;5;241m>\u001b[39m \u001b[38;5;241m0\u001b[39m\n\u001b[0;32m-> 1329\u001b[0m idx, data \u001b[38;5;241m=\u001b[39m \u001b[38;5;28;43mself\u001b[39;49m\u001b[38;5;241;43m.\u001b[39;49m\u001b[43m_get_data\u001b[49m\u001b[43m(\u001b[49m\u001b[43m)\u001b[49m\n\u001b[1;32m   1330\u001b[0m \u001b[38;5;28mself\u001b[39m\u001b[38;5;241m.\u001b[39m_tasks_outstanding \u001b[38;5;241m-\u001b[39m\u001b[38;5;241m=\u001b[39m \u001b[38;5;241m1\u001b[39m\n\u001b[1;32m   1331\u001b[0m \u001b[38;5;28;01mif\u001b[39;00m \u001b[38;5;28mself\u001b[39m\u001b[38;5;241m.\u001b[39m_dataset_kind \u001b[38;5;241m==\u001b[39m _DatasetKind\u001b[38;5;241m.\u001b[39mIterable:\n\u001b[1;32m   1332\u001b[0m     \u001b[38;5;66;03m# Check for _IterableDatasetStopIteration\u001b[39;00m\n",
      "File \u001b[0;32m~/6semak/LDB_Summer_Moscow_2024__Task_10/venv/lib/python3.12/site-packages/torch/utils/data/dataloader.py:1295\u001b[0m, in \u001b[0;36m_MultiProcessingDataLoaderIter._get_data\u001b[0;34m(self)\u001b[0m\n\u001b[1;32m   1291\u001b[0m     \u001b[38;5;66;03m# In this case, `self._data_queue` is a `queue.Queue`,. But we don't\u001b[39;00m\n\u001b[1;32m   1292\u001b[0m     \u001b[38;5;66;03m# need to call `.task_done()` because we don't use `.join()`.\u001b[39;00m\n\u001b[1;32m   1293\u001b[0m \u001b[38;5;28;01melse\u001b[39;00m:\n\u001b[1;32m   1294\u001b[0m     \u001b[38;5;28;01mwhile\u001b[39;00m \u001b[38;5;28;01mTrue\u001b[39;00m:\n\u001b[0;32m-> 1295\u001b[0m         success, data \u001b[38;5;241m=\u001b[39m \u001b[38;5;28;43mself\u001b[39;49m\u001b[38;5;241;43m.\u001b[39;49m\u001b[43m_try_get_data\u001b[49m\u001b[43m(\u001b[49m\u001b[43m)\u001b[49m\n\u001b[1;32m   1296\u001b[0m         \u001b[38;5;28;01mif\u001b[39;00m success:\n\u001b[1;32m   1297\u001b[0m             \u001b[38;5;28;01mreturn\u001b[39;00m data\n",
      "File \u001b[0;32m~/6semak/LDB_Summer_Moscow_2024__Task_10/venv/lib/python3.12/site-packages/torch/utils/data/dataloader.py:1133\u001b[0m, in \u001b[0;36m_MultiProcessingDataLoaderIter._try_get_data\u001b[0;34m(self, timeout)\u001b[0m\n\u001b[1;32m   1120\u001b[0m \u001b[38;5;28;01mdef\u001b[39;00m \u001b[38;5;21m_try_get_data\u001b[39m(\u001b[38;5;28mself\u001b[39m, timeout\u001b[38;5;241m=\u001b[39m_utils\u001b[38;5;241m.\u001b[39mMP_STATUS_CHECK_INTERVAL):\n\u001b[1;32m   1121\u001b[0m     \u001b[38;5;66;03m# Tries to fetch data from `self._data_queue` once for a given timeout.\u001b[39;00m\n\u001b[1;32m   1122\u001b[0m     \u001b[38;5;66;03m# This can also be used as inner loop of fetching without timeout, with\u001b[39;00m\n\u001b[0;32m   (...)\u001b[0m\n\u001b[1;32m   1130\u001b[0m     \u001b[38;5;66;03m# Returns a 2-tuple:\u001b[39;00m\n\u001b[1;32m   1131\u001b[0m     \u001b[38;5;66;03m#   (bool: whether successfully get data, any: data if successful else None)\u001b[39;00m\n\u001b[1;32m   1132\u001b[0m     \u001b[38;5;28;01mtry\u001b[39;00m:\n\u001b[0;32m-> 1133\u001b[0m         data \u001b[38;5;241m=\u001b[39m \u001b[38;5;28;43mself\u001b[39;49m\u001b[38;5;241;43m.\u001b[39;49m\u001b[43m_data_queue\u001b[49m\u001b[38;5;241;43m.\u001b[39;49m\u001b[43mget\u001b[49m\u001b[43m(\u001b[49m\u001b[43mtimeout\u001b[49m\u001b[38;5;241;43m=\u001b[39;49m\u001b[43mtimeout\u001b[49m\u001b[43m)\u001b[49m\n\u001b[1;32m   1134\u001b[0m         \u001b[38;5;28;01mreturn\u001b[39;00m (\u001b[38;5;28;01mTrue\u001b[39;00m, data)\n\u001b[1;32m   1135\u001b[0m     \u001b[38;5;28;01mexcept\u001b[39;00m \u001b[38;5;167;01mException\u001b[39;00m \u001b[38;5;28;01mas\u001b[39;00m e:\n\u001b[1;32m   1136\u001b[0m         \u001b[38;5;66;03m# At timeout and error, we manually check whether any worker has\u001b[39;00m\n\u001b[1;32m   1137\u001b[0m         \u001b[38;5;66;03m# failed. Note that this is the only mechanism for Windows to detect\u001b[39;00m\n\u001b[1;32m   1138\u001b[0m         \u001b[38;5;66;03m# worker failures.\u001b[39;00m\n",
      "File \u001b[0;32m/home/linuxbrew/.linuxbrew/opt/python@3.12/lib/python3.12/multiprocessing/queues.py:113\u001b[0m, in \u001b[0;36mQueue.get\u001b[0;34m(self, block, timeout)\u001b[0m\n\u001b[1;32m    111\u001b[0m \u001b[38;5;28;01mif\u001b[39;00m block:\n\u001b[1;32m    112\u001b[0m     timeout \u001b[38;5;241m=\u001b[39m deadline \u001b[38;5;241m-\u001b[39m time\u001b[38;5;241m.\u001b[39mmonotonic()\n\u001b[0;32m--> 113\u001b[0m     \u001b[38;5;28;01mif\u001b[39;00m \u001b[38;5;129;01mnot\u001b[39;00m \u001b[38;5;28;43mself\u001b[39;49m\u001b[38;5;241;43m.\u001b[39;49m\u001b[43m_poll\u001b[49m\u001b[43m(\u001b[49m\u001b[43mtimeout\u001b[49m\u001b[43m)\u001b[49m:\n\u001b[1;32m    114\u001b[0m         \u001b[38;5;28;01mraise\u001b[39;00m Empty\n\u001b[1;32m    115\u001b[0m \u001b[38;5;28;01melif\u001b[39;00m \u001b[38;5;129;01mnot\u001b[39;00m \u001b[38;5;28mself\u001b[39m\u001b[38;5;241m.\u001b[39m_poll():\n",
      "File \u001b[0;32m/home/linuxbrew/.linuxbrew/opt/python@3.12/lib/python3.12/multiprocessing/connection.py:257\u001b[0m, in \u001b[0;36m_ConnectionBase.poll\u001b[0;34m(self, timeout)\u001b[0m\n\u001b[1;32m    255\u001b[0m \u001b[38;5;28mself\u001b[39m\u001b[38;5;241m.\u001b[39m_check_closed()\n\u001b[1;32m    256\u001b[0m \u001b[38;5;28mself\u001b[39m\u001b[38;5;241m.\u001b[39m_check_readable()\n\u001b[0;32m--> 257\u001b[0m \u001b[38;5;28;01mreturn\u001b[39;00m \u001b[38;5;28;43mself\u001b[39;49m\u001b[38;5;241;43m.\u001b[39;49m\u001b[43m_poll\u001b[49m\u001b[43m(\u001b[49m\u001b[43mtimeout\u001b[49m\u001b[43m)\u001b[49m\n",
      "File \u001b[0;32m/home/linuxbrew/.linuxbrew/opt/python@3.12/lib/python3.12/multiprocessing/connection.py:440\u001b[0m, in \u001b[0;36mConnection._poll\u001b[0;34m(self, timeout)\u001b[0m\n\u001b[1;32m    439\u001b[0m \u001b[38;5;28;01mdef\u001b[39;00m \u001b[38;5;21m_poll\u001b[39m(\u001b[38;5;28mself\u001b[39m, timeout):\n\u001b[0;32m--> 440\u001b[0m     r \u001b[38;5;241m=\u001b[39m \u001b[43mwait\u001b[49m\u001b[43m(\u001b[49m\u001b[43m[\u001b[49m\u001b[38;5;28;43mself\u001b[39;49m\u001b[43m]\u001b[49m\u001b[43m,\u001b[49m\u001b[43m \u001b[49m\u001b[43mtimeout\u001b[49m\u001b[43m)\u001b[49m\n\u001b[1;32m    441\u001b[0m     \u001b[38;5;28;01mreturn\u001b[39;00m \u001b[38;5;28mbool\u001b[39m(r)\n",
      "File \u001b[0;32m/home/linuxbrew/.linuxbrew/opt/python@3.12/lib/python3.12/multiprocessing/connection.py:1136\u001b[0m, in \u001b[0;36mwait\u001b[0;34m(object_list, timeout)\u001b[0m\n\u001b[1;32m   1133\u001b[0m     deadline \u001b[38;5;241m=\u001b[39m time\u001b[38;5;241m.\u001b[39mmonotonic() \u001b[38;5;241m+\u001b[39m timeout\n\u001b[1;32m   1135\u001b[0m \u001b[38;5;28;01mwhile\u001b[39;00m \u001b[38;5;28;01mTrue\u001b[39;00m:\n\u001b[0;32m-> 1136\u001b[0m     ready \u001b[38;5;241m=\u001b[39m \u001b[43mselector\u001b[49m\u001b[38;5;241;43m.\u001b[39;49m\u001b[43mselect\u001b[49m\u001b[43m(\u001b[49m\u001b[43mtimeout\u001b[49m\u001b[43m)\u001b[49m\n\u001b[1;32m   1137\u001b[0m     \u001b[38;5;28;01mif\u001b[39;00m ready:\n\u001b[1;32m   1138\u001b[0m         \u001b[38;5;28;01mreturn\u001b[39;00m [key\u001b[38;5;241m.\u001b[39mfileobj \u001b[38;5;28;01mfor\u001b[39;00m (key, events) \u001b[38;5;129;01min\u001b[39;00m ready]\n",
      "File \u001b[0;32m/home/linuxbrew/.linuxbrew/opt/python@3.12/lib/python3.12/selectors.py:415\u001b[0m, in \u001b[0;36m_PollLikeSelector.select\u001b[0;34m(self, timeout)\u001b[0m\n\u001b[1;32m    413\u001b[0m ready \u001b[38;5;241m=\u001b[39m []\n\u001b[1;32m    414\u001b[0m \u001b[38;5;28;01mtry\u001b[39;00m:\n\u001b[0;32m--> 415\u001b[0m     fd_event_list \u001b[38;5;241m=\u001b[39m \u001b[38;5;28;43mself\u001b[39;49m\u001b[38;5;241;43m.\u001b[39;49m\u001b[43m_selector\u001b[49m\u001b[38;5;241;43m.\u001b[39;49m\u001b[43mpoll\u001b[49m\u001b[43m(\u001b[49m\u001b[43mtimeout\u001b[49m\u001b[43m)\u001b[49m\n\u001b[1;32m    416\u001b[0m \u001b[38;5;28;01mexcept\u001b[39;00m \u001b[38;5;167;01mInterruptedError\u001b[39;00m:\n\u001b[1;32m    417\u001b[0m     \u001b[38;5;28;01mreturn\u001b[39;00m ready\n",
      "\u001b[0;31mKeyboardInterrupt\u001b[0m: "
     ]
    }
   ],
   "source": [
    "x1,x2,yt = next(iter(dl))"
   ]
  },
  {
   "cell_type": "code",
   "execution_count": 55,
   "metadata": {},
   "outputs": [
    {
     "data": {
      "text/plain": [
       "tensor([0., 0., 0., 0., 0., 0., 0., 0., 0., 1., 0., 0., 0., 0., 0., 0., 0., 1.,\n",
       "        0., 0., 0., 0., 0., 0., 0., 0., 0., 0., 0., 0., 0., 0., 0., 0., 0., 0.,\n",
       "        0., 0., 0., 0., 0., 0., 0., 0., 0., 0., 0., 0., 0., 0., 0., 0., 1., 0.,\n",
       "        0., 0., 0., 0., 0., 0., 0., 0., 0., 0., 0., 0., 0., 0., 0., 0., 0., 0.,\n",
       "        0., 0., 0., 0., 0., 0., 0., 0., 0., 0., 0., 0., 0., 0., 0., 0., 0., 0.,\n",
       "        0., 0., 0., 0., 0., 0., 0., 0., 0., 0., 0., 0., 0., 0., 0., 0., 0., 0.,\n",
       "        0., 1., 0., 0., 0., 0., 0., 0., 0., 0., 0., 0., 0., 0., 0., 0., 0., 0.,\n",
       "        0., 0., 0., 0., 0., 0., 0., 0., 0., 0., 1., 0., 0., 0., 0., 0., 0., 0.,\n",
       "        0., 0., 0., 0., 0., 0., 0., 0., 0., 0., 0., 0., 0., 0., 0., 0., 0., 0.,\n",
       "        0., 0., 0., 0., 0., 0., 0., 0., 1., 1., 1., 0., 0., 0., 0., 0., 0., 1.,\n",
       "        0., 0., 0., 0., 0., 0., 0., 0., 0., 0., 0., 0., 0., 0., 0., 0., 0., 0.,\n",
       "        0., 0., 0., 0., 0., 0., 0., 0., 0., 0., 0., 0., 0., 0., 0.])"
      ]
     },
     "execution_count": 55,
     "metadata": {},
     "output_type": "execute_result"
    }
   ],
   "source": [
    "(yt.sum(dim=2) > 0).float()[0]"
   ]
  },
  {
   "cell_type": "code",
   "execution_count": 60,
   "metadata": {},
   "outputs": [
    {
     "data": {
      "text/plain": [
       "tensor([0., 0., 0., 0., 0., 0., 0., 0., 0., 0., 0., 0., 0., 1., 0., 0., 0., 0.,\n",
       "        0., 0., 0., 0., 0., 0., 0., 0., 0., 0., 0., 0., 0., 0., 0., 0., 0., 0.,\n",
       "        0., 0., 1., 0., 0., 0., 0., 0., 0., 0., 0., 1., 0., 0., 0., 0., 0., 0.,\n",
       "        0., 0., 0., 0., 0., 0., 0., 0., 0., 0., 0., 0., 0., 0., 0., 0., 0., 0.,\n",
       "        0., 0., 0., 0., 1., 0., 0., 0., 0., 0., 0., 0., 0., 0., 1., 1., 0., 0.,\n",
       "        0., 0., 0., 0., 0., 0., 0., 1., 0., 0., 0., 0., 0., 0., 0., 0., 0., 0.,\n",
       "        1., 1., 0., 0., 0., 0., 0., 0., 0., 0., 0., 0., 1., 1., 0., 0., 0., 0.,\n",
       "        0., 0., 0., 0., 0., 0., 0., 0., 0., 0., 0., 0., 0., 1., 0., 0., 0., 0.,\n",
       "        0., 0., 0., 0., 0., 0., 0., 0., 0., 0., 0., 0., 0., 1., 0., 0., 0., 0.,\n",
       "        0., 0., 0., 0., 0., 0., 0., 0., 1., 0., 0., 0., 0., 0., 0., 0., 0., 1.,\n",
       "        0., 0., 0., 0., 0., 1., 0., 0., 0., 0., 1., 1., 0., 0., 0., 0., 0., 0.,\n",
       "        0., 0., 0., 0., 0., 0., 0., 0., 0., 0., 1., 0., 0., 0., 0.],\n",
       "       device='cuda:0')"
      ]
     },
     "execution_count": 60,
     "metadata": {},
     "output_type": "execute_result"
    }
   ],
   "source": [
    "x_proc_1, x_proc_2 = process_data_to_model_bin(x1, x2)\n",
    "p = m1(x_proc_2, x_proc_1)[0]\n",
    "(((p - p.min()) / (p.max() - p.min())>0.8).float())"
   ]
  },
  {
   "cell_type": "code",
   "execution_count": 126,
   "metadata": {},
   "outputs": [
    {
     "data": {
      "text/plain": [
       "tensor([0., 0., 0., 0., 0., 0., 0., 0., 0., 0., 1., 0., 0., 1., 1., 1., 0., 0.,\n",
       "        0., 0., 0., 0., 0., 0., 0., 0., 0., 0., 0., 0., 0., 0., 0., 0., 0., 0.,\n",
       "        0., 0., 0., 0., 0., 0., 0., 0., 0., 0., 0., 0., 0., 0., 0., 0., 0., 0.,\n",
       "        0., 0., 0., 0., 0., 0., 0., 0., 0., 0., 0., 0., 0., 0., 0., 0., 0., 0.,\n",
       "        0., 0., 0., 0., 0., 0., 0., 0., 0., 0., 0., 0., 0., 0., 0., 0., 0., 0.,\n",
       "        0., 0., 0., 0., 0., 0., 0., 0., 0., 0., 0., 0., 0., 0., 0., 0., 0., 0.,\n",
       "        1., 0., 0., 0., 0., 0., 0., 0., 0., 0., 0., 0., 0., 0., 0., 0., 0., 0.,\n",
       "        0., 0., 0., 0., 0., 0., 0., 0., 0., 0., 0., 0., 0., 0., 0., 0., 0., 0.,\n",
       "        0., 0., 0., 0., 0., 0., 0., 0., 0., 0., 0., 0., 0., 0., 0., 0., 0., 0.,\n",
       "        0., 0., 0., 0., 0., 0., 0., 0., 0., 0., 0., 0., 0., 0., 0., 0., 0., 0.,\n",
       "        1., 0., 0., 0., 0., 0., 0., 0., 0., 0., 0., 0., 0., 0., 0., 0., 0., 0.,\n",
       "        0., 0., 0., 0., 0., 0., 0., 0., 0., 0., 0., 0., 0., 1., 0.])"
      ]
     },
     "execution_count": 126,
     "metadata": {},
     "output_type": "execute_result"
    }
   ],
   "source": [
    "(yt.sum(dim=2) > 0).float()[1]"
   ]
  },
  {
   "cell_type": "code",
   "execution_count": 128,
   "metadata": {},
   "outputs": [
    {
     "data": {
      "text/plain": [
       "tensor([0., 0., 0., 0., 0., 0., 0., 0., 0., 0., 0., 0., 1., 0., 0., 0., 0., 0.,\n",
       "        0., 0., 0., 0., 0., 0., 0., 1., 0., 0., 0., 0., 0., 0., 0., 0., 0., 0.,\n",
       "        0., 0., 0., 0., 0., 0., 0., 0., 0., 0., 0., 0., 0., 0., 0., 0., 1., 0.,\n",
       "        0., 0., 0., 0., 0., 0., 0., 0., 0., 0., 0., 0., 0., 0., 0., 0., 0., 0.,\n",
       "        0., 0., 1., 0., 0., 0., 0., 0., 0., 0., 0., 0., 0., 0., 0., 0., 0., 0.,\n",
       "        0., 0., 0., 0., 0., 0., 0., 0., 0., 0., 0., 0., 0., 0., 0., 0., 0., 0.,\n",
       "        0., 0., 0., 0., 0., 0., 0., 0., 0., 0., 0., 0., 0., 0., 0., 0., 0., 0.,\n",
       "        0., 0., 0., 0., 0., 0., 0., 0., 0., 0., 0., 0., 0., 0., 0., 0., 0., 0.,\n",
       "        0., 0., 0., 0., 0., 0., 0., 0., 0., 0., 0., 0., 0., 0., 0., 0., 0., 0.,\n",
       "        0., 0., 0., 0., 0., 0., 0., 0., 0., 0., 0., 1., 0., 0., 0., 0., 0., 0.,\n",
       "        0., 0., 0., 0., 0., 0., 0., 0., 0., 0., 0., 0., 0., 0., 0., 0., 0., 0.,\n",
       "        0., 0., 0., 0., 0., 0., 0., 0., 0., 0., 0., 0., 0., 0., 0.],\n",
       "       device='cuda:0')"
      ]
     },
     "execution_count": 128,
     "metadata": {},
     "output_type": "execute_result"
    }
   ],
   "source": [
    "x_proc_1, x_proc_2 = process_data_to_model_bin(x1, x2)\n",
    "p = m1(x_proc_2, x_proc_1)[1]\n",
    "(((p - p.min()) / (p.max() - p.min())>0.95).float())"
   ]
  },
  {
   "cell_type": "code",
   "execution_count": 274,
   "metadata": {},
   "outputs": [
    {
     "data": {
      "text/plain": [
       "tensor([0., 0., 0., 0., 0., 0., 0., 0., 0., 0., 0., 0., 0., 0., 0., 0., 0., 0.,\n",
       "        0., 0., 0., 0., 0., 0., 0., 0., 0., 0., 0., 0., 0., 0., 0., 0., 0., 0.,\n",
       "        0., 0., 0., 0., 0., 0., 0., 0., 0., 0., 0., 0., 0., 0., 0., 0., 0., 0.,\n",
       "        0., 0., 0., 0., 0., 0., 1., 0., 0., 0., 0., 0., 0., 0., 0., 0., 0., 0.,\n",
       "        0., 1., 0., 1., 0., 0., 0., 0., 0., 0., 0., 0., 0., 0., 0., 0., 0., 0.,\n",
       "        0., 0., 0., 0., 0., 0., 0., 0., 0., 0., 0., 0., 0., 0., 0., 0., 0., 0.,\n",
       "        0., 0., 0., 0., 0., 0., 0., 0., 1., 0., 1., 0., 1., 0., 0., 0., 0., 0.,\n",
       "        0., 0., 0., 0., 0., 0., 0., 0., 0., 0., 0., 0., 0., 0., 0., 0., 0., 0.,\n",
       "        0., 0., 0., 0., 0., 0., 1., 1., 0., 0., 0., 0., 0., 0., 0., 0., 0., 0.,\n",
       "        0., 0., 1., 0., 0., 0., 0., 0., 0., 0., 1., 0., 0., 0., 0., 1., 0., 0.,\n",
       "        0., 0., 0., 0., 0., 0., 0., 0., 0., 0., 0., 0., 0., 0., 0., 0., 0., 0.,\n",
       "        0., 1., 0., 1., 1., 0., 0., 0., 0., 0., 0., 0., 0., 0., 0.])"
      ]
     },
     "execution_count": 274,
     "metadata": {},
     "output_type": "execute_result"
    }
   ],
   "source": [
    "(yt.sum(dim=2) > 0).float()[0]"
   ]
  },
  {
   "cell_type": "code",
   "execution_count": 275,
   "metadata": {},
   "outputs": [
    {
     "data": {
      "text/plain": [
       "tensor([0., 0., 0., 0., 0., 1., 0., 0., 0., 0., 0., 0., 0., 0., 0., 0., 0., 0.,\n",
       "        0., 0., 0., 0., 0., 0., 0., 0., 0., 1., 0., 0., 0., 0., 0., 0., 0., 0.,\n",
       "        0., 0., 0., 0., 0., 0., 0., 0., 0., 0., 0., 0., 0., 0., 0., 0., 0., 0.,\n",
       "        0., 0., 0., 0., 0., 0., 0., 0., 0., 0., 0., 0., 0., 0., 0., 0., 0., 1.,\n",
       "        0., 0., 0., 0., 0., 0., 0., 0., 0., 0., 0., 0., 0., 0., 0., 0., 0., 0.,\n",
       "        0., 0., 0., 0., 0., 0., 0., 0., 0., 0., 0., 0., 0., 0., 0., 0., 0., 0.,\n",
       "        0., 0., 0., 0., 0., 0., 0., 0., 0., 0., 0., 0., 0., 0., 0., 0., 0., 0.,\n",
       "        0., 0., 0., 0., 0., 0., 0., 0., 0., 0., 0., 0., 0., 0., 1., 0., 0., 0.,\n",
       "        0., 0., 0., 0., 0., 0., 0., 0., 0., 0., 0., 0., 0., 0., 0., 0., 0., 0.,\n",
       "        0., 0., 0., 0., 0., 0., 0., 0., 0., 0., 0., 0., 0., 0., 0., 0., 0., 0.,\n",
       "        0., 0., 0., 0., 0., 0., 0., 0., 0., 0., 0., 0., 0., 0., 0., 0., 0., 0.,\n",
       "        0., 0., 0., 0., 0., 0., 0., 0., 0., 0., 0., 0., 0., 0., 0.],\n",
       "       device='cuda:0')"
      ]
     },
     "execution_count": 275,
     "metadata": {},
     "output_type": "execute_result"
    }
   ],
   "source": [
    "x_proc_1, x_proc_2 = process_data_to_model_bin(x1, x2)\n",
    "p = m1(x_proc_2, x_proc_1)[0]\n",
    "(((p - p.min()) / (p.max() - p.min())>0.9).float())"
   ]
  },
  {
   "cell_type": "code",
   "execution_count": 276,
   "metadata": {},
   "outputs": [],
   "source": [
    "# If model with incorrect forward\n",
    "\n",
    "# T.save(m1.state_dict(), f'../models/not_jits_save/day_anomaly_prediction_modded_{str(pd.Timestamp.now()).replace(\" \", \"T\")}.pt')\n",
    "# model_scripted = T.jit.script(m1)\n",
    "# model_scripted.save(f'../models/predictors/day_anomaly_prediction_modded_{str(pd.Timestamp.now()).replace(\" \", \"T\")}.pt')"
   ]
  },
  {
   "cell_type": "code",
   "execution_count": 1,
   "metadata": {},
   "outputs": [],
   "source": [
    "import torch as T"
   ]
  },
  {
   "cell_type": "code",
   "execution_count": 50,
   "metadata": {},
   "outputs": [],
   "source": [
    "model_scripted = T.jit.script(m1)\n",
    "model_scripted.save(f'../models/predictors/day_anomaly_prediction_modded_{str(pd.Timestamp.now()).replace(\" \", \"T\")}.pt')"
   ]
  },
  {
   "cell_type": "code",
   "execution_count": 61,
   "metadata": {},
   "outputs": [],
   "source": [
    "m1 = T.jit.load('../models/predictors/day_anomaly_prediction_modded_2024-06-14T02:08:01.439480.pt')"
   ]
  },
  {
   "cell_type": "markdown",
   "metadata": {},
   "source": [
    "# Naive model 2"
   ]
  },
  {
   "cell_type": "code",
   "execution_count": 42,
   "metadata": {},
   "outputs": [],
   "source": [
    "def process_data_to_model_cluster(x1, x2, device=device):\n",
    "    return T.cat([x1.unsqueeze(1).repeat([1, 213, 1]), x2], axis=2).float().to(device)\n"
   ]
  },
  {
   "cell_type": "code",
   "execution_count": 71,
   "metadata": {},
   "outputs": [],
   "source": [
    "class AnomalyDayModelWhatAnomalyDay(nn.Module):\n",
    "    def __init__(self):\n",
    "        super().__init__()\n",
    "        self.rnn = nn.LSTM(33, 6, 10, bidirectional=True, batch_first=True)\n",
    "    def forward(self, x):\n",
    "        x1, (h1, c1) = self.rnn(x)\n",
    "        return (ff.tanh(x1) + 1) / 2"
   ]
  },
  {
   "cell_type": "code",
   "execution_count": 83,
   "metadata": {},
   "outputs": [
    {
     "data": {
      "text/plain": [
       "torch.Size([29, 213, 12])"
      ]
     },
     "execution_count": 83,
     "metadata": {},
     "output_type": "execute_result"
    }
   ],
   "source": [
    "what_anomaly_day_model = AnomalyDayModelWhatAnomalyDay()\n",
    "p = what_anomaly_day_model(process_data_to_model_cluster(x1, x2, 'cpu'))\n",
    "p.shape"
   ]
  },
  {
   "cell_type": "code",
   "execution_count": 84,
   "metadata": {},
   "outputs": [
    {
     "data": {
      "text/plain": [
       "tensor([[[0.5190, 0.4580, 0.5393,  ..., 0.6236, 0.4852, 0.4741],\n",
       "         [0.5420, 0.4366, 0.5625,  ..., 0.6186, 0.4890, 0.4727],\n",
       "         [0.5604, 0.4244, 0.5757,  ..., 0.6156, 0.4909, 0.4718],\n",
       "         ...,\n",
       "         [0.5899, 0.3982, 0.5950,  ..., 0.5967, 0.4996, 0.4842],\n",
       "         [0.5867, 0.3968, 0.5959,  ..., 0.5837, 0.5038, 0.4868],\n",
       "         [0.5823, 0.3945, 0.5975,  ..., 0.5566, 0.5075, 0.4906]],\n",
       "\n",
       "        [[0.5190, 0.4580, 0.5393,  ..., 0.6236, 0.4852, 0.4741],\n",
       "         [0.5420, 0.4366, 0.5625,  ..., 0.6186, 0.4890, 0.4727],\n",
       "         [0.5604, 0.4244, 0.5757,  ..., 0.6156, 0.4909, 0.4718],\n",
       "         ...,\n",
       "         [0.5899, 0.3982, 0.5950,  ..., 0.5967, 0.4996, 0.4842],\n",
       "         [0.5867, 0.3968, 0.5959,  ..., 0.5837, 0.5038, 0.4868],\n",
       "         [0.5823, 0.3945, 0.5975,  ..., 0.5566, 0.5075, 0.4906]],\n",
       "\n",
       "        [[0.5190, 0.4580, 0.5393,  ..., 0.6236, 0.4852, 0.4741],\n",
       "         [0.5420, 0.4366, 0.5625,  ..., 0.6186, 0.4890, 0.4726],\n",
       "         [0.5604, 0.4244, 0.5757,  ..., 0.6156, 0.4909, 0.4718],\n",
       "         ...,\n",
       "         [0.5899, 0.3982, 0.5950,  ..., 0.5967, 0.4996, 0.4842],\n",
       "         [0.5867, 0.3968, 0.5959,  ..., 0.5837, 0.5038, 0.4868],\n",
       "         [0.5823, 0.3945, 0.5975,  ..., 0.5566, 0.5075, 0.4906]],\n",
       "\n",
       "        ...,\n",
       "\n",
       "        [[0.5190, 0.4580, 0.5393,  ..., 0.6236, 0.4852, 0.4741],\n",
       "         [0.5420, 0.4366, 0.5625,  ..., 0.6186, 0.4890, 0.4726],\n",
       "         [0.5604, 0.4244, 0.5757,  ..., 0.6156, 0.4909, 0.4718],\n",
       "         ...,\n",
       "         [0.5899, 0.3982, 0.5950,  ..., 0.5967, 0.4996, 0.4842],\n",
       "         [0.5867, 0.3968, 0.5959,  ..., 0.5837, 0.5038, 0.4868],\n",
       "         [0.5823, 0.3945, 0.5975,  ..., 0.5566, 0.5075, 0.4906]],\n",
       "\n",
       "        [[0.5190, 0.4580, 0.5393,  ..., 0.6236, 0.4852, 0.4741],\n",
       "         [0.5420, 0.4366, 0.5625,  ..., 0.6186, 0.4890, 0.4726],\n",
       "         [0.5604, 0.4244, 0.5757,  ..., 0.6156, 0.4909, 0.4718],\n",
       "         ...,\n",
       "         [0.5899, 0.3982, 0.5950,  ..., 0.5967, 0.4996, 0.4842],\n",
       "         [0.5867, 0.3968, 0.5959,  ..., 0.5837, 0.5038, 0.4868],\n",
       "         [0.5823, 0.3945, 0.5975,  ..., 0.5566, 0.5075, 0.4906]],\n",
       "\n",
       "        [[0.5190, 0.4580, 0.5393,  ..., 0.6236, 0.4852, 0.4741],\n",
       "         [0.5420, 0.4366, 0.5625,  ..., 0.6186, 0.4890, 0.4726],\n",
       "         [0.5604, 0.4244, 0.5757,  ..., 0.6156, 0.4909, 0.4718],\n",
       "         ...,\n",
       "         [0.5899, 0.3982, 0.5950,  ..., 0.5967, 0.4996, 0.4842],\n",
       "         [0.5868, 0.3968, 0.5959,  ..., 0.5837, 0.5038, 0.4868],\n",
       "         [0.5823, 0.3945, 0.5975,  ..., 0.5566, 0.5075, 0.4906]]],\n",
       "       grad_fn=<DivBackward0>)"
      ]
     },
     "execution_count": 84,
     "metadata": {},
     "output_type": "execute_result"
    }
   ],
   "source": [
    "p"
   ]
  },
  {
   "cell_type": "code",
   "execution_count": 85,
   "metadata": {},
   "outputs": [],
   "source": [
    "m2 = what_anomaly_day_model.to(device)\n",
    "loss_fun = nn.MSELoss()\n",
    "optimizer2 = T.optim.Adam(m2.parameters(), lr=0.034) "
   ]
  },
  {
   "cell_type": "code",
   "execution_count": 86,
   "metadata": {},
   "outputs": [
    {
     "name": "stderr",
     "output_type": "stream",
     "text": [
      "  0%|          | 0/36 [00:00<?, ?it/s]Exception ignored in: <function _MultiProcessingDataLoaderIter.__del__ at 0x74274714be20>\n",
      "Traceback (most recent call last):\n",
      "  File \"/home/mike/6semak/LDB_Summer_Moscow_2024__Task_10/venv/lib/python3.12/site-packages/torch/utils/data/dataloader.py\", line 1479, in __del__\n",
      "    self._shutdown_workers()\n",
      "  File \"/home/mike/6semak/LDB_Summer_Moscow_2024__Task_10/venv/lib/python3.12/site-packages/torch/utils/data/dataloader.py\", line 1462, in _shutdown_workers\n",
      "    if w.is_alive():\n",
      "       ^^^^^^^^^^^^\n",
      "  File \"/home/linuxbrew/.linuxbrew/opt/python@3.12/lib/python3.12/multiprocessing/process.py\", line 160, in is_alive\n",
      "    assert self._parent_pid == os.getpid(), 'can only test a child process'\n",
      "          Exception ignored in:  ^^<function _MultiProcessingDataLoaderIter.__del__ at 0x74274714be20>\n",
      "Traceback (most recent call last):\n",
      "^  File \"/home/mike/6semak/LDB_Summer_Moscow_2024__Task_10/venv/lib/python3.12/site-packages/torch/utils/data/dataloader.py\", line 1479, in __del__\n",
      "    ^self._shutdown_workers()\n",
      "^Exception ignored in: <function _MultiProcessingDataLoaderIter.__del__ at 0x74274714be20>^  File \"/home/mike/6semak/LDB_Summer_Moscow_2024__Task_10/venv/lib/python3.12/site-packages/torch/utils/data/dataloader.py\", line 1462, in _shutdown_workers\n",
      "    Exception ignored in: ^\n",
      "<function _MultiProcessingDataLoaderIter.__del__ at 0x74274714be20>^\n",
      "^Traceback (most recent call last):\n",
      "if w.is_alive():^Traceback (most recent call last):\n",
      "\n",
      "  File \"/home/mike/6semak/LDB_Summer_Moscow_2024__Task_10/venv/lib/python3.12/site-packages/torch/utils/data/dataloader.py\", line 1479, in __del__\n",
      "   File \"/home/mike/6semak/LDB_Summer_Moscow_2024__Task_10/venv/lib/python3.12/site-packages/torch/utils/data/dataloader.py\", line 1479, in __del__\n",
      "^          ^self._shutdown_workers()Exception ignored in:  \n",
      "<function _MultiProcessingDataLoaderIter.__del__ at 0x74274714be20>self._shutdown_workers()^\n",
      "\n",
      "Exception ignored in:    File \"/home/mike/6semak/LDB_Summer_Moscow_2024__Task_10/venv/lib/python3.12/site-packages/torch/utils/data/dataloader.py\", line 1462, in _shutdown_workers\n",
      "^Exception ignored in:   File \"/home/mike/6semak/LDB_Summer_Moscow_2024__Task_10/venv/lib/python3.12/site-packages/torch/utils/data/dataloader.py\", line 1462, in _shutdown_workers\n",
      "<function _MultiProcessingDataLoaderIter.__del__ at 0x74274714be20>^Exception ignored in: <function _MultiProcessingDataLoaderIter.__del__ at 0x74274714be20>Traceback (most recent call last):\n",
      "Exception ignored in:  Exception ignored in:     ^\n",
      "    \n",
      "<function _MultiProcessingDataLoaderIter.__del__ at 0x74274714be20>  File \"/home/mike/6semak/LDB_Summer_Moscow_2024__Task_10/venv/lib/python3.12/site-packages/torch/utils/data/dataloader.py\", line 1479, in __del__\n",
      "<function _MultiProcessingDataLoaderIter.__del__ at 0x74274714be20> <function _MultiProcessingDataLoaderIter.__del__ at 0x74274714be20>if w.is_alive():Traceback (most recent call last):\n",
      "^if w.is_alive():    Traceback (most recent call last):\n",
      "\n",
      "^\n",
      "\n",
      "\n",
      "^  File \"/home/mike/6semak/LDB_Summer_Moscow_2024__Task_10/venv/lib/python3.12/site-packages/torch/utils/data/dataloader.py\", line 1479, in __del__\n",
      "\n",
      "Exception ignored in: self._shutdown_workers()^Traceback (most recent call last):\n",
      "  File \"/home/mike/6semak/LDB_Summer_Moscow_2024__Task_10/venv/lib/python3.12/site-packages/torch/utils/data/dataloader.py\", line 1479, in __del__\n",
      "  Traceback (most recent call last):\n",
      "^Traceback (most recent call last):\n",
      "\n",
      "          <function _MultiProcessingDataLoaderIter.__del__ at 0x74274714be20>^self._shutdown_workers()\n",
      "  File \"/home/mike/6semak/LDB_Summer_Moscow_2024__Task_10/venv/lib/python3.12/site-packages/torch/utils/data/dataloader.py\", line 1462, in _shutdown_workers\n",
      "  File \"/home/mike/6semak/LDB_Summer_Moscow_2024__Task_10/venv/lib/python3.12/site-packages/torch/utils/data/dataloader.py\", line 1479, in __del__\n",
      "  File \"/home/mike/6semak/LDB_Summer_Moscow_2024__Task_10/venv/lib/python3.12/site-packages/torch/utils/data/dataloader.py\", line 1479, in __del__\n",
      "  File \"/home/mike/6semak/LDB_Summer_Moscow_2024__Task_10/venv/lib/python3.12/site-packages/torch/utils/data/dataloader.py\", line 1479, in __del__\n",
      "          self._shutdown_workers()self._shutdown_workers()\n",
      "Traceback (most recent call last):\n",
      "^    \n",
      "    ^  File \"/home/mike/6semak/LDB_Summer_Moscow_2024__Task_10/venv/lib/python3.12/site-packages/torch/utils/data/dataloader.py\", line 1462, in _shutdown_workers\n",
      "   File \"/home/mike/6semak/LDB_Summer_Moscow_2024__Task_10/venv/lib/python3.12/site-packages/torch/utils/data/dataloader.py\", line 1479, in __del__\n",
      "  File \"/home/mike/6semak/LDB_Summer_Moscow_2024__Task_10/venv/lib/python3.12/site-packages/torch/utils/data/dataloader.py\", line 1462, in _shutdown_workers\n",
      "if w.is_alive():^ ^     ^^\n",
      "self._shutdown_workers()self._shutdown_workers()^    if w.is_alive(): ^self._shutdown_workers()\n",
      "\n",
      "^\n",
      "  File \"/home/mike/6semak/LDB_Summer_Moscow_2024__Task_10/venv/lib/python3.12/site-packages/torch/utils/data/dataloader.py\", line 1462, in _shutdown_workers\n",
      "^        ^   \n",
      "if w.is_alive():^\n",
      "      File \"/home/mike/6semak/LDB_Summer_Moscow_2024__Task_10/venv/lib/python3.12/site-packages/torch/utils/data/dataloader.py\", line 1462, in _shutdown_workers\n",
      "^^ \n",
      "  ^  File \"/home/mike/6semak/LDB_Summer_Moscow_2024__Task_10/venv/lib/python3.12/site-packages/torch/utils/data/dataloader.py\", line 1462, in _shutdown_workers\n",
      "^^    if w.is_alive():     File \"/home/mike/6semak/LDB_Summer_Moscow_2024__Task_10/venv/lib/python3.12/site-packages/torch/utils/data/dataloader.py\", line 1462, in _shutdown_workers\n",
      "^if w.is_alive():\n",
      "^^^       ^^\n",
      "     ^^if w.is_alive(): ^  \n",
      "  ^^\n",
      "   if w.is_alive():^ ^^^ ^^\n",
      " ^AssertionError    File \"/home/linuxbrew/.linuxbrew/opt/python@3.12/lib/python3.12/multiprocessing/process.py\", line 160, in is_alive\n",
      "^^^^      \n",
      ": ^^ ^  can only test a child process ^assert self._parent_pid == os.getpid(), 'can only test a child process'  ^^ \n",
      " ^^^^\n",
      "^ ^  ^^ ^^  ^ ^ ^ ^^ ^^^  ^  ^^^\n",
      "^^  ^^^^^^  File \"/home/linuxbrew/.linuxbrew/opt/python@3.12/lib/python3.12/multiprocessing/process.py\", line 160, in is_alive\n",
      "^^^^ ^^    ^^^^^^ ^^assert self._parent_pid == os.getpid(), 'can only test a child process'\n",
      "^^^^^ ^^\n",
      "^\n",
      "  File \"/home/linuxbrew/.linuxbrew/opt/python@3.12/lib/python3.12/multiprocessing/process.py\", line 160, in is_alive\n",
      "^\n",
      "^ ^^^  File \"/home/linuxbrew/.linuxbrew/opt/python@3.12/lib/python3.12/multiprocessing/process.py\", line 160, in is_alive\n",
      "       File \"/home/linuxbrew/.linuxbrew/opt/python@3.12/lib/python3.12/multiprocessing/process.py\", line 160, in is_alive\n",
      "^ ^^^ assert self._parent_pid == os.getpid(), 'can only test a child process'    ^    ^ ^^assert self._parent_pid == os.getpid(), 'can only test a child process' ^\n",
      "^assert self._parent_pid == os.getpid(), 'can only test a child process'\n",
      "^ \n",
      " \n",
      "^\n",
      "   File \"/home/linuxbrew/.linuxbrew/opt/python@3.12/lib/python3.12/multiprocessing/process.py\", line 160, in is_alive\n",
      "^     File \"/home/linuxbrew/.linuxbrew/opt/python@3.12/lib/python3.12/multiprocessing/process.py\", line 160, in is_alive\n",
      "^  ^ Exception ignored in: ^ ^^ <function _MultiProcessingDataLoaderIter.__del__ at 0x74274714be20>\n",
      "         ^    ^assert self._parent_pid == os.getpid(), 'can only test a child process'assert self._parent_pid == os.getpid(), 'can only test a child process'^\n",
      "^ Traceback (most recent call last):\n",
      "^ \n",
      " ^^   ^ ^   \n",
      "   File \"/home/mike/6semak/LDB_Summer_Moscow_2024__Task_10/venv/lib/python3.12/site-packages/torch/utils/data/dataloader.py\", line 1479, in __del__\n",
      "    File \"/home/linuxbrew/.linuxbrew/opt/python@3.12/lib/python3.12/multiprocessing/process.py\", line 160, in is_alive\n",
      "  ^   ^    \n",
      " ^  ^^ assert self._parent_pid == os.getpid(), 'can only test a child process'   \n",
      "       File \"/home/linuxbrew/.linuxbrew/opt/python@3.12/lib/python3.12/multiprocessing/process.py\", line 160, in is_alive\n",
      "^^  \n",
      "   File \"/home/linuxbrew/.linuxbrew/opt/python@3.12/lib/python3.12/multiprocessing/process.py\", line 160, in is_alive\n",
      " ^ ^self._shutdown_workers()          ^assert self._parent_pid == os.getpid(), 'can only test a child process'     assert self._parent_pid == os.getpid(), 'can only test a child process'\n",
      "  ^^ \n",
      "   \n",
      "^   File \"/home/mike/6semak/LDB_Summer_Moscow_2024__Task_10/venv/lib/python3.12/site-packages/torch/utils/data/dataloader.py\", line 1462, in _shutdown_workers\n",
      "^^    ^^ ^   ^     ^^^   ^^  ^if w.is_alive():^^^ ^ ^\n",
      "^^ ^ ^^ ^ ^ ^ ^^^ ^ ^^ ^^ ^^^^^^   ^^^ ^^^^^  ^^^^^^ ^^^  ^^^ ^ ^^^ ^^^^^^^^^^^ ^^^^ ^^^^^^^^ ^^^^ ^^^^^ ^^^^^^^ ^^^^^^^^^^^^^^^^^^^^^^^^^^^^^^^^^^^^^^^^^^^^^^^^^^^^^^^^^^^^^^^^^^^^^^^^^^^^^^^^\n",
      "^^^^^AssertionError^^\n",
      "^^^^: ^^^^^^^can only test a child process^  File \"/home/linuxbrew/.linuxbrew/opt/python@3.12/lib/python3.12/multiprocessing/process.py\", line 160, in is_alive\n",
      "^^^^^^^    \n",
      "^^^^^^^^^^^assert self._parent_pid == os.getpid(), 'can only test a child process'^\n",
      "^\n",
      "^^^AssertionError^^^ ^^^^: ^^^^^ ^^^^^^ \n",
      "can only test a child process^^^^^^^AssertionError ^^^^: ^^^^^ ^^^^^ ^^^^\n",
      " ^^^^^^ \n",
      "^AssertionError ^AssertionError^can only test a child process^: ^can only test a child process^: ^\n",
      "\n",
      "^^AssertionError^^\n",
      " : ^\n",
      "^^can only test a child process\n",
      "^^can only test a child process^\n",
      "^^ \n",
      "^^^^AssertionError^^^^^^^\n",
      "^^: ^AssertionErrorcan only test a child process^\n",
      "^^: ^^^can only test a child process^^^^^\n",
      "^\n",
      "^^AssertionError^^^: ^^^can only test a child process\n",
      "\n",
      "^^AssertionError^: ^can only test a child process^\n",
      "^^^^^^^^^\n",
      "AssertionError: can only test a child process\n",
      "  0%|          | 0/36 [00:26<?, ?it/s]\n"
     ]
    },
    {
     "ename": "KeyboardInterrupt",
     "evalue": "",
     "output_type": "error",
     "traceback": [
      "\u001b[0;31m---------------------------------------------------------------------------\u001b[0m",
      "\u001b[0;31mKeyboardInterrupt\u001b[0m                         Traceback (most recent call last)",
      "Cell \u001b[0;32mIn[86], line 4\u001b[0m\n\u001b[1;32m      2\u001b[0m \u001b[38;5;28;01mfor\u001b[39;00m e \u001b[38;5;129;01min\u001b[39;00m \u001b[38;5;28mrange\u001b[39m(\u001b[38;5;241m10\u001b[39m):\n\u001b[1;32m      3\u001b[0m     k \u001b[38;5;241m=\u001b[39m \u001b[38;5;241m0\u001b[39m\n\u001b[0;32m----> 4\u001b[0m \u001b[43m    \u001b[49m\u001b[38;5;28;43;01mfor\u001b[39;49;00m\u001b[43m \u001b[49m\u001b[43mx1\u001b[49m\u001b[43m,\u001b[49m\u001b[43m \u001b[49m\u001b[43mx2\u001b[49m\u001b[43m,\u001b[49m\u001b[43m \u001b[49m\u001b[43myt\u001b[49m\u001b[43m \u001b[49m\u001b[38;5;129;43;01min\u001b[39;49;00m\u001b[43m \u001b[49m\u001b[43mtqdm\u001b[49m\u001b[43m(\u001b[49m\u001b[43mdl\u001b[49m\u001b[43m)\u001b[49m\u001b[43m:\u001b[49m\n\u001b[1;32m      5\u001b[0m \u001b[43m        \u001b[49m\u001b[43mx_proc\u001b[49m\u001b[43m \u001b[49m\u001b[38;5;241;43m=\u001b[39;49m\u001b[43m \u001b[49m\u001b[43mprocess_data_to_model_cluster\u001b[49m\u001b[43m(\u001b[49m\u001b[43mx1\u001b[49m\u001b[43m,\u001b[49m\u001b[43m \u001b[49m\u001b[43mx2\u001b[49m\u001b[43m)\u001b[49m\n\u001b[1;32m      6\u001b[0m \u001b[43m        \u001b[49m\u001b[43mp\u001b[49m\u001b[43m \u001b[49m\u001b[38;5;241;43m=\u001b[39;49m\u001b[43m \u001b[49m\u001b[43mm2\u001b[49m\u001b[43m(\u001b[49m\u001b[43mx_proc\u001b[49m\u001b[43m)\u001b[49m\n",
      "File \u001b[0;32m~/6semak/LDB_Summer_Moscow_2024__Task_10/venv/lib/python3.12/site-packages/tqdm/std.py:1181\u001b[0m, in \u001b[0;36mtqdm.__iter__\u001b[0;34m(self)\u001b[0m\n\u001b[1;32m   1178\u001b[0m time \u001b[38;5;241m=\u001b[39m \u001b[38;5;28mself\u001b[39m\u001b[38;5;241m.\u001b[39m_time\n\u001b[1;32m   1180\u001b[0m \u001b[38;5;28;01mtry\u001b[39;00m:\n\u001b[0;32m-> 1181\u001b[0m \u001b[43m    \u001b[49m\u001b[38;5;28;43;01mfor\u001b[39;49;00m\u001b[43m \u001b[49m\u001b[43mobj\u001b[49m\u001b[43m \u001b[49m\u001b[38;5;129;43;01min\u001b[39;49;00m\u001b[43m \u001b[49m\u001b[43miterable\u001b[49m\u001b[43m:\u001b[49m\n\u001b[1;32m   1182\u001b[0m \u001b[43m        \u001b[49m\u001b[38;5;28;43;01myield\u001b[39;49;00m\u001b[43m \u001b[49m\u001b[43mobj\u001b[49m\n\u001b[1;32m   1183\u001b[0m \u001b[43m        \u001b[49m\u001b[38;5;66;43;03m# Update and possibly print the progressbar.\u001b[39;49;00m\n\u001b[1;32m   1184\u001b[0m \u001b[43m        \u001b[49m\u001b[38;5;66;43;03m# Note: does not call self.update(1) for speed optimisation.\u001b[39;49;00m\n",
      "File \u001b[0;32m~/6semak/LDB_Summer_Moscow_2024__Task_10/venv/lib/python3.12/site-packages/torch/utils/data/dataloader.py:631\u001b[0m, in \u001b[0;36m_BaseDataLoaderIter.__next__\u001b[0;34m(self)\u001b[0m\n\u001b[1;32m    628\u001b[0m \u001b[38;5;28;01mif\u001b[39;00m \u001b[38;5;28mself\u001b[39m\u001b[38;5;241m.\u001b[39m_sampler_iter \u001b[38;5;129;01mis\u001b[39;00m \u001b[38;5;28;01mNone\u001b[39;00m:\n\u001b[1;32m    629\u001b[0m     \u001b[38;5;66;03m# TODO(https://github.com/pytorch/pytorch/issues/76750)\u001b[39;00m\n\u001b[1;32m    630\u001b[0m     \u001b[38;5;28mself\u001b[39m\u001b[38;5;241m.\u001b[39m_reset()  \u001b[38;5;66;03m# type: ignore[call-arg]\u001b[39;00m\n\u001b[0;32m--> 631\u001b[0m data \u001b[38;5;241m=\u001b[39m \u001b[38;5;28;43mself\u001b[39;49m\u001b[38;5;241;43m.\u001b[39;49m\u001b[43m_next_data\u001b[49m\u001b[43m(\u001b[49m\u001b[43m)\u001b[49m\n\u001b[1;32m    632\u001b[0m \u001b[38;5;28mself\u001b[39m\u001b[38;5;241m.\u001b[39m_num_yielded \u001b[38;5;241m+\u001b[39m\u001b[38;5;241m=\u001b[39m \u001b[38;5;241m1\u001b[39m\n\u001b[1;32m    633\u001b[0m \u001b[38;5;28;01mif\u001b[39;00m \u001b[38;5;28mself\u001b[39m\u001b[38;5;241m.\u001b[39m_dataset_kind \u001b[38;5;241m==\u001b[39m _DatasetKind\u001b[38;5;241m.\u001b[39mIterable \u001b[38;5;129;01mand\u001b[39;00m \\\n\u001b[1;32m    634\u001b[0m         \u001b[38;5;28mself\u001b[39m\u001b[38;5;241m.\u001b[39m_IterableDataset_len_called \u001b[38;5;129;01mis\u001b[39;00m \u001b[38;5;129;01mnot\u001b[39;00m \u001b[38;5;28;01mNone\u001b[39;00m \u001b[38;5;129;01mand\u001b[39;00m \\\n\u001b[1;32m    635\u001b[0m         \u001b[38;5;28mself\u001b[39m\u001b[38;5;241m.\u001b[39m_num_yielded \u001b[38;5;241m>\u001b[39m \u001b[38;5;28mself\u001b[39m\u001b[38;5;241m.\u001b[39m_IterableDataset_len_called:\n",
      "File \u001b[0;32m~/6semak/LDB_Summer_Moscow_2024__Task_10/venv/lib/python3.12/site-packages/torch/utils/data/dataloader.py:1329\u001b[0m, in \u001b[0;36m_MultiProcessingDataLoaderIter._next_data\u001b[0;34m(self)\u001b[0m\n\u001b[1;32m   1326\u001b[0m     \u001b[38;5;28;01mreturn\u001b[39;00m \u001b[38;5;28mself\u001b[39m\u001b[38;5;241m.\u001b[39m_process_data(data)\n\u001b[1;32m   1328\u001b[0m \u001b[38;5;28;01massert\u001b[39;00m \u001b[38;5;129;01mnot\u001b[39;00m \u001b[38;5;28mself\u001b[39m\u001b[38;5;241m.\u001b[39m_shutdown \u001b[38;5;129;01mand\u001b[39;00m \u001b[38;5;28mself\u001b[39m\u001b[38;5;241m.\u001b[39m_tasks_outstanding \u001b[38;5;241m>\u001b[39m \u001b[38;5;241m0\u001b[39m\n\u001b[0;32m-> 1329\u001b[0m idx, data \u001b[38;5;241m=\u001b[39m \u001b[38;5;28;43mself\u001b[39;49m\u001b[38;5;241;43m.\u001b[39;49m\u001b[43m_get_data\u001b[49m\u001b[43m(\u001b[49m\u001b[43m)\u001b[49m\n\u001b[1;32m   1330\u001b[0m \u001b[38;5;28mself\u001b[39m\u001b[38;5;241m.\u001b[39m_tasks_outstanding \u001b[38;5;241m-\u001b[39m\u001b[38;5;241m=\u001b[39m \u001b[38;5;241m1\u001b[39m\n\u001b[1;32m   1331\u001b[0m \u001b[38;5;28;01mif\u001b[39;00m \u001b[38;5;28mself\u001b[39m\u001b[38;5;241m.\u001b[39m_dataset_kind \u001b[38;5;241m==\u001b[39m _DatasetKind\u001b[38;5;241m.\u001b[39mIterable:\n\u001b[1;32m   1332\u001b[0m     \u001b[38;5;66;03m# Check for _IterableDatasetStopIteration\u001b[39;00m\n",
      "File \u001b[0;32m~/6semak/LDB_Summer_Moscow_2024__Task_10/venv/lib/python3.12/site-packages/torch/utils/data/dataloader.py:1295\u001b[0m, in \u001b[0;36m_MultiProcessingDataLoaderIter._get_data\u001b[0;34m(self)\u001b[0m\n\u001b[1;32m   1291\u001b[0m     \u001b[38;5;66;03m# In this case, `self._data_queue` is a `queue.Queue`,. But we don't\u001b[39;00m\n\u001b[1;32m   1292\u001b[0m     \u001b[38;5;66;03m# need to call `.task_done()` because we don't use `.join()`.\u001b[39;00m\n\u001b[1;32m   1293\u001b[0m \u001b[38;5;28;01melse\u001b[39;00m:\n\u001b[1;32m   1294\u001b[0m     \u001b[38;5;28;01mwhile\u001b[39;00m \u001b[38;5;28;01mTrue\u001b[39;00m:\n\u001b[0;32m-> 1295\u001b[0m         success, data \u001b[38;5;241m=\u001b[39m \u001b[38;5;28;43mself\u001b[39;49m\u001b[38;5;241;43m.\u001b[39;49m\u001b[43m_try_get_data\u001b[49m\u001b[43m(\u001b[49m\u001b[43m)\u001b[49m\n\u001b[1;32m   1296\u001b[0m         \u001b[38;5;28;01mif\u001b[39;00m success:\n\u001b[1;32m   1297\u001b[0m             \u001b[38;5;28;01mreturn\u001b[39;00m data\n",
      "File \u001b[0;32m~/6semak/LDB_Summer_Moscow_2024__Task_10/venv/lib/python3.12/site-packages/torch/utils/data/dataloader.py:1133\u001b[0m, in \u001b[0;36m_MultiProcessingDataLoaderIter._try_get_data\u001b[0;34m(self, timeout)\u001b[0m\n\u001b[1;32m   1120\u001b[0m \u001b[38;5;28;01mdef\u001b[39;00m \u001b[38;5;21m_try_get_data\u001b[39m(\u001b[38;5;28mself\u001b[39m, timeout\u001b[38;5;241m=\u001b[39m_utils\u001b[38;5;241m.\u001b[39mMP_STATUS_CHECK_INTERVAL):\n\u001b[1;32m   1121\u001b[0m     \u001b[38;5;66;03m# Tries to fetch data from `self._data_queue` once for a given timeout.\u001b[39;00m\n\u001b[1;32m   1122\u001b[0m     \u001b[38;5;66;03m# This can also be used as inner loop of fetching without timeout, with\u001b[39;00m\n\u001b[0;32m   (...)\u001b[0m\n\u001b[1;32m   1130\u001b[0m     \u001b[38;5;66;03m# Returns a 2-tuple:\u001b[39;00m\n\u001b[1;32m   1131\u001b[0m     \u001b[38;5;66;03m#   (bool: whether successfully get data, any: data if successful else None)\u001b[39;00m\n\u001b[1;32m   1132\u001b[0m     \u001b[38;5;28;01mtry\u001b[39;00m:\n\u001b[0;32m-> 1133\u001b[0m         data \u001b[38;5;241m=\u001b[39m \u001b[38;5;28;43mself\u001b[39;49m\u001b[38;5;241;43m.\u001b[39;49m\u001b[43m_data_queue\u001b[49m\u001b[38;5;241;43m.\u001b[39;49m\u001b[43mget\u001b[49m\u001b[43m(\u001b[49m\u001b[43mtimeout\u001b[49m\u001b[38;5;241;43m=\u001b[39;49m\u001b[43mtimeout\u001b[49m\u001b[43m)\u001b[49m\n\u001b[1;32m   1134\u001b[0m         \u001b[38;5;28;01mreturn\u001b[39;00m (\u001b[38;5;28;01mTrue\u001b[39;00m, data)\n\u001b[1;32m   1135\u001b[0m     \u001b[38;5;28;01mexcept\u001b[39;00m \u001b[38;5;167;01mException\u001b[39;00m \u001b[38;5;28;01mas\u001b[39;00m e:\n\u001b[1;32m   1136\u001b[0m         \u001b[38;5;66;03m# At timeout and error, we manually check whether any worker has\u001b[39;00m\n\u001b[1;32m   1137\u001b[0m         \u001b[38;5;66;03m# failed. Note that this is the only mechanism for Windows to detect\u001b[39;00m\n\u001b[1;32m   1138\u001b[0m         \u001b[38;5;66;03m# worker failures.\u001b[39;00m\n",
      "File \u001b[0;32m/home/linuxbrew/.linuxbrew/opt/python@3.12/lib/python3.12/multiprocessing/queues.py:113\u001b[0m, in \u001b[0;36mQueue.get\u001b[0;34m(self, block, timeout)\u001b[0m\n\u001b[1;32m    111\u001b[0m \u001b[38;5;28;01mif\u001b[39;00m block:\n\u001b[1;32m    112\u001b[0m     timeout \u001b[38;5;241m=\u001b[39m deadline \u001b[38;5;241m-\u001b[39m time\u001b[38;5;241m.\u001b[39mmonotonic()\n\u001b[0;32m--> 113\u001b[0m     \u001b[38;5;28;01mif\u001b[39;00m \u001b[38;5;129;01mnot\u001b[39;00m \u001b[38;5;28;43mself\u001b[39;49m\u001b[38;5;241;43m.\u001b[39;49m\u001b[43m_poll\u001b[49m\u001b[43m(\u001b[49m\u001b[43mtimeout\u001b[49m\u001b[43m)\u001b[49m:\n\u001b[1;32m    114\u001b[0m         \u001b[38;5;28;01mraise\u001b[39;00m Empty\n\u001b[1;32m    115\u001b[0m \u001b[38;5;28;01melif\u001b[39;00m \u001b[38;5;129;01mnot\u001b[39;00m \u001b[38;5;28mself\u001b[39m\u001b[38;5;241m.\u001b[39m_poll():\n",
      "File \u001b[0;32m/home/linuxbrew/.linuxbrew/opt/python@3.12/lib/python3.12/multiprocessing/connection.py:257\u001b[0m, in \u001b[0;36m_ConnectionBase.poll\u001b[0;34m(self, timeout)\u001b[0m\n\u001b[1;32m    255\u001b[0m \u001b[38;5;28mself\u001b[39m\u001b[38;5;241m.\u001b[39m_check_closed()\n\u001b[1;32m    256\u001b[0m \u001b[38;5;28mself\u001b[39m\u001b[38;5;241m.\u001b[39m_check_readable()\n\u001b[0;32m--> 257\u001b[0m \u001b[38;5;28;01mreturn\u001b[39;00m \u001b[38;5;28;43mself\u001b[39;49m\u001b[38;5;241;43m.\u001b[39;49m\u001b[43m_poll\u001b[49m\u001b[43m(\u001b[49m\u001b[43mtimeout\u001b[49m\u001b[43m)\u001b[49m\n",
      "File \u001b[0;32m/home/linuxbrew/.linuxbrew/opt/python@3.12/lib/python3.12/multiprocessing/connection.py:440\u001b[0m, in \u001b[0;36mConnection._poll\u001b[0;34m(self, timeout)\u001b[0m\n\u001b[1;32m    439\u001b[0m \u001b[38;5;28;01mdef\u001b[39;00m \u001b[38;5;21m_poll\u001b[39m(\u001b[38;5;28mself\u001b[39m, timeout):\n\u001b[0;32m--> 440\u001b[0m     r \u001b[38;5;241m=\u001b[39m \u001b[43mwait\u001b[49m\u001b[43m(\u001b[49m\u001b[43m[\u001b[49m\u001b[38;5;28;43mself\u001b[39;49m\u001b[43m]\u001b[49m\u001b[43m,\u001b[49m\u001b[43m \u001b[49m\u001b[43mtimeout\u001b[49m\u001b[43m)\u001b[49m\n\u001b[1;32m    441\u001b[0m     \u001b[38;5;28;01mreturn\u001b[39;00m \u001b[38;5;28mbool\u001b[39m(r)\n",
      "File \u001b[0;32m/home/linuxbrew/.linuxbrew/opt/python@3.12/lib/python3.12/multiprocessing/connection.py:1136\u001b[0m, in \u001b[0;36mwait\u001b[0;34m(object_list, timeout)\u001b[0m\n\u001b[1;32m   1133\u001b[0m     deadline \u001b[38;5;241m=\u001b[39m time\u001b[38;5;241m.\u001b[39mmonotonic() \u001b[38;5;241m+\u001b[39m timeout\n\u001b[1;32m   1135\u001b[0m \u001b[38;5;28;01mwhile\u001b[39;00m \u001b[38;5;28;01mTrue\u001b[39;00m:\n\u001b[0;32m-> 1136\u001b[0m     ready \u001b[38;5;241m=\u001b[39m \u001b[43mselector\u001b[49m\u001b[38;5;241;43m.\u001b[39;49m\u001b[43mselect\u001b[49m\u001b[43m(\u001b[49m\u001b[43mtimeout\u001b[49m\u001b[43m)\u001b[49m\n\u001b[1;32m   1137\u001b[0m     \u001b[38;5;28;01mif\u001b[39;00m ready:\n\u001b[1;32m   1138\u001b[0m         \u001b[38;5;28;01mreturn\u001b[39;00m [key\u001b[38;5;241m.\u001b[39mfileobj \u001b[38;5;28;01mfor\u001b[39;00m (key, events) \u001b[38;5;129;01min\u001b[39;00m ready]\n",
      "File \u001b[0;32m/home/linuxbrew/.linuxbrew/opt/python@3.12/lib/python3.12/selectors.py:415\u001b[0m, in \u001b[0;36m_PollLikeSelector.select\u001b[0;34m(self, timeout)\u001b[0m\n\u001b[1;32m    413\u001b[0m ready \u001b[38;5;241m=\u001b[39m []\n\u001b[1;32m    414\u001b[0m \u001b[38;5;28;01mtry\u001b[39;00m:\n\u001b[0;32m--> 415\u001b[0m     fd_event_list \u001b[38;5;241m=\u001b[39m \u001b[38;5;28;43mself\u001b[39;49m\u001b[38;5;241;43m.\u001b[39;49m\u001b[43m_selector\u001b[49m\u001b[38;5;241;43m.\u001b[39;49m\u001b[43mpoll\u001b[49m\u001b[43m(\u001b[49m\u001b[43mtimeout\u001b[49m\u001b[43m)\u001b[49m\n\u001b[1;32m    416\u001b[0m \u001b[38;5;28;01mexcept\u001b[39;00m \u001b[38;5;167;01mInterruptedError\u001b[39;00m:\n\u001b[1;32m    417\u001b[0m     \u001b[38;5;28;01mreturn\u001b[39;00m ready\n",
      "\u001b[0;31mKeyboardInterrupt\u001b[0m: "
     ]
    }
   ],
   "source": [
    "lm = []\n",
    "for e in range(10):\n",
    "    k = 0\n",
    "    for x1, x2, yt in tqdm(dl):\n",
    "        x_proc = process_data_to_model_cluster(x1, x2)\n",
    "        p = m2(x_proc)\n",
    "        l = loss_fun(p.float().to('cuda'), yt.float().to('cuda'))\n",
    "        lm.append(l.item())\n",
    "        l.backward()\n",
    "        optimizer2.zero_grad()\n",
    "        optimizer2.step()\n",
    "        k+=1\n",
    "    print(e, np.mean(lm[-k:]), np.min(lm[-k:]))\n"
   ]
  },
  {
   "cell_type": "code",
   "execution_count": 76,
   "metadata": {},
   "outputs": [
    {
     "data": {
      "text/plain": [
       "[<matplotlib.lines.Line2D at 0x742700d18d10>]"
      ]
     },
     "execution_count": 76,
     "metadata": {},
     "output_type": "execute_result"
    },
    {
     "data": {
      "image/png": "[encoded data removed]",
      "text/plain": [
       "<Figure size 640x480 with 1 Axes>"
      ]
     },
     "metadata": {},
     "output_type": "display_data"
    }
   ],
   "source": [
    "plt.plot(lm)"
   ]
  },
  {
   "cell_type": "code",
   "execution_count": 77,
   "metadata": {},
   "outputs": [
    {
     "data": {
      "text/plain": [
       "tensor([ 0,  1,  3,  0,  0,  1,  1, 11,  4,  1,  5, 14, 15,  3, 10, 21,  3, 32,\n",
       "         9,  4,  4, 16, 47,  0,  5, 32,  2,  6,  5])"
      ]
     },
     "execution_count": 77,
     "metadata": {},
     "output_type": "execute_result"
    }
   ],
   "source": [
    "yt.sum(dim=2).sum(dim=1)"
   ]
  },
  {
   "cell_type": "code",
   "execution_count": 78,
   "metadata": {},
   "outputs": [
    {
     "data": {
      "text/plain": [
       "tensor([[18],\n",
       "        [19],\n",
       "        [27]])"
      ]
     },
     "execution_count": 78,
     "metadata": {},
     "output_type": "execute_result"
    }
   ],
   "source": [
    "T.argwhere(yt[2].float().sum(dim=1))"
   ]
  },
  {
   "cell_type": "code",
   "execution_count": 79,
   "metadata": {},
   "outputs": [
    {
     "data": {
      "text/plain": [
       "tensor([0., 0., 0., 0., 0., 0., 0., 0., 0., 1., 0., 0.])"
      ]
     },
     "execution_count": 79,
     "metadata": {},
     "output_type": "execute_result"
    }
   ],
   "source": [
    "yt.float()[2][18]"
   ]
  },
  {
   "cell_type": "code",
   "execution_count": 81,
   "metadata": {},
   "outputs": [
    {
     "data": {
      "text/plain": [
       "tensor([0.4941, 0.5518, 0.4558, 0.6824, 0.3964, 0.4613, 0.6172, 0.5028, 0.5619,\n",
       "        0.4042, 0.4607, 0.6630], device='cuda:0', grad_fn=<SelectBackward0>)"
      ]
     },
     "execution_count": 81,
     "metadata": {},
     "output_type": "execute_result"
    }
   ],
   "source": [
    "p = m2(x_proc)\n",
    "p[2][18]"
   ]
  },
  {
   "cell_type": "code",
   "execution_count": 82,
   "metadata": {},
   "outputs": [
    {
     "data": {
      "text/plain": [
       "tensor([0.4941, 0.5518, 0.4558, 0.6824, 0.3964, 0.4613, 0.6172, 0.5028, 0.5619,\n",
       "        0.4042, 0.4607, 0.6630], device='cuda:0', grad_fn=<SelectBackward0>)"
      ]
     },
     "execution_count": 82,
     "metadata": {},
     "output_type": "execute_result"
    }
   ],
   "source": [
    "p[2][40]"
   ]
  },
  {
   "cell_type": "code",
   "execution_count": 68,
   "metadata": {},
   "outputs": [
    {
     "data": {
      "text/plain": [
       "tensor([0.8190, 0.7489, 0.7940, 0.7261, 0.8115, 0.7463, 0.7041, 0.7769, 0.7813,\n",
       "        0.7251, 0.7996, 0.8317], device='cuda:0', grad_fn=<SelectBackward0>)"
      ]
     },
     "execution_count": 68,
     "metadata": {},
     "output_type": "execute_result"
    }
   ],
   "source": [
    "m2(x_proc)\n",
    "p_scaled = (p + 1) / 2\n",
    "p_scaled[2][29]"
   ]
  },
  {
   "cell_type": "code",
   "execution_count": 82,
   "metadata": {},
   "outputs": [
    {
     "data": {
      "text/plain": [
       "tensor([ 1.9670e-06, -4.7684e-07, -4.7088e-06, -3.0398e-06,  6.0201e-06,\n",
       "        -1.6093e-06,  0.0000e+00, -4.7684e-07, -4.1723e-06,  1.7881e-07,\n",
       "         2.6822e-07, -5.9605e-07], device='cuda:0', grad_fn=<SubBackward0>)"
      ]
     },
     "execution_count": 82,
     "metadata": {},
     "output_type": "execute_result"
    }
   ],
   "source": [
    "p_scaled[2][29] - p_scaled[2][53]"
   ]
  },
  {
   "cell_type": "code",
   "execution_count": null,
   "metadata": {},
   "outputs": [],
   "source": [
    "model_scripted = T.jit.script(m2)\n",
    "model_scripted.save(f'../models/predictors/day_anomaly_prediction_cluster_modded_{str(pd.Timestamp.now()).replace(\" \", \"T\")}.pt')"
   ]
  },
  {
   "cell_type": "markdown",
   "metadata": {},
   "source": [
    "# **Hours model**"
   ]
  },
  {
   "cell_type": "markdown",
   "metadata": {},
   "source": [
    "## Dataset"
   ]
  },
  {
   "cell_type": "code",
   "execution_count": 65,
   "metadata": {},
   "outputs": [],
   "source": [
    "class DataSetForHoursAnomalyPredictionForNN(Dataset):\n",
    "    def __init__(self, \n",
    "        buildings_df: pd.DataFrame, \n",
    "        anomalies_ts: pd.DataFrame, \n",
    "        weather_ts: pd.DataFrame, \n",
    "        # time='day',\n",
    "    ):\n",
    "        self.buildings_df = buildings_df\n",
    "        self.anomalies_ts = anomalies_ts\n",
    "        self.weather_ts = weather_ts\n",
    "        self.unom_ids = np.unique(self.buildings_df['UNOM'].astype(int).to_list() + self.anomalies_ts['UNOM'].astype(int).to_list())\n",
    "        self.tl = make_timeline_for_period(2023, 24)\n",
    "        z1, z2 = np.unique(self.anomalies_ts.loc[:, ['days', 'UNOM']].drop_duplicates()['UNOM'].to_numpy(), return_counts=True)\n",
    "        # z2 = np.arange(len(z1))\n",
    "        self.day_id_unom = [np.full(i, j).tolist() for i, j in zip(z2, z1)]\n",
    "        self.day_index = np.array(sum(self.day_id_unom, []))\n",
    "        \n",
    "    \n",
    "    def __len__(self):\n",
    "        return len(self.day_index)\n",
    "\n",
    "    def __getitem__(self, idx):\n",
    "        \n",
    "        unom_id = self.day_index[idx]\n",
    "        day_idx = np.argwhere(self.day_index[:idx+1] == unom_id)[:, 0].shape[0]-1\n",
    "        building_info = self.buildings_df.loc[self.buildings_df['UNOM'] == unom_id].fillna(-1)\n",
    "        anomalies_info = self.anomalies_ts.loc[self.anomalies_ts['UNOM'] == unom_id]\n",
    "        day = anomalies_info['days'].unique()[day_idx]\n",
    "        anomalies_info = anomalies_info.loc[anomalies_info['days'] == day]\n",
    "        # print(idx, day)\n",
    "        weather_timeline = np.arange(datetime(year=day.year, month=day.month, day=day.day), datetime(year=day.year, month=day.month, day=day.day)+timedelta(days=1), timedelta(hours=1))\n",
    "        anomaly_timeline = pd.DataFrame({'houres':np.arange(datetime(year=day.year, month=day.month, day=day.day, hour=0), datetime(year=day.year, month=day.month, day=day.day)+timedelta(days=1), timedelta(hours=1))})\n",
    "        anomalies = pd.merge(anomaly_timeline, anomalies_info, how='left', on='houres').drop(\n",
    "            ['Дата закрытия', 'Дата создания во внешней системе', 'days', 'UNOM',], axis=1\n",
    "        ).drop_duplicates().fillna(0).drop('houres', axis=1)\n",
    "        weathers = self.weather_ts.loc[self.weather_ts['houres'].isin(weather_timeline)].drop(\n",
    "            ['timeline', 'houres', 'days'], axis=1\n",
    "        )\n",
    "        \n",
    "        if anomalies.shape[0] == 0:\n",
    "            bt = T.zeros(anomalies.shape[1])\n",
    "        elif anomalies.shape[0] > 1:\n",
    "            bt = T.from_numpy(building_info.values).sum(dim=0)\n",
    "            # print(idx)\n",
    "        else:\n",
    "            bt = T.from_numpy(building_info.values)\n",
    "        if weathers.shape[0] == 0:\n",
    "            wt = T.zeros(24, 15)\n",
    "        else:\n",
    "            wt = T.from_numpy(weathers.values)[:70, :]\n",
    "        return bt, T.from_numpy(anomalies.values)[:24, :], wt\n",
    "        "
   ]
  },
  {
   "cell_type": "code",
   "execution_count": 67,
   "metadata": {},
   "outputs": [],
   "source": [
    "d = DataSetForHoursAnomalyPredictionForNN(\n",
    "    anomalies_ts=anomalies_ts,\n",
    "    weather_ts=weather_ts,\n",
    "    buildings_df=buildings_df\n",
    ")\n",
    "\n",
    "dl = DataLoader(d, batch_size=128, shuffle=True, num_workers=0)\n",
    "\n",
    "x1, x2, yt = next(iter(dl))"
   ]
  },
  {
   "cell_type": "markdown",
   "metadata": {},
   "source": [
    "## Naive Model"
   ]
  },
  {
   "cell_type": "code",
   "execution_count": 69,
   "metadata": {},
   "outputs": [
    {
     "data": {
      "text/plain": [
       "(torch.Size([128, 19]), torch.Size([128, 24, 12]), torch.Size([128, 24, 15]))"
      ]
     },
     "execution_count": 69,
     "metadata": {},
     "output_type": "execute_result"
    }
   ],
   "source": [
    "x1.shape, x2.shape, yt.shape"
   ]
  },
  {
   "cell_type": "code",
   "execution_count": 94,
   "metadata": {},
   "outputs": [
    {
     "data": {
      "text/plain": [
       "torch.Size([128, 8, 27, 15])"
      ]
     },
     "execution_count": 94,
     "metadata": {},
     "output_type": "execute_result"
    }
   ],
   "source": [
    "nn.Sequential(\n",
    "    nn.Conv2d(in_channels=1, out_channels=8, kernel_size=(2, 2), padding=2, stride=1),\n",
    "    # nn.MaxPool2d(kernel_size=(2, 2), padding=1),\n",
    ")(x2.float().unsqueeze(1)).shape"
   ]
  },
  {
   "cell_type": "code",
   "execution_count": 70,
   "metadata": {},
   "outputs": [
    {
     "data": {
      "text/plain": [
       "tensor([[ 6.9572e-01,  8.7212e-02,  0.0000e+00,  ...,  0.0000e+00,\n",
       "          3.6000e-01,  6.5074e+04],\n",
       "        [ 0.0000e+00,  0.0000e+00,  0.0000e+00,  ...,  0.0000e+00,\n",
       "          0.0000e+00,  0.0000e+00],\n",
       "        [ 7.4804e-01,  2.4466e-01, -1.0000e+00,  ...,  0.0000e+00,\n",
       "          1.6000e-01,  1.8060e+04],\n",
       "        ...,\n",
       "        [ 7.5223e-01,  2.5876e-01, -1.0000e+00,  ...,  0.0000e+00,\n",
       "          3.2000e-01,  2.9216e+04],\n",
       "        [ 7.6300e-01,  2.8929e-01, -1.0000e+00,  ...,  0.0000e+00,\n",
       "          3.2000e-01,  1.1740e+04],\n",
       "        [ 7.4644e-01,  2.4370e-01, -1.0000e+00,  ...,  0.0000e+00,\n",
       "          1.6000e-01,  1.3844e+04]], dtype=torch.float64)"
      ]
     },
     "execution_count": 70,
     "metadata": {},
     "output_type": "execute_result"
    }
   ],
   "source": [
    "class AnomalyDayModelTSEncoderConved(nn.Module):\n",
    "    def __init__(self):\n",
    "        super().__init__()\n",
    "        self.m = nn.Sequential(\n",
    "            nn.Conv2d(in_channels=1, out_channels=8, kernel_size=(3, 2), padding=2),\n",
    "            nn.AvgPool2d(kernel_size=(2, 2)),\n",
    "            nn.Conv2d(in_channels=8, out_channels=16, kernel_size=(3, 3), padding=2),\n",
    "            nn.MaxPool2d(kernel_size=(2, 1)),\n",
    "            nn.Conv2d(in_channels=16, out_channels=32, kernel_size=(3, 3), padding=2),\n",
    "            nn.AvgPool2d(kernel_size=(2, 1)),\n",
    "            nn.Conv2d(in_channels=32, out_channels=64, kernel_size=(3, 3), padding=2),\n",
    "            nn.AvgPool2d(kernel_size=(2, 1)),\n",
    "            nn.Conv2d(in_channels=64, out_channels=128, kernel_size=(3, 3), padding=2),\n",
    "            nn.MaxPool2d(kernel_size=(3, 3)),\n",
    "            nn.Conv2d(in_channels=128, out_channels=256, kernel_size=(3, 3), padding=1),\n",
    "            nn.AvgPool2d(kernel_size=(3, 3)),\n",
    "            nn.Flatten(1),\n",
    "        )\n",
    "    def forward(self, x):\n",
    "        return ff.tanh(self.m(x))"
   ]
  },
  {
   "cell_type": "code",
   "execution_count": null,
   "metadata": {},
   "outputs": [],
   "source": []
  }
 ],
 "metadata": {
  "kernelspec": {
   "display_name": "venv",
   "language": "python",
   "name": "python3"
  },
  "language_info": {
   "codemirror_mode": {
    "name": "ipython",
    "version": 3
   },
   "file_extension": ".py",
   "mimetype": "text/x-python",
   "name": "python",
   "nbconvert_exporter": "python",
   "pygments_lexer": "ipython3",
   "version": "3.12.3"
  }
 },
 "nbformat": 4,
 "nbformat_minor": 2
}
