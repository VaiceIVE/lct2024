{
 "cells": [
  {
   "cell_type": "markdown",
   "metadata": {},
   "source": [
    "# **Imports**"
   ]
  },
  {
   "cell_type": "code",
   "execution_count": 22,
   "metadata": {},
   "outputs": [],
   "source": [
    "import pandas as pd\n",
    "from openpyxl import load_workbook\n",
    "from dataclasses import dataclass\n",
    "import matplotlib.pyplot as plt\n",
    "import numpy as np\n",
    "from datetime import datetime, timedelta\n",
    "import openmeteo_requests\n",
    "import requests_cache\n",
    "import pandas as pd\n",
    "from retry_requests import retry"
   ]
  },
  {
   "cell_type": "markdown",
   "metadata": {},
   "source": [
    "# **Constants**"
   ]
  },
  {
   "cell_type": "code",
   "execution_count": 23,
   "metadata": {},
   "outputs": [],
   "source": [
    "@dataclass(frozen=True)\n",
    "class Pathes:\n",
    "    path_turn_on_off_heating: str = '../main_datasets/processed_datasets/6. Плановые-Внеплановые отключения 01.10.2023-30.04.2023.csv'\n",
    "    path_events_for_period_2023_params: str = '../main_datasets/processed_datasets/События за период_01.10.2023-31.12.2023____pivot_table.csv'\n",
    "    path_events_for_period_2023: str = '../main_datasets/processed_datasets/События за период_01.10.2023-31.12.2023.xlsx____uploading_table.csv'\n",
    "    path_events_for_period_2024: str = '../main_datasets/processed_datasets/События_за_период_01.01.2024-30.04.2024____uploading_table.csv'\n",
    "    path_events_for_period_2024_params: str = '../main_datasets/processed_datasets/События_за_период_01.01.2024-30.04.2024____pivot_table.csv'\n",
    "    path_to_timeline: str = '../variables/timeline'\n",
    "    path_to_weather_dataset: str = '../main_datasets/exogens_params/weather_dataset.csv'"
   ]
  },
  {
   "cell_type": "code",
   "execution_count": 24,
   "metadata": {},
   "outputs": [],
   "source": [
    "date_columns =  [\n",
    "    'Дата создания во внешней системе', 'Дата закрытия', 'Дата и время завершения события во внешней системе',\n",
    "    'Дата регистрации отключения', 'Планируемая дата отключения', 'Планируемая дата включения', 'Фактическая дата отключения'\n",
    "    'Фактическая дата включения'\n",
    "]"
   ]
  },
  {
   "cell_type": "code",
   "execution_count": 4,
   "metadata": {},
   "outputs": [],
   "source": [
    "lat = 55.787715\n",
    "lon = 37.775631\n",
    "max_date_for_api = datetime(year=2024, month=6, day=18)\n",
    "weather_params = [\"temperature_2m\", \"relative_humidity_2m\", \"rain\", \"showers\", \"snowfall\", \"cloud_cover\", \"cloud_cover_low\", \"cloud_cover_mid\", \"cloud_cover_high\"]"
   ]
  },
  {
   "cell_type": "markdown",
   "metadata": {},
   "source": [
    "# **Functions**"
   ]
  },
  {
   "cell_type": "code",
   "execution_count": 5,
   "metadata": {},
   "outputs": [],
   "source": [
    "def date_columns_to_date_format(df: pd.DataFrame) -> pd.DataFrame:\n",
    "    for i in date_columns:\n",
    "        if i in df.columns:\n",
    "            df[i] = pd.to_datetime(df[i])\n",
    "    return df"
   ]
  },
  {
   "cell_type": "code",
   "execution_count": 6,
   "metadata": {},
   "outputs": [],
   "source": [
    "def load_dataset(path: str) -> pd.DataFrame:\n",
    "    df = pd.read_csv(path)\n",
    "    df = date_columns_to_date_format(df)\n",
    "    return df"
   ]
  },
  {
   "cell_type": "markdown",
   "metadata": {},
   "source": [
    "# **Loading tables**"
   ]
  },
  {
   "cell_type": "code",
   "execution_count": 7,
   "metadata": {},
   "outputs": [],
   "source": [
    "turn_on_off_heating = load_dataset(Pathes.path_turn_on_off_heating)\n",
    "events_for_period_2023 = load_dataset(Pathes.path_events_for_period_2023)\n",
    "events_for_period_2024 = load_dataset(Pathes.path_events_for_period_2024)\n",
    "events_for_period_2023_params = load_dataset(Pathes.path_events_for_period_2023_params)\n",
    "events_for_period_2024_params = load_dataset(Pathes.path_events_for_period_2024_params)\n"
   ]
  },
  {
   "cell_type": "code",
   "execution_count": 11,
   "metadata": {},
   "outputs": [],
   "source": [
    "usefull_events = events_for_period_2024_params['Названия строк'].to_list()"
   ]
  },
  {
   "cell_type": "code",
   "execution_count": 12,
   "metadata": {},
   "outputs": [],
   "source": [
    "events_for_period_2023__only_usefull_events = events_for_period_2023.loc[events_for_period_2023['Наименование'].isin(usefull_events)]\n",
    "events_for_period_2024__only_usefull_events = events_for_period_2024.loc[events_for_period_2024['Наименование'].isin(usefull_events)]"
   ]
  },
  {
   "cell_type": "markdown",
   "metadata": {},
   "source": [
    "# **Get weather**"
   ]
  },
  {
   "cell_type": "code",
   "execution_count": 27,
   "metadata": {},
   "outputs": [],
   "source": [
    "min1_2023 = events_for_period_2023__only_usefull_events['Дата создания во внешней системе'].min()\n",
    "min2_2024 = events_for_period_2024__only_usefull_events['Дата создания во внешней системе'].min()\n",
    "min_date = min(min1_2023, min2_2024)"
   ]
  },
  {
   "cell_type": "code",
   "execution_count": 28,
   "metadata": {},
   "outputs": [],
   "source": [
    "max1_2023 = events_for_period_2023__only_usefull_events['Дата создания во внешней системе'].max()\n",
    "max2_2024 = events_for_period_2024__only_usefull_events['Дата создания во внешней системе'].max()\n",
    "max_date = max(max1_2023, max2_2024)"
   ]
  },
  {
   "cell_type": "code",
   "execution_count": 29,
   "metadata": {},
   "outputs": [
    {
     "data": {
      "text/plain": [
       "Timestamp('2023-01-06 00:58:29')"
      ]
     },
     "execution_count": 29,
     "metadata": {},
     "output_type": "execute_result"
    }
   ],
   "source": [
    "min_date"
   ]
  },
  {
   "cell_type": "code",
   "execution_count": 30,
   "metadata": {},
   "outputs": [
    {
     "data": {
      "text/plain": [
       "'2023-01-06 00:58:29'"
      ]
     },
     "execution_count": 30,
     "metadata": {},
     "output_type": "execute_result"
    }
   ],
   "source": [
    "str(min_date)"
   ]
  },
  {
   "cell_type": "code",
   "execution_count": 33,
   "metadata": {},
   "outputs": [
    {
     "data": {
      "text/plain": [
       "'2023-01-16'"
      ]
     },
     "execution_count": 33,
     "metadata": {},
     "output_type": "execute_result"
    }
   ],
   "source": [
    "str(min_date + timedelta(days=10))[:10]"
   ]
  },
  {
   "cell_type": "code",
   "execution_count": 40,
   "metadata": {},
   "outputs": [
    {
     "name": "stdout",
     "output_type": "stream",
     "text": [
      "Coordinates 55.8125°N 37.75°E\n",
      "Elevation 143.0 m asl\n",
      "Timezone None None\n",
      "Timezone difference to GMT+0 0 s\n"
     ]
    }
   ],
   "source": [
    "# Setup the Open-Meteo API client with cache and retry on error\n",
    "cache_session = requests_cache.CachedSession('.cache', expire_after = 3600)\n",
    "retry_session = retry(cache_session, retries = 5, backoff_factor = 0.2)\n",
    "openmeteo = openmeteo_requests.Client(session = retry_session)\n",
    "\n",
    "# Make sure all required weather variables are listed here\n",
    "# The order of variables in hourly or daily is important to assign them correctly below\n",
    "url = \"https://api.open-meteo.com/v1/forecast\"\n",
    "params = {\n",
    "\t\"latitude\": lat,\n",
    "\t\"longitude\": lon,\n",
    "\t\"hourly\": 'temperature',\n",
    "\t\"start_date\": '2021-01-01',\n",
    "\t\"end_date\": '2021-01-02'\n",
    "}\n",
    "responses = openmeteo.weather_api(url, params=params)\n",
    "\n",
    "# Process first location. Add a for-loop for multiple locations or weather models\n",
    "response = responses[0]\n",
    "print(f\"Coordinates {response.Latitude()}°N {response.Longitude()}°E\")\n",
    "print(f\"Elevation {response.Elevation()} m asl\")\n",
    "print(f\"Timezone {response.Timezone()} {response.TimezoneAbbreviation()}\")\n",
    "print(f\"Timezone difference to GMT+0 {response.UtcOffsetSeconds()} s\")\n",
    "\n"
   ]
  },
  {
   "cell_type": "code",
   "execution_count": 41,
   "metadata": {},
   "outputs": [
    {
     "name": "stdout",
     "output_type": "stream",
     "text": [
      "                        date  temperature_2m\n",
      "0  2021-01-01 00:00:00+00:00             NaN\n",
      "1  2021-01-01 01:00:00+00:00             NaN\n",
      "2  2021-01-01 02:00:00+00:00             NaN\n",
      "3  2021-01-01 03:00:00+00:00             NaN\n",
      "4  2021-01-01 04:00:00+00:00             NaN\n",
      "5  2021-01-01 05:00:00+00:00             NaN\n",
      "6  2021-01-01 06:00:00+00:00             NaN\n",
      "7  2021-01-01 07:00:00+00:00             NaN\n",
      "8  2021-01-01 08:00:00+00:00             NaN\n",
      "9  2021-01-01 09:00:00+00:00             NaN\n",
      "10 2021-01-01 10:00:00+00:00             NaN\n",
      "11 2021-01-01 11:00:00+00:00             NaN\n",
      "12 2021-01-01 12:00:00+00:00             NaN\n",
      "13 2021-01-01 13:00:00+00:00             NaN\n",
      "14 2021-01-01 14:00:00+00:00             NaN\n",
      "15 2021-01-01 15:00:00+00:00             NaN\n",
      "16 2021-01-01 16:00:00+00:00             NaN\n",
      "17 2021-01-01 17:00:00+00:00             NaN\n",
      "18 2021-01-01 18:00:00+00:00             NaN\n",
      "19 2021-01-01 19:00:00+00:00             NaN\n",
      "20 2021-01-01 20:00:00+00:00             NaN\n",
      "21 2021-01-01 21:00:00+00:00             NaN\n",
      "22 2021-01-01 22:00:00+00:00             NaN\n",
      "23 2021-01-01 23:00:00+00:00             NaN\n",
      "24 2021-01-02 00:00:00+00:00             NaN\n",
      "25 2021-01-02 01:00:00+00:00             NaN\n",
      "26 2021-01-02 02:00:00+00:00             NaN\n",
      "27 2021-01-02 03:00:00+00:00             NaN\n",
      "28 2021-01-02 04:00:00+00:00             NaN\n",
      "29 2021-01-02 05:00:00+00:00             NaN\n",
      "30 2021-01-02 06:00:00+00:00             NaN\n",
      "31 2021-01-02 07:00:00+00:00             NaN\n",
      "32 2021-01-02 08:00:00+00:00             NaN\n",
      "33 2021-01-02 09:00:00+00:00             NaN\n",
      "34 2021-01-02 10:00:00+00:00             NaN\n",
      "35 2021-01-02 11:00:00+00:00             NaN\n",
      "36 2021-01-02 12:00:00+00:00             NaN\n",
      "37 2021-01-02 13:00:00+00:00             NaN\n",
      "38 2021-01-02 14:00:00+00:00             NaN\n",
      "39 2021-01-02 15:00:00+00:00             NaN\n",
      "40 2021-01-02 16:00:00+00:00             NaN\n",
      "41 2021-01-02 17:00:00+00:00             NaN\n",
      "42 2021-01-02 18:00:00+00:00             NaN\n",
      "43 2021-01-02 19:00:00+00:00             NaN\n",
      "44 2021-01-02 20:00:00+00:00             NaN\n",
      "45 2021-01-02 21:00:00+00:00             NaN\n",
      "46 2021-01-02 22:00:00+00:00             NaN\n",
      "47 2021-01-02 23:00:00+00:00             NaN\n"
     ]
    }
   ],
   "source": [
    "# Process hourly data. The order of variables needs to be the same as requested.\n",
    "hourly = response.Hourly()\n",
    "hourly_temperature_2m = hourly.Variables(0).ValuesAsNumpy()\n",
    "\n",
    "hourly_data = {\"date\": pd.date_range(\n",
    "\tstart = pd.to_datetime(hourly.Time(), unit = \"s\", utc = True),\n",
    "\tend = pd.to_datetime(hourly.TimeEnd(), unit = \"s\", utc = True),\n",
    "\tfreq = pd.Timedelta(seconds = hourly.Interval()),\n",
    "\tinclusive = \"left\"\n",
    ")}\n",
    "hourly_data[\"temperature_2m\"] = hourly_temperature_2m\n",
    "\n",
    "hourly_dataframe = pd.DataFrame(data = hourly_data)\n",
    "print(hourly_dataframe)"
   ]
  },
  {
   "cell_type": "code",
   "execution_count": 36,
   "metadata": {},
   "outputs": [],
   "source": [
    "hourly_dataframe.to_csv(Pathes.path_to_weather_dataset, index=False)"
   ]
  }
 ],
 "metadata": {
  "kernelspec": {
   "display_name": "venv",
   "language": "python",
   "name": "python3"
  },
  "language_info": {
   "codemirror_mode": {
    "name": "ipython",
    "version": 3
   },
   "file_extension": ".py",
   "mimetype": "text/x-python",
   "name": "python",
   "nbconvert_exporter": "python",
   "pygments_lexer": "ipython3",
   "version": "3.12.3"
  }
 },
 "nbformat": 4,
 "nbformat_minor": 2
}
