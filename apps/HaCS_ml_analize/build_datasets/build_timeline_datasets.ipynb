{
 "cells": [
  {
   "cell_type": "markdown",
   "metadata": {},
   "source": [
    "# **Imports**"
   ]
  },
  {
   "cell_type": "code",
   "execution_count": 1,
   "metadata": {},
   "outputs": [],
   "source": [
    "import pandas as pd\n",
    "from openpyxl import load_workbook\n",
    "from dataclasses import dataclass\n",
    "import matplotlib.pyplot as plt\n",
    "import numpy as np\n",
    "from datetime import datetime, timedelta\n",
    "from pydantic import BaseModel, ConfigDict\n"
   ]
  },
  {
   "cell_type": "markdown",
   "metadata": {},
   "source": [
    "# **Classes**"
   ]
  },
  {
   "cell_type": "code",
   "execution_count": 2,
   "metadata": {},
   "outputs": [],
   "source": [
    "class AdressDescription(BaseModel):\n",
    "    adress: str\n",
    "    model_config = ConfigDict(arbitrary_types_allowed=True)\n",
    "    UNOM_ID: int\n",
    "    EXOGEN_ID: int\n",
    "    building_characteristics: pd.DataFrame\n",
    "    events: pd.DataFrame\n",
    "    anomaly_ts_2023: pd.DataFrame\n",
    "    anomaly_ts_2024: pd.DataFrame\n",
    "    "
   ]
  },
  {
   "cell_type": "markdown",
   "metadata": {},
   "source": [
    "# **Constants**"
   ]
  },
  {
   "cell_type": "code",
   "execution_count": 3,
   "metadata": {},
   "outputs": [],
   "source": [
    "@dataclass(frozen=True)\n",
    "class Pathes:\n",
    "    path_adresses_building_characteristics: str = '../main_datasets/processed_datasets/14. ВАО_Многоквартирные_дома_с_технико_экономическими_характеристиками__ВАО.csv' \n",
    "    path_turn_on_off_heating: str = '../main_datasets/processed_datasets/6. Плановые-Внеплановые отключения 01.10.2023-30.04.2023.csv'\n",
    "    path_events_for_period_2023_params: str = '../main_datasets/processed_datasets/События за период_01.10.2023-31.12.2023____pivot_table.csv'\n",
    "    path_events_for_period_2023: str = '../main_datasets/processed_datasets/События за период_01.10.2023-31.12.2023.xlsx____uploading_table.csv'\n",
    "    path_events_for_period_2024: str = '../main_datasets/processed_datasets/События_за_период_01.01.2024-30.04.2024____uploading_table.csv'\n",
    "    path_events_for_period_2024_params: str = '../main_datasets/processed_datasets/События_за_период_01.01.2024-30.04.2024____pivot_table.csv'\n",
    "    path_to_timeline: str = '../variables/timeline'"
   ]
  },
  {
   "cell_type": "code",
   "execution_count": 4,
   "metadata": {},
   "outputs": [],
   "source": [
    "date_columns =  [\n",
    "    'Дата создания во внешней системе', 'Дата закрытия', 'Дата и время завершения события во внешней системе',\n",
    "    'Дата регистрации отключения', 'Планируемая дата отключения', 'Планируемая дата включения', 'Фактическая дата отключения'\n",
    "    'Фактическая дата включения'\n",
    "]"
   ]
  },
  {
   "cell_type": "code",
   "execution_count": 5,
   "metadata": {},
   "outputs": [],
   "source": [
    "usfull_building_params = [\n",
    "    'Серии проектов', 'Количество этажей', 'Количество подъездов', 'Количество квартир',\n",
    "    'Общая площадь', 'Общая площадь жилых помещений',\n",
    "    'Общая площадь нежилых помещений', 'Износ объекта (по БТИ)',\n",
    "    ' Материалы стен', 'Признак аварийности здания',\n",
    "    'Количество пассажирских лифтов', 'Количество грузопассажирских лифтов',\n",
    "    'Очередность уборки кровли', 'Материалы кровли по БТИ',\n",
    "    'Типы жилищного фонда', 'Статусы МКД'\n",
    "]"
   ]
  },
  {
   "cell_type": "markdown",
   "metadata": {},
   "source": [
    "# **Functions**"
   ]
  },
  {
   "cell_type": "code",
   "execution_count": 6,
   "metadata": {},
   "outputs": [],
   "source": [
    "def date_columns_to_date_format(df: pd.DataFrame) -> pd.DataFrame:\n",
    "    for i in date_columns:\n",
    "        if i in df.columns:\n",
    "            df[i] = pd.to_datetime(df[i])\n",
    "    return df"
   ]
  },
  {
   "cell_type": "code",
   "execution_count": 7,
   "metadata": {},
   "outputs": [],
   "source": [
    "def load_dataset(path: str) -> pd.DataFrame:\n",
    "    df = pd.read_csv(path)\n",
    "    df = date_columns_to_date_format(df)\n",
    "    return df"
   ]
  },
  {
   "cell_type": "code",
   "execution_count": 8,
   "metadata": {},
   "outputs": [],
   "source": [
    "def make_timeline_for_year(year: int=2023):\n",
    "    data_1 = np.arange(datetime(year=year, month=1, day=1), datetime(year=year, month=5, day=1), timedelta(hours=1)).tolist()\n",
    "    data_2 = np.arange(datetime(year=year, month=10, day=1), datetime(year=year+1, month=1, day=1), timedelta(hours=1)).tolist()\n",
    "    return np.array(data_1+data_2)\n",
    "\n",
    "\n",
    "def make_timeline_for_period(year: int=2022):\n",
    "    s = datetime(year=year, month=10, day=1)\n",
    "    e = datetime(year=year+1, month=5, day=1)\n",
    "    data = np.arange(s, e, timedelta(hours=1)).tolist()\n",
    "    return data"
   ]
  },
  {
   "cell_type": "code",
   "execution_count": 9,
   "metadata": {},
   "outputs": [],
   "source": [
    "def address_compare(a1_BTI, a2_BTI):\n",
    "    a1_BTI = a1_BTI.replace('город Москва, ', '').lower().split(', ')[1:]\n",
    "    a2_BTI = a2_BTI.replace('город Москва, ', '').lower().split(', ')\n",
    "    for a1_i, a2_i in zip(a1_BTI, a2_BTI):\n",
    "        if a1_i != a2_i:\n",
    "            return False\n",
    "    return True\n",
    "\n",
    "    "
   ]
  },
  {
   "cell_type": "code",
   "execution_count": 10,
   "metadata": {},
   "outputs": [],
   "source": [
    "def make_anomaly_ts(year: int, events: pd.DataFrame):\n",
    "    time_line = make_timeline_for_period(year)\n",
    "    anomaly = [any([i.month == j.month and i.day == j.day and i.hour == j.hour for j in events['Дата создания во внешней системе']]) for i in time_line]\n",
    "    nd = pd.DataFrame({'time': time_line, 'anomaly': anomaly})\n",
    "    return nd\n",
    "    "
   ]
  },
  {
   "cell_type": "code",
   "execution_count": 11,
   "metadata": {},
   "outputs": [],
   "source": [
    "def get_address_description(adress, events_df, addres_df):\n",
    "    building_characteristic = addres_df[adress == addres_df['Адрес по БТИ']]\n",
    "\n",
    "    UNOM = building_characteristic['УНОМ'].values[0]\n",
    "    EXOGEN_ID = building_characteristic['Идентификатор из сторонней системы'].values[0]\n",
    "\n",
    "    building_characteristic = building_characteristic.loc[:, usfull_building_params]\n",
    "    events = events_df[UNOM == events_df['УНОМ']]\n",
    "\n",
    "    time_line_2023 = make_timeline_for_period(2022)\n",
    "    time_line_2024 = make_timeline_for_period(2023)\n",
    "\n",
    "    anomaly_2023 = [any([i.month == j.month and i.day == j.day and i.hour == j.hour for j in events['Дата создания во внешней системе']]) for i in time_line_2023]\n",
    "    anomaly_2024 = [any([i.month == j.month and i.day == j.day and i.hour == j.hour for j in events['Дата создания во внешней системе']]) for i in time_line_2024]\n",
    "    d2023 = pd.DataFrame({'time': time_line_2023, 'anomaly': anomaly_2023})\n",
    "    d2024 = pd.DataFrame({'time': time_line_2024, 'anomaly': anomaly_2024})\n",
    "    return AdressDescription(\n",
    "        adress=adress,\n",
    "        UNOM_ID=UNOM,\n",
    "        EXOGEN_ID=EXOGEN_ID,\n",
    "        building_characteristics=building_characteristic,\n",
    "        events=events,\n",
    "        anomaly_ts_2023=d2023,\n",
    "        anomaly_ts_2024=d2024,\n",
    "    )"
   ]
  },
  {
   "cell_type": "markdown",
   "metadata": {},
   "source": [
    "# **Loading tables**"
   ]
  },
  {
   "cell_type": "code",
   "execution_count": 12,
   "metadata": {},
   "outputs": [],
   "source": [
    "turn_on_off_heating = load_dataset(Pathes.path_turn_on_off_heating)\n",
    "adresses_building_characteristics = load_dataset(Pathes.path_adresses_building_characteristics)\n",
    "events_for_period_2023 = load_dataset(Pathes.path_events_for_period_2023)\n",
    "events_for_period_2024 = load_dataset(Pathes.path_events_for_period_2024)\n",
    "events_for_period_2023_params = load_dataset(Pathes.path_events_for_period_2023_params)\n",
    "events_for_period_2024_params = load_dataset(Pathes.path_events_for_period_2024_params)\n"
   ]
  },
  {
   "cell_type": "code",
   "execution_count": 13,
   "metadata": {},
   "outputs": [
    {
     "data": {
      "text/html": [
       "<div>\n",
       "<style scoped>\n",
       "    .dataframe tbody tr th:only-of-type {\n",
       "        vertical-align: middle;\n",
       "    }\n",
       "\n",
       "    .dataframe tbody tr th {\n",
       "        vertical-align: top;\n",
       "    }\n",
       "\n",
       "    .dataframe thead th {\n",
       "        text-align: right;\n",
       "    }\n",
       "</style>\n",
       "<table border=\"1\" class=\"dataframe\">\n",
       "  <thead>\n",
       "    <tr style=\"text-align: right;\">\n",
       "      <th></th>\n",
       "      <th>Адрес из сторонней системы</th>\n",
       "      <th>Идентификатор из сторонней системы</th>\n",
       "      <th>Адрес по БТИ</th>\n",
       "      <th>УНОМ</th>\n",
       "      <th>Округ</th>\n",
       "      <th>Район</th>\n",
       "      <th>Серии проектов</th>\n",
       "      <th>Количество этажей</th>\n",
       "      <th>Количество подъездов</th>\n",
       "      <th>Количество квартир</th>\n",
       "      <th>...</th>\n",
       "      <th>Общая площадь нежилых помещений</th>\n",
       "      <th>Износ объекта (по БТИ)</th>\n",
       "      <th>Материалы стен</th>\n",
       "      <th>Признак аварийности здания</th>\n",
       "      <th>Количество пассажирских лифтов</th>\n",
       "      <th>Количество грузопассажирских лифтов</th>\n",
       "      <th>Очередность уборки кровли</th>\n",
       "      <th>Материалы кровли по БТИ</th>\n",
       "      <th>Типы жилищного фонда</th>\n",
       "      <th>Статусы МКД</th>\n",
       "    </tr>\n",
       "  </thead>\n",
       "  <tbody>\n",
       "    <tr>\n",
       "      <th>0</th>\n",
       "      <td>Дом по адресу РФ, г. Москва, вн.тер.г. м.о. Но...</td>\n",
       "      <td>1520521</td>\n",
       "      <td>город Москва, Суздальская улица, дом 24, корпус 2</td>\n",
       "      <td>31783</td>\n",
       "      <td>Восточный административный округ</td>\n",
       "      <td>муниципальный округ Новокосино</td>\n",
       "      <td>П-55</td>\n",
       "      <td>14</td>\n",
       "      <td>3.0</td>\n",
       "      <td>130.0</td>\n",
       "      <td>...</td>\n",
       "      <td>595.6</td>\n",
       "      <td>NaN</td>\n",
       "      <td>панельные</td>\n",
       "      <td>нет</td>\n",
       "      <td>6.0</td>\n",
       "      <td>0.0</td>\n",
       "      <td>NaN</td>\n",
       "      <td>прочая(черепица;щепа;дранка)</td>\n",
       "      <td>МКД</td>\n",
       "      <td>в эксплуатации</td>\n",
       "    </tr>\n",
       "    <tr>\n",
       "      <th>1</th>\n",
       "      <td>Дом по адресу РФ, г. Москва, вн.тер.г. м.о. Со...</td>\n",
       "      <td>1526496</td>\n",
       "      <td>город Москва, улица Сокольнический Вал, дом 4</td>\n",
       "      <td>24231</td>\n",
       "      <td>Восточный административный округ</td>\n",
       "      <td>муниципальный округ Сокольники</td>\n",
       "      <td>нет данных</td>\n",
       "      <td>5</td>\n",
       "      <td>3.0</td>\n",
       "      <td>61.0</td>\n",
       "      <td>...</td>\n",
       "      <td>203.6</td>\n",
       "      <td>NaN</td>\n",
       "      <td>из железобетонных сегментов</td>\n",
       "      <td>нет</td>\n",
       "      <td>0.0</td>\n",
       "      <td>0.0</td>\n",
       "      <td>1 очередь</td>\n",
       "      <td>мягкая-совмещенная с рубероидным покрытием</td>\n",
       "      <td>МКД</td>\n",
       "      <td>в эксплуатации</td>\n",
       "    </tr>\n",
       "    <tr>\n",
       "      <th>2</th>\n",
       "      <td>Дом по адресу РФ, г. Москва, вн.тер.г. м.о. Но...</td>\n",
       "      <td>1502303</td>\n",
       "      <td>город Москва, Новокосинская улица, дом 38, кор...</td>\n",
       "      <td>16560</td>\n",
       "      <td>Восточный административный округ</td>\n",
       "      <td>муниципальный округ Новокосино</td>\n",
       "      <td>П-44</td>\n",
       "      <td>17</td>\n",
       "      <td>2.0</td>\n",
       "      <td>128.0</td>\n",
       "      <td>...</td>\n",
       "      <td>2547.5</td>\n",
       "      <td>NaN</td>\n",
       "      <td>панельные</td>\n",
       "      <td>нет</td>\n",
       "      <td>2.0</td>\n",
       "      <td>2.0</td>\n",
       "      <td>NaN</td>\n",
       "      <td>мягкая-совмещенная с рубероидным покрытием</td>\n",
       "      <td>МКД</td>\n",
       "      <td>в эксплуатации</td>\n",
       "    </tr>\n",
       "    <tr>\n",
       "      <th>3</th>\n",
       "      <td>Дом по адресу РФ, г. Москва, вн.тер.г. м.о. Ив...</td>\n",
       "      <td>1502774</td>\n",
       "      <td>город Москва, Малый Купавенский проезд, дом 1</td>\n",
       "      <td>12180</td>\n",
       "      <td>Восточный административный округ</td>\n",
       "      <td>муниципальный округ Ивановское</td>\n",
       "      <td>П-68</td>\n",
       "      <td>16</td>\n",
       "      <td>2.0</td>\n",
       "      <td>206.0</td>\n",
       "      <td>...</td>\n",
       "      <td>1021.8</td>\n",
       "      <td>NaN</td>\n",
       "      <td>железобетонные</td>\n",
       "      <td>нет</td>\n",
       "      <td>2.0</td>\n",
       "      <td>2.0</td>\n",
       "      <td>NaN</td>\n",
       "      <td>мягкая-совмещенная с рубероидным покрытием</td>\n",
       "      <td>МКД</td>\n",
       "      <td>в эксплуатации</td>\n",
       "    </tr>\n",
       "    <tr>\n",
       "      <th>4</th>\n",
       "      <td>Дом по адресу РФ, г. Москва, вн.тер.г. м.о. Из...</td>\n",
       "      <td>1502277</td>\n",
       "      <td>город Москва, 5-я Парковая улица, дом 52</td>\n",
       "      <td>18617</td>\n",
       "      <td>Восточный административный округ</td>\n",
       "      <td>муниципальный округ Измайлово</td>\n",
       "      <td>нет данных</td>\n",
       "      <td>5</td>\n",
       "      <td>9.0</td>\n",
       "      <td>155.0</td>\n",
       "      <td>...</td>\n",
       "      <td>2208</td>\n",
       "      <td>NaN</td>\n",
       "      <td>кирпичные</td>\n",
       "      <td>нет</td>\n",
       "      <td>0.0</td>\n",
       "      <td>0.0</td>\n",
       "      <td>1 очередь</td>\n",
       "      <td>асбофанера-шифер</td>\n",
       "      <td>МКД</td>\n",
       "      <td>в эксплуатации</td>\n",
       "    </tr>\n",
       "  </tbody>\n",
       "</table>\n",
       "<p>5 rows × 22 columns</p>\n",
       "</div>"
      ],
      "text/plain": [
       "                          Адрес из сторонней системы  \\\n",
       "0  Дом по адресу РФ, г. Москва, вн.тер.г. м.о. Но...   \n",
       "1  Дом по адресу РФ, г. Москва, вн.тер.г. м.о. Со...   \n",
       "2  Дом по адресу РФ, г. Москва, вн.тер.г. м.о. Но...   \n",
       "3  Дом по адресу РФ, г. Москва, вн.тер.г. м.о. Ив...   \n",
       "4  Дом по адресу РФ, г. Москва, вн.тер.г. м.о. Из...   \n",
       "\n",
       "   Идентификатор из сторонней системы  \\\n",
       "0                             1520521   \n",
       "1                             1526496   \n",
       "2                             1502303   \n",
       "3                             1502774   \n",
       "4                             1502277   \n",
       "\n",
       "                                        Адрес по БТИ   УНОМ  \\\n",
       "0  город Москва, Суздальская улица, дом 24, корпус 2  31783   \n",
       "1      город Москва, улица Сокольнический Вал, дом 4  24231   \n",
       "2  город Москва, Новокосинская улица, дом 38, кор...  16560   \n",
       "3      город Москва, Малый Купавенский проезд, дом 1  12180   \n",
       "4           город Москва, 5-я Парковая улица, дом 52  18617   \n",
       "\n",
       "                              Округ                           Район  \\\n",
       "0  Восточный административный округ  муниципальный округ Новокосино   \n",
       "1  Восточный административный округ  муниципальный округ Сокольники   \n",
       "2  Восточный административный округ  муниципальный округ Новокосино   \n",
       "3  Восточный административный округ  муниципальный округ Ивановское   \n",
       "4  Восточный административный округ   муниципальный округ Измайлово   \n",
       "\n",
       "  Серии проектов  Количество этажей  Количество подъездов  Количество квартир  \\\n",
       "0           П-55                 14                   3.0               130.0   \n",
       "1     нет данных                  5                   3.0                61.0   \n",
       "2           П-44                 17                   2.0               128.0   \n",
       "3           П-68                 16                   2.0               206.0   \n",
       "4     нет данных                  5                   9.0               155.0   \n",
       "\n",
       "   ...  Общая площадь нежилых помещений  Износ объекта (по БТИ)  \\\n",
       "0  ...                            595.6                     NaN   \n",
       "1  ...                            203.6                     NaN   \n",
       "2  ...                           2547.5                     NaN   \n",
       "3  ...                           1021.8                     NaN   \n",
       "4  ...                             2208                     NaN   \n",
       "\n",
       "                Материалы стен  Признак аварийности здания  \\\n",
       "0                    панельные                          нет   \n",
       "1  из железобетонных сегментов                          нет   \n",
       "2                    панельные                          нет   \n",
       "3               железобетонные                          нет   \n",
       "4                    кирпичные                          нет   \n",
       "\n",
       "  Количество пассажирских лифтов Количество грузопассажирских лифтов  \\\n",
       "0                            6.0                                 0.0   \n",
       "1                            0.0                                 0.0   \n",
       "2                            2.0                                 2.0   \n",
       "3                            2.0                                 2.0   \n",
       "4                            0.0                                 0.0   \n",
       "\n",
       "   Очередность уборки кровли                     Материалы кровли по БТИ  \\\n",
       "0                        NaN                прочая(черепица;щепа;дранка)   \n",
       "1                  1 очередь  мягкая-совмещенная с рубероидным покрытием   \n",
       "2                        NaN  мягкая-совмещенная с рубероидным покрытием   \n",
       "3                        NaN  мягкая-совмещенная с рубероидным покрытием   \n",
       "4                  1 очередь                            асбофанера-шифер   \n",
       "\n",
       "  Типы жилищного фонда     Статусы МКД  \n",
       "0                  МКД  в эксплуатации  \n",
       "1                  МКД  в эксплуатации  \n",
       "2                  МКД  в эксплуатации  \n",
       "3                  МКД  в эксплуатации  \n",
       "4                  МКД  в эксплуатации  \n",
       "\n",
       "[5 rows x 22 columns]"
      ]
     },
     "execution_count": 13,
     "metadata": {},
     "output_type": "execute_result"
    }
   ],
   "source": [
    "adresses_building_characteristics.head()"
   ]
  },
  {
   "cell_type": "code",
   "execution_count": 14,
   "metadata": {},
   "outputs": [
    {
     "data": {
      "text/plain": [
       "1"
      ]
     },
     "execution_count": 14,
     "metadata": {},
     "output_type": "execute_result"
    }
   ],
   "source": [
    "adresses_building_characteristics['Адрес по БТИ'].map(lambda a: 'Зборовский переулок' in a and 'дом 11' in a).sum()"
   ]
  },
  {
   "cell_type": "code",
   "execution_count": 15,
   "metadata": {},
   "outputs": [
    {
     "data": {
      "text/plain": [
       "'город Москва, Суздальская улица, дом 24, корпус 2'"
      ]
     },
     "execution_count": 15,
     "metadata": {},
     "output_type": "execute_result"
    }
   ],
   "source": [
    "adresses_building_characteristics['Адрес по БТИ'][0]"
   ]
  },
  {
   "cell_type": "code",
   "execution_count": 16,
   "metadata": {},
   "outputs": [],
   "source": [
    "usefull_events = events_for_period_2024_params['Названия строк'].to_list()"
   ]
  },
  {
   "cell_type": "code",
   "execution_count": 17,
   "metadata": {},
   "outputs": [],
   "source": [
    "events_for_period_2023__only_usefull_events = events_for_period_2023.loc[events_for_period_2023['Наименование'].isin(usefull_events)]\n",
    "events_for_period_2024__only_usefull_events = events_for_period_2024.loc[events_for_period_2024['Наименование'].isin(usefull_events)]"
   ]
  },
  {
   "cell_type": "code",
   "execution_count": 18,
   "metadata": {},
   "outputs": [],
   "source": [
    "df = events_for_period_2024__only_usefull_events\n",
    "df.columns = events_for_period_2023__only_usefull_events.columns\n",
    "all_in_one_events = pd.concat(\n",
    "    [\n",
    "        events_for_period_2023__only_usefull_events, \n",
    "        df\n",
    "    ],\n",
    "    axis=0\n",
    ")"
   ]
  },
  {
   "cell_type": "code",
   "execution_count": 19,
   "metadata": {},
   "outputs": [
    {
     "data": {
      "text/plain": [
       "['внутригородская территория муниципальный округ Преображенское',\n",
       " '1-й Зборовский переулок',\n",
       " 'дом 11']"
      ]
     },
     "execution_count": 19,
     "metadata": {},
     "output_type": "execute_result"
    }
   ],
   "source": [
    "events_for_period_2023__only_usefull_events['Адрес'].unique()[0].split(', ')"
   ]
  },
  {
   "cell_type": "markdown",
   "metadata": {},
   "source": [
    "# **Make datasets**"
   ]
  },
  {
   "cell_type": "code",
   "execution_count": 20,
   "metadata": {},
   "outputs": [],
   "source": [
    "all_adresses = adresses_building_characteristics['Адрес по БТИ'].unique()"
   ]
  },
  {
   "cell_type": "code",
   "execution_count": 21,
   "metadata": {},
   "outputs": [],
   "source": [
    "from tqdm import tqdm\n",
    "import pickle\n",
    "import os"
   ]
  },
  {
   "cell_type": "code",
   "execution_count": 22,
   "metadata": {},
   "outputs": [],
   "source": [
    "created_files = os.listdir('../main_datasets/pickle_ts_anomalies/')"
   ]
  },
  {
   "cell_type": "code",
   "execution_count": 23,
   "metadata": {},
   "outputs": [
    {
     "name": "stderr",
     "output_type": "stream",
     "text": [
      "  0%|          | 0/4368 [00:00<?, ?it/s]"
     ]
    },
    {
     "name": "stderr",
     "output_type": "stream",
     "text": [
      "100%|██████████| 4368/4368 [21:06<00:00,  3.45it/s]\n"
     ]
    }
   ],
   "source": [
    "for i in tqdm(all_adresses):\n",
    "    x = get_address_description(\n",
    "        i, \n",
    "        events_df=all_in_one_events, \n",
    "        addres_df=adresses_building_characteristics\n",
    "    )\n",
    "    fn = i.replace('/', '-').replace(',', '').replace('.', '').replace(' ', '_')\n",
    "    asd = '{fn}.pkl'\n",
    "    if not asd in created_files:\n",
    "        with open(f'../main_datasets/pickle_ts_anomalies/{fn}.pkl', 'wb') as f:\n",
    "            pickle.dump(x, f)\n",
    "    "
   ]
  },
  {
   "cell_type": "code",
   "execution_count": null,
   "metadata": {},
   "outputs": [],
   "source": []
  }
 ],
 "metadata": {
  "kernelspec": {
   "display_name": "venv",
   "language": "python",
   "name": "python3"
  },
  "language_info": {
   "codemirror_mode": {
    "name": "ipython",
    "version": 3
   },
   "file_extension": ".py",
   "mimetype": "text/x-python",
   "name": "python",
   "nbconvert_exporter": "python",
   "pygments_lexer": "ipython3",
   "version": "3.12.3"
  }
 },
 "nbformat": 4,
 "nbformat_minor": 2
}
