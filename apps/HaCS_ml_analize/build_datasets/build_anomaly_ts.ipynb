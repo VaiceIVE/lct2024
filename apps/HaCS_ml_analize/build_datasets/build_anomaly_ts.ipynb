{
 "cells": [
  {
   "cell_type": "markdown",
   "metadata": {},
   "source": [
    "# **Imports**"
   ]
  },
  {
   "cell_type": "code",
   "execution_count": 235,
   "metadata": {},
   "outputs": [],
   "source": [
    "import pandas as pd\n",
    "from dataclasses import dataclass\n",
    "from openpyxl import load_workbook\n",
    "from datetime import datetime, timedelta\n",
    "import numpy as np\n",
    "pd.set_option('display.max_columns', None)"
   ]
  },
  {
   "cell_type": "markdown",
   "metadata": {},
   "source": [
    "# **Constants**"
   ]
  },
  {
   "cell_type": "code",
   "execution_count": 236,
   "metadata": {},
   "outputs": [],
   "source": [
    "usefull_events_for_period: str = '../main_datasets/processed_datasets/События_за_период_01.01.2024-30.04.2024____pivot_table.csv'\n",
    "\n",
    "@dataclass(frozen=True)\n",
    "class Pathes:\n",
    "    # moec_connection_scheme: str = '../main_datasets/processed_datasets/7. Схема подключений МОЭК.csv'\n",
    "    events_for_2023: str = '../main_datasets/processed_datasets/События за период_01.10.2023-31.12.2023.xlsx____uploading_table.csv'\n",
    "    events_for_2024: str = '../main_datasets/processed_datasets/События_за_период_01.01.2024-30.04.2024____uploading_table.csv'\n",
    "    turn_off_water_2023: str = '../main_datasets/processed_datasets/6. Плановые-Внеплановые отключения 01.10.2023-30.04.2023.csv'\n",
    "\n"
   ]
  },
  {
   "cell_type": "code",
   "execution_count": 237,
   "metadata": {},
   "outputs": [],
   "source": [
    "columns_norm_forms = {\n",
    "    'УНОМ': 'UNOM',\n",
    "    'Учётный номер объекта адресации в БД БТИ (кроме помещения и комнаты)': 'UNOM'\n",
    "}"
   ]
  },
  {
   "cell_type": "code",
   "execution_count": 238,
   "metadata": {},
   "outputs": [],
   "source": [
    "usefull_columns = [\n",
    "    'Дата', 'Месяц/Год', 'Ошибки', 'Объём поданого теплоносителя в систему ЦО', \n",
    "    'Объём обратного теплоносителя из системы ЦО', 'Разница между подачей и обраткой(Подмес)',\n",
    "    'Разница между подачей и обраткой(Утечка)', 'Температура подачи', 'Температура обратки',\n",
    "    'Наработка часов счётчика', 'Расход тепловой энергии', 'Ошибки'\n",
    "]"
   ]
  },
  {
   "cell_type": "code",
   "execution_count": 239,
   "metadata": {},
   "outputs": [
    {
     "data": {
      "text/plain": [
       "0                                               P1 <= 0\n",
       "1                                               P2 <= 0\n",
       "2                                              T1 < min\n",
       "3                                              T1 > max\n",
       "4                    Аварийная протечка труб в подъезде\n",
       "5                                        Крупные пожары\n",
       "6                           Отсутствие отопления в доме\n",
       "7                              Протечка труб в подъезде\n",
       "8                      Сильная течь в системе отопления\n",
       "9               Температура в квартире ниже нормативной\n",
       "10    Температура в помещении общего пользования ниж...\n",
       "11                             Течь в системе отопления\n",
       "12                                           Общий итог\n",
       "Name: Названия строк, dtype: object"
      ]
     },
     "execution_count": 239,
     "metadata": {},
     "output_type": "execute_result"
    }
   ],
   "source": [
    "usefull_events_dataset = pd.read_csv(usefull_events_for_period)\n",
    "usefull_events = usefull_events_dataset['Названия строк']\n",
    "usefull_events"
   ]
  },
  {
   "cell_type": "markdown",
   "metadata": {},
   "source": [
    "# **Functions**"
   ]
  },
  {
   "cell_type": "code",
   "execution_count": 232,
   "metadata": {},
   "outputs": [],
   "source": [
    "def make_timeline_for_year(year: int=2023):\n",
    "    data_1 = np.arange(datetime(year=year, month=1, day=1), datetime(year=year, month=5, day=1), timedelta(hours=1)).tolist()\n",
    "    data_2 = np.arange(datetime(year=year, month=10, day=1), datetime(year=year+1, month=1, day=1), timedelta(hours=1)).tolist()\n",
    "    return np.array(data_1+data_2)\n",
    "\n",
    "\n",
    "def make_timeline_for_period(year: int=2022):\n",
    "    s = datetime(year=year, month=10, day=1)\n",
    "    e = datetime(year=year+1, month=5, day=1)\n",
    "    data = np.arange(s, e, timedelta(minutes=1)).tolist()\n",
    "    return data"
   ]
  },
  {
   "cell_type": "code",
   "execution_count": 176,
   "metadata": {},
   "outputs": [],
   "source": [
    "def column_preprocessor(columns: pd.Index):\n",
    "    return pd.Index([columns_norm_forms[i] if i in columns_norm_forms else i for i in columns])\n",
    "\n",
    "\n",
    "def replace_bad_spaces(df: pd.Index) -> pd.DataFrame:\n",
    "    c = df.map(lambda a: str(a).rstrip().lstrip())\n",
    "    return c\n",
    "\n",
    "\n",
    "def remove_useless_columns(df: pd.DataFrame):\n",
    "    df = df.loc[:, df.columns.isin(usefull_columns)]\n",
    "    return df\n",
    "\n",
    "\n",
    "def get_only_valid_rows_by_event(df: pd.DataFrame):\n",
    "    if 'Наименование' in df.columns:\n",
    "        return df.loc[df['Наименование'].isin(usefull_events)]\n",
    "    return df\n"
   ]
  },
  {
   "cell_type": "code",
   "execution_count": 177,
   "metadata": {},
   "outputs": [],
   "source": [
    "def data_frame_loader(path: str) -> pd.DataFrame:\n",
    "    df = pd.read_csv(path)\n",
    "    df.columns = column_preprocessor(df.columns)\n",
    "    df.columns = replace_bad_spaces(df.columns)\n",
    "    df = get_only_valid_rows_by_event(df)\n",
    "    return df"
   ]
  },
  {
   "cell_type": "markdown",
   "metadata": {},
   "source": [
    "# **Show of tables**"
   ]
  },
  {
   "cell_type": "code",
   "execution_count": 178,
   "metadata": {},
   "outputs": [
    {
     "data": {
      "text/html": [
       "<div>\n",
       "<style scoped>\n",
       "    .dataframe tbody tr th:only-of-type {\n",
       "        vertical-align: middle;\n",
       "    }\n",
       "\n",
       "    .dataframe tbody tr th {\n",
       "        vertical-align: top;\n",
       "    }\n",
       "\n",
       "    .dataframe thead th {\n",
       "        text-align: right;\n",
       "    }\n",
       "</style>\n",
       "<table border=\"1\" class=\"dataframe\">\n",
       "  <thead>\n",
       "    <tr style=\"text-align: right;\">\n",
       "      <th></th>\n",
       "      <th>Наименование</th>\n",
       "      <th>Источник</th>\n",
       "      <th>Дата создания во внешней системе</th>\n",
       "      <th>Дата закрытия</th>\n",
       "      <th>Округ</th>\n",
       "      <th>УНОМ</th>\n",
       "      <th>Адрес</th>\n",
       "      <th>Дата и время завершения события во внешней системе</th>\n",
       "    </tr>\n",
       "  </thead>\n",
       "  <tbody>\n",
       "    <tr>\n",
       "      <th>0</th>\n",
       "      <td>Лифт требует ремонта</td>\n",
       "      <td>EDC</td>\n",
       "      <td>2024-03-10 14:52:57.000000</td>\n",
       "      <td>2024-03-10 14:56:08.183000</td>\n",
       "      <td>ВАО</td>\n",
       "      <td>64137.0</td>\n",
       "      <td>внутригородская территория муниципальный округ...</td>\n",
       "      <td>2024-03-10 16:35:37.366000</td>\n",
       "    </tr>\n",
       "    <tr>\n",
       "      <th>1</th>\n",
       "      <td>Лифт требует ремонта</td>\n",
       "      <td>EDC</td>\n",
       "      <td>2024-01-14 16:57:54.000000</td>\n",
       "      <td>2024-01-14 17:03:17.961000</td>\n",
       "      <td>ВАО</td>\n",
       "      <td>380.0</td>\n",
       "      <td>внутригородская территория муниципальный округ...</td>\n",
       "      <td>2024-01-15 10:09:27.502000</td>\n",
       "    </tr>\n",
       "    <tr>\n",
       "      <th>2</th>\n",
       "      <td>Лифт требует ремонта</td>\n",
       "      <td>EDC</td>\n",
       "      <td>2024-01-14 14:00:01.000000</td>\n",
       "      <td>2024-01-14 14:04:48.621000</td>\n",
       "      <td>ВАО</td>\n",
       "      <td>380.0</td>\n",
       "      <td>внутригородская территория муниципальный округ...</td>\n",
       "      <td>2024-01-14 16:59:01.571000</td>\n",
       "    </tr>\n",
       "    <tr>\n",
       "      <th>3</th>\n",
       "      <td>Протечка с кровли</td>\n",
       "      <td>EDC</td>\n",
       "      <td>2024-01-24 12:06:28.000000</td>\n",
       "      <td>2024-01-24 12:09:12.944000</td>\n",
       "      <td>ВАО</td>\n",
       "      <td>380.0</td>\n",
       "      <td>внутригородская территория муниципальный округ...</td>\n",
       "      <td>2024-01-24 14:05:31.400000</td>\n",
       "    </tr>\n",
       "    <tr>\n",
       "      <th>4</th>\n",
       "      <td>Нет связи с УСПД</td>\n",
       "      <td>ASUPR</td>\n",
       "      <td>2024-03-11 22:12:07.000000</td>\n",
       "      <td>2024-03-12 10:40:58.780000</td>\n",
       "      <td>ВАО</td>\n",
       "      <td>380.0</td>\n",
       "      <td>внутригородская территория муниципальный округ...</td>\n",
       "      <td>2024-03-12 10:40:58.991000</td>\n",
       "    </tr>\n",
       "  </tbody>\n",
       "</table>\n",
       "</div>"
      ],
      "text/plain": [
       "           Наименование Источник Дата создания во внешней системе  \\\n",
       "0  Лифт требует ремонта      EDC       2024-03-10 14:52:57.000000   \n",
       "1  Лифт требует ремонта      EDC       2024-01-14 16:57:54.000000   \n",
       "2  Лифт требует ремонта      EDC       2024-01-14 14:00:01.000000   \n",
       "3     Протечка с кровли      EDC       2024-01-24 12:06:28.000000   \n",
       "4      Нет связи с УСПД    ASUPR       2024-03-11 22:12:07.000000   \n",
       "\n",
       "                Дата закрытия Округ     УНОМ  \\\n",
       "0  2024-03-10 14:56:08.183000   ВАО  64137.0   \n",
       "1  2024-01-14 17:03:17.961000   ВАО    380.0   \n",
       "2  2024-01-14 14:04:48.621000   ВАО    380.0   \n",
       "3  2024-01-24 12:09:12.944000   ВАО    380.0   \n",
       "4  2024-03-12 10:40:58.780000   ВАО    380.0   \n",
       "\n",
       "                                               Адрес  \\\n",
       "0  внутригородская территория муниципальный округ...   \n",
       "1  внутригородская территория муниципальный округ...   \n",
       "2  внутригородская территория муниципальный округ...   \n",
       "3  внутригородская территория муниципальный округ...   \n",
       "4  внутригородская территория муниципальный округ...   \n",
       "\n",
       "  Дата и время завершения события во внешней системе  \n",
       "0                         2024-03-10 16:35:37.366000  \n",
       "1                         2024-01-15 10:09:27.502000  \n",
       "2                         2024-01-14 16:59:01.571000  \n",
       "3                         2024-01-24 14:05:31.400000  \n",
       "4                         2024-03-12 10:40:58.991000  "
      ]
     },
     "execution_count": 178,
     "metadata": {},
     "output_type": "execute_result"
    }
   ],
   "source": [
    "pd.read_csv(Pathes.events_for_2024).head()"
   ]
  },
  {
   "cell_type": "markdown",
   "metadata": {},
   "source": [
    "# **Loading dataset** "
   ]
  },
  {
   "cell_type": "code",
   "execution_count": 184,
   "metadata": {},
   "outputs": [],
   "source": [
    "dfs = pd.concat([data_frame_loader(Pathes.__getattribute__(Pathes, i)) for i in Pathes.__annotations__.keys()], axis=0)\n",
    "dfs.index = pd.to_datetime(dfs['Дата создания во внешней системе'])"
   ]
  },
  {
   "cell_type": "code",
   "execution_count": 181,
   "metadata": {},
   "outputs": [
    {
     "data": {
      "text/plain": [
       "4357"
      ]
     },
     "execution_count": 181,
     "metadata": {},
     "output_type": "execute_result"
    }
   ],
   "source": [
    "unom_ids = np.unique(sum([i['UNOM'].to_list() for i in dfs], []))\n",
    "len(unom_ids)"
   ]
  },
  {
   "cell_type": "code",
   "execution_count": 219,
   "metadata": {},
   "outputs": [],
   "source": [
    "from tqdm import tqdm"
   ]
  },
  {
   "cell_type": "code",
   "execution_count": 234,
   "metadata": {},
   "outputs": [
    {
     "name": "stderr",
     "output_type": "stream",
     "text": [
      "  0%|          | 6/4357 [00:47<9:28:06,  7.83s/it]\n"
     ]
    },
    {
     "ename": "ValueError",
     "evalue": "cannot reindex on an axis with duplicate labels",
     "output_type": "error",
     "traceback": [
      "\u001b[0;31m---------------------------------------------------------------------------\u001b[0m",
      "\u001b[0;31mValueError\u001b[0m                                Traceback (most recent call last)",
      "Cell \u001b[0;32mIn[234], line 8\u001b[0m\n\u001b[1;32m      6\u001b[0m df\u001b[38;5;241m.\u001b[39mindex \u001b[38;5;241m=\u001b[39m df\u001b[38;5;241m.\u001b[39mindex\u001b[38;5;241m.\u001b[39mround(freq\u001b[38;5;241m=\u001b[39m\u001b[38;5;124m'\u001b[39m\u001b[38;5;124mmin\u001b[39m\u001b[38;5;124m'\u001b[39m)\n\u001b[1;32m      7\u001b[0m indexes \u001b[38;5;241m=\u001b[39m df\u001b[38;5;241m.\u001b[39mindex\u001b[38;5;241m.\u001b[39mintersection(anomaly_df\u001b[38;5;241m.\u001b[39mindex)\n\u001b[0;32m----> 8\u001b[0m \u001b[43manomaly_df\u001b[49m\u001b[38;5;241;43m.\u001b[39;49m\u001b[43mloc\u001b[49m\u001b[43m[\u001b[49m\u001b[43mindexes\u001b[49m\u001b[43m]\u001b[49m \u001b[38;5;241m=\u001b[39m df\u001b[38;5;241m.\u001b[39mloc[indexes]\n\u001b[1;32m      9\u001b[0m anomaly_df\u001b[38;5;241m.\u001b[39mto_csv(\u001b[38;5;124mf\u001b[39m\u001b[38;5;124m'\u001b[39m\u001b[38;5;124m../main_datasets/builded_datasets/anomaly_timelines/period_\u001b[39m\u001b[38;5;132;01m{\u001b[39;00my\u001b[38;5;132;01m}\u001b[39;00m\u001b[38;5;124m/\u001b[39m\u001b[38;5;132;01m{\u001b[39;00m\u001b[38;5;28mint\u001b[39m(uid)\u001b[38;5;132;01m}\u001b[39;00m\u001b[38;5;124m_\u001b[39m\u001b[38;5;132;01m{\u001b[39;00my\u001b[38;5;132;01m}\u001b[39;00m\u001b[38;5;124m.csv\u001b[39m\u001b[38;5;124m'\u001b[39m)\n",
      "File \u001b[0;32m~/6semak/LDB_Summer_Moscow_2024__Task_10/venv/lib/python3.12/site-packages/pandas/core/indexing.py:911\u001b[0m, in \u001b[0;36m_LocationIndexer.__setitem__\u001b[0;34m(self, key, value)\u001b[0m\n\u001b[1;32m    908\u001b[0m \u001b[38;5;28mself\u001b[39m\u001b[38;5;241m.\u001b[39m_has_valid_setitem_indexer(key)\n\u001b[1;32m    910\u001b[0m iloc \u001b[38;5;241m=\u001b[39m \u001b[38;5;28mself\u001b[39m \u001b[38;5;28;01mif\u001b[39;00m \u001b[38;5;28mself\u001b[39m\u001b[38;5;241m.\u001b[39mname \u001b[38;5;241m==\u001b[39m \u001b[38;5;124m\"\u001b[39m\u001b[38;5;124miloc\u001b[39m\u001b[38;5;124m\"\u001b[39m \u001b[38;5;28;01melse\u001b[39;00m \u001b[38;5;28mself\u001b[39m\u001b[38;5;241m.\u001b[39mobj\u001b[38;5;241m.\u001b[39miloc\n\u001b[0;32m--> 911\u001b[0m \u001b[43miloc\u001b[49m\u001b[38;5;241;43m.\u001b[39;49m\u001b[43m_setitem_with_indexer\u001b[49m\u001b[43m(\u001b[49m\u001b[43mindexer\u001b[49m\u001b[43m,\u001b[49m\u001b[43m \u001b[49m\u001b[43mvalue\u001b[49m\u001b[43m,\u001b[49m\u001b[43m \u001b[49m\u001b[38;5;28;43mself\u001b[39;49m\u001b[38;5;241;43m.\u001b[39;49m\u001b[43mname\u001b[49m\u001b[43m)\u001b[49m\n",
      "File \u001b[0;32m~/6semak/LDB_Summer_Moscow_2024__Task_10/venv/lib/python3.12/site-packages/pandas/core/indexing.py:1942\u001b[0m, in \u001b[0;36m_iLocIndexer._setitem_with_indexer\u001b[0;34m(self, indexer, value, name)\u001b[0m\n\u001b[1;32m   1939\u001b[0m \u001b[38;5;66;03m# align and set the values\u001b[39;00m\n\u001b[1;32m   1940\u001b[0m \u001b[38;5;28;01mif\u001b[39;00m take_split_path:\n\u001b[1;32m   1941\u001b[0m     \u001b[38;5;66;03m# We have to operate column-wise\u001b[39;00m\n\u001b[0;32m-> 1942\u001b[0m     \u001b[38;5;28;43mself\u001b[39;49m\u001b[38;5;241;43m.\u001b[39;49m\u001b[43m_setitem_with_indexer_split_path\u001b[49m\u001b[43m(\u001b[49m\u001b[43mindexer\u001b[49m\u001b[43m,\u001b[49m\u001b[43m \u001b[49m\u001b[43mvalue\u001b[49m\u001b[43m,\u001b[49m\u001b[43m \u001b[49m\u001b[43mname\u001b[49m\u001b[43m)\u001b[49m\n\u001b[1;32m   1943\u001b[0m \u001b[38;5;28;01melse\u001b[39;00m:\n\u001b[1;32m   1944\u001b[0m     \u001b[38;5;28mself\u001b[39m\u001b[38;5;241m.\u001b[39m_setitem_single_block(indexer, value, name)\n",
      "File \u001b[0;32m~/6semak/LDB_Summer_Moscow_2024__Task_10/venv/lib/python3.12/site-packages/pandas/core/indexing.py:1977\u001b[0m, in \u001b[0;36m_iLocIndexer._setitem_with_indexer_split_path\u001b[0;34m(self, indexer, value, name)\u001b[0m\n\u001b[1;32m   1975\u001b[0m \u001b[38;5;28;01mif\u001b[39;00m is_list_like_indexer(value) \u001b[38;5;129;01mand\u001b[39;00m \u001b[38;5;28mgetattr\u001b[39m(value, \u001b[38;5;124m\"\u001b[39m\u001b[38;5;124mndim\u001b[39m\u001b[38;5;124m\"\u001b[39m, \u001b[38;5;241m1\u001b[39m) \u001b[38;5;241m>\u001b[39m \u001b[38;5;241m0\u001b[39m:\n\u001b[1;32m   1976\u001b[0m     \u001b[38;5;28;01mif\u001b[39;00m \u001b[38;5;28misinstance\u001b[39m(value, ABCDataFrame):\n\u001b[0;32m-> 1977\u001b[0m         \u001b[38;5;28;43mself\u001b[39;49m\u001b[38;5;241;43m.\u001b[39;49m\u001b[43m_setitem_with_indexer_frame_value\u001b[49m\u001b[43m(\u001b[49m\u001b[43mindexer\u001b[49m\u001b[43m,\u001b[49m\u001b[43m \u001b[49m\u001b[43mvalue\u001b[49m\u001b[43m,\u001b[49m\u001b[43m \u001b[49m\u001b[43mname\u001b[49m\u001b[43m)\u001b[49m\n\u001b[1;32m   1979\u001b[0m     \u001b[38;5;28;01melif\u001b[39;00m np\u001b[38;5;241m.\u001b[39mndim(value) \u001b[38;5;241m==\u001b[39m \u001b[38;5;241m2\u001b[39m:\n\u001b[1;32m   1980\u001b[0m         \u001b[38;5;66;03m# TODO: avoid np.ndim call in case it isn't an ndarray, since\u001b[39;00m\n\u001b[1;32m   1981\u001b[0m         \u001b[38;5;66;03m#  that will construct an ndarray, which will be wasteful\u001b[39;00m\n\u001b[1;32m   1982\u001b[0m         \u001b[38;5;28mself\u001b[39m\u001b[38;5;241m.\u001b[39m_setitem_with_indexer_2d_value(indexer, value)\n",
      "File \u001b[0;32m~/6semak/LDB_Summer_Moscow_2024__Task_10/venv/lib/python3.12/site-packages/pandas/core/indexing.py:2100\u001b[0m, in \u001b[0;36m_iLocIndexer._setitem_with_indexer_frame_value\u001b[0;34m(self, indexer, value, name)\u001b[0m\n\u001b[1;32m   2098\u001b[0m \u001b[38;5;28;01mif\u001b[39;00m item \u001b[38;5;129;01min\u001b[39;00m value:\n\u001b[1;32m   2099\u001b[0m     sub_indexer[\u001b[38;5;241m1\u001b[39m] \u001b[38;5;241m=\u001b[39m item\n\u001b[0;32m-> 2100\u001b[0m     val \u001b[38;5;241m=\u001b[39m \u001b[38;5;28;43mself\u001b[39;49m\u001b[38;5;241;43m.\u001b[39;49m\u001b[43m_align_series\u001b[49m\u001b[43m(\u001b[49m\n\u001b[1;32m   2101\u001b[0m \u001b[43m        \u001b[49m\u001b[38;5;28;43mtuple\u001b[39;49m\u001b[43m(\u001b[49m\u001b[43msub_indexer\u001b[49m\u001b[43m)\u001b[49m\u001b[43m,\u001b[49m\n\u001b[1;32m   2102\u001b[0m \u001b[43m        \u001b[49m\u001b[43mvalue\u001b[49m\u001b[43m[\u001b[49m\u001b[43mitem\u001b[49m\u001b[43m]\u001b[49m\u001b[43m,\u001b[49m\n\u001b[1;32m   2103\u001b[0m \u001b[43m        \u001b[49m\u001b[43mmultiindex_indexer\u001b[49m\u001b[43m,\u001b[49m\n\u001b[1;32m   2104\u001b[0m \u001b[43m        \u001b[49m\u001b[43musing_cow\u001b[49m\u001b[38;5;241;43m=\u001b[39;49m\u001b[43musing_copy_on_write\u001b[49m\u001b[43m(\u001b[49m\u001b[43m)\u001b[49m\u001b[43m,\u001b[49m\n\u001b[1;32m   2105\u001b[0m \u001b[43m    \u001b[49m\u001b[43m)\u001b[49m\n\u001b[1;32m   2106\u001b[0m \u001b[38;5;28;01melse\u001b[39;00m:\n\u001b[1;32m   2107\u001b[0m     val \u001b[38;5;241m=\u001b[39m np\u001b[38;5;241m.\u001b[39mnan\n",
      "File \u001b[0;32m~/6semak/LDB_Summer_Moscow_2024__Task_10/venv/lib/python3.12/site-packages/pandas/core/indexing.py:2427\u001b[0m, in \u001b[0;36m_iLocIndexer._align_series\u001b[0;34m(self, indexer, ser, multiindex_indexer, using_cow)\u001b[0m\n\u001b[1;32m   2424\u001b[0m             \u001b[38;5;28;01mreturn\u001b[39;00m ser\n\u001b[1;32m   2425\u001b[0m         \u001b[38;5;28;01mreturn\u001b[39;00m ser\u001b[38;5;241m.\u001b[39m_values\u001b[38;5;241m.\u001b[39mcopy()\n\u001b[0;32m-> 2427\u001b[0m     \u001b[38;5;28;01mreturn\u001b[39;00m \u001b[43mser\u001b[49m\u001b[38;5;241;43m.\u001b[39;49m\u001b[43mreindex\u001b[49m\u001b[43m(\u001b[49m\u001b[43mnew_ix\u001b[49m\u001b[43m)\u001b[49m\u001b[38;5;241m.\u001b[39m_values\n\u001b[1;32m   2429\u001b[0m \u001b[38;5;66;03m# 2 dims\u001b[39;00m\n\u001b[1;32m   2430\u001b[0m \u001b[38;5;28;01melif\u001b[39;00m single_aligner:\n\u001b[1;32m   2431\u001b[0m     \u001b[38;5;66;03m# reindex along index\u001b[39;00m\n",
      "File \u001b[0;32m~/6semak/LDB_Summer_Moscow_2024__Task_10/venv/lib/python3.12/site-packages/pandas/core/series.py:5153\u001b[0m, in \u001b[0;36mSeries.reindex\u001b[0;34m(self, index, axis, method, copy, level, fill_value, limit, tolerance)\u001b[0m\n\u001b[1;32m   5136\u001b[0m \u001b[38;5;129m@doc\u001b[39m(\n\u001b[1;32m   5137\u001b[0m     NDFrame\u001b[38;5;241m.\u001b[39mreindex,  \u001b[38;5;66;03m# type: ignore[has-type]\u001b[39;00m\n\u001b[1;32m   5138\u001b[0m     klass\u001b[38;5;241m=\u001b[39m_shared_doc_kwargs[\u001b[38;5;124m\"\u001b[39m\u001b[38;5;124mklass\u001b[39m\u001b[38;5;124m\"\u001b[39m],\n\u001b[0;32m   (...)\u001b[0m\n\u001b[1;32m   5151\u001b[0m     tolerance\u001b[38;5;241m=\u001b[39m\u001b[38;5;28;01mNone\u001b[39;00m,\n\u001b[1;32m   5152\u001b[0m ) \u001b[38;5;241m-\u001b[39m\u001b[38;5;241m>\u001b[39m Series:\n\u001b[0;32m-> 5153\u001b[0m     \u001b[38;5;28;01mreturn\u001b[39;00m \u001b[38;5;28;43msuper\u001b[39;49m\u001b[43m(\u001b[49m\u001b[43m)\u001b[49m\u001b[38;5;241;43m.\u001b[39;49m\u001b[43mreindex\u001b[49m\u001b[43m(\u001b[49m\n\u001b[1;32m   5154\u001b[0m \u001b[43m        \u001b[49m\u001b[43mindex\u001b[49m\u001b[38;5;241;43m=\u001b[39;49m\u001b[43mindex\u001b[49m\u001b[43m,\u001b[49m\n\u001b[1;32m   5155\u001b[0m \u001b[43m        \u001b[49m\u001b[43mmethod\u001b[49m\u001b[38;5;241;43m=\u001b[39;49m\u001b[43mmethod\u001b[49m\u001b[43m,\u001b[49m\n\u001b[1;32m   5156\u001b[0m \u001b[43m        \u001b[49m\u001b[43mcopy\u001b[49m\u001b[38;5;241;43m=\u001b[39;49m\u001b[43mcopy\u001b[49m\u001b[43m,\u001b[49m\n\u001b[1;32m   5157\u001b[0m \u001b[43m        \u001b[49m\u001b[43mlevel\u001b[49m\u001b[38;5;241;43m=\u001b[39;49m\u001b[43mlevel\u001b[49m\u001b[43m,\u001b[49m\n\u001b[1;32m   5158\u001b[0m \u001b[43m        \u001b[49m\u001b[43mfill_value\u001b[49m\u001b[38;5;241;43m=\u001b[39;49m\u001b[43mfill_value\u001b[49m\u001b[43m,\u001b[49m\n\u001b[1;32m   5159\u001b[0m \u001b[43m        \u001b[49m\u001b[43mlimit\u001b[49m\u001b[38;5;241;43m=\u001b[39;49m\u001b[43mlimit\u001b[49m\u001b[43m,\u001b[49m\n\u001b[1;32m   5160\u001b[0m \u001b[43m        \u001b[49m\u001b[43mtolerance\u001b[49m\u001b[38;5;241;43m=\u001b[39;49m\u001b[43mtolerance\u001b[49m\u001b[43m,\u001b[49m\n\u001b[1;32m   5161\u001b[0m \u001b[43m    \u001b[49m\u001b[43m)\u001b[49m\n",
      "File \u001b[0;32m~/6semak/LDB_Summer_Moscow_2024__Task_10/venv/lib/python3.12/site-packages/pandas/core/generic.py:5610\u001b[0m, in \u001b[0;36mNDFrame.reindex\u001b[0;34m(self, labels, index, columns, axis, method, copy, level, fill_value, limit, tolerance)\u001b[0m\n\u001b[1;32m   5607\u001b[0m     \u001b[38;5;28;01mreturn\u001b[39;00m \u001b[38;5;28mself\u001b[39m\u001b[38;5;241m.\u001b[39m_reindex_multi(axes, copy, fill_value)\n\u001b[1;32m   5609\u001b[0m \u001b[38;5;66;03m# perform the reindex on the axes\u001b[39;00m\n\u001b[0;32m-> 5610\u001b[0m \u001b[38;5;28;01mreturn\u001b[39;00m \u001b[38;5;28;43mself\u001b[39;49m\u001b[38;5;241;43m.\u001b[39;49m\u001b[43m_reindex_axes\u001b[49m\u001b[43m(\u001b[49m\n\u001b[1;32m   5611\u001b[0m \u001b[43m    \u001b[49m\u001b[43maxes\u001b[49m\u001b[43m,\u001b[49m\u001b[43m \u001b[49m\u001b[43mlevel\u001b[49m\u001b[43m,\u001b[49m\u001b[43m \u001b[49m\u001b[43mlimit\u001b[49m\u001b[43m,\u001b[49m\u001b[43m \u001b[49m\u001b[43mtolerance\u001b[49m\u001b[43m,\u001b[49m\u001b[43m \u001b[49m\u001b[43mmethod\u001b[49m\u001b[43m,\u001b[49m\u001b[43m \u001b[49m\u001b[43mfill_value\u001b[49m\u001b[43m,\u001b[49m\u001b[43m \u001b[49m\u001b[43mcopy\u001b[49m\n\u001b[1;32m   5612\u001b[0m \u001b[43m\u001b[49m\u001b[43m)\u001b[49m\u001b[38;5;241m.\u001b[39m__finalize__(\u001b[38;5;28mself\u001b[39m, method\u001b[38;5;241m=\u001b[39m\u001b[38;5;124m\"\u001b[39m\u001b[38;5;124mreindex\u001b[39m\u001b[38;5;124m\"\u001b[39m)\n",
      "File \u001b[0;32m~/6semak/LDB_Summer_Moscow_2024__Task_10/venv/lib/python3.12/site-packages/pandas/core/generic.py:5633\u001b[0m, in \u001b[0;36mNDFrame._reindex_axes\u001b[0;34m(self, axes, level, limit, tolerance, method, fill_value, copy)\u001b[0m\n\u001b[1;32m   5630\u001b[0m     \u001b[38;5;28;01mcontinue\u001b[39;00m\n\u001b[1;32m   5632\u001b[0m ax \u001b[38;5;241m=\u001b[39m \u001b[38;5;28mself\u001b[39m\u001b[38;5;241m.\u001b[39m_get_axis(a)\n\u001b[0;32m-> 5633\u001b[0m new_index, indexer \u001b[38;5;241m=\u001b[39m \u001b[43max\u001b[49m\u001b[38;5;241;43m.\u001b[39;49m\u001b[43mreindex\u001b[49m\u001b[43m(\u001b[49m\n\u001b[1;32m   5634\u001b[0m \u001b[43m    \u001b[49m\u001b[43mlabels\u001b[49m\u001b[43m,\u001b[49m\u001b[43m \u001b[49m\u001b[43mlevel\u001b[49m\u001b[38;5;241;43m=\u001b[39;49m\u001b[43mlevel\u001b[49m\u001b[43m,\u001b[49m\u001b[43m \u001b[49m\u001b[43mlimit\u001b[49m\u001b[38;5;241;43m=\u001b[39;49m\u001b[43mlimit\u001b[49m\u001b[43m,\u001b[49m\u001b[43m \u001b[49m\u001b[43mtolerance\u001b[49m\u001b[38;5;241;43m=\u001b[39;49m\u001b[43mtolerance\u001b[49m\u001b[43m,\u001b[49m\u001b[43m \u001b[49m\u001b[43mmethod\u001b[49m\u001b[38;5;241;43m=\u001b[39;49m\u001b[43mmethod\u001b[49m\n\u001b[1;32m   5635\u001b[0m \u001b[43m\u001b[49m\u001b[43m)\u001b[49m\n\u001b[1;32m   5637\u001b[0m axis \u001b[38;5;241m=\u001b[39m \u001b[38;5;28mself\u001b[39m\u001b[38;5;241m.\u001b[39m_get_axis_number(a)\n\u001b[1;32m   5638\u001b[0m obj \u001b[38;5;241m=\u001b[39m obj\u001b[38;5;241m.\u001b[39m_reindex_with_indexers(\n\u001b[1;32m   5639\u001b[0m     {axis: [new_index, indexer]},\n\u001b[1;32m   5640\u001b[0m     fill_value\u001b[38;5;241m=\u001b[39mfill_value,\n\u001b[1;32m   5641\u001b[0m     copy\u001b[38;5;241m=\u001b[39mcopy,\n\u001b[1;32m   5642\u001b[0m     allow_dups\u001b[38;5;241m=\u001b[39m\u001b[38;5;28;01mFalse\u001b[39;00m,\n\u001b[1;32m   5643\u001b[0m )\n",
      "File \u001b[0;32m~/6semak/LDB_Summer_Moscow_2024__Task_10/venv/lib/python3.12/site-packages/pandas/core/indexes/base.py:4429\u001b[0m, in \u001b[0;36mIndex.reindex\u001b[0;34m(self, target, method, level, limit, tolerance)\u001b[0m\n\u001b[1;32m   4426\u001b[0m     \u001b[38;5;28;01mraise\u001b[39;00m \u001b[38;5;167;01mValueError\u001b[39;00m(\u001b[38;5;124m\"\u001b[39m\u001b[38;5;124mcannot handle a non-unique multi-index!\u001b[39m\u001b[38;5;124m\"\u001b[39m)\n\u001b[1;32m   4427\u001b[0m \u001b[38;5;28;01melif\u001b[39;00m \u001b[38;5;129;01mnot\u001b[39;00m \u001b[38;5;28mself\u001b[39m\u001b[38;5;241m.\u001b[39mis_unique:\n\u001b[1;32m   4428\u001b[0m     \u001b[38;5;66;03m# GH#42568\u001b[39;00m\n\u001b[0;32m-> 4429\u001b[0m     \u001b[38;5;28;01mraise\u001b[39;00m \u001b[38;5;167;01mValueError\u001b[39;00m(\u001b[38;5;124m\"\u001b[39m\u001b[38;5;124mcannot reindex on an axis with duplicate labels\u001b[39m\u001b[38;5;124m\"\u001b[39m)\n\u001b[1;32m   4430\u001b[0m \u001b[38;5;28;01melse\u001b[39;00m:\n\u001b[1;32m   4431\u001b[0m     indexer, _ \u001b[38;5;241m=\u001b[39m \u001b[38;5;28mself\u001b[39m\u001b[38;5;241m.\u001b[39mget_indexer_non_unique(target)\n",
      "\u001b[0;31mValueError\u001b[0m: cannot reindex on an axis with duplicate labels"
     ]
    }
   ],
   "source": [
    "year = [2022, 2023, 2024]\n",
    "for uid in tqdm(unom_ids):\n",
    "    for y in year:\n",
    "        anomaly_df = pd.DataFrame(columns=dfs.columns, index=make_timeline_for_period(y))\n",
    "        df = dfs.loc[dfs['UNOM'] == uid]\n",
    "        df.index = df.index.round(freq='min')\n",
    "        indexes = df.index.intersection(anomaly_df.index)\n",
    "        anomaly_df.loc[indexes] = df.loc[indexes]\n",
    "        anomaly_df.to_csv(f'../main_datasets/builded_datasets/anomaly_timelines/period_{y}/{int(uid)}_{y}.csv')\n",
    "\n",
    "\n",
    "    "
   ]
  }
 ],
 "metadata": {
  "kernelspec": {
   "display_name": "venv",
   "language": "python",
   "name": "python3"
  },
  "language_info": {
   "codemirror_mode": {
    "name": "ipython",
    "version": 3
   },
   "file_extension": ".py",
   "mimetype": "text/x-python",
   "name": "python",
   "nbconvert_exporter": "python",
   "pygments_lexer": "ipython3",
   "version": "3.12.3"
  }
 },
 "nbformat": 4,
 "nbformat_minor": 2
}
