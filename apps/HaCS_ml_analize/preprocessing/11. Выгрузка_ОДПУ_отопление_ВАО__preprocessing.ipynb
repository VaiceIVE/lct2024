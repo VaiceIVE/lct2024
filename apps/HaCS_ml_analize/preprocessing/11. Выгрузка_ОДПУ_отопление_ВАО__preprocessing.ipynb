{
 "cells": [
  {
   "cell_type": "markdown",
   "metadata": {},
   "source": [
    "# **Imports**"
   ]
  },
  {
   "cell_type": "code",
   "execution_count": 1,
   "metadata": {},
   "outputs": [],
   "source": [
    "import pandas as pd\n",
    "from openpyxl import load_workbook\n",
    "from dataclasses import dataclass\n",
    "import matplotlib.pyplot as plt"
   ]
  },
  {
   "cell_type": "markdown",
   "metadata": {},
   "source": [
    "# **Functions**"
   ]
  },
  {
   "cell_type": "code",
   "execution_count": 2,
   "metadata": {},
   "outputs": [],
   "source": [
    "def get_sheetnames_xlsx(filepath):\n",
    "    wb = load_workbook(filepath, read_only=True, keep_links=False)\n",
    "    return wb.sheetnames"
   ]
  },
  {
   "cell_type": "markdown",
   "metadata": {},
   "source": [
    "# **Constants**"
   ]
  },
  {
   "cell_type": "code",
   "execution_count": 3,
   "metadata": {},
   "outputs": [],
   "source": [
    "@dataclass(frozen=True)\n",
    "class Pathes:\n",
    "    path: str = '../main_datasets/10. ДЖКХ + ДИТ/11. Выгрузка_ОДПУ_отопление_ВАО.xlsx'\n",
    "    path_processed: str = '../main_datasets/processed_datasets/'"
   ]
  },
  {
   "cell_type": "markdown",
   "metadata": {},
   "source": [
    "# **Load dataset**"
   ]
  },
  {
   "cell_type": "code",
   "execution_count": 4,
   "metadata": {},
   "outputs": [
    {
     "data": {
      "text/plain": [
       "['Выгрузка', 'Справочник ошибок']"
      ]
     },
     "execution_count": 4,
     "metadata": {},
     "output_type": "execute_result"
    }
   ],
   "source": [
    "sheets_list = get_sheetnames_xlsx(Pathes.path)\n",
    "sheets_list"
   ]
  },
  {
   "cell_type": "markdown",
   "metadata": {},
   "source": [
    "## Выгрузка"
   ]
  },
  {
   "cell_type": "code",
   "execution_count": 5,
   "metadata": {},
   "outputs": [],
   "source": [
    "table = pd.read_excel(Pathes.path, engine='openpyxl', sheet_name=sheets_list[0])"
   ]
  },
  {
   "cell_type": "code",
   "execution_count": 7,
   "metadata": {},
   "outputs": [],
   "source": [
    "c = []\n",
    "for i, j in zip(table.columns, table.iloc[0].values):\n",
    "    k = i\n",
    "    if 'Unnamed' in i:\n",
    "        k = j\n",
    "    c.append(k)\n",
    "\n",
    "table = table.iloc[1:]\n",
    "table.columns = c"
   ]
  },
  {
   "cell_type": "code",
   "execution_count": 8,
   "metadata": {},
   "outputs": [
    {
     "data": {
      "text/html": [
       "<div>\n",
       "<style scoped>\n",
       "    .dataframe tbody tr th:only-of-type {\n",
       "        vertical-align: middle;\n",
       "    }\n",
       "\n",
       "    .dataframe tbody tr th {\n",
       "        vertical-align: top;\n",
       "    }\n",
       "\n",
       "    .dataframe thead th {\n",
       "        text-align: right;\n",
       "    }\n",
       "</style>\n",
       "<table border=\"1\" class=\"dataframe\">\n",
       "  <thead>\n",
       "    <tr style=\"text-align: right;\">\n",
       "      <th></th>\n",
       "      <th>MEASURE_OBJECT_ID</th>\n",
       "      <th>MEASURE_POINT_ID</th>\n",
       "      <th>OKRUG_SHORT_NAME</th>\n",
       "      <th>DISTRICT_SHORT_NAME</th>\n",
       "      <th>OBJ_CUSTOMERS</th>\n",
       "      <th>CONSUMER_GROUP</th>\n",
       "      <th>UNOM</th>\n",
       "      <th>ADDRESS</th>\n",
       "      <th>Марка счетчика</th>\n",
       "      <th>серия/номер счетчика</th>\n",
       "      <th>...</th>\n",
       "      <th>Дата</th>\n",
       "      <th>Объём поданого теплоносителя в систему ЦО</th>\n",
       "      <th>Объём обратного теплоносителя из системы ЦО</th>\n",
       "      <th>Разница между подачей и обраткой</th>\n",
       "      <th>G_POD_G_OBR_UTECH</th>\n",
       "      <th>Температура подачи</th>\n",
       "      <th>Температура обратки</th>\n",
       "      <th>Наработка часов счётчика</th>\n",
       "      <th>расход тепловой энергии</th>\n",
       "      <th>ERROR_CODE</th>\n",
       "    </tr>\n",
       "  </thead>\n",
       "  <tbody>\n",
       "    <tr>\n",
       "      <th>1</th>\n",
       "      <td>785505006</td>\n",
       "      <td>785529572</td>\n",
       "      <td>ВАО</td>\n",
       "      <td>Вешняки</td>\n",
       "      <td>ГБУ \"ЖИЛИЩНИК РАЙОНА ВЕШНЯКИ\"</td>\n",
       "      <td>МКД</td>\n",
       "      <td>3771</td>\n",
       "      <td>Вешняковская ул., д. 1, к. 3</td>\n",
       "      <td>КМ-5-2</td>\n",
       "      <td>407463</td>\n",
       "      <td>...</td>\n",
       "      <td>2023-01-01 00:00:00</td>\n",
       "      <td>121.318</td>\n",
       "      <td>123.476</td>\n",
       "      <td>2.158</td>\n",
       "      <td>NaN</td>\n",
       "      <td>84.8</td>\n",
       "      <td>43.9</td>\n",
       "      <td>24</td>\n",
       "      <td>4.9513</td>\n",
       "      <td>NaN</td>\n",
       "    </tr>\n",
       "    <tr>\n",
       "      <th>2</th>\n",
       "      <td>785505006</td>\n",
       "      <td>785529572</td>\n",
       "      <td>ВАО</td>\n",
       "      <td>Вешняки</td>\n",
       "      <td>ГБУ \"ЖИЛИЩНИК РАЙОНА ВЕШНЯКИ\"</td>\n",
       "      <td>МКД</td>\n",
       "      <td>3771</td>\n",
       "      <td>Вешняковская ул., д. 1, к. 3</td>\n",
       "      <td>КМ-5-2</td>\n",
       "      <td>407463</td>\n",
       "      <td>...</td>\n",
       "      <td>2023-01-02 00:00:00</td>\n",
       "      <td>117.434</td>\n",
       "      <td>119.506</td>\n",
       "      <td>2.071</td>\n",
       "      <td>NaN</td>\n",
       "      <td>83.4</td>\n",
       "      <td>43.5</td>\n",
       "      <td>24</td>\n",
       "      <td>4.67748</td>\n",
       "      <td>NaN</td>\n",
       "    </tr>\n",
       "    <tr>\n",
       "      <th>3</th>\n",
       "      <td>785505006</td>\n",
       "      <td>785529572</td>\n",
       "      <td>ВАО</td>\n",
       "      <td>Вешняки</td>\n",
       "      <td>ГБУ \"ЖИЛИЩНИК РАЙОНА ВЕШНЯКИ\"</td>\n",
       "      <td>МКД</td>\n",
       "      <td>3771</td>\n",
       "      <td>Вешняковская ул., д. 1, к. 3</td>\n",
       "      <td>КМ-5-2</td>\n",
       "      <td>407463</td>\n",
       "      <td>...</td>\n",
       "      <td>2023-01-03 00:00:00</td>\n",
       "      <td>117.38</td>\n",
       "      <td>119.469</td>\n",
       "      <td>2.089</td>\n",
       "      <td>NaN</td>\n",
       "      <td>83.3</td>\n",
       "      <td>42.7</td>\n",
       "      <td>24</td>\n",
       "      <td>4.74984</td>\n",
       "      <td>NaN</td>\n",
       "    </tr>\n",
       "    <tr>\n",
       "      <th>4</th>\n",
       "      <td>785505006</td>\n",
       "      <td>785529572</td>\n",
       "      <td>ВАО</td>\n",
       "      <td>Вешняки</td>\n",
       "      <td>ГБУ \"ЖИЛИЩНИК РАЙОНА ВЕШНЯКИ\"</td>\n",
       "      <td>МКД</td>\n",
       "      <td>3771</td>\n",
       "      <td>Вешняковская ул., д. 1, к. 3</td>\n",
       "      <td>КМ-5-2</td>\n",
       "      <td>407463</td>\n",
       "      <td>...</td>\n",
       "      <td>2023-01-04 00:00:00</td>\n",
       "      <td>113.749</td>\n",
       "      <td>115.744</td>\n",
       "      <td>1.995</td>\n",
       "      <td>NaN</td>\n",
       "      <td>85.1</td>\n",
       "      <td>42.6</td>\n",
       "      <td>24</td>\n",
       "      <td>4.82182</td>\n",
       "      <td>NaN</td>\n",
       "    </tr>\n",
       "    <tr>\n",
       "      <th>5</th>\n",
       "      <td>785505006</td>\n",
       "      <td>785529572</td>\n",
       "      <td>ВАО</td>\n",
       "      <td>Вешняки</td>\n",
       "      <td>ГБУ \"ЖИЛИЩНИК РАЙОНА ВЕШНЯКИ\"</td>\n",
       "      <td>МКД</td>\n",
       "      <td>3771</td>\n",
       "      <td>Вешняковская ул., д. 1, к. 3</td>\n",
       "      <td>КМ-5-2</td>\n",
       "      <td>407463</td>\n",
       "      <td>...</td>\n",
       "      <td>2023-01-05 00:00:00</td>\n",
       "      <td>112.453</td>\n",
       "      <td>114.438</td>\n",
       "      <td>1.985</td>\n",
       "      <td>NaN</td>\n",
       "      <td>94.9</td>\n",
       "      <td>44.8</td>\n",
       "      <td>24</td>\n",
       "      <td>5.62935</td>\n",
       "      <td>NaN</td>\n",
       "    </tr>\n",
       "  </tbody>\n",
       "</table>\n",
       "<p>5 rows × 23 columns</p>\n",
       "</div>"
      ],
      "text/plain": [
       "  MEASURE_OBJECT_ID MEASURE_POINT_ID OKRUG_SHORT_NAME DISTRICT_SHORT_NAME  \\\n",
       "1         785505006        785529572              ВАО             Вешняки   \n",
       "2         785505006        785529572              ВАО             Вешняки   \n",
       "3         785505006        785529572              ВАО             Вешняки   \n",
       "4         785505006        785529572              ВАО             Вешняки   \n",
       "5         785505006        785529572              ВАО             Вешняки   \n",
       "\n",
       "                   OBJ_CUSTOMERS CONSUMER_GROUP  UNOM  \\\n",
       "1  ГБУ \"ЖИЛИЩНИК РАЙОНА ВЕШНЯКИ\"            МКД  3771   \n",
       "2  ГБУ \"ЖИЛИЩНИК РАЙОНА ВЕШНЯКИ\"            МКД  3771   \n",
       "3  ГБУ \"ЖИЛИЩНИК РАЙОНА ВЕШНЯКИ\"            МКД  3771   \n",
       "4  ГБУ \"ЖИЛИЩНИК РАЙОНА ВЕШНЯКИ\"            МКД  3771   \n",
       "5  ГБУ \"ЖИЛИЩНИК РАЙОНА ВЕШНЯКИ\"            МКД  3771   \n",
       "\n",
       "                        ADDRESS Марка счетчика серия/номер счетчика  ...  \\\n",
       "1  Вешняковская ул., д. 1, к. 3         КМ-5-2               407463  ...   \n",
       "2  Вешняковская ул., д. 1, к. 3         КМ-5-2               407463  ...   \n",
       "3  Вешняковская ул., д. 1, к. 3         КМ-5-2               407463  ...   \n",
       "4  Вешняковская ул., д. 1, к. 3         КМ-5-2               407463  ...   \n",
       "5  Вешняковская ул., д. 1, к. 3         КМ-5-2               407463  ...   \n",
       "\n",
       "                  Дата Объём поданого теплоносителя в систему ЦО  \\\n",
       "1  2023-01-01 00:00:00                                   121.318   \n",
       "2  2023-01-02 00:00:00                                   117.434   \n",
       "3  2023-01-03 00:00:00                                    117.38   \n",
       "4  2023-01-04 00:00:00                                   113.749   \n",
       "5  2023-01-05 00:00:00                                   112.453   \n",
       "\n",
       "  Объём обратного теплоносителя из системы ЦО  \\\n",
       "1                                     123.476   \n",
       "2                                     119.506   \n",
       "3                                     119.469   \n",
       "4                                     115.744   \n",
       "5                                     114.438   \n",
       "\n",
       "  Разница между подачей и обраткой G_POD_G_OBR_UTECH Температура подачи  \\\n",
       "1                            2.158               NaN               84.8   \n",
       "2                            2.071               NaN               83.4   \n",
       "3                            2.089               NaN               83.3   \n",
       "4                            1.995               NaN               85.1   \n",
       "5                            1.985               NaN               94.9   \n",
       "\n",
       "  Температура обратки Наработка часов счётчика расход тепловой энергии   \\\n",
       "1                43.9                       24                   4.9513   \n",
       "2                43.5                       24                  4.67748   \n",
       "3                42.7                       24                  4.74984   \n",
       "4                42.6                       24                  4.82182   \n",
       "5                44.8                       24                  5.62935   \n",
       "\n",
       "  ERROR_CODE  \n",
       "1        NaN  \n",
       "2        NaN  \n",
       "3        NaN  \n",
       "4        NaN  \n",
       "5        NaN  \n",
       "\n",
       "[5 rows x 23 columns]"
      ]
     },
     "execution_count": 8,
     "metadata": {},
     "output_type": "execute_result"
    }
   ],
   "source": [
    "table.head()"
   ]
  },
  {
   "cell_type": "code",
   "execution_count": 9,
   "metadata": {},
   "outputs": [],
   "source": [
    "table.to_csv(Pathes.path_processed + '11. Выгрузка_ОДПУ_отопление_ВАО__Выгрузка.csv', index=False)"
   ]
  },
  {
   "cell_type": "markdown",
   "metadata": {},
   "source": [
    "## Справочник ошибок"
   ]
  },
  {
   "cell_type": "code",
   "execution_count": 10,
   "metadata": {},
   "outputs": [],
   "source": [
    "table = pd.read_excel(Pathes.path, engine='openpyxl', sheet_name=sheets_list[1])"
   ]
  },
  {
   "cell_type": "code",
   "execution_count": 11,
   "metadata": {},
   "outputs": [
    {
     "data": {
      "text/html": [
       "<div>\n",
       "<style scoped>\n",
       "    .dataframe tbody tr th:only-of-type {\n",
       "        vertical-align: middle;\n",
       "    }\n",
       "\n",
       "    .dataframe tbody tr th {\n",
       "        vertical-align: top;\n",
       "    }\n",
       "\n",
       "    .dataframe thead th {\n",
       "        text-align: right;\n",
       "    }\n",
       "</style>\n",
       "<table border=\"1\" class=\"dataframe\">\n",
       "  <thead>\n",
       "    <tr style=\"text-align: right;\">\n",
       "      <th></th>\n",
       "      <th>Код</th>\n",
       "      <th>Описание</th>\n",
       "    </tr>\n",
       "  </thead>\n",
       "  <tbody>\n",
       "    <tr>\n",
       "      <th>0</th>\n",
       "      <td>U</td>\n",
       "      <td>Отсутствие электропитания</td>\n",
       "    </tr>\n",
       "    <tr>\n",
       "      <th>1</th>\n",
       "      <td>D</td>\n",
       "      <td>Разница температур в подающем и обратном трубо...</td>\n",
       "    </tr>\n",
       "    <tr>\n",
       "      <th>2</th>\n",
       "      <td>g</td>\n",
       "      <td>Расход меньше минимального</td>\n",
       "    </tr>\n",
       "    <tr>\n",
       "      <th>3</th>\n",
       "      <td>G</td>\n",
       "      <td>Расход больше максимального</td>\n",
       "    </tr>\n",
       "    <tr>\n",
       "      <th>4</th>\n",
       "      <td>E</td>\n",
       "      <td>Функциональный отказ</td>\n",
       "    </tr>\n",
       "  </tbody>\n",
       "</table>\n",
       "</div>"
      ],
      "text/plain": [
       "  Код                                           Описание\n",
       "0   U                          Отсутствие электропитания\n",
       "1   D  Разница температур в подающем и обратном трубо...\n",
       "2   g                         Расход меньше минимального\n",
       "3   G                        Расход больше максимального\n",
       "4   E                               Функциональный отказ"
      ]
     },
     "execution_count": 11,
     "metadata": {},
     "output_type": "execute_result"
    }
   ],
   "source": [
    "table"
   ]
  },
  {
   "cell_type": "code",
   "execution_count": 12,
   "metadata": {},
   "outputs": [],
   "source": [
    "table.to_csv(Pathes.path_processed + '11. Выгрузка_ОДПУ_отопление_ВАО__Справочник_ошибок.csv', index=False)"
   ]
  }
 ],
 "metadata": {
  "kernelspec": {
   "display_name": "venv",
   "language": "python",
   "name": "python3"
  },
  "language_info": {
   "codemirror_mode": {
    "name": "ipython",
    "version": 3
   },
   "file_extension": ".py",
   "mimetype": "text/x-python",
   "name": "python",
   "nbconvert_exporter": "python",
   "pygments_lexer": "ipython3",
   "version": "3.12.3"
  }
 },
 "nbformat": 4,
 "nbformat_minor": 2
}
