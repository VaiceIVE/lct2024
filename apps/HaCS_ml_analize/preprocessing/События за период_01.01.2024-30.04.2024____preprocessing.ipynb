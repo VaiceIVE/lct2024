{
 "cells": [
  {
   "cell_type": "markdown",
   "metadata": {},
   "source": [
    "# **Imports**"
   ]
  },
  {
   "cell_type": "code",
   "execution_count": 1,
   "metadata": {},
   "outputs": [],
   "source": [
    "import pandas as pd\n",
    "from openpyxl import load_workbook\n",
    "from dataclasses import dataclass\n",
    "import matplotlib.pyplot as plt"
   ]
  },
  {
   "cell_type": "markdown",
   "metadata": {},
   "source": [
    "# **Functions**"
   ]
  },
  {
   "cell_type": "code",
   "execution_count": 2,
   "metadata": {},
   "outputs": [],
   "source": [
    "def get_sheetnames_xlsx(filepath):\n",
    "    wb = load_workbook(filepath, read_only=True, keep_links=False)\n",
    "    return wb.sheetnames"
   ]
  },
  {
   "cell_type": "markdown",
   "metadata": {},
   "source": [
    "# **Constants**"
   ]
  },
  {
   "cell_type": "code",
   "execution_count": 3,
   "metadata": {},
   "outputs": [],
   "source": [
    "@dataclass(frozen=True)\n",
    "class Pathes:\n",
    "    path: str = '../main_datasets/10. ДЖКХ + ДИТ/5. Перечень событий за период 01.10.2023-30.04.2023 (ЦУ КГХ)/События за период_01.01.2024-30.04.2024.xlsx'\n",
    "    path_processed: str = '../main_datasets/processed_datasets/'\n",
    "    path_plots: str = '../plots/События за период_01.01.2024-30.04.2024/'"
   ]
  },
  {
   "cell_type": "markdown",
   "metadata": {},
   "source": [
    "# **Load dataset**"
   ]
  },
  {
   "cell_type": "code",
   "execution_count": 4,
   "metadata": {},
   "outputs": [
    {
     "data": {
      "text/plain": [
       "['Сводная таблица', 'Выгрузка', 'Query']"
      ]
     },
     "execution_count": 4,
     "metadata": {},
     "output_type": "execute_result"
    }
   ],
   "source": [
    "sheets_list = get_sheetnames_xlsx(Pathes.path)\n",
    "sheets_list"
   ]
  },
  {
   "cell_type": "markdown",
   "metadata": {},
   "source": [
    "## Pivot table"
   ]
  },
  {
   "cell_type": "code",
   "execution_count": 5,
   "metadata": {},
   "outputs": [],
   "source": [
    "pivot_table = pd.read_excel(Pathes.path, engine='openpyxl', sheet_name=sheets_list[0])"
   ]
  },
  {
   "cell_type": "code",
   "execution_count": 6,
   "metadata": {},
   "outputs": [],
   "source": [
    "pivot_table.columns = pivot_table.iloc[1].to_list()\n",
    "pivot_table = pivot_table.iloc[2:]\n"
   ]
  },
  {
   "cell_type": "code",
   "execution_count": 7,
   "metadata": {},
   "outputs": [
    {
     "data": {
      "text/html": [
       "<div>\n",
       "<style scoped>\n",
       "    .dataframe tbody tr th:only-of-type {\n",
       "        vertical-align: middle;\n",
       "    }\n",
       "\n",
       "    .dataframe tbody tr th {\n",
       "        vertical-align: top;\n",
       "    }\n",
       "\n",
       "    .dataframe thead th {\n",
       "        text-align: right;\n",
       "    }\n",
       "</style>\n",
       "<table border=\"1\" class=\"dataframe\">\n",
       "  <thead>\n",
       "    <tr style=\"text-align: right;\">\n",
       "      <th></th>\n",
       "      <th>Названия строк</th>\n",
       "      <th>Количество по полю Источник</th>\n",
       "    </tr>\n",
       "  </thead>\n",
       "  <tbody>\n",
       "    <tr>\n",
       "      <th>2</th>\n",
       "      <td>P1 &lt;= 0</td>\n",
       "      <td>933</td>\n",
       "    </tr>\n",
       "    <tr>\n",
       "      <th>3</th>\n",
       "      <td>P2 &lt;= 0</td>\n",
       "      <td>336</td>\n",
       "    </tr>\n",
       "    <tr>\n",
       "      <th>4</th>\n",
       "      <td>T1 &lt; min</td>\n",
       "      <td>958</td>\n",
       "    </tr>\n",
       "    <tr>\n",
       "      <th>5</th>\n",
       "      <td>T1 &gt; max</td>\n",
       "      <td>4808</td>\n",
       "    </tr>\n",
       "    <tr>\n",
       "      <th>6</th>\n",
       "      <td>Аварийная протечка труб в подъезде</td>\n",
       "      <td>3</td>\n",
       "    </tr>\n",
       "    <tr>\n",
       "      <th>7</th>\n",
       "      <td>Крупные пожары</td>\n",
       "      <td>1</td>\n",
       "    </tr>\n",
       "    <tr>\n",
       "      <th>8</th>\n",
       "      <td>Отсутствие отопления в доме</td>\n",
       "      <td>842</td>\n",
       "    </tr>\n",
       "    <tr>\n",
       "      <th>9</th>\n",
       "      <td>Протечка труб в подъезде</td>\n",
       "      <td>182</td>\n",
       "    </tr>\n",
       "    <tr>\n",
       "      <th>10</th>\n",
       "      <td>Сильная течь в системе отопления</td>\n",
       "      <td>462</td>\n",
       "    </tr>\n",
       "    <tr>\n",
       "      <th>11</th>\n",
       "      <td>Температура в квартире ниже нормативной</td>\n",
       "      <td>30254</td>\n",
       "    </tr>\n",
       "    <tr>\n",
       "      <th>12</th>\n",
       "      <td>Температура в помещении общего пользования ниж...</td>\n",
       "      <td>404</td>\n",
       "    </tr>\n",
       "    <tr>\n",
       "      <th>13</th>\n",
       "      <td>Течь в системе отопления</td>\n",
       "      <td>372</td>\n",
       "    </tr>\n",
       "    <tr>\n",
       "      <th>14</th>\n",
       "      <td>Общий итог</td>\n",
       "      <td>39555</td>\n",
       "    </tr>\n",
       "  </tbody>\n",
       "</table>\n",
       "</div>"
      ],
      "text/plain": [
       "                                       Названия строк  \\\n",
       "2                                             P1 <= 0   \n",
       "3                                             P2 <= 0   \n",
       "4                                            T1 < min   \n",
       "5                                            T1 > max   \n",
       "6                  Аварийная протечка труб в подъезде   \n",
       "7                                      Крупные пожары   \n",
       "8                         Отсутствие отопления в доме   \n",
       "9                            Протечка труб в подъезде   \n",
       "10                   Сильная течь в системе отопления   \n",
       "11            Температура в квартире ниже нормативной   \n",
       "12  Температура в помещении общего пользования ниж...   \n",
       "13                           Течь в системе отопления   \n",
       "14                                         Общий итог   \n",
       "\n",
       "   Количество по полю Источник  \n",
       "2                          933  \n",
       "3                          336  \n",
       "4                          958  \n",
       "5                         4808  \n",
       "6                            3  \n",
       "7                            1  \n",
       "8                          842  \n",
       "9                          182  \n",
       "10                         462  \n",
       "11                       30254  \n",
       "12                         404  \n",
       "13                         372  \n",
       "14                       39555  "
      ]
     },
     "execution_count": 7,
     "metadata": {},
     "output_type": "execute_result"
    }
   ],
   "source": [
    "pivot_table"
   ]
  },
  {
   "cell_type": "code",
   "execution_count": 8,
   "metadata": {},
   "outputs": [],
   "source": [
    "pivot_table.to_csv(Pathes.path_processed + 'События_за_период_01.01.2024-30.04.2024____pivot_table.csv', index=False)"
   ]
  },
  {
   "cell_type": "markdown",
   "metadata": {},
   "source": [
    "## Uploading"
   ]
  },
  {
   "cell_type": "code",
   "execution_count": 9,
   "metadata": {},
   "outputs": [],
   "source": [
    "uploading_table = pd.read_excel(Pathes.path, engine='openpyxl', sheet_name=sheets_list[1])"
   ]
  },
  {
   "cell_type": "code",
   "execution_count": 10,
   "metadata": {},
   "outputs": [
    {
     "data": {
      "text/html": [
       "<div>\n",
       "<style scoped>\n",
       "    .dataframe tbody tr th:only-of-type {\n",
       "        vertical-align: middle;\n",
       "    }\n",
       "\n",
       "    .dataframe tbody tr th {\n",
       "        vertical-align: top;\n",
       "    }\n",
       "\n",
       "    .dataframe thead th {\n",
       "        text-align: right;\n",
       "    }\n",
       "</style>\n",
       "<table border=\"1\" class=\"dataframe\">\n",
       "  <thead>\n",
       "    <tr style=\"text-align: right;\">\n",
       "      <th></th>\n",
       "      <th>Наименование</th>\n",
       "      <th>Источник</th>\n",
       "      <th>Дата создания во внешней системе</th>\n",
       "      <th>Дата закрытия</th>\n",
       "      <th>Округ</th>\n",
       "      <th>УНОМ</th>\n",
       "      <th>Адрес</th>\n",
       "      <th>Дата и время завершения события во внешней системе</th>\n",
       "    </tr>\n",
       "  </thead>\n",
       "  <tbody>\n",
       "    <tr>\n",
       "      <th>0</th>\n",
       "      <td>Лифт требует ремонта</td>\n",
       "      <td>EDC</td>\n",
       "      <td>2024-03-10 14:52:57.000000</td>\n",
       "      <td>2024-03-10 14:56:08.183000</td>\n",
       "      <td>ВАО</td>\n",
       "      <td>64137.0</td>\n",
       "      <td>внутригородская территория муниципальный округ...</td>\n",
       "      <td>2024-03-10 16:35:37.366000</td>\n",
       "    </tr>\n",
       "    <tr>\n",
       "      <th>1</th>\n",
       "      <td>Лифт требует ремонта</td>\n",
       "      <td>EDC</td>\n",
       "      <td>2024-01-14 16:57:54.000000</td>\n",
       "      <td>2024-01-14 17:03:17.961000</td>\n",
       "      <td>ВАО</td>\n",
       "      <td>380.0</td>\n",
       "      <td>внутригородская территория муниципальный округ...</td>\n",
       "      <td>2024-01-15 10:09:27.502000</td>\n",
       "    </tr>\n",
       "    <tr>\n",
       "      <th>2</th>\n",
       "      <td>Лифт требует ремонта</td>\n",
       "      <td>EDC</td>\n",
       "      <td>2024-01-14 14:00:01.000000</td>\n",
       "      <td>2024-01-14 14:04:48.621000</td>\n",
       "      <td>ВАО</td>\n",
       "      <td>380.0</td>\n",
       "      <td>внутригородская территория муниципальный округ...</td>\n",
       "      <td>2024-01-14 16:59:01.571000</td>\n",
       "    </tr>\n",
       "    <tr>\n",
       "      <th>3</th>\n",
       "      <td>Протечка с кровли</td>\n",
       "      <td>EDC</td>\n",
       "      <td>2024-01-24 12:06:28.000000</td>\n",
       "      <td>2024-01-24 12:09:12.944000</td>\n",
       "      <td>ВАО</td>\n",
       "      <td>380.0</td>\n",
       "      <td>внутригородская территория муниципальный округ...</td>\n",
       "      <td>2024-01-24 14:05:31.400000</td>\n",
       "    </tr>\n",
       "    <tr>\n",
       "      <th>4</th>\n",
       "      <td>Нет связи с УСПД</td>\n",
       "      <td>ASUPR</td>\n",
       "      <td>2024-03-11 22:12:07.000000</td>\n",
       "      <td>2024-03-12 10:40:58.780000</td>\n",
       "      <td>ВАО</td>\n",
       "      <td>380.0</td>\n",
       "      <td>внутригородская территория муниципальный округ...</td>\n",
       "      <td>2024-03-12 10:40:58.991000</td>\n",
       "    </tr>\n",
       "    <tr>\n",
       "      <th>...</th>\n",
       "      <td>...</td>\n",
       "      <td>...</td>\n",
       "      <td>...</td>\n",
       "      <td>...</td>\n",
       "      <td>...</td>\n",
       "      <td>...</td>\n",
       "      <td>...</td>\n",
       "      <td>...</td>\n",
       "    </tr>\n",
       "    <tr>\n",
       "      <th>497098</th>\n",
       "      <td>Повреждение/уничтожение МАФ</td>\n",
       "      <td>NG</td>\n",
       "      <td>2024-05-05 18:18:47.000000</td>\n",
       "      <td>2024-05-05 18:24:49.682000</td>\n",
       "      <td>ВАО</td>\n",
       "      <td>NaN</td>\n",
       "      <td>NaN</td>\n",
       "      <td>2024-05-07 10:27:24.349000</td>\n",
       "    </tr>\n",
       "    <tr>\n",
       "      <th>497099</th>\n",
       "      <td>Повреждение урны</td>\n",
       "      <td>NG</td>\n",
       "      <td>2024-05-07 11:46:13.000000</td>\n",
       "      <td>2024-05-07 11:54:00.192000</td>\n",
       "      <td>ВАО</td>\n",
       "      <td>NaN</td>\n",
       "      <td>NaN</td>\n",
       "      <td>2024-05-09 15:24:11.894000</td>\n",
       "    </tr>\n",
       "    <tr>\n",
       "      <th>497100</th>\n",
       "      <td>Низкий уровень сигнала GSM</td>\n",
       "      <td>ASUPR</td>\n",
       "      <td>2024-04-22 07:35:47.000000</td>\n",
       "      <td>2024-04-22 07:36:27.352000</td>\n",
       "      <td>ВАО</td>\n",
       "      <td>15760.0</td>\n",
       "      <td>внутригородская территория муниципальный округ...</td>\n",
       "      <td>NaN</td>\n",
       "    </tr>\n",
       "    <tr>\n",
       "      <th>497101</th>\n",
       "      <td>Поломка почтовых ящиков</td>\n",
       "      <td>EDC</td>\n",
       "      <td>2024-04-19 11:44:07.000000</td>\n",
       "      <td>2024-04-19 11:47:29.402000</td>\n",
       "      <td>ВАО</td>\n",
       "      <td>15760.0</td>\n",
       "      <td>внутригородская территория муниципальный округ...</td>\n",
       "      <td>2024-04-19 15:04:42.796000</td>\n",
       "    </tr>\n",
       "    <tr>\n",
       "      <th>497102</th>\n",
       "      <td>Отсутствуют актуальные суточные значения</td>\n",
       "      <td>ASUPR</td>\n",
       "      <td>2024-04-27 00:03:42.000000</td>\n",
       "      <td>2024-04-27 04:42:54.231000</td>\n",
       "      <td>ВАО</td>\n",
       "      <td>15760.0</td>\n",
       "      <td>внутригородская территория муниципальный округ...</td>\n",
       "      <td>2024-04-27 04:42:54.634000</td>\n",
       "    </tr>\n",
       "  </tbody>\n",
       "</table>\n",
       "<p>497103 rows × 8 columns</p>\n",
       "</div>"
      ],
      "text/plain": [
       "                                    Наименование Источник  \\\n",
       "0                           Лифт требует ремонта      EDC   \n",
       "1                           Лифт требует ремонта      EDC   \n",
       "2                           Лифт требует ремонта      EDC   \n",
       "3                              Протечка с кровли      EDC   \n",
       "4                               Нет связи с УСПД    ASUPR   \n",
       "...                                          ...      ...   \n",
       "497098               Повреждение/уничтожение МАФ       NG   \n",
       "497099                          Повреждение урны       NG   \n",
       "497100                Низкий уровень сигнала GSM    ASUPR   \n",
       "497101                   Поломка почтовых ящиков      EDC   \n",
       "497102  Отсутствуют актуальные суточные значения    ASUPR   \n",
       "\n",
       "       Дата создания во внешней системе               Дата закрытия Округ  \\\n",
       "0            2024-03-10 14:52:57.000000  2024-03-10 14:56:08.183000   ВАО   \n",
       "1            2024-01-14 16:57:54.000000  2024-01-14 17:03:17.961000   ВАО   \n",
       "2            2024-01-14 14:00:01.000000  2024-01-14 14:04:48.621000   ВАО   \n",
       "3            2024-01-24 12:06:28.000000  2024-01-24 12:09:12.944000   ВАО   \n",
       "4            2024-03-11 22:12:07.000000  2024-03-12 10:40:58.780000   ВАО   \n",
       "...                                 ...                         ...   ...   \n",
       "497098       2024-05-05 18:18:47.000000  2024-05-05 18:24:49.682000   ВАО   \n",
       "497099       2024-05-07 11:46:13.000000  2024-05-07 11:54:00.192000   ВАО   \n",
       "497100       2024-04-22 07:35:47.000000  2024-04-22 07:36:27.352000   ВАО   \n",
       "497101       2024-04-19 11:44:07.000000  2024-04-19 11:47:29.402000   ВАО   \n",
       "497102       2024-04-27 00:03:42.000000  2024-04-27 04:42:54.231000   ВАО   \n",
       "\n",
       "           УНОМ                                              Адрес  \\\n",
       "0       64137.0  внутригородская территория муниципальный округ...   \n",
       "1         380.0  внутригородская территория муниципальный округ...   \n",
       "2         380.0  внутригородская территория муниципальный округ...   \n",
       "3         380.0  внутригородская территория муниципальный округ...   \n",
       "4         380.0  внутригородская территория муниципальный округ...   \n",
       "...         ...                                                ...   \n",
       "497098      NaN                                                NaN   \n",
       "497099      NaN                                                NaN   \n",
       "497100  15760.0  внутригородская территория муниципальный округ...   \n",
       "497101  15760.0  внутригородская территория муниципальный округ...   \n",
       "497102  15760.0  внутригородская территория муниципальный округ...   \n",
       "\n",
       "       Дата и время завершения события во внешней системе  \n",
       "0                              2024-03-10 16:35:37.366000  \n",
       "1                              2024-01-15 10:09:27.502000  \n",
       "2                              2024-01-14 16:59:01.571000  \n",
       "3                              2024-01-24 14:05:31.400000  \n",
       "4                              2024-03-12 10:40:58.991000  \n",
       "...                                                   ...  \n",
       "497098                         2024-05-07 10:27:24.349000  \n",
       "497099                         2024-05-09 15:24:11.894000  \n",
       "497100                                                NaN  \n",
       "497101                         2024-04-19 15:04:42.796000  \n",
       "497102                         2024-04-27 04:42:54.634000  \n",
       "\n",
       "[497103 rows x 8 columns]"
      ]
     },
     "execution_count": 10,
     "metadata": {},
     "output_type": "execute_result"
    }
   ],
   "source": [
    "uploading_table"
   ]
  },
  {
   "cell_type": "code",
   "execution_count": 11,
   "metadata": {},
   "outputs": [],
   "source": [
    "uploading_table.to_csv(Pathes.path_processed + 'События_за_период_01.01.2024-30.04.2024____uploading_table.csv', index=False)"
   ]
  }
 ],
 "metadata": {
  "kernelspec": {
   "display_name": "venv",
   "language": "python",
   "name": "python3"
  },
  "language_info": {
   "codemirror_mode": {
    "name": "ipython",
    "version": 3
   },
   "file_extension": ".py",
   "mimetype": "text/x-python",
   "name": "python",
   "nbconvert_exporter": "python",
   "pygments_lexer": "ipython3",
   "version": "3.12.3"
  }
 },
 "nbformat": 4,
 "nbformat_minor": 2
}
