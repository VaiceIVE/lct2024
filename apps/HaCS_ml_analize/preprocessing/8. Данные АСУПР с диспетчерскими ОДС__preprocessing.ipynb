{
 "cells": [
  {
   "cell_type": "markdown",
   "metadata": {},
   "source": [
    "# **Imports**"
   ]
  },
  {
   "cell_type": "code",
   "execution_count": 1,
   "metadata": {},
   "outputs": [],
   "source": [
    "import pandas as pd\n",
    "from openpyxl import load_workbook\n",
    "from dataclasses import dataclass\n",
    "import matplotlib.pyplot as plt"
   ]
  },
  {
   "cell_type": "markdown",
   "metadata": {},
   "source": [
    "# **Functions**"
   ]
  },
  {
   "cell_type": "code",
   "execution_count": 2,
   "metadata": {},
   "outputs": [],
   "source": [
    "def get_sheetnames_xlsx(filepath):\n",
    "    wb = load_workbook(filepath, read_only=True, keep_links=False)\n",
    "    return wb.sheetnames"
   ]
  },
  {
   "cell_type": "markdown",
   "metadata": {},
   "source": [
    "# **Constants**"
   ]
  },
  {
   "cell_type": "code",
   "execution_count": 3,
   "metadata": {},
   "outputs": [],
   "source": [
    "@dataclass(frozen=True)\n",
    "class Pathes:\n",
    "    path: str = '../main_datasets/10. ДЖКХ + ДИТ/8. Данные АСУПР с диспетчерскими ОДС.xlsx'\n",
    "    path_processed: str = '../main_datasets/processed_datasets/'"
   ]
  },
  {
   "cell_type": "markdown",
   "metadata": {},
   "source": [
    "# **Load dataset**"
   ]
  },
  {
   "cell_type": "code",
   "execution_count": 4,
   "metadata": {},
   "outputs": [
    {
     "data": {
      "text/plain": [
       "['Связь ЦТП - Потребитель -ОДС', 'Адреса,телефоны ОДС']"
      ]
     },
     "execution_count": 4,
     "metadata": {},
     "output_type": "execute_result"
    }
   ],
   "source": [
    "sheets_list = get_sheetnames_xlsx(Pathes.path)\n",
    "sheets_list"
   ]
  },
  {
   "cell_type": "markdown",
   "metadata": {},
   "source": [
    "## Связь ЦТП - Потребитель -ОДС"
   ]
  },
  {
   "cell_type": "code",
   "execution_count": 5,
   "metadata": {},
   "outputs": [],
   "source": [
    "table = pd.read_excel(Pathes.path, engine='openpyxl', sheet_name=sheets_list[0])"
   ]
  },
  {
   "cell_type": "code",
   "execution_count": 6,
   "metadata": {},
   "outputs": [
    {
     "data": {
      "text/html": [
       "<div>\n",
       "<style scoped>\n",
       "    .dataframe tbody tr th:only-of-type {\n",
       "        vertical-align: middle;\n",
       "    }\n",
       "\n",
       "    .dataframe tbody tr th {\n",
       "        vertical-align: top;\n",
       "    }\n",
       "\n",
       "    .dataframe thead th {\n",
       "        text-align: right;\n",
       "    }\n",
       "</style>\n",
       "<table border=\"1\" class=\"dataframe\">\n",
       "  <thead>\n",
       "    <tr style=\"text-align: right;\">\n",
       "      <th></th>\n",
       "      <th>ID УУ</th>\n",
       "      <th>Адрес</th>\n",
       "      <th>Полный адрес</th>\n",
       "      <th>Округ</th>\n",
       "      <th>UNOM</th>\n",
       "      <th>Группа</th>\n",
       "      <th>№ ОДС</th>\n",
       "      <th>Адрес ОДС</th>\n",
       "      <th>Потребитель (или УК)</th>\n",
       "      <th>ЦТП</th>\n",
       "    </tr>\n",
       "  </thead>\n",
       "  <tbody>\n",
       "    <tr>\n",
       "      <th>0</th>\n",
       "      <td>785480981</td>\n",
       "      <td>10-я Парковая ул., д. 15</td>\n",
       "      <td>город Москва, 10-я Парковая улица, дом 15</td>\n",
       "      <td>ВАО</td>\n",
       "      <td>18777</td>\n",
       "      <td>МКД</td>\n",
       "      <td>ОДС №27-Измайлово</td>\n",
       "      <td>город Москва, 7-я Парковая улица, дом 15, корп...</td>\n",
       "      <td>ГБУ \"ЖИЛИЩНИК РАЙОНА ИЗМАЙЛОВО\"</td>\n",
       "      <td>04-05-0604/185</td>\n",
       "    </tr>\n",
       "    <tr>\n",
       "      <th>1</th>\n",
       "      <td>785481133</td>\n",
       "      <td>10-я Парковая ул., д. 17</td>\n",
       "      <td>город Москва, 10-я Парковая улица, дом 17</td>\n",
       "      <td>ВАО</td>\n",
       "      <td>18778</td>\n",
       "      <td>МКД</td>\n",
       "      <td>ОДС №27-Измайлово</td>\n",
       "      <td>город Москва, 7-я Парковая улица, дом 15, корп...</td>\n",
       "      <td>ГБУ \"ЖИЛИЩНИК РАЙОНА ИЗМАЙЛОВО\"</td>\n",
       "      <td>04-05-0604/185</td>\n",
       "    </tr>\n",
       "    <tr>\n",
       "      <th>2</th>\n",
       "      <td>1881452</td>\n",
       "      <td>10-я Парковая ул., д. 18А</td>\n",
       "      <td>город Москва, 10-я Парковая улица, дом 18А</td>\n",
       "      <td>ВАО</td>\n",
       "      <td>2105327</td>\n",
       "      <td>Бюджет</td>\n",
       "      <td>NaN</td>\n",
       "      <td>NaN</td>\n",
       "      <td>ГКУ ДИРЕКЦИЯ ДОНМ</td>\n",
       "      <td>04-05-0604/124</td>\n",
       "    </tr>\n",
       "    <tr>\n",
       "      <th>3</th>\n",
       "      <td>785481250</td>\n",
       "      <td>10-я Парковая ул., д. 4</td>\n",
       "      <td>город Москва, 10-я Парковая улица, дом 4</td>\n",
       "      <td>ВАО</td>\n",
       "      <td>18773</td>\n",
       "      <td>МКД</td>\n",
       "      <td>ОДС №57-Измайлово</td>\n",
       "      <td>город Москва, 9-я Парковая улица, дом 27</td>\n",
       "      <td>ГБУ \"ЖИЛИЩНИК РАЙОНА ИЗМАЙЛОВО\"</td>\n",
       "      <td>04-05-0604/064</td>\n",
       "    </tr>\n",
       "    <tr>\n",
       "      <th>4</th>\n",
       "      <td>785481200</td>\n",
       "      <td>10-я Парковая ул., д. 6</td>\n",
       "      <td>город Москва, 10-я Парковая улица, дом 6</td>\n",
       "      <td>ВАО</td>\n",
       "      <td>18775</td>\n",
       "      <td>МКД</td>\n",
       "      <td>ОДС №57-Измайлово</td>\n",
       "      <td>город Москва, 9-я Парковая улица, дом 27</td>\n",
       "      <td>ГБУ \"ЖИЛИЩНИК РАЙОНА ИЗМАЙЛОВО\"</td>\n",
       "      <td>04-05-0604/064</td>\n",
       "    </tr>\n",
       "  </tbody>\n",
       "</table>\n",
       "</div>"
      ],
      "text/plain": [
       "       ID УУ                      Адрес  \\\n",
       "0  785480981   10-я Парковая ул., д. 15   \n",
       "1  785481133   10-я Парковая ул., д. 17   \n",
       "2    1881452  10-я Парковая ул., д. 18А   \n",
       "3  785481250    10-я Парковая ул., д. 4   \n",
       "4  785481200    10-я Парковая ул., д. 6   \n",
       "\n",
       "                                 Полный адрес Округ     UNOM  Группа  \\\n",
       "0   город Москва, 10-я Парковая улица, дом 15   ВАО    18777     МКД   \n",
       "1   город Москва, 10-я Парковая улица, дом 17   ВАО    18778     МКД   \n",
       "2  город Москва, 10-я Парковая улица, дом 18А   ВАО  2105327  Бюджет   \n",
       "3    город Москва, 10-я Парковая улица, дом 4   ВАО    18773     МКД   \n",
       "4    город Москва, 10-я Парковая улица, дом 6   ВАО    18775     МКД   \n",
       "\n",
       "               № ОДС                                          Адрес ОДС  \\\n",
       "0  ОДС №27-Измайлово  город Москва, 7-я Парковая улица, дом 15, корп...   \n",
       "1  ОДС №27-Измайлово  город Москва, 7-я Парковая улица, дом 15, корп...   \n",
       "2                NaN                                                NaN   \n",
       "3  ОДС №57-Измайлово           город Москва, 9-я Парковая улица, дом 27   \n",
       "4  ОДС №57-Измайлово           город Москва, 9-я Парковая улица, дом 27   \n",
       "\n",
       "              Потребитель (или УК)             ЦТП  \n",
       "0  ГБУ \"ЖИЛИЩНИК РАЙОНА ИЗМАЙЛОВО\"  04-05-0604/185  \n",
       "1  ГБУ \"ЖИЛИЩНИК РАЙОНА ИЗМАЙЛОВО\"  04-05-0604/185  \n",
       "2                ГКУ ДИРЕКЦИЯ ДОНМ  04-05-0604/124  \n",
       "3  ГБУ \"ЖИЛИЩНИК РАЙОНА ИЗМАЙЛОВО\"  04-05-0604/064  \n",
       "4  ГБУ \"ЖИЛИЩНИК РАЙОНА ИЗМАЙЛОВО\"  04-05-0604/064  "
      ]
     },
     "execution_count": 6,
     "metadata": {},
     "output_type": "execute_result"
    }
   ],
   "source": [
    "table.head()"
   ]
  },
  {
   "cell_type": "code",
   "execution_count": 7,
   "metadata": {},
   "outputs": [],
   "source": [
    "table.to_csv(Pathes.path_processed + '8. Данные АСУПР с диспетчерскими ОДС____Связь ЦТП-Потребитель-ОДС.csv', index=False)"
   ]
  },
  {
   "cell_type": "markdown",
   "metadata": {},
   "source": [
    "## Адреса,телефоны ОДС"
   ]
  },
  {
   "cell_type": "code",
   "execution_count": 8,
   "metadata": {},
   "outputs": [],
   "source": [
    "table = pd.read_excel(Pathes.path, engine='openpyxl', sheet_name=sheets_list[1])"
   ]
  },
  {
   "cell_type": "code",
   "execution_count": 9,
   "metadata": {},
   "outputs": [
    {
     "data": {
      "text/html": [
       "<div>\n",
       "<style scoped>\n",
       "    .dataframe tbody tr th:only-of-type {\n",
       "        vertical-align: middle;\n",
       "    }\n",
       "\n",
       "    .dataframe tbody tr th {\n",
       "        vertical-align: top;\n",
       "    }\n",
       "\n",
       "    .dataframe thead th {\n",
       "        text-align: right;\n",
       "    }\n",
       "</style>\n",
       "<table border=\"1\" class=\"dataframe\">\n",
       "  <thead>\n",
       "    <tr style=\"text-align: right;\">\n",
       "      <th></th>\n",
       "      <th>ID ODS</th>\n",
       "      <th>NAME</th>\n",
       "      <th>ADDRESS</th>\n",
       "      <th>PHONE_NUMBER</th>\n",
       "    </tr>\n",
       "  </thead>\n",
       "  <tbody>\n",
       "    <tr>\n",
       "      <th>0</th>\n",
       "      <td>143494668</td>\n",
       "      <td>ОДС №13-Богородское</td>\n",
       "      <td>город Москва, Открытое шоссе, дом 6, корпус 2</td>\n",
       "      <td>8 (495) 539-53-53</td>\n",
       "    </tr>\n",
       "    <tr>\n",
       "      <th>1</th>\n",
       "      <td>143494672</td>\n",
       "      <td>ОДС №13-Новогиреево</td>\n",
       "      <td>город Москва, Союзный проспект, дом 20, корпус 1</td>\n",
       "      <td>8 (495) 539-53-53</td>\n",
       "    </tr>\n",
       "    <tr>\n",
       "      <th>2</th>\n",
       "      <td>143494674</td>\n",
       "      <td>ОДС №13-Северное Измайлово</td>\n",
       "      <td>город Москва, Щёлковское шоссе, дом 44, корпус 4</td>\n",
       "      <td>8 (495) 539-53-53</td>\n",
       "    </tr>\n",
       "    <tr>\n",
       "      <th>3</th>\n",
       "      <td>143494693</td>\n",
       "      <td>ОДС №14-Метрогородок</td>\n",
       "      <td>город Москва, улица Николая Химушина, дом 13, ...</td>\n",
       "      <td>8 (495) 539-53-53</td>\n",
       "    </tr>\n",
       "    <tr>\n",
       "      <th>4</th>\n",
       "      <td>143494695</td>\n",
       "      <td>ОДС №14-Новогиреево</td>\n",
       "      <td>город Москва, Союзный проспект, дом 6, корпус 3</td>\n",
       "      <td>8 (495) 539-53-53</td>\n",
       "    </tr>\n",
       "  </tbody>\n",
       "</table>\n",
       "</div>"
      ],
      "text/plain": [
       "      ID ODS                        NAME  \\\n",
       "0  143494668         ОДС №13-Богородское   \n",
       "1  143494672         ОДС №13-Новогиреево   \n",
       "2  143494674  ОДС №13-Северное Измайлово   \n",
       "3  143494693        ОДС №14-Метрогородок   \n",
       "4  143494695         ОДС №14-Новогиреево   \n",
       "\n",
       "                                             ADDRESS       PHONE_NUMBER  \n",
       "0      город Москва, Открытое шоссе, дом 6, корпус 2  8 (495) 539-53-53  \n",
       "1   город Москва, Союзный проспект, дом 20, корпус 1  8 (495) 539-53-53  \n",
       "2   город Москва, Щёлковское шоссе, дом 44, корпус 4  8 (495) 539-53-53  \n",
       "3  город Москва, улица Николая Химушина, дом 13, ...  8 (495) 539-53-53  \n",
       "4    город Москва, Союзный проспект, дом 6, корпус 3  8 (495) 539-53-53  "
      ]
     },
     "execution_count": 9,
     "metadata": {},
     "output_type": "execute_result"
    }
   ],
   "source": [
    "table.head()"
   ]
  },
  {
   "cell_type": "code",
   "execution_count": 10,
   "metadata": {},
   "outputs": [],
   "source": [
    "table.to_csv(Pathes.path_processed + '8. Данные АСУПР с диспетчерскими ОДС____Адреса,телефоны ОДС.csv', index=False)"
   ]
  }
 ],
 "metadata": {
  "kernelspec": {
   "display_name": "venv",
   "language": "python",
   "name": "python3"
  },
  "language_info": {
   "codemirror_mode": {
    "name": "ipython",
    "version": 3
   },
   "file_extension": ".py",
   "mimetype": "text/x-python",
   "name": "python",
   "nbconvert_exporter": "python",
   "pygments_lexer": "ipython3",
   "version": "3.12.3"
  }
 },
 "nbformat": 4,
 "nbformat_minor": 2
}
