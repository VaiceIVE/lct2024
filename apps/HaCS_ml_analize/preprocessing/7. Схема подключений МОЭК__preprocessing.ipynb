{
 "cells": [
  {
   "cell_type": "markdown",
   "metadata": {},
   "source": [
    "# **Imports**"
   ]
  },
  {
   "cell_type": "code",
   "execution_count": 1,
   "metadata": {},
   "outputs": [],
   "source": [
    "import pandas as pd\n",
    "from openpyxl import load_workbook\n",
    "from dataclasses import dataclass\n",
    "import matplotlib.pyplot as plt"
   ]
  },
  {
   "cell_type": "markdown",
   "metadata": {},
   "source": [
    "# **Functions**"
   ]
  },
  {
   "cell_type": "code",
   "execution_count": 2,
   "metadata": {},
   "outputs": [],
   "source": [
    "def get_sheetnames_xlsx(filepath):\n",
    "    wb = load_workbook(filepath, read_only=True, keep_links=False)\n",
    "    return wb.sheetnames"
   ]
  },
  {
   "cell_type": "markdown",
   "metadata": {},
   "source": [
    "# **Constants**"
   ]
  },
  {
   "cell_type": "code",
   "execution_count": 3,
   "metadata": {},
   "outputs": [],
   "source": [
    "@dataclass(frozen=True)\n",
    "class Pathes:\n",
    "    path: str = '../main_datasets/10. ДЖКХ + ДИТ/7. Схема подключений МОЭК.xlsx'\n",
    "    path_processed: str = '../main_datasets/processed_datasets/'"
   ]
  },
  {
   "cell_type": "markdown",
   "metadata": {},
   "source": [
    "# **Load dataset**"
   ]
  },
  {
   "cell_type": "code",
   "execution_count": 4,
   "metadata": {},
   "outputs": [
    {
     "data": {
      "text/plain": [
       "['Лист1']"
      ]
     },
     "execution_count": 4,
     "metadata": {},
     "output_type": "execute_result"
    }
   ],
   "source": [
    "sheets_list = get_sheetnames_xlsx(Pathes.path)\n",
    "sheets_list"
   ]
  },
  {
   "cell_type": "code",
   "execution_count": 5,
   "metadata": {},
   "outputs": [],
   "source": [
    "table = pd.read_excel(Pathes.path, engine='openpyxl', sheet_name=sheets_list[0])"
   ]
  },
  {
   "cell_type": "code",
   "execution_count": 6,
   "metadata": {},
   "outputs": [
    {
     "data": {
      "text/html": [
       "<div>\n",
       "<style scoped>\n",
       "    .dataframe tbody tr th:only-of-type {\n",
       "        vertical-align: middle;\n",
       "    }\n",
       "\n",
       "    .dataframe tbody tr th {\n",
       "        vertical-align: top;\n",
       "    }\n",
       "\n",
       "    .dataframe thead th {\n",
       "        text-align: right;\n",
       "    }\n",
       "</style>\n",
       "<table border=\"1\" class=\"dataframe\">\n",
       "  <thead>\n",
       "    <tr style=\"text-align: right;\">\n",
       "      <th></th>\n",
       "      <th>№ п/п</th>\n",
       "      <th>Номер ТП</th>\n",
       "      <th>Адрес ТП</th>\n",
       "      <th>Вид ТП</th>\n",
       "      <th>Тип по размещению</th>\n",
       "      <th>Источник теплоснабжения</th>\n",
       "      <th>Административный округ (ТП)</th>\n",
       "      <th>Муниципальный район</th>\n",
       "      <th>Дата ввода в эксплуатацию</th>\n",
       "      <th>Балансодержатель</th>\n",
       "      <th>Адрес строения</th>\n",
       "      <th>Тепловая нагрузка ГВС ср.</th>\n",
       "      <th>Тепловая нагрузка ГВС факт.</th>\n",
       "      <th>Тепловая нагрузка отопления строения</th>\n",
       "      <th>Тепловая нагрузка вентиляции строения</th>\n",
       "      <th>Диспетчеризация</th>\n",
       "    </tr>\n",
       "  </thead>\n",
       "  <tbody>\n",
       "    <tr>\n",
       "      <th>0</th>\n",
       "      <td>1</td>\n",
       "      <td>04-06-0601/010</td>\n",
       "      <td>Байкальская ул., д.43, стр.1</td>\n",
       "      <td>ЦТП</td>\n",
       "      <td>Отдельно стоящий</td>\n",
       "      <td>ТЭЦ №23</td>\n",
       "      <td>Восточный</td>\n",
       "      <td>район Гольяново</td>\n",
       "      <td>1966-01-01</td>\n",
       "      <td>ПАО «МОЭК»</td>\n",
       "      <td>Байкальская ул., д.37</td>\n",
       "      <td>0.14420</td>\n",
       "      <td>0.347400</td>\n",
       "      <td>0.1678</td>\n",
       "      <td>0.119</td>\n",
       "      <td>да</td>\n",
       "    </tr>\n",
       "    <tr>\n",
       "      <th>1</th>\n",
       "      <td>2</td>\n",
       "      <td>04-06-0601/010</td>\n",
       "      <td>Байкальская ул., д.43, стр.1</td>\n",
       "      <td>ЦТП</td>\n",
       "      <td>Отдельно стоящий</td>\n",
       "      <td>ТЭЦ №23</td>\n",
       "      <td>Восточный</td>\n",
       "      <td>район Гольяново</td>\n",
       "      <td>1966-01-01</td>\n",
       "      <td>ПАО «МОЭК»</td>\n",
       "      <td>Алтайская ул., д.18А</td>\n",
       "      <td>0.04000</td>\n",
       "      <td>0.140000</td>\n",
       "      <td>0.2100</td>\n",
       "      <td>0.000</td>\n",
       "      <td>да</td>\n",
       "    </tr>\n",
       "    <tr>\n",
       "      <th>2</th>\n",
       "      <td>3</td>\n",
       "      <td>04-06-0601/010</td>\n",
       "      <td>Байкальская ул., д.43, стр.1</td>\n",
       "      <td>ЦТП</td>\n",
       "      <td>Отдельно стоящий</td>\n",
       "      <td>ТЭЦ №23</td>\n",
       "      <td>Восточный</td>\n",
       "      <td>район Гольяново</td>\n",
       "      <td>1966-01-01</td>\n",
       "      <td>ПАО «МОЭК»</td>\n",
       "      <td>Байкальская ул., д.41, корп.3</td>\n",
       "      <td>0.17000</td>\n",
       "      <td>0.376562</td>\n",
       "      <td>0.3790</td>\n",
       "      <td>0.000</td>\n",
       "      <td>да</td>\n",
       "    </tr>\n",
       "    <tr>\n",
       "      <th>3</th>\n",
       "      <td>4</td>\n",
       "      <td>04-06-0601/010</td>\n",
       "      <td>Байкальская ул., д.43, стр.1</td>\n",
       "      <td>ЦТП</td>\n",
       "      <td>Отдельно стоящий</td>\n",
       "      <td>ТЭЦ №23</td>\n",
       "      <td>Восточный</td>\n",
       "      <td>район Гольяново</td>\n",
       "      <td>1966-01-01</td>\n",
       "      <td>ПАО «МОЭК»</td>\n",
       "      <td>Байкальская ул., д.41, корп.4</td>\n",
       "      <td>0.09000</td>\n",
       "      <td>0.198000</td>\n",
       "      <td>0.2070</td>\n",
       "      <td>0.000</td>\n",
       "      <td>да</td>\n",
       "    </tr>\n",
       "    <tr>\n",
       "      <th>4</th>\n",
       "      <td>5</td>\n",
       "      <td>04-06-0601/010</td>\n",
       "      <td>Байкальская ул., д.43, стр.1</td>\n",
       "      <td>ЦТП</td>\n",
       "      <td>Отдельно стоящий</td>\n",
       "      <td>ТЭЦ №23</td>\n",
       "      <td>Восточный</td>\n",
       "      <td>район Гольяново</td>\n",
       "      <td>1966-01-01</td>\n",
       "      <td>ПАО «МОЭК»</td>\n",
       "      <td>Байкальская ул., д.39</td>\n",
       "      <td>0.13912</td>\n",
       "      <td>0.333364</td>\n",
       "      <td>0.2854</td>\n",
       "      <td>0.000</td>\n",
       "      <td>да</td>\n",
       "    </tr>\n",
       "  </tbody>\n",
       "</table>\n",
       "</div>"
      ],
      "text/plain": [
       "   № п/п        Номер ТП                      Адрес ТП Вид ТП  \\\n",
       "0      1  04-06-0601/010  Байкальская ул., д.43, стр.1    ЦТП   \n",
       "1      2  04-06-0601/010  Байкальская ул., д.43, стр.1    ЦТП   \n",
       "2      3  04-06-0601/010  Байкальская ул., д.43, стр.1    ЦТП   \n",
       "3      4  04-06-0601/010  Байкальская ул., д.43, стр.1    ЦТП   \n",
       "4      5  04-06-0601/010  Байкальская ул., д.43, стр.1    ЦТП   \n",
       "\n",
       "  Тип по размещению Источник теплоснабжения Административный округ (ТП)  \\\n",
       "0  Отдельно стоящий                 ТЭЦ №23                   Восточный   \n",
       "1  Отдельно стоящий                 ТЭЦ №23                   Восточный   \n",
       "2  Отдельно стоящий                 ТЭЦ №23                   Восточный   \n",
       "3  Отдельно стоящий                 ТЭЦ №23                   Восточный   \n",
       "4  Отдельно стоящий                 ТЭЦ №23                   Восточный   \n",
       "\n",
       "  Муниципальный район Дата ввода в эксплуатацию Балансодержатель  \\\n",
       "0     район Гольяново                1966-01-01       ПАО «МОЭК»   \n",
       "1     район Гольяново                1966-01-01       ПАО «МОЭК»   \n",
       "2     район Гольяново                1966-01-01       ПАО «МОЭК»   \n",
       "3     район Гольяново                1966-01-01       ПАО «МОЭК»   \n",
       "4     район Гольяново                1966-01-01       ПАО «МОЭК»   \n",
       "\n",
       "                  Адрес строения  Тепловая нагрузка ГВС ср.  \\\n",
       "0          Байкальская ул., д.37                    0.14420   \n",
       "1           Алтайская ул., д.18А                    0.04000   \n",
       "2  Байкальская ул., д.41, корп.3                    0.17000   \n",
       "3  Байкальская ул., д.41, корп.4                    0.09000   \n",
       "4          Байкальская ул., д.39                    0.13912   \n",
       "\n",
       "   Тепловая нагрузка ГВС факт.  Тепловая нагрузка отопления строения  \\\n",
       "0                     0.347400                                0.1678   \n",
       "1                     0.140000                                0.2100   \n",
       "2                     0.376562                                0.3790   \n",
       "3                     0.198000                                0.2070   \n",
       "4                     0.333364                                0.2854   \n",
       "\n",
       "   Тепловая нагрузка вентиляции строения Диспетчеризация  \n",
       "0                                  0.119              да  \n",
       "1                                  0.000              да  \n",
       "2                                  0.000              да  \n",
       "3                                  0.000              да  \n",
       "4                                  0.000              да  "
      ]
     },
     "execution_count": 6,
     "metadata": {},
     "output_type": "execute_result"
    }
   ],
   "source": [
    "table.head()"
   ]
  },
  {
   "cell_type": "code",
   "execution_count": 7,
   "metadata": {},
   "outputs": [],
   "source": [
    "table.to_csv(Pathes.path_processed + '7. Схема подключений МОЭК.csv', index=False)"
   ]
  }
 ],
 "metadata": {
  "kernelspec": {
   "display_name": "venv",
   "language": "python",
   "name": "python3"
  },
  "language_info": {
   "codemirror_mode": {
    "name": "ipython",
    "version": 3
   },
   "file_extension": ".py",
   "mimetype": "text/x-python",
   "name": "python",
   "nbconvert_exporter": "python",
   "pygments_lexer": "ipython3",
   "version": "3.12.3"
  }
 },
 "nbformat": 4,
 "nbformat_minor": 2
}
