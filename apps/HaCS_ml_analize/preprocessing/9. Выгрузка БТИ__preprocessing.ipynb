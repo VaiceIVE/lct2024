{
 "cells": [
  {
   "cell_type": "markdown",
   "metadata": {},
   "source": [
    "# **Imports**"
   ]
  },
  {
   "cell_type": "code",
   "execution_count": 1,
   "metadata": {},
   "outputs": [],
   "source": [
    "import pandas as pd\n",
    "from openpyxl import load_workbook\n",
    "from dataclasses import dataclass\n",
    "import matplotlib.pyplot as plt"
   ]
  },
  {
   "cell_type": "markdown",
   "metadata": {},
   "source": [
    "# **Functions**"
   ]
  },
  {
   "cell_type": "code",
   "execution_count": 2,
   "metadata": {},
   "outputs": [],
   "source": [
    "def get_sheetnames_xlsx(filepath):\n",
    "    wb = load_workbook(filepath, read_only=True, keep_links=False)\n",
    "    return wb.sheetnames"
   ]
  },
  {
   "cell_type": "markdown",
   "metadata": {},
   "source": [
    "# **Constants**"
   ]
  },
  {
   "cell_type": "code",
   "execution_count": 3,
   "metadata": {},
   "outputs": [],
   "source": [
    "@dataclass(frozen=True)\n",
    "class Pathes:\n",
    "    path: str = '../main_datasets/10. ДЖКХ + ДИТ/9. Выгрузка БТИ.xlsx'\n",
    "    path_processed: str = '../main_datasets/processed_datasets/'"
   ]
  },
  {
   "cell_type": "markdown",
   "metadata": {},
   "source": [
    "# **Load dataset**"
   ]
  },
  {
   "cell_type": "code",
   "execution_count": 4,
   "metadata": {},
   "outputs": [
    {
     "data": {
      "text/plain": [
       "['Лист2']"
      ]
     },
     "execution_count": 4,
     "metadata": {},
     "output_type": "execute_result"
    }
   ],
   "source": [
    "sheets_list = get_sheetnames_xlsx(Pathes.path)\n",
    "sheets_list"
   ]
  },
  {
   "cell_type": "code",
   "execution_count": 20,
   "metadata": {},
   "outputs": [],
   "source": [
    "table = pd.read_excel(Pathes.path, engine='openpyxl', sheet_name=sheets_list[0])"
   ]
  },
  {
   "cell_type": "code",
   "execution_count": 21,
   "metadata": {},
   "outputs": [],
   "source": [
    "c = []\n",
    "for i, j in zip(table.columns, table.iloc[0].values):\n",
    "    k = i\n",
    "    if pd.notna(j):\n",
    "        k = j\n",
    "    c.append(k)\n",
    "\n",
    "table = table.iloc[1:]\n",
    "table.columns = c"
   ]
  },
  {
   "cell_type": "code",
   "execution_count": 22,
   "metadata": {},
   "outputs": [
    {
     "data": {
      "text/html": [
       "<div>\n",
       "<style scoped>\n",
       "    .dataframe tbody tr th:only-of-type {\n",
       "        vertical-align: middle;\n",
       "    }\n",
       "\n",
       "    .dataframe tbody tr th {\n",
       "        vertical-align: top;\n",
       "    }\n",
       "\n",
       "    .dataframe thead th {\n",
       "        text-align: right;\n",
       "    }\n",
       "</style>\n",
       "<table border=\"1\" class=\"dataframe\">\n",
       "  <thead>\n",
       "    <tr style=\"text-align: right;\">\n",
       "      <th></th>\n",
       "      <th>№ п/п</th>\n",
       "      <th>Город</th>\n",
       "      <th>Административный округ</th>\n",
       "      <th>Муниципальный округ</th>\n",
       "      <th>Населенный пункт</th>\n",
       "      <th>Улица</th>\n",
       "      <th>Тип номера дом</th>\n",
       "      <th>Номер дома</th>\n",
       "      <th>Номер корпуса</th>\n",
       "      <th>Тип номера строения/сооружения</th>\n",
       "      <th>Номер строения</th>\n",
       "      <th>UNOM</th>\n",
       "      <th>UNAD</th>\n",
       "      <th>Материал</th>\n",
       "      <th>Назначение</th>\n",
       "      <th>Класс</th>\n",
       "      <th>Тип</th>\n",
       "      <th>Этажность</th>\n",
       "      <th>Признак</th>\n",
       "      <th>Общая площадь</th>\n",
       "    </tr>\n",
       "  </thead>\n",
       "  <tbody>\n",
       "    <tr>\n",
       "      <th>1</th>\n",
       "      <td>15.0</td>\n",
       "      <td>город Москва</td>\n",
       "      <td>Восточный административный округ</td>\n",
       "      <td>муниципальный округ Косино-Ухтомский</td>\n",
       "      <td>NaN</td>\n",
       "      <td>Златоустовская улица</td>\n",
       "      <td>дом</td>\n",
       "      <td>21</td>\n",
       "      <td>NaN</td>\n",
       "      <td>NaN</td>\n",
       "      <td>NaN</td>\n",
       "      <td>8450.0</td>\n",
       "      <td>1.0</td>\n",
       "      <td>NaN</td>\n",
       "      <td>NaN</td>\n",
       "      <td>жилые</td>\n",
       "      <td>Здание</td>\n",
       "      <td>NaN</td>\n",
       "      <td>NaN</td>\n",
       "      <td>NaN</td>\n",
       "    </tr>\n",
       "    <tr>\n",
       "      <th>2</th>\n",
       "      <td>17.0</td>\n",
       "      <td>город Москва</td>\n",
       "      <td>Восточный административный округ</td>\n",
       "      <td>муниципальный округ Косино-Ухтомский</td>\n",
       "      <td>NaN</td>\n",
       "      <td>Большая Косинская улица</td>\n",
       "      <td>дом</td>\n",
       "      <td>34В</td>\n",
       "      <td>NaN</td>\n",
       "      <td>NaN</td>\n",
       "      <td>NaN</td>\n",
       "      <td>51067.0</td>\n",
       "      <td>1.0</td>\n",
       "      <td>деревянные</td>\n",
       "      <td>индивидуальное жилое строение</td>\n",
       "      <td>жилые</td>\n",
       "      <td>Здание</td>\n",
       "      <td>1</td>\n",
       "      <td>NaN</td>\n",
       "      <td>90,1</td>\n",
       "    </tr>\n",
       "    <tr>\n",
       "      <th>3</th>\n",
       "      <td>18.0</td>\n",
       "      <td>город Москва</td>\n",
       "      <td>Восточный административный округ</td>\n",
       "      <td>муниципальный округ Ивановское</td>\n",
       "      <td>NaN</td>\n",
       "      <td>Зелёный проспект</td>\n",
       "      <td>дом</td>\n",
       "      <td>101</td>\n",
       "      <td>NaN</td>\n",
       "      <td>NaN</td>\n",
       "      <td>NaN</td>\n",
       "      <td>8425.0</td>\n",
       "      <td>1.0</td>\n",
       "      <td>NaN</td>\n",
       "      <td>NaN</td>\n",
       "      <td>жилые</td>\n",
       "      <td>Здание</td>\n",
       "      <td>NaN</td>\n",
       "      <td>NaN</td>\n",
       "      <td>NaN</td>\n",
       "    </tr>\n",
       "    <tr>\n",
       "      <th>4</th>\n",
       "      <td>19.0</td>\n",
       "      <td>город Москва</td>\n",
       "      <td>Восточный административный округ</td>\n",
       "      <td>муниципальный округ Ивановское</td>\n",
       "      <td>NaN</td>\n",
       "      <td>Зелёный проспект</td>\n",
       "      <td>дом</td>\n",
       "      <td>103</td>\n",
       "      <td>NaN</td>\n",
       "      <td>NaN</td>\n",
       "      <td>NaN</td>\n",
       "      <td>8426.0</td>\n",
       "      <td>1.0</td>\n",
       "      <td>NaN</td>\n",
       "      <td>NaN</td>\n",
       "      <td>жилые</td>\n",
       "      <td>Здание</td>\n",
       "      <td>NaN</td>\n",
       "      <td>NaN</td>\n",
       "      <td>NaN</td>\n",
       "    </tr>\n",
       "    <tr>\n",
       "      <th>5</th>\n",
       "      <td>53.0</td>\n",
       "      <td>город Москва</td>\n",
       "      <td>Восточный административный округ</td>\n",
       "      <td>муниципальный округ Косино-Ухтомский</td>\n",
       "      <td>NaN</td>\n",
       "      <td>улица Чёрное Озеро</td>\n",
       "      <td>дом</td>\n",
       "      <td>7</td>\n",
       "      <td>1</td>\n",
       "      <td>NaN</td>\n",
       "      <td>NaN</td>\n",
       "      <td>28680.0</td>\n",
       "      <td>1.0</td>\n",
       "      <td>NaN</td>\n",
       "      <td>NaN</td>\n",
       "      <td>жилые</td>\n",
       "      <td>Здание</td>\n",
       "      <td>NaN</td>\n",
       "      <td>NaN</td>\n",
       "      <td>NaN</td>\n",
       "    </tr>\n",
       "  </tbody>\n",
       "</table>\n",
       "</div>"
      ],
      "text/plain": [
       "   № п/п         Город            Административный округ  \\\n",
       "1   15.0  город Москва  Восточный административный округ   \n",
       "2   17.0  город Москва  Восточный административный округ   \n",
       "3   18.0  город Москва  Восточный административный округ   \n",
       "4   19.0  город Москва  Восточный административный округ   \n",
       "5   53.0  город Москва  Восточный административный округ   \n",
       "\n",
       "                    Муниципальный округ Населенный пункт  \\\n",
       "1  муниципальный округ Косино-Ухтомский              NaN   \n",
       "2  муниципальный округ Косино-Ухтомский              NaN   \n",
       "3        муниципальный округ Ивановское              NaN   \n",
       "4        муниципальный округ Ивановское              NaN   \n",
       "5  муниципальный округ Косино-Ухтомский              NaN   \n",
       "\n",
       "                     Улица Тип номера дом Номер дома Номер корпуса  \\\n",
       "1     Златоустовская улица            дом         21           NaN   \n",
       "2  Большая Косинская улица            дом        34В           NaN   \n",
       "3         Зелёный проспект            дом        101           NaN   \n",
       "4         Зелёный проспект            дом        103           NaN   \n",
       "5       улица Чёрное Озеро            дом          7             1   \n",
       "\n",
       "  Тип номера строения/сооружения Номер строения     UNOM  UNAD    Материал  \\\n",
       "1                            NaN            NaN   8450.0   1.0         NaN   \n",
       "2                            NaN            NaN  51067.0   1.0  деревянные   \n",
       "3                            NaN            NaN   8425.0   1.0         NaN   \n",
       "4                            NaN            NaN   8426.0   1.0         NaN   \n",
       "5                            NaN            NaN  28680.0   1.0         NaN   \n",
       "\n",
       "                      Назначение  Класс     Тип Этажность Признак  \\\n",
       "1                            NaN  жилые  Здание       NaN     NaN   \n",
       "2  индивидуальное жилое строение  жилые  Здание         1     NaN   \n",
       "3                            NaN  жилые  Здание       NaN     NaN   \n",
       "4                            NaN  жилые  Здание       NaN     NaN   \n",
       "5                            NaN  жилые  Здание       NaN     NaN   \n",
       "\n",
       "  Общая площадь  \n",
       "1           NaN  \n",
       "2          90,1  \n",
       "3           NaN  \n",
       "4           NaN  \n",
       "5           NaN  "
      ]
     },
     "execution_count": 22,
     "metadata": {},
     "output_type": "execute_result"
    }
   ],
   "source": [
    "table.head()"
   ]
  },
  {
   "cell_type": "code",
   "execution_count": 23,
   "metadata": {},
   "outputs": [],
   "source": [
    "table.to_csv(Pathes.path_processed + '9. Выгрузка БТИ.csv', index=False)"
   ]
  }
 ],
 "metadata": {
  "kernelspec": {
   "display_name": "venv",
   "language": "python",
   "name": "python3"
  },
  "language_info": {
   "codemirror_mode": {
    "name": "ipython",
    "version": 3
   },
   "file_extension": ".py",
   "mimetype": "text/x-python",
   "name": "python",
   "nbconvert_exporter": "python",
   "pygments_lexer": "ipython3",
   "version": "3.12.3"
  }
 },
 "nbformat": 4,
 "nbformat_minor": 2
}
