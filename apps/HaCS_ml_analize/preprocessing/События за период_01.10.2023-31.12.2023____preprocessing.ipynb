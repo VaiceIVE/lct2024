{
 "cells": [
  {
   "cell_type": "markdown",
   "metadata": {},
   "source": [
    "# **Imports**"
   ]
  },
  {
   "cell_type": "code",
   "execution_count": 2,
   "metadata": {},
   "outputs": [],
   "source": [
    "import pandas as pd\n",
    "from openpyxl import load_workbook\n",
    "from dataclasses import dataclass\n",
    "import matplotlib.pyplot as plt"
   ]
  },
  {
   "cell_type": "markdown",
   "metadata": {},
   "source": [
    "# **Functions**"
   ]
  },
  {
   "cell_type": "code",
   "execution_count": 3,
   "metadata": {},
   "outputs": [],
   "source": [
    "def get_sheetnames_xlsx(filepath):\n",
    "    wb = load_workbook(filepath, read_only=True, keep_links=False)\n",
    "    return wb.sheetnames"
   ]
  },
  {
   "cell_type": "markdown",
   "metadata": {},
   "source": [
    "# **Constants**"
   ]
  },
  {
   "cell_type": "code",
   "execution_count": 4,
   "metadata": {},
   "outputs": [],
   "source": [
    "@dataclass(frozen=True)\n",
    "class Pathes:\n",
    "    path: str = '../main_datasets/10. ДЖКХ + ДИТ/5. Перечень событий за период 01.10.2023-30.04.2023 (ЦУ КГХ)/События за период_01.10.2023-31.12.2023.xlsx'\n",
    "    path_processed: str = '../main_datasets/processed_datasets/'\n",
    "    path_plots: str = '../plots/События за период_01.01.2024-30.04.2024/'\n",
    "    "
   ]
  },
  {
   "cell_type": "markdown",
   "metadata": {},
   "source": [
    "# **Load dataset**"
   ]
  },
  {
   "cell_type": "code",
   "execution_count": 5,
   "metadata": {},
   "outputs": [
    {
     "data": {
      "text/plain": [
       "['Сводная таблица', 'Выгрузка', 'Query']"
      ]
     },
     "execution_count": 5,
     "metadata": {},
     "output_type": "execute_result"
    }
   ],
   "source": [
    "sheets_list = get_sheetnames_xlsx(Pathes.path)\n",
    "sheets_list"
   ]
  },
  {
   "cell_type": "markdown",
   "metadata": {},
   "source": [
    "## Pivot table"
   ]
  },
  {
   "cell_type": "code",
   "execution_count": 6,
   "metadata": {},
   "outputs": [],
   "source": [
    "pivot_table = pd.read_excel(Pathes.path, engine='openpyxl', sheet_name=sheets_list[0])"
   ]
  },
  {
   "cell_type": "code",
   "execution_count": 7,
   "metadata": {},
   "outputs": [],
   "source": [
    "pivot_table.columns = pivot_table.iloc[1].to_list()\n",
    "pivot_table = pivot_table.iloc[2:]\n"
   ]
  },
  {
   "cell_type": "code",
   "execution_count": 8,
   "metadata": {},
   "outputs": [
    {
     "data": {
      "text/html": [
       "<div>\n",
       "<style scoped>\n",
       "    .dataframe tbody tr th:only-of-type {\n",
       "        vertical-align: middle;\n",
       "    }\n",
       "\n",
       "    .dataframe tbody tr th {\n",
       "        vertical-align: top;\n",
       "    }\n",
       "\n",
       "    .dataframe thead th {\n",
       "        text-align: right;\n",
       "    }\n",
       "</style>\n",
       "<table border=\"1\" class=\"dataframe\">\n",
       "  <thead>\n",
       "    <tr style=\"text-align: right;\">\n",
       "      <th></th>\n",
       "      <th>Названия строк</th>\n",
       "      <th>Количество по полю Источник</th>\n",
       "    </tr>\n",
       "  </thead>\n",
       "  <tbody>\n",
       "    <tr>\n",
       "      <th>2</th>\n",
       "      <td>P1 &lt;= 0</td>\n",
       "      <td>582</td>\n",
       "    </tr>\n",
       "    <tr>\n",
       "      <th>3</th>\n",
       "      <td>P2 &lt;= 0</td>\n",
       "      <td>170</td>\n",
       "    </tr>\n",
       "    <tr>\n",
       "      <th>4</th>\n",
       "      <td>T1 &lt; min</td>\n",
       "      <td>481</td>\n",
       "    </tr>\n",
       "    <tr>\n",
       "      <th>5</th>\n",
       "      <td>T1 &gt; max</td>\n",
       "      <td>490</td>\n",
       "    </tr>\n",
       "    <tr>\n",
       "      <th>6</th>\n",
       "      <td>Протечка труб в подъезде</td>\n",
       "      <td>132</td>\n",
       "    </tr>\n",
       "    <tr>\n",
       "      <th>7</th>\n",
       "      <td>Сильная течь в системе отопления</td>\n",
       "      <td>233</td>\n",
       "    </tr>\n",
       "    <tr>\n",
       "      <th>8</th>\n",
       "      <td>Температура в квартире ниже нормативной</td>\n",
       "      <td>70869</td>\n",
       "    </tr>\n",
       "    <tr>\n",
       "      <th>9</th>\n",
       "      <td>Температура в помещении общего пользования ниж...</td>\n",
       "      <td>277</td>\n",
       "    </tr>\n",
       "    <tr>\n",
       "      <th>10</th>\n",
       "      <td>Течь в системе отопления</td>\n",
       "      <td>230</td>\n",
       "    </tr>\n",
       "    <tr>\n",
       "      <th>11</th>\n",
       "      <td>Общий итог</td>\n",
       "      <td>73464</td>\n",
       "    </tr>\n",
       "  </tbody>\n",
       "</table>\n",
       "</div>"
      ],
      "text/plain": [
       "                                       Названия строк  \\\n",
       "2                                             P1 <= 0   \n",
       "3                                             P2 <= 0   \n",
       "4                                            T1 < min   \n",
       "5                                            T1 > max   \n",
       "6                            Протечка труб в подъезде   \n",
       "7                    Сильная течь в системе отопления   \n",
       "8             Температура в квартире ниже нормативной   \n",
       "9   Температура в помещении общего пользования ниж...   \n",
       "10                           Течь в системе отопления   \n",
       "11                                         Общий итог   \n",
       "\n",
       "   Количество по полю Источник  \n",
       "2                          582  \n",
       "3                          170  \n",
       "4                          481  \n",
       "5                          490  \n",
       "6                          132  \n",
       "7                          233  \n",
       "8                        70869  \n",
       "9                          277  \n",
       "10                         230  \n",
       "11                       73464  "
      ]
     },
     "execution_count": 8,
     "metadata": {},
     "output_type": "execute_result"
    }
   ],
   "source": [
    "pivot_table"
   ]
  },
  {
   "cell_type": "code",
   "execution_count": 9,
   "metadata": {},
   "outputs": [],
   "source": [
    "pivot_table.to_csv(Pathes.path_processed + 'События за период_01.10.2023-31.12.2023____pivot_table.csv', index=False)"
   ]
  },
  {
   "cell_type": "markdown",
   "metadata": {},
   "source": [
    "## Uploading"
   ]
  },
  {
   "cell_type": "code",
   "execution_count": 10,
   "metadata": {},
   "outputs": [],
   "source": [
    "uploading_table = pd.read_excel(Pathes.path, engine='openpyxl', sheet_name=sheets_list[1])"
   ]
  },
  {
   "cell_type": "code",
   "execution_count": 11,
   "metadata": {},
   "outputs": [
    {
     "data": {
      "text/html": [
       "<div>\n",
       "<style scoped>\n",
       "    .dataframe tbody tr th:only-of-type {\n",
       "        vertical-align: middle;\n",
       "    }\n",
       "\n",
       "    .dataframe tbody tr th {\n",
       "        vertical-align: top;\n",
       "    }\n",
       "\n",
       "    .dataframe thead th {\n",
       "        text-align: right;\n",
       "    }\n",
       "</style>\n",
       "<table border=\"1\" class=\"dataframe\">\n",
       "  <thead>\n",
       "    <tr style=\"text-align: right;\">\n",
       "      <th></th>\n",
       "      <th>Наименование</th>\n",
       "      <th>Источник</th>\n",
       "      <th>Дата создания во внешней системе</th>\n",
       "      <th>Дата закрытия</th>\n",
       "      <th>Округ</th>\n",
       "      <th>УНОМ</th>\n",
       "      <th>Адрес</th>\n",
       "      <th>Дата и время завершения события</th>\n",
       "    </tr>\n",
       "  </thead>\n",
       "  <tbody>\n",
       "    <tr>\n",
       "      <th>0</th>\n",
       "      <td>Нет связи с ПУ</td>\n",
       "      <td>ASUPR</td>\n",
       "      <td>2023-12-28 21:41:43.000000</td>\n",
       "      <td>2023-12-28 21:42:59.746000</td>\n",
       "      <td>ВАО</td>\n",
       "      <td>8171.0</td>\n",
       "      <td>внутригородская территория муниципальный округ...</td>\n",
       "      <td>2023-12-29 19:46:07.568000</td>\n",
       "    </tr>\n",
       "    <tr>\n",
       "      <th>1</th>\n",
       "      <td>Температура в квартире ниже нормативной</td>\n",
       "      <td>EDC</td>\n",
       "      <td>2023-10-08 12:26:38.000000</td>\n",
       "      <td>2023-10-08 12:37:31.785000</td>\n",
       "      <td>ВАО</td>\n",
       "      <td>8171.0</td>\n",
       "      <td>внутригородская территория муниципальный округ...</td>\n",
       "      <td>2023-10-08 17:34:56.829000</td>\n",
       "    </tr>\n",
       "    <tr>\n",
       "      <th>2</th>\n",
       "      <td>Температура в квартире ниже нормативной</td>\n",
       "      <td>EDC</td>\n",
       "      <td>2023-10-08 13:22:11.000000</td>\n",
       "      <td>2023-10-08 13:37:44.841000</td>\n",
       "      <td>ВАО</td>\n",
       "      <td>8171.0</td>\n",
       "      <td>внутригородская территория муниципальный округ...</td>\n",
       "      <td>2023-10-08 17:35:06.822000</td>\n",
       "    </tr>\n",
       "    <tr>\n",
       "      <th>3</th>\n",
       "      <td>Низкий уровень сигнала GSM</td>\n",
       "      <td>ASUPR</td>\n",
       "      <td>2023-12-02 08:03:49.000000</td>\n",
       "      <td>2023-12-02 08:04:55.836000</td>\n",
       "      <td>ВАО</td>\n",
       "      <td>8171.0</td>\n",
       "      <td>внутригородская территория муниципальный округ...</td>\n",
       "      <td>2023-12-03 02:32:57.444000</td>\n",
       "    </tr>\n",
       "    <tr>\n",
       "      <th>4</th>\n",
       "      <td>Отсутствуют актуальные мгновенные значения</td>\n",
       "      <td>ASUPR</td>\n",
       "      <td>2023-10-01 06:43:32.000000</td>\n",
       "      <td>2023-10-01 07:31:06.293000</td>\n",
       "      <td>ВАО</td>\n",
       "      <td>8171.0</td>\n",
       "      <td>внутригородская территория муниципальный округ...</td>\n",
       "      <td>NaN</td>\n",
       "    </tr>\n",
       "    <tr>\n",
       "      <th>...</th>\n",
       "      <td>...</td>\n",
       "      <td>...</td>\n",
       "      <td>...</td>\n",
       "      <td>...</td>\n",
       "      <td>...</td>\n",
       "      <td>...</td>\n",
       "      <td>...</td>\n",
       "      <td>...</td>\n",
       "    </tr>\n",
       "    <tr>\n",
       "      <th>419375</th>\n",
       "      <td>Наличие снега, наледи</td>\n",
       "      <td>NG</td>\n",
       "      <td>2023-12-17 11:32:18.000000</td>\n",
       "      <td>2023-12-27 00:24:54.009000</td>\n",
       "      <td>ВАО</td>\n",
       "      <td>240158.0</td>\n",
       "      <td>Байкальская ул. 18 к.2, 18 к.3, 18 к.4</td>\n",
       "      <td>NaN</td>\n",
       "    </tr>\n",
       "    <tr>\n",
       "      <th>419376</th>\n",
       "      <td>Наличие снега, наледи</td>\n",
       "      <td>NG</td>\n",
       "      <td>2023-12-22 15:48:46.000000</td>\n",
       "      <td>2023-12-22 19:14:37.649000</td>\n",
       "      <td>ВАО</td>\n",
       "      <td>240158.0</td>\n",
       "      <td>Байкальская ул. 18 к.2, 18 к.3, 18 к.4</td>\n",
       "      <td>NaN</td>\n",
       "    </tr>\n",
       "    <tr>\n",
       "      <th>419377</th>\n",
       "      <td>Наличие снега, наледи</td>\n",
       "      <td>NG</td>\n",
       "      <td>2023-12-06 12:28:25.000000</td>\n",
       "      <td>2023-12-11 21:23:13.629000</td>\n",
       "      <td>ВАО</td>\n",
       "      <td>240158.0</td>\n",
       "      <td>Байкальская ул. 18 к.2, 18 к.3, 18 к.4</td>\n",
       "      <td>NaN</td>\n",
       "    </tr>\n",
       "    <tr>\n",
       "      <th>419378</th>\n",
       "      <td>Наличие снега, наледи</td>\n",
       "      <td>EDC</td>\n",
       "      <td>2023-12-25 19:43:59.000000</td>\n",
       "      <td>2024-03-25 19:43:59.133000</td>\n",
       "      <td>ВАО</td>\n",
       "      <td>240158.0</td>\n",
       "      <td>Байкальская ул. 18 к.2, 18 к.3, 18 к.4</td>\n",
       "      <td>2023-12-25 22:33:02.635000</td>\n",
       "    </tr>\n",
       "    <tr>\n",
       "      <th>419379</th>\n",
       "      <td>Наличие снега, наледи</td>\n",
       "      <td>NG</td>\n",
       "      <td>2023-11-29 21:12:04.000000</td>\n",
       "      <td>2023-12-04 19:38:27.432000</td>\n",
       "      <td>ВАО</td>\n",
       "      <td>240158.0</td>\n",
       "      <td>Байкальская ул. 18 к.2, 18 к.3, 18 к.4</td>\n",
       "      <td>NaN</td>\n",
       "    </tr>\n",
       "  </tbody>\n",
       "</table>\n",
       "<p>419380 rows × 8 columns</p>\n",
       "</div>"
      ],
      "text/plain": [
       "                                      Наименование Источник  \\\n",
       "0                                   Нет связи с ПУ    ASUPR   \n",
       "1          Температура в квартире ниже нормативной      EDC   \n",
       "2          Температура в квартире ниже нормативной      EDC   \n",
       "3                       Низкий уровень сигнала GSM    ASUPR   \n",
       "4       Отсутствуют актуальные мгновенные значения    ASUPR   \n",
       "...                                            ...      ...   \n",
       "419375                       Наличие снега, наледи       NG   \n",
       "419376                       Наличие снега, наледи       NG   \n",
       "419377                       Наличие снега, наледи       NG   \n",
       "419378                       Наличие снега, наледи      EDC   \n",
       "419379                       Наличие снега, наледи       NG   \n",
       "\n",
       "       Дата создания во внешней системе               Дата закрытия Округ  \\\n",
       "0            2023-12-28 21:41:43.000000  2023-12-28 21:42:59.746000   ВАО   \n",
       "1            2023-10-08 12:26:38.000000  2023-10-08 12:37:31.785000   ВАО   \n",
       "2            2023-10-08 13:22:11.000000  2023-10-08 13:37:44.841000   ВАО   \n",
       "3            2023-12-02 08:03:49.000000  2023-12-02 08:04:55.836000   ВАО   \n",
       "4            2023-10-01 06:43:32.000000  2023-10-01 07:31:06.293000   ВАО   \n",
       "...                                 ...                         ...   ...   \n",
       "419375       2023-12-17 11:32:18.000000  2023-12-27 00:24:54.009000   ВАО   \n",
       "419376       2023-12-22 15:48:46.000000  2023-12-22 19:14:37.649000   ВАО   \n",
       "419377       2023-12-06 12:28:25.000000  2023-12-11 21:23:13.629000   ВАО   \n",
       "419378       2023-12-25 19:43:59.000000  2024-03-25 19:43:59.133000   ВАО   \n",
       "419379       2023-11-29 21:12:04.000000  2023-12-04 19:38:27.432000   ВАО   \n",
       "\n",
       "            УНОМ                                              Адрес  \\\n",
       "0         8171.0  внутригородская территория муниципальный округ...   \n",
       "1         8171.0  внутригородская территория муниципальный округ...   \n",
       "2         8171.0  внутригородская территория муниципальный округ...   \n",
       "3         8171.0  внутригородская территория муниципальный округ...   \n",
       "4         8171.0  внутригородская территория муниципальный округ...   \n",
       "...          ...                                                ...   \n",
       "419375  240158.0             Байкальская ул. 18 к.2, 18 к.3, 18 к.4   \n",
       "419376  240158.0             Байкальская ул. 18 к.2, 18 к.3, 18 к.4   \n",
       "419377  240158.0             Байкальская ул. 18 к.2, 18 к.3, 18 к.4   \n",
       "419378  240158.0             Байкальская ул. 18 к.2, 18 к.3, 18 к.4   \n",
       "419379  240158.0             Байкальская ул. 18 к.2, 18 к.3, 18 к.4   \n",
       "\n",
       "       Дата и время завершения события  \n",
       "0           2023-12-29 19:46:07.568000  \n",
       "1           2023-10-08 17:34:56.829000  \n",
       "2           2023-10-08 17:35:06.822000  \n",
       "3           2023-12-03 02:32:57.444000  \n",
       "4                                  NaN  \n",
       "...                                ...  \n",
       "419375                             NaN  \n",
       "419376                             NaN  \n",
       "419377                             NaN  \n",
       "419378      2023-12-25 22:33:02.635000  \n",
       "419379                             NaN  \n",
       "\n",
       "[419380 rows x 8 columns]"
      ]
     },
     "execution_count": 11,
     "metadata": {},
     "output_type": "execute_result"
    }
   ],
   "source": [
    "uploading_table"
   ]
  },
  {
   "cell_type": "code",
   "execution_count": 12,
   "metadata": {},
   "outputs": [],
   "source": [
    "uploading_table.to_csv(Pathes.path_processed + 'События за период_01.10.2023-31.12.2023.xlsx____uploading_table.csv', index=False)"
   ]
  }
 ],
 "metadata": {
  "kernelspec": {
   "display_name": "venv",
   "language": "python",
   "name": "python3"
  },
  "language_info": {
   "codemirror_mode": {
    "name": "ipython",
    "version": 3
   },
   "file_extension": ".py",
   "mimetype": "text/x-python",
   "name": "python",
   "nbconvert_exporter": "python",
   "pygments_lexer": "ipython3",
   "version": "3.12.3"
  }
 },
 "nbformat": 4,
 "nbformat_minor": 2
}
