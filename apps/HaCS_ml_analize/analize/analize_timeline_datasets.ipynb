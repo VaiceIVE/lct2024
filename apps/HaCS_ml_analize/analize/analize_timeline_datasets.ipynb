{
 "cells": [
  {
   "cell_type": "markdown",
   "metadata": {},
   "source": [
    "# **Imports**"
   ]
  },
  {
   "cell_type": "code",
   "execution_count": 1,
   "metadata": {},
   "outputs": [],
   "source": [
    "import pandas as pd\n",
    "from openpyxl import load_workbook\n",
    "from dataclasses import dataclass\n",
    "import matplotlib.pyplot as plt\n",
    "import numpy as np\n",
    "from datetime import datetime, timedelta\n",
    "from pydantic import BaseModel, ConfigDict\n",
    "from tqdm import tqdm\n"
   ]
  },
  {
   "cell_type": "markdown",
   "metadata": {},
   "source": [
    "# **Constants**"
   ]
  },
  {
   "cell_type": "code",
   "execution_count": 2,
   "metadata": {},
   "outputs": [],
   "source": [
    "@dataclass(frozen=True)\n",
    "class Pathes:\n",
    "    path_turn_on_off_heating: str = '../main_datasets/processed_datasets/6. Плановые-Внеплановые отключения 01.10.2023-30.04.2023.csv'\n",
    "    path_events_for_period_2023_params: str = '../main_datasets/processed_datasets/События за период_01.10.2023-31.12.2023____pivot_table.csv'\n",
    "    path_events_for_period_2023: str = '../main_datasets/processed_datasets/События за период_01.10.2023-31.12.2023.xlsx____uploading_table.csv'\n",
    "    path_events_for_period_2024: str = '../main_datasets/processed_datasets/События_за_период_01.01.2024-30.04.2024____uploading_table.csv'\n",
    "    path_events_for_period_2024_params: str = '../main_datasets/processed_datasets/События_за_период_01.01.2024-30.04.2024____pivot_table.csv'\n"
   ]
  },
  {
   "cell_type": "code",
   "execution_count": 3,
   "metadata": {},
   "outputs": [],
   "source": [
    "date_columns =  [\n",
    "    'Дата создания во внешней системе', 'Дата закрытия', 'Дата и время завершения события во внешней системе',\n",
    "    'Дата регистрации отключения', 'Планируемая дата отключения', 'Планируемая дата включения', 'Фактическая дата отключения'\n",
    "    'Фактическая дата включения'\n",
    "]"
   ]
  },
  {
   "cell_type": "code",
   "execution_count": 4,
   "metadata": {},
   "outputs": [],
   "source": [
    "usfull_building_params = [\n",
    "    'Серии проектов', 'Количество этажей', 'Количество подъездов', 'Количество квартир',\n",
    "    'Общая площадь', 'Общая площадь жилых помещений',\n",
    "    'Общая площадь нежилых помещений', 'Износ объекта (по БТИ)',\n",
    "    ' Материалы стен', 'Признак аварийности здания',\n",
    "    'Количество пассажирских лифтов', 'Количество грузопассажирских лифтов',\n",
    "    'Очередность уборки кровли', 'Материалы кровли по БТИ',\n",
    "    'Типы жилищного фонда', 'Статусы МКД'\n",
    "]"
   ]
  },
  {
   "cell_type": "markdown",
   "metadata": {},
   "source": [
    "# **Functions**"
   ]
  },
  {
   "cell_type": "code",
   "execution_count": 5,
   "metadata": {},
   "outputs": [],
   "source": [
    "def date_columns_to_date_format(df: pd.DataFrame) -> pd.DataFrame:\n",
    "    for i in date_columns:\n",
    "        if i in df.columns:\n",
    "            df[i] = pd.to_datetime(df[i])\n",
    "    return df"
   ]
  },
  {
   "cell_type": "code",
   "execution_count": 6,
   "metadata": {},
   "outputs": [],
   "source": [
    "def load_dataset(path: str) -> pd.DataFrame:\n",
    "    df = pd.read_csv(path)\n",
    "    df = date_columns_to_date_format(df)\n",
    "    return df"
   ]
  },
  {
   "cell_type": "code",
   "execution_count": 7,
   "metadata": {},
   "outputs": [],
   "source": [
    "def make_timeline_for_year(year: int=2023):\n",
    "    data_1 = np.arange(datetime(year=year, month=1, day=1), datetime(year=year, month=5, day=1), timedelta(hours=1)).tolist()\n",
    "    data_2 = np.arange(datetime(year=year, month=10, day=1), datetime(year=year+1, month=1, day=1), timedelta(hours=1)).tolist()\n",
    "    return np.array(data_1+data_2)\n",
    "\n",
    "\n",
    "def make_timeline_for_period(year: int=2022, delta=1):\n",
    "    s = datetime(year=year, month=10, day=1)\n",
    "    e = datetime(year=year+1, month=5, day=1)\n",
    "    data = np.arange(s, e, timedelta(hours=delta)).tolist()\n",
    "    return data"
   ]
  },
  {
   "cell_type": "code",
   "execution_count": 8,
   "metadata": {},
   "outputs": [],
   "source": [
    "def address_compare(a1_BTI, a2_BTI):\n",
    "    a1_BTI = a1_BTI.replace('город Москва, ', '').lower().split(', ')[1:]\n",
    "    a2_BTI = a2_BTI.replace('город Москва, ', '').lower().split(', ')\n",
    "    for a1_i, a2_i in zip(a1_BTI, a2_BTI):\n",
    "        if a1_i != a2_i:\n",
    "            return False\n",
    "    return True\n",
    "\n",
    "    "
   ]
  },
  {
   "cell_type": "code",
   "execution_count": 9,
   "metadata": {},
   "outputs": [],
   "source": [
    "def make_anomaly_ts(year: int, events: pd.DataFrame):\n",
    "    time_line = make_timeline_for_period(year)\n",
    "    anomaly = [any([i.month == j.month and i.day == j.day and i.hour == j.hour for j in events['Дата создания во внешней системе']]) for i in time_line]\n",
    "    nd = pd.DataFrame({'time': time_line, 'anomaly': anomaly})\n",
    "    return nd\n",
    "    "
   ]
  },
  {
   "cell_type": "markdown",
   "metadata": {},
   "source": [
    "# **Loading tables**"
   ]
  },
  {
   "cell_type": "code",
   "execution_count": 10,
   "metadata": {},
   "outputs": [],
   "source": [
    "turn_on_off_heating = load_dataset(Pathes.path_turn_on_off_heating)\n",
    "events_for_period_2023 = load_dataset(Pathes.path_events_for_period_2023)\n",
    "events_for_period_2024 = load_dataset(Pathes.path_events_for_period_2024)\n",
    "events_for_period_2023_params = load_dataset(Pathes.path_events_for_period_2023_params)\n",
    "events_for_period_2024_params = load_dataset(Pathes.path_events_for_period_2024_params)\n"
   ]
  },
  {
   "cell_type": "code",
   "execution_count": 11,
   "metadata": {},
   "outputs": [],
   "source": [
    "usefull_events = events_for_period_2024_params['Названия строк'].to_list()"
   ]
  },
  {
   "cell_type": "code",
   "execution_count": 12,
   "metadata": {},
   "outputs": [],
   "source": [
    "events_for_period_2023__only_usefull_events = events_for_period_2023.loc[events_for_period_2023['Наименование'].isin(usefull_events)]\n",
    "events_for_period_2024__only_usefull_events = events_for_period_2024.loc[events_for_period_2024['Наименование'].isin(usefull_events)]"
   ]
  },
  {
   "cell_type": "code",
   "execution_count": 13,
   "metadata": {},
   "outputs": [],
   "source": [
    "df = events_for_period_2024__only_usefull_events\n",
    "df.columns = events_for_period_2023__only_usefull_events.columns\n",
    "all_in_one_events = pd.concat(\n",
    "    [\n",
    "        events_for_period_2023__only_usefull_events, \n",
    "        df\n",
    "    ],\n",
    "    axis=0\n",
    ")"
   ]
  },
  {
   "cell_type": "markdown",
   "metadata": {},
   "source": [
    "# **Events analize**"
   ]
  },
  {
   "cell_type": "markdown",
   "metadata": {},
   "source": [
    "## By freq"
   ]
  },
  {
   "cell_type": "code",
   "execution_count": 14,
   "metadata": {},
   "outputs": [
    {
     "name": "stderr",
     "output_type": "stream",
     "text": [
      "  0%|          | 0/4340 [00:00<?, ?it/s]"
     ]
    },
    {
     "name": "stderr",
     "output_type": "stream",
     "text": [
      "100%|██████████| 4340/4340 [00:04<00:00, 878.54it/s] \n"
     ]
    }
   ],
   "source": [
    "mp = 0\n",
    "k = -1\n",
    "t = -1\n",
    "for i in tqdm(np.unique(all_in_one_events['УНОМ'])):\n",
    "    # for j in all_in_one_events['Дата создания во внешней системе']:\n",
    "        # x1 = all_in_one_events['Дата создания во внешней системе']==j\n",
    "    x2 = all_in_one_events['УНОМ'] == i\n",
    "    p = pd.to_datetime(all_in_one_events['Дата создания во внешней системе'][x2])\n",
    "    x, y = np.unique(p.map(lambda a: a.round(freq='d')), return_counts=True)\n",
    "    if len(y):\n",
    "        m = max(y)\n",
    "        if m > mp:\n",
    "            mp = m\n",
    "            k = i\n",
    "            t = x[np.argmax(y)]\n"
   ]
  },
  {
   "cell_type": "code",
   "execution_count": 15,
   "metadata": {},
   "outputs": [
    {
     "data": {
      "text/plain": [
       "(109, 3789.0, numpy.datetime64('2024-01-13T00:00:00.000000000'))"
      ]
     },
     "execution_count": 15,
     "metadata": {},
     "output_type": "execute_result"
    }
   ],
   "source": [
    "mp, k, t"
   ]
  },
  {
   "cell_type": "code",
   "execution_count": 16,
   "metadata": {},
   "outputs": [],
   "source": [
    "d = (all_in_one_events[all_in_one_events['УНОМ'] == k]['Дата создания во внешней системе']).map(lambda a: a.round(freq='d'))\n",
    "d = pd.to_datetime(d) == t"
   ]
  },
  {
   "cell_type": "code",
   "execution_count": 17,
   "metadata": {},
   "outputs": [
    {
     "data": {
      "text/plain": [
       "109"
      ]
     },
     "execution_count": 17,
     "metadata": {},
     "output_type": "execute_result"
    }
   ],
   "source": [
    "sum(d)"
   ]
  },
  {
   "cell_type": "code",
   "execution_count": 18,
   "metadata": {},
   "outputs": [
    {
     "data": {
      "text/plain": [
       "array(['Температура в квартире ниже нормативной',\n",
       "       'Течь в системе отопления'], dtype=object)"
      ]
     },
     "execution_count": 18,
     "metadata": {},
     "output_type": "execute_result"
    }
   ],
   "source": [
    "tds = all_in_one_events[all_in_one_events['УНОМ'] == k][d]\n",
    "tds.iloc[np.argsort(tds['Дата создания во внешней системе'])]['Наименование'].unique()"
   ]
  },
  {
   "cell_type": "markdown",
   "metadata": {},
   "source": [
    "## By types"
   ]
  },
  {
   "cell_type": "code",
   "execution_count": 19,
   "metadata": {},
   "outputs": [],
   "source": [
    "all_in_one_events['h'] = all_in_one_events['Дата создания во внешней системе'].map(lambda a: a.round(freq='h'))\n",
    "all_in_one_events['d'] = all_in_one_events['Дата создания во внешней системе'].map(lambda a: a.round(freq='d'))\n"
   ]
  },
  {
   "cell_type": "code",
   "execution_count": 115,
   "metadata": {},
   "outputs": [
    {
     "name": "stderr",
     "output_type": "stream",
     "text": [
      "  0%|          | 0/4340 [00:00<?, ?it/s]"
     ]
    },
    {
     "name": "stderr",
     "output_type": "stream",
     "text": [
      "100%|██████████| 4340/4340 [01:01<00:00, 70.13it/s] \n"
     ]
    }
   ],
   "source": [
    "max_num_of_events = 0\n",
    "unm_id = -1\n",
    "time_ = -1\n",
    "for i in tqdm(np.unique(all_in_one_events['УНОМ'])):\n",
    "    l1 = all_in_one_events['УНОМ'] == i\n",
    "    for j in np.unique(all_in_one_events['d'][l1]):\n",
    "        l2 = (all_in_one_events['d'] == j) & l1\n",
    "        x = np.unique(all_in_one_events['Наименование'][l2])\n",
    "        if len(x):\n",
    "            m = len(x)\n",
    "            if m > max_num_of_events:\n",
    "                max_num_of_events = m\n",
    "                unm_id = i\n",
    "                time_ = j\n",
    "\n",
    "\n"
   ]
  },
  {
   "cell_type": "code",
   "execution_count": 118,
   "metadata": {},
   "outputs": [
    {
     "data": {
      "text/plain": [
       "(6, 24603.0, numpy.datetime64('2024-01-05T00:00:00.000000000'))"
      ]
     },
     "execution_count": 118,
     "metadata": {},
     "output_type": "execute_result"
    }
   ],
   "source": [
    "max_num_of_events, unm_id, time_"
   ]
  },
  {
   "cell_type": "code",
   "execution_count": 120,
   "metadata": {},
   "outputs": [
    {
     "data": {
      "text/plain": [
       "array(['Отсутствие отопления в доме', 'Протечка труб в подъезде',\n",
       "       'Сильная течь в системе отопления',\n",
       "       'Температура в квартире ниже нормативной',\n",
       "       'Температура в помещении общего пользования ниже нормативной',\n",
       "       'Течь в системе отопления'], dtype=object)"
      ]
     },
     "execution_count": 120,
     "metadata": {},
     "output_type": "execute_result"
    }
   ],
   "source": [
    "np.unique(all_in_one_events[all_in_one_events['УНОМ'] == unm_id]['Наименование'])"
   ]
  },
  {
   "cell_type": "code",
   "execution_count": 124,
   "metadata": {},
   "outputs": [
    {
     "data": {
      "text/plain": [
       "<Axes: >"
      ]
     },
     "execution_count": 124,
     "metadata": {},
     "output_type": "execute_result"
    },
    {
     "data": {
      "image/png": "[encoded data removed]",
      "text/plain": [
       "<Figure size 640x480 with 1 Axes>"
      ]
     },
     "metadata": {},
     "output_type": "display_data"
    }
   ],
   "source": [
    "plt.xticks(rotation=90)\n",
    "all_in_one_events['Наименование'].hist()"
   ]
  },
  {
   "cell_type": "markdown",
   "metadata": {},
   "source": [
    "# **Modulate ts**"
   ]
  },
  {
   "cell_type": "code",
   "execution_count": 20,
   "metadata": {},
   "outputs": [],
   "source": [
    "anomaly_in_day = all_in_one_events['d']"
   ]
  },
  {
   "cell_type": "code",
   "execution_count": 21,
   "metadata": {},
   "outputs": [],
   "source": [
    "anomaly_in_day = pd.DataFrame()"
   ]
  },
  {
   "cell_type": "code",
   "execution_count": 55,
   "metadata": {},
   "outputs": [
    {
     "name": "stderr",
     "output_type": "stream",
     "text": [
      "  0%|          | 0/4340 [00:00<?, ?it/s]"
     ]
    },
    {
     "name": "stderr",
     "output_type": "stream",
     "text": [
      "100%|██████████| 4340/4340 [01:15<00:00, 57.67it/s] \n"
     ]
    }
   ],
   "source": [
    "years = [2022, 2023, 2024]\n",
    "# year = 2023\n",
    "l = dict()\n",
    "\n",
    "for unom_id in tqdm(np.unique(all_in_one_events['УНОМ'])):\n",
    "    l[int(unom_id)] = dict()\n",
    "    unom_id_events = all_in_one_events[all_in_one_events['УНОМ'] == unom_id]\n",
    "    for year in years:\n",
    "        tl = make_timeline_for_period(year, delta=24)\n",
    "        tl_df = pd.Series(np.zeros_like(tl), index=tl, name='n_of_event')\n",
    "        # tl_df.index = tl_df.index.map(lambda a: a.to_pydatetime())\n",
    "        ud = np.unique(unom_id_events['d'].to_list())\n",
    "        for d in ud:\n",
    "            tl_df.loc[tl_df.index==d] += 1\n",
    "        l[int(unom_id)][year] = {str(i): j for i, j in zip(tl_df.index, tl_df.values)}\n",
    "    # if len(l) == 15:\n",
    "    #     break"
   ]
  },
  {
   "cell_type": "code",
   "execution_count": 56,
   "metadata": {},
   "outputs": [],
   "source": [
    "import json\n",
    "\n",
    "\n",
    "with open('../main_datasets/timelines_datasets/events_counts_time_lines.json', 'w') as f:\n",
    "    json.dump(l, f, default=str)"
   ]
  }
 ],
 "metadata": {
  "kernelspec": {
   "display_name": "venv",
   "language": "python",
   "name": "python3"
  },
  "language_info": {
   "codemirror_mode": {
    "name": "ipython",
    "version": 3
   },
   "file_extension": ".py",
   "mimetype": "text/x-python",
   "name": "python",
   "nbconvert_exporter": "python",
   "pygments_lexer": "ipython3",
   "version": "3.12.3"
  }
 },
 "nbformat": 4,
 "nbformat_minor": 2
}
